{
 "cells": [
  {
   "cell_type": "markdown",
   "metadata": {},
   "source": [
    "Import libraries"
   ]
  },
  {
   "cell_type": "code",
   "execution_count": 1,
   "metadata": {
    "executionInfo": {
     "elapsed": 1925,
     "status": "ok",
     "timestamp": 1670413232894,
     "user": {
      "displayName": "Sabrina Azmi",
      "userId": "03843576326678916867"
     },
     "user_tz": -480
    },
    "id": "xUCTLkPjbLpz"
   },
   "outputs": [],
   "source": [
    "import numpy as np\n",
    "import pandas as pd\n",
    "import os\n",
    "from sklearn.preprocessing import StandardScaler"
   ]
  },
  {
   "attachments": {},
   "cell_type": "markdown",
   "metadata": {},
   "source": [
    "Import the data into the Python environment from CSV files\n"
   ]
  },
  {
   "cell_type": "markdown",
   "metadata": {},
   "source": [
    "Rename data file after unzip downloaded files"
   ]
  },
  {
   "cell_type": "code",
   "execution_count": 2,
   "metadata": {},
   "outputs": [
    {
     "name": "stdout",
     "output_type": "stream",
     "text": [
      "cnv: (24776, 185)\n",
      "mrna: (20530, 197)\n",
      "clinical: (204, 121)\n"
     ]
    }
   ],
   "source": [
    "# Load dataset\n",
    "datapath = \"/Users/sabye/Downloads/wgRFECV-BIN/Data/\"\n",
    "\n",
    "cnv = pd.read_csv(datapath+\"ESCA_cnv\", sep='\\t', comment='#')\n",
    "print(\"cnv:\", cnv.shape)\n",
    "mrna = pd.read_csv(datapath+\"ESCA_mrna\", sep='\\t', comment='#')\n",
    "print(\"mrna:\", mrna.shape)\n",
    "clinical = pd.read_csv(datapath+\"ESCA_clinical\", sep='\\t', comment='#')\n",
    "print(\"clinical:\", clinical.shape)"
   ]
  },
  {
   "cell_type": "code",
   "execution_count": 3,
   "metadata": {},
   "outputs": [
    {
     "data": {
      "text/html": [
       "<div>\n",
       "<style scoped>\n",
       "    .dataframe tbody tr th:only-of-type {\n",
       "        vertical-align: middle;\n",
       "    }\n",
       "\n",
       "    .dataframe tbody tr th {\n",
       "        vertical-align: top;\n",
       "    }\n",
       "\n",
       "    .dataframe thead th {\n",
       "        text-align: right;\n",
       "    }\n",
       "</style>\n",
       "<table border=\"1\" class=\"dataframe\">\n",
       "  <thead>\n",
       "    <tr style=\"text-align: right;\">\n",
       "      <th></th>\n",
       "      <th>Gene Symbol</th>\n",
       "      <th>TCGA-2H-A9GF-01</th>\n",
       "      <th>TCGA-2H-A9GH-01</th>\n",
       "      <th>TCGA-2H-A9GI-01</th>\n",
       "      <th>TCGA-2H-A9GJ-01</th>\n",
       "      <th>TCGA-2H-A9GK-01</th>\n",
       "      <th>TCGA-2H-A9GL-01</th>\n",
       "      <th>TCGA-2H-A9GM-01</th>\n",
       "      <th>TCGA-2H-A9GN-01</th>\n",
       "      <th>TCGA-2H-A9GO-01</th>\n",
       "      <th>...</th>\n",
       "      <th>TCGA-VR-AA7I-01</th>\n",
       "      <th>TCGA-X8-AAAR-01</th>\n",
       "      <th>TCGA-XP-A8T6-01</th>\n",
       "      <th>TCGA-XP-A8T7-01</th>\n",
       "      <th>TCGA-XP-A8T8-01</th>\n",
       "      <th>TCGA-Z6-A8JD-01</th>\n",
       "      <th>TCGA-Z6-A8JE-01</th>\n",
       "      <th>TCGA-Z6-A9VB-01</th>\n",
       "      <th>TCGA-Z6-AAPN-01</th>\n",
       "      <th>TCGA-ZR-A9CJ-01</th>\n",
       "    </tr>\n",
       "  </thead>\n",
       "  <tbody>\n",
       "    <tr>\n",
       "      <th>0</th>\n",
       "      <td>ACAP3</td>\n",
       "      <td>-0.061</td>\n",
       "      <td>-0.274</td>\n",
       "      <td>-0.347</td>\n",
       "      <td>-0.171</td>\n",
       "      <td>-0.117</td>\n",
       "      <td>0.094</td>\n",
       "      <td>-0.154</td>\n",
       "      <td>0.003</td>\n",
       "      <td>-0.208</td>\n",
       "      <td>...</td>\n",
       "      <td>-0.023</td>\n",
       "      <td>-0.011</td>\n",
       "      <td>0.142</td>\n",
       "      <td>0.008</td>\n",
       "      <td>-0.442</td>\n",
       "      <td>-0.009</td>\n",
       "      <td>0.233</td>\n",
       "      <td>-0.185</td>\n",
       "      <td>0.042</td>\n",
       "      <td>-0.023</td>\n",
       "    </tr>\n",
       "    <tr>\n",
       "      <th>1</th>\n",
       "      <td>ACTRT2</td>\n",
       "      <td>-0.061</td>\n",
       "      <td>-0.274</td>\n",
       "      <td>-0.347</td>\n",
       "      <td>-0.171</td>\n",
       "      <td>-0.117</td>\n",
       "      <td>0.094</td>\n",
       "      <td>-0.154</td>\n",
       "      <td>0.003</td>\n",
       "      <td>-0.208</td>\n",
       "      <td>...</td>\n",
       "      <td>-0.023</td>\n",
       "      <td>-0.011</td>\n",
       "      <td>0.142</td>\n",
       "      <td>0.008</td>\n",
       "      <td>-0.442</td>\n",
       "      <td>-0.009</td>\n",
       "      <td>0.233</td>\n",
       "      <td>-0.185</td>\n",
       "      <td>0.042</td>\n",
       "      <td>-0.023</td>\n",
       "    </tr>\n",
       "  </tbody>\n",
       "</table>\n",
       "<p>2 rows × 185 columns</p>\n",
       "</div>"
      ],
      "text/plain": [
       "  Gene Symbol  TCGA-2H-A9GF-01  TCGA-2H-A9GH-01  TCGA-2H-A9GI-01  \\\n",
       "0       ACAP3           -0.061           -0.274           -0.347   \n",
       "1      ACTRT2           -0.061           -0.274           -0.347   \n",
       "\n",
       "   TCGA-2H-A9GJ-01  TCGA-2H-A9GK-01  TCGA-2H-A9GL-01  TCGA-2H-A9GM-01  \\\n",
       "0           -0.171           -0.117            0.094           -0.154   \n",
       "1           -0.171           -0.117            0.094           -0.154   \n",
       "\n",
       "   TCGA-2H-A9GN-01  TCGA-2H-A9GO-01  ...  TCGA-VR-AA7I-01  TCGA-X8-AAAR-01  \\\n",
       "0            0.003           -0.208  ...           -0.023           -0.011   \n",
       "1            0.003           -0.208  ...           -0.023           -0.011   \n",
       "\n",
       "   TCGA-XP-A8T6-01  TCGA-XP-A8T7-01  TCGA-XP-A8T8-01  TCGA-Z6-A8JD-01  \\\n",
       "0            0.142            0.008           -0.442           -0.009   \n",
       "1            0.142            0.008           -0.442           -0.009   \n",
       "\n",
       "   TCGA-Z6-A8JE-01  TCGA-Z6-A9VB-01  TCGA-Z6-AAPN-01  TCGA-ZR-A9CJ-01  \n",
       "0            0.233           -0.185            0.042           -0.023  \n",
       "1            0.233           -0.185            0.042           -0.023  \n",
       "\n",
       "[2 rows x 185 columns]"
      ]
     },
     "execution_count": 3,
     "metadata": {},
     "output_type": "execute_result"
    }
   ],
   "source": [
    "cnv.head(2)"
   ]
  },
  {
   "cell_type": "code",
   "execution_count": 4,
   "metadata": {},
   "outputs": [
    {
     "data": {
      "text/html": [
       "<div>\n",
       "<style scoped>\n",
       "    .dataframe tbody tr th:only-of-type {\n",
       "        vertical-align: middle;\n",
       "    }\n",
       "\n",
       "    .dataframe tbody tr th {\n",
       "        vertical-align: top;\n",
       "    }\n",
       "\n",
       "    .dataframe thead th {\n",
       "        text-align: right;\n",
       "    }\n",
       "</style>\n",
       "<table border=\"1\" class=\"dataframe\">\n",
       "  <thead>\n",
       "    <tr style=\"text-align: right;\">\n",
       "      <th></th>\n",
       "      <th>sample</th>\n",
       "      <th>TCGA-L5-A4OF-01</th>\n",
       "      <th>TCGA-LN-A49R-01</th>\n",
       "      <th>TCGA-Z6-A9VB-01</th>\n",
       "      <th>TCGA-L5-A8NF-01</th>\n",
       "      <th>TCGA-2H-A9GG-01</th>\n",
       "      <th>TCGA-IG-A3QL-01</th>\n",
       "      <th>TCGA-VR-AA7B-01</th>\n",
       "      <th>TCGA-2H-A9GN-01</th>\n",
       "      <th>TCGA-L7-A6VZ-01</th>\n",
       "      <th>...</th>\n",
       "      <th>TCGA-L5-A4ON-01</th>\n",
       "      <th>TCGA-LN-A4A1-01</th>\n",
       "      <th>TCGA-R6-A8WC-01</th>\n",
       "      <th>TCGA-L5-A4OR-11</th>\n",
       "      <th>TCGA-L5-A88Z-01</th>\n",
       "      <th>TCGA-JY-A6FG-01</th>\n",
       "      <th>TCGA-L5-A4OM-01</th>\n",
       "      <th>TCGA-Z6-A8JE-01</th>\n",
       "      <th>TCGA-L5-A4OQ-01</th>\n",
       "      <th>TCGA-M9-A5M8-01</th>\n",
       "    </tr>\n",
       "  </thead>\n",
       "  <tbody>\n",
       "    <tr>\n",
       "      <th>0</th>\n",
       "      <td>ARHGEF10L</td>\n",
       "      <td>11.2101</td>\n",
       "      <td>8.9631</td>\n",
       "      <td>9.5791</td>\n",
       "      <td>10.6071</td>\n",
       "      <td>11.9393</td>\n",
       "      <td>7.2903</td>\n",
       "      <td>10.0683</td>\n",
       "      <td>11.9908</td>\n",
       "      <td>9.8585</td>\n",
       "      <td>...</td>\n",
       "      <td>10.3383</td>\n",
       "      <td>9.8903</td>\n",
       "      <td>11.2617</td>\n",
       "      <td>10.0687</td>\n",
       "      <td>8.6129</td>\n",
       "      <td>10.6064</td>\n",
       "      <td>9.5179</td>\n",
       "      <td>9.8121</td>\n",
       "      <td>11.4524</td>\n",
       "      <td>10.9043</td>\n",
       "    </tr>\n",
       "    <tr>\n",
       "      <th>1</th>\n",
       "      <td>HIF3A</td>\n",
       "      <td>12.3540</td>\n",
       "      <td>3.9057</td>\n",
       "      <td>2.8786</td>\n",
       "      <td>6.8787</td>\n",
       "      <td>7.1988</td>\n",
       "      <td>10.0974</td>\n",
       "      <td>7.5426</td>\n",
       "      <td>5.0281</td>\n",
       "      <td>6.5386</td>\n",
       "      <td>...</td>\n",
       "      <td>6.3486</td>\n",
       "      <td>2.7957</td>\n",
       "      <td>7.0246</td>\n",
       "      <td>9.9157</td>\n",
       "      <td>2.6647</td>\n",
       "      <td>1.6129</td>\n",
       "      <td>6.8140</td>\n",
       "      <td>10.8828</td>\n",
       "      <td>10.0840</td>\n",
       "      <td>2.9394</td>\n",
       "    </tr>\n",
       "  </tbody>\n",
       "</table>\n",
       "<p>2 rows × 197 columns</p>\n",
       "</div>"
      ],
      "text/plain": [
       "      sample  TCGA-L5-A4OF-01  TCGA-LN-A49R-01  TCGA-Z6-A9VB-01  \\\n",
       "0  ARHGEF10L          11.2101           8.9631           9.5791   \n",
       "1      HIF3A          12.3540           3.9057           2.8786   \n",
       "\n",
       "   TCGA-L5-A8NF-01  TCGA-2H-A9GG-01  TCGA-IG-A3QL-01  TCGA-VR-AA7B-01  \\\n",
       "0          10.6071          11.9393           7.2903          10.0683   \n",
       "1           6.8787           7.1988          10.0974           7.5426   \n",
       "\n",
       "   TCGA-2H-A9GN-01  TCGA-L7-A6VZ-01  ...  TCGA-L5-A4ON-01  TCGA-LN-A4A1-01  \\\n",
       "0          11.9908           9.8585  ...          10.3383           9.8903   \n",
       "1           5.0281           6.5386  ...           6.3486           2.7957   \n",
       "\n",
       "   TCGA-R6-A8WC-01  TCGA-L5-A4OR-11  TCGA-L5-A88Z-01  TCGA-JY-A6FG-01  \\\n",
       "0          11.2617          10.0687           8.6129          10.6064   \n",
       "1           7.0246           9.9157           2.6647           1.6129   \n",
       "\n",
       "   TCGA-L5-A4OM-01  TCGA-Z6-A8JE-01  TCGA-L5-A4OQ-01  TCGA-M9-A5M8-01  \n",
       "0           9.5179           9.8121          11.4524          10.9043  \n",
       "1           6.8140          10.8828          10.0840           2.9394  \n",
       "\n",
       "[2 rows x 197 columns]"
      ]
     },
     "execution_count": 4,
     "metadata": {},
     "output_type": "execute_result"
    }
   ],
   "source": [
    "mrna.head(2)"
   ]
  },
  {
   "cell_type": "code",
   "execution_count": 5,
   "metadata": {},
   "outputs": [],
   "source": [
    "cnv = cnv.set_index('Gene Symbol') \n",
    "mrna = mrna.set_index('sample')  "
   ]
  },
  {
   "cell_type": "code",
   "execution_count": 6,
   "metadata": {},
   "outputs": [
    {
     "data": {
      "text/html": [
       "<div>\n",
       "<style scoped>\n",
       "    .dataframe tbody tr th:only-of-type {\n",
       "        vertical-align: middle;\n",
       "    }\n",
       "\n",
       "    .dataframe tbody tr th {\n",
       "        vertical-align: top;\n",
       "    }\n",
       "\n",
       "    .dataframe thead th {\n",
       "        text-align: right;\n",
       "    }\n",
       "</style>\n",
       "<table border=\"1\" class=\"dataframe\">\n",
       "  <thead>\n",
       "    <tr style=\"text-align: right;\">\n",
       "      <th></th>\n",
       "      <th>TCGA-2H-A9GF-01</th>\n",
       "      <th>TCGA-2H-A9GH-01</th>\n",
       "      <th>TCGA-2H-A9GI-01</th>\n",
       "      <th>TCGA-2H-A9GJ-01</th>\n",
       "      <th>TCGA-2H-A9GK-01</th>\n",
       "      <th>TCGA-2H-A9GL-01</th>\n",
       "      <th>TCGA-2H-A9GM-01</th>\n",
       "      <th>TCGA-2H-A9GN-01</th>\n",
       "      <th>TCGA-2H-A9GO-01</th>\n",
       "      <th>TCGA-2H-A9GQ-01</th>\n",
       "      <th>...</th>\n",
       "      <th>TCGA-VR-AA7I-01</th>\n",
       "      <th>TCGA-X8-AAAR-01</th>\n",
       "      <th>TCGA-XP-A8T6-01</th>\n",
       "      <th>TCGA-XP-A8T7-01</th>\n",
       "      <th>TCGA-XP-A8T8-01</th>\n",
       "      <th>TCGA-Z6-A8JD-01</th>\n",
       "      <th>TCGA-Z6-A8JE-01</th>\n",
       "      <th>TCGA-Z6-A9VB-01</th>\n",
       "      <th>TCGA-Z6-AAPN-01</th>\n",
       "      <th>TCGA-ZR-A9CJ-01</th>\n",
       "    </tr>\n",
       "    <tr>\n",
       "      <th>Gene Symbol</th>\n",
       "      <th></th>\n",
       "      <th></th>\n",
       "      <th></th>\n",
       "      <th></th>\n",
       "      <th></th>\n",
       "      <th></th>\n",
       "      <th></th>\n",
       "      <th></th>\n",
       "      <th></th>\n",
       "      <th></th>\n",
       "      <th></th>\n",
       "      <th></th>\n",
       "      <th></th>\n",
       "      <th></th>\n",
       "      <th></th>\n",
       "      <th></th>\n",
       "      <th></th>\n",
       "      <th></th>\n",
       "      <th></th>\n",
       "      <th></th>\n",
       "      <th></th>\n",
       "    </tr>\n",
       "  </thead>\n",
       "  <tbody>\n",
       "    <tr>\n",
       "      <th>ACAP3</th>\n",
       "      <td>-0.061</td>\n",
       "      <td>-0.274</td>\n",
       "      <td>-0.347</td>\n",
       "      <td>-0.171</td>\n",
       "      <td>-0.117</td>\n",
       "      <td>0.094</td>\n",
       "      <td>-0.154</td>\n",
       "      <td>0.003</td>\n",
       "      <td>-0.208</td>\n",
       "      <td>-0.018</td>\n",
       "      <td>...</td>\n",
       "      <td>-0.023</td>\n",
       "      <td>-0.011</td>\n",
       "      <td>0.142</td>\n",
       "      <td>0.008</td>\n",
       "      <td>-0.442</td>\n",
       "      <td>-0.009</td>\n",
       "      <td>0.233</td>\n",
       "      <td>-0.185</td>\n",
       "      <td>0.042</td>\n",
       "      <td>-0.023</td>\n",
       "    </tr>\n",
       "    <tr>\n",
       "      <th>ACTRT2</th>\n",
       "      <td>-0.061</td>\n",
       "      <td>-0.274</td>\n",
       "      <td>-0.347</td>\n",
       "      <td>-0.171</td>\n",
       "      <td>-0.117</td>\n",
       "      <td>0.094</td>\n",
       "      <td>-0.154</td>\n",
       "      <td>0.003</td>\n",
       "      <td>-0.208</td>\n",
       "      <td>-0.018</td>\n",
       "      <td>...</td>\n",
       "      <td>-0.023</td>\n",
       "      <td>-0.011</td>\n",
       "      <td>0.142</td>\n",
       "      <td>0.008</td>\n",
       "      <td>-0.442</td>\n",
       "      <td>-0.009</td>\n",
       "      <td>0.233</td>\n",
       "      <td>-0.185</td>\n",
       "      <td>0.042</td>\n",
       "      <td>-0.023</td>\n",
       "    </tr>\n",
       "  </tbody>\n",
       "</table>\n",
       "<p>2 rows × 184 columns</p>\n",
       "</div>"
      ],
      "text/plain": [
       "             TCGA-2H-A9GF-01  TCGA-2H-A9GH-01  TCGA-2H-A9GI-01  \\\n",
       "Gene Symbol                                                      \n",
       "ACAP3                 -0.061           -0.274           -0.347   \n",
       "ACTRT2                -0.061           -0.274           -0.347   \n",
       "\n",
       "             TCGA-2H-A9GJ-01  TCGA-2H-A9GK-01  TCGA-2H-A9GL-01  \\\n",
       "Gene Symbol                                                      \n",
       "ACAP3                 -0.171           -0.117            0.094   \n",
       "ACTRT2                -0.171           -0.117            0.094   \n",
       "\n",
       "             TCGA-2H-A9GM-01  TCGA-2H-A9GN-01  TCGA-2H-A9GO-01  \\\n",
       "Gene Symbol                                                      \n",
       "ACAP3                 -0.154            0.003           -0.208   \n",
       "ACTRT2                -0.154            0.003           -0.208   \n",
       "\n",
       "             TCGA-2H-A9GQ-01  ...  TCGA-VR-AA7I-01  TCGA-X8-AAAR-01  \\\n",
       "Gene Symbol                   ...                                     \n",
       "ACAP3                 -0.018  ...           -0.023           -0.011   \n",
       "ACTRT2                -0.018  ...           -0.023           -0.011   \n",
       "\n",
       "             TCGA-XP-A8T6-01  TCGA-XP-A8T7-01  TCGA-XP-A8T8-01  \\\n",
       "Gene Symbol                                                      \n",
       "ACAP3                  0.142            0.008           -0.442   \n",
       "ACTRT2                 0.142            0.008           -0.442   \n",
       "\n",
       "             TCGA-Z6-A8JD-01  TCGA-Z6-A8JE-01  TCGA-Z6-A9VB-01  \\\n",
       "Gene Symbol                                                      \n",
       "ACAP3                 -0.009            0.233           -0.185   \n",
       "ACTRT2                -0.009            0.233           -0.185   \n",
       "\n",
       "             TCGA-Z6-AAPN-01  TCGA-ZR-A9CJ-01  \n",
       "Gene Symbol                                    \n",
       "ACAP3                  0.042           -0.023  \n",
       "ACTRT2                 0.042           -0.023  \n",
       "\n",
       "[2 rows x 184 columns]"
      ]
     },
     "execution_count": 6,
     "metadata": {},
     "output_type": "execute_result"
    }
   ],
   "source": [
    "cnv.head(2)"
   ]
  },
  {
   "cell_type": "code",
   "execution_count": 7,
   "metadata": {},
   "outputs": [
    {
     "data": {
      "text/html": [
       "<div>\n",
       "<style scoped>\n",
       "    .dataframe tbody tr th:only-of-type {\n",
       "        vertical-align: middle;\n",
       "    }\n",
       "\n",
       "    .dataframe tbody tr th {\n",
       "        vertical-align: top;\n",
       "    }\n",
       "\n",
       "    .dataframe thead th {\n",
       "        text-align: right;\n",
       "    }\n",
       "</style>\n",
       "<table border=\"1\" class=\"dataframe\">\n",
       "  <thead>\n",
       "    <tr style=\"text-align: right;\">\n",
       "      <th></th>\n",
       "      <th>TCGA-L5-A4OF-01</th>\n",
       "      <th>TCGA-LN-A49R-01</th>\n",
       "      <th>TCGA-Z6-A9VB-01</th>\n",
       "      <th>TCGA-L5-A8NF-01</th>\n",
       "      <th>TCGA-2H-A9GG-01</th>\n",
       "      <th>TCGA-IG-A3QL-01</th>\n",
       "      <th>TCGA-VR-AA7B-01</th>\n",
       "      <th>TCGA-2H-A9GN-01</th>\n",
       "      <th>TCGA-L7-A6VZ-01</th>\n",
       "      <th>TCGA-L5-A4OF-11</th>\n",
       "      <th>...</th>\n",
       "      <th>TCGA-L5-A4ON-01</th>\n",
       "      <th>TCGA-LN-A4A1-01</th>\n",
       "      <th>TCGA-R6-A8WC-01</th>\n",
       "      <th>TCGA-L5-A4OR-11</th>\n",
       "      <th>TCGA-L5-A88Z-01</th>\n",
       "      <th>TCGA-JY-A6FG-01</th>\n",
       "      <th>TCGA-L5-A4OM-01</th>\n",
       "      <th>TCGA-Z6-A8JE-01</th>\n",
       "      <th>TCGA-L5-A4OQ-01</th>\n",
       "      <th>TCGA-M9-A5M8-01</th>\n",
       "    </tr>\n",
       "    <tr>\n",
       "      <th>sample</th>\n",
       "      <th></th>\n",
       "      <th></th>\n",
       "      <th></th>\n",
       "      <th></th>\n",
       "      <th></th>\n",
       "      <th></th>\n",
       "      <th></th>\n",
       "      <th></th>\n",
       "      <th></th>\n",
       "      <th></th>\n",
       "      <th></th>\n",
       "      <th></th>\n",
       "      <th></th>\n",
       "      <th></th>\n",
       "      <th></th>\n",
       "      <th></th>\n",
       "      <th></th>\n",
       "      <th></th>\n",
       "      <th></th>\n",
       "      <th></th>\n",
       "      <th></th>\n",
       "    </tr>\n",
       "  </thead>\n",
       "  <tbody>\n",
       "    <tr>\n",
       "      <th>ARHGEF10L</th>\n",
       "      <td>11.2101</td>\n",
       "      <td>8.9631</td>\n",
       "      <td>9.5791</td>\n",
       "      <td>10.6071</td>\n",
       "      <td>11.9393</td>\n",
       "      <td>7.2903</td>\n",
       "      <td>10.0683</td>\n",
       "      <td>11.9908</td>\n",
       "      <td>9.8585</td>\n",
       "      <td>9.9721</td>\n",
       "      <td>...</td>\n",
       "      <td>10.3383</td>\n",
       "      <td>9.8903</td>\n",
       "      <td>11.2617</td>\n",
       "      <td>10.0687</td>\n",
       "      <td>8.6129</td>\n",
       "      <td>10.6064</td>\n",
       "      <td>9.5179</td>\n",
       "      <td>9.8121</td>\n",
       "      <td>11.4524</td>\n",
       "      <td>10.9043</td>\n",
       "    </tr>\n",
       "    <tr>\n",
       "      <th>HIF3A</th>\n",
       "      <td>12.3540</td>\n",
       "      <td>3.9057</td>\n",
       "      <td>2.8786</td>\n",
       "      <td>6.8787</td>\n",
       "      <td>7.1988</td>\n",
       "      <td>10.0974</td>\n",
       "      <td>7.5426</td>\n",
       "      <td>5.0281</td>\n",
       "      <td>6.5386</td>\n",
       "      <td>9.1712</td>\n",
       "      <td>...</td>\n",
       "      <td>6.3486</td>\n",
       "      <td>2.7957</td>\n",
       "      <td>7.0246</td>\n",
       "      <td>9.9157</td>\n",
       "      <td>2.6647</td>\n",
       "      <td>1.6129</td>\n",
       "      <td>6.8140</td>\n",
       "      <td>10.8828</td>\n",
       "      <td>10.0840</td>\n",
       "      <td>2.9394</td>\n",
       "    </tr>\n",
       "  </tbody>\n",
       "</table>\n",
       "<p>2 rows × 196 columns</p>\n",
       "</div>"
      ],
      "text/plain": [
       "           TCGA-L5-A4OF-01  TCGA-LN-A49R-01  TCGA-Z6-A9VB-01  TCGA-L5-A8NF-01  \\\n",
       "sample                                                                          \n",
       "ARHGEF10L          11.2101           8.9631           9.5791          10.6071   \n",
       "HIF3A              12.3540           3.9057           2.8786           6.8787   \n",
       "\n",
       "           TCGA-2H-A9GG-01  TCGA-IG-A3QL-01  TCGA-VR-AA7B-01  TCGA-2H-A9GN-01  \\\n",
       "sample                                                                          \n",
       "ARHGEF10L          11.9393           7.2903          10.0683          11.9908   \n",
       "HIF3A               7.1988          10.0974           7.5426           5.0281   \n",
       "\n",
       "           TCGA-L7-A6VZ-01  TCGA-L5-A4OF-11  ...  TCGA-L5-A4ON-01  \\\n",
       "sample                                       ...                    \n",
       "ARHGEF10L           9.8585           9.9721  ...          10.3383   \n",
       "HIF3A               6.5386           9.1712  ...           6.3486   \n",
       "\n",
       "           TCGA-LN-A4A1-01  TCGA-R6-A8WC-01  TCGA-L5-A4OR-11  TCGA-L5-A88Z-01  \\\n",
       "sample                                                                          \n",
       "ARHGEF10L           9.8903          11.2617          10.0687           8.6129   \n",
       "HIF3A               2.7957           7.0246           9.9157           2.6647   \n",
       "\n",
       "           TCGA-JY-A6FG-01  TCGA-L5-A4OM-01  TCGA-Z6-A8JE-01  TCGA-L5-A4OQ-01  \\\n",
       "sample                                                                          \n",
       "ARHGEF10L          10.6064           9.5179           9.8121          11.4524   \n",
       "HIF3A               1.6129           6.8140          10.8828          10.0840   \n",
       "\n",
       "           TCGA-M9-A5M8-01  \n",
       "sample                      \n",
       "ARHGEF10L          10.9043  \n",
       "HIF3A               2.9394  \n",
       "\n",
       "[2 rows x 196 columns]"
      ]
     },
     "execution_count": 7,
     "metadata": {},
     "output_type": "execute_result"
    }
   ],
   "source": [
    "mrna.head(2)"
   ]
  },
  {
   "cell_type": "markdown",
   "metadata": {},
   "source": [
    "Transpose the data"
   ]
  },
  {
   "cell_type": "code",
   "execution_count": 8,
   "metadata": {},
   "outputs": [
    {
     "name": "stdout",
     "output_type": "stream",
     "text": [
      "cnv: (184, 24776)\n",
      "mrna: (196, 20530)\n"
     ]
    }
   ],
   "source": [
    "cnv = np.transpose(cnv)\n",
    "print(\"cnv:\", cnv.shape)\n",
    "mrna = np.transpose(mrna)\n",
    "print(\"mrna:\", mrna.shape)\n",
    "#print(\"clinical:\", clinical.shape) # clinical do not need to transpose"
   ]
  },
  {
   "cell_type": "code",
   "execution_count": 9,
   "metadata": {},
   "outputs": [
    {
     "data": {
      "text/html": [
       "<div>\n",
       "<style scoped>\n",
       "    .dataframe tbody tr th:only-of-type {\n",
       "        vertical-align: middle;\n",
       "    }\n",
       "\n",
       "    .dataframe tbody tr th {\n",
       "        vertical-align: top;\n",
       "    }\n",
       "\n",
       "    .dataframe thead th {\n",
       "        text-align: right;\n",
       "    }\n",
       "</style>\n",
       "<table border=\"1\" class=\"dataframe\">\n",
       "  <thead>\n",
       "    <tr style=\"text-align: right;\">\n",
       "      <th>Gene Symbol</th>\n",
       "      <th>ACAP3</th>\n",
       "      <th>ACTRT2</th>\n",
       "      <th>AGRN</th>\n",
       "      <th>ANKRD65</th>\n",
       "      <th>ATAD3A</th>\n",
       "      <th>ATAD3B</th>\n",
       "      <th>ATAD3C</th>\n",
       "      <th>AURKAIP1</th>\n",
       "      <th>B3GALT6</th>\n",
       "      <th>C1orf159</th>\n",
       "      <th>...</th>\n",
       "      <th>SMIM9</th>\n",
       "      <th>SNORA36A</th>\n",
       "      <th>SNORA56</th>\n",
       "      <th>TMLHE</th>\n",
       "      <th>VBP1</th>\n",
       "      <th>IL9R|ENSG00000124334.12</th>\n",
       "      <th>SPRY3|ENSG00000168939.6</th>\n",
       "      <th>VAMP7|ENSG00000124333.10</th>\n",
       "      <th>WASH6P|ENSG00000182484.10</th>\n",
       "      <th>WASIR1|ENSG00000185203.7</th>\n",
       "    </tr>\n",
       "  </thead>\n",
       "  <tbody>\n",
       "    <tr>\n",
       "      <th>TCGA-2H-A9GF-01</th>\n",
       "      <td>-0.061</td>\n",
       "      <td>-0.061</td>\n",
       "      <td>-0.061</td>\n",
       "      <td>-0.061</td>\n",
       "      <td>-0.061</td>\n",
       "      <td>-0.061</td>\n",
       "      <td>-0.061</td>\n",
       "      <td>-0.061</td>\n",
       "      <td>-0.061</td>\n",
       "      <td>-0.061</td>\n",
       "      <td>...</td>\n",
       "      <td>-0.220</td>\n",
       "      <td>-0.220</td>\n",
       "      <td>-0.220</td>\n",
       "      <td>-0.220</td>\n",
       "      <td>-0.220</td>\n",
       "      <td>-0.220</td>\n",
       "      <td>-0.220</td>\n",
       "      <td>-0.220</td>\n",
       "      <td>-0.220</td>\n",
       "      <td>-0.220</td>\n",
       "    </tr>\n",
       "    <tr>\n",
       "      <th>TCGA-2H-A9GH-01</th>\n",
       "      <td>-0.274</td>\n",
       "      <td>-0.274</td>\n",
       "      <td>-0.274</td>\n",
       "      <td>-0.274</td>\n",
       "      <td>-0.274</td>\n",
       "      <td>-0.274</td>\n",
       "      <td>-0.274</td>\n",
       "      <td>-0.274</td>\n",
       "      <td>-0.274</td>\n",
       "      <td>-0.274</td>\n",
       "      <td>...</td>\n",
       "      <td>-0.051</td>\n",
       "      <td>-0.051</td>\n",
       "      <td>-0.051</td>\n",
       "      <td>-0.051</td>\n",
       "      <td>-0.051</td>\n",
       "      <td>-0.051</td>\n",
       "      <td>-0.051</td>\n",
       "      <td>-0.051</td>\n",
       "      <td>-0.051</td>\n",
       "      <td>-0.051</td>\n",
       "    </tr>\n",
       "  </tbody>\n",
       "</table>\n",
       "<p>2 rows × 24776 columns</p>\n",
       "</div>"
      ],
      "text/plain": [
       "Gene Symbol      ACAP3  ACTRT2   AGRN  ANKRD65  ATAD3A  ATAD3B  ATAD3C  \\\n",
       "TCGA-2H-A9GF-01 -0.061  -0.061 -0.061   -0.061  -0.061  -0.061  -0.061   \n",
       "TCGA-2H-A9GH-01 -0.274  -0.274 -0.274   -0.274  -0.274  -0.274  -0.274   \n",
       "\n",
       "Gene Symbol      AURKAIP1  B3GALT6  C1orf159  ...  SMIM9  SNORA36A  SNORA56  \\\n",
       "TCGA-2H-A9GF-01    -0.061   -0.061    -0.061  ... -0.220    -0.220   -0.220   \n",
       "TCGA-2H-A9GH-01    -0.274   -0.274    -0.274  ... -0.051    -0.051   -0.051   \n",
       "\n",
       "Gene Symbol      TMLHE   VBP1  IL9R|ENSG00000124334.12  \\\n",
       "TCGA-2H-A9GF-01 -0.220 -0.220                   -0.220   \n",
       "TCGA-2H-A9GH-01 -0.051 -0.051                   -0.051   \n",
       "\n",
       "Gene Symbol      SPRY3|ENSG00000168939.6  VAMP7|ENSG00000124333.10  \\\n",
       "TCGA-2H-A9GF-01                   -0.220                    -0.220   \n",
       "TCGA-2H-A9GH-01                   -0.051                    -0.051   \n",
       "\n",
       "Gene Symbol      WASH6P|ENSG00000182484.10  WASIR1|ENSG00000185203.7  \n",
       "TCGA-2H-A9GF-01                     -0.220                    -0.220  \n",
       "TCGA-2H-A9GH-01                     -0.051                    -0.051  \n",
       "\n",
       "[2 rows x 24776 columns]"
      ]
     },
     "execution_count": 9,
     "metadata": {},
     "output_type": "execute_result"
    }
   ],
   "source": [
    "cnv.head(2)"
   ]
  },
  {
   "cell_type": "code",
   "execution_count": 10,
   "metadata": {},
   "outputs": [
    {
     "data": {
      "text/html": [
       "<div>\n",
       "<style scoped>\n",
       "    .dataframe tbody tr th:only-of-type {\n",
       "        vertical-align: middle;\n",
       "    }\n",
       "\n",
       "    .dataframe tbody tr th {\n",
       "        vertical-align: top;\n",
       "    }\n",
       "\n",
       "    .dataframe thead th {\n",
       "        text-align: right;\n",
       "    }\n",
       "</style>\n",
       "<table border=\"1\" class=\"dataframe\">\n",
       "  <thead>\n",
       "    <tr style=\"text-align: right;\">\n",
       "      <th>sample</th>\n",
       "      <th>ARHGEF10L</th>\n",
       "      <th>HIF3A</th>\n",
       "      <th>RNF17</th>\n",
       "      <th>RNF10</th>\n",
       "      <th>RNF11</th>\n",
       "      <th>RNF13</th>\n",
       "      <th>GTF2IP1</th>\n",
       "      <th>REM1</th>\n",
       "      <th>MTVR2</th>\n",
       "      <th>RTN4RL2</th>\n",
       "      <th>...</th>\n",
       "      <th>TULP2</th>\n",
       "      <th>NPY5R</th>\n",
       "      <th>GNGT2</th>\n",
       "      <th>GNGT1</th>\n",
       "      <th>TULP3</th>\n",
       "      <th>PTRF</th>\n",
       "      <th>BCL6B</th>\n",
       "      <th>GSTK1</th>\n",
       "      <th>SELP</th>\n",
       "      <th>SELS</th>\n",
       "    </tr>\n",
       "  </thead>\n",
       "  <tbody>\n",
       "    <tr>\n",
       "      <th>TCGA-L5-A4OF-01</th>\n",
       "      <td>11.2101</td>\n",
       "      <td>12.3540</td>\n",
       "      <td>8.5520</td>\n",
       "      <td>11.7251</td>\n",
       "      <td>10.2403</td>\n",
       "      <td>9.7218</td>\n",
       "      <td>12.3287</td>\n",
       "      <td>4.4734</td>\n",
       "      <td>1.9906</td>\n",
       "      <td>6.6656</td>\n",
       "      <td>...</td>\n",
       "      <td>5.9325</td>\n",
       "      <td>0.9937</td>\n",
       "      <td>3.5492</td>\n",
       "      <td>3.3392</td>\n",
       "      <td>8.9417</td>\n",
       "      <td>11.2014</td>\n",
       "      <td>7.8064</td>\n",
       "      <td>10.0090</td>\n",
       "      <td>8.3300</td>\n",
       "      <td>9.6288</td>\n",
       "    </tr>\n",
       "    <tr>\n",
       "      <th>TCGA-LN-A49R-01</th>\n",
       "      <td>8.9631</td>\n",
       "      <td>3.9057</td>\n",
       "      <td>0.8662</td>\n",
       "      <td>11.6148</td>\n",
       "      <td>11.1943</td>\n",
       "      <td>10.6686</td>\n",
       "      <td>12.9896</td>\n",
       "      <td>4.4850</td>\n",
       "      <td>1.4036</td>\n",
       "      <td>5.3494</td>\n",
       "      <td>...</td>\n",
       "      <td>2.1908</td>\n",
       "      <td>0.8662</td>\n",
       "      <td>5.1409</td>\n",
       "      <td>4.7133</td>\n",
       "      <td>9.3867</td>\n",
       "      <td>12.4722</td>\n",
       "      <td>6.9270</td>\n",
       "      <td>10.0227</td>\n",
       "      <td>5.1069</td>\n",
       "      <td>10.3200</td>\n",
       "    </tr>\n",
       "  </tbody>\n",
       "</table>\n",
       "<p>2 rows × 20530 columns</p>\n",
       "</div>"
      ],
      "text/plain": [
       "sample           ARHGEF10L    HIF3A   RNF17    RNF10    RNF11    RNF13  \\\n",
       "TCGA-L5-A4OF-01    11.2101  12.3540  8.5520  11.7251  10.2403   9.7218   \n",
       "TCGA-LN-A49R-01     8.9631   3.9057  0.8662  11.6148  11.1943  10.6686   \n",
       "\n",
       "sample           GTF2IP1    REM1   MTVR2  RTN4RL2  ...   TULP2   NPY5R  \\\n",
       "TCGA-L5-A4OF-01  12.3287  4.4734  1.9906   6.6656  ...  5.9325  0.9937   \n",
       "TCGA-LN-A49R-01  12.9896  4.4850  1.4036   5.3494  ...  2.1908  0.8662   \n",
       "\n",
       "sample            GNGT2   GNGT1   TULP3     PTRF   BCL6B    GSTK1    SELP  \\\n",
       "TCGA-L5-A4OF-01  3.5492  3.3392  8.9417  11.2014  7.8064  10.0090  8.3300   \n",
       "TCGA-LN-A49R-01  5.1409  4.7133  9.3867  12.4722  6.9270  10.0227  5.1069   \n",
       "\n",
       "sample              SELS  \n",
       "TCGA-L5-A4OF-01   9.6288  \n",
       "TCGA-LN-A49R-01  10.3200  \n",
       "\n",
       "[2 rows x 20530 columns]"
      ]
     },
     "execution_count": 10,
     "metadata": {},
     "output_type": "execute_result"
    }
   ],
   "source": [
    "mrna.head(2)"
   ]
  },
  {
   "cell_type": "markdown",
   "metadata": {},
   "source": [
    "Remove duplication"
   ]
  },
  {
   "cell_type": "code",
   "execution_count": 11,
   "metadata": {},
   "outputs": [
    {
     "name": "stdout",
     "output_type": "stream",
     "text": [
      "cnv: (184, 24776)\n",
      "mrna (196, 20530)\n"
     ]
    }
   ],
   "source": [
    "cnv = cnv[~cnv.duplicated(keep='first')]\n",
    "mrna = mrna[~mrna.duplicated(keep='first')]\n",
    "\n",
    "print(\"cnv:\", cnv.shape)\n",
    "print(\"mrna\", mrna.shape)"
   ]
  },
  {
   "attachments": {},
   "cell_type": "markdown",
   "metadata": {},
   "source": [
    "Identify shared patients across all datasets and exclude those not shared\n"
   ]
  },
  {
   "cell_type": "code",
   "execution_count": 12,
   "metadata": {},
   "outputs": [
    {
     "name": "stdout",
     "output_type": "stream",
     "text": [
      "Shape of common samples: 183\n"
     ]
    },
    {
     "data": {
      "text/html": [
       "<div>\n",
       "<style scoped>\n",
       "    .dataframe tbody tr th:only-of-type {\n",
       "        vertical-align: middle;\n",
       "    }\n",
       "\n",
       "    .dataframe tbody tr th {\n",
       "        vertical-align: top;\n",
       "    }\n",
       "\n",
       "    .dataframe thead th {\n",
       "        text-align: right;\n",
       "    }\n",
       "</style>\n",
       "<table border=\"1\" class=\"dataframe\">\n",
       "  <thead>\n",
       "    <tr style=\"text-align: right;\">\n",
       "      <th></th>\n",
       "      <th>sample</th>\n",
       "    </tr>\n",
       "  </thead>\n",
       "  <tbody>\n",
       "    <tr>\n",
       "      <th>0</th>\n",
       "      <td>TCGA-Z6-A8JD-01</td>\n",
       "    </tr>\n",
       "    <tr>\n",
       "      <th>1</th>\n",
       "      <td>TCGA-V5-AASW-01</td>\n",
       "    </tr>\n",
       "    <tr>\n",
       "      <th>2</th>\n",
       "      <td>TCGA-LN-A4A2-01</td>\n",
       "    </tr>\n",
       "  </tbody>\n",
       "</table>\n",
       "</div>"
      ],
      "text/plain": [
       "            sample\n",
       "0  TCGA-Z6-A8JD-01\n",
       "1  TCGA-V5-AASW-01\n",
       "2  TCGA-LN-A4A2-01"
      ]
     },
     "execution_count": 12,
     "metadata": {},
     "output_type": "execute_result"
    }
   ],
   "source": [
    "cnv.index.names = ['sample']\n",
    "mrna.index.names = ['sample']\n",
    "\n",
    "cnv = cnv.sort_values(by='sample')\n",
    "mrna = mrna.sort_values(by='sample')\n",
    "\n",
    "cnv = cnv.reset_index()\n",
    "mrna = mrna.reset_index()\n",
    "\n",
    "list_1 = cnv['sample'].values.tolist()\n",
    "list_2 = mrna['sample'].values.tolist()\n",
    "\n",
    "common_list0 = set(list_1).intersection(list_2)\n",
    "print (\"Shape of common samples:\", len(common_list0))\n",
    "\n",
    "common_df = pd.DataFrame(common_list0)\n",
    "common_df.rename(columns = {0:'sample'}, inplace = True)\n",
    "common_df.head(3)"
   ]
  },
  {
   "cell_type": "code",
   "execution_count": 13,
   "metadata": {},
   "outputs": [
    {
     "data": {
      "text/html": [
       "<div>\n",
       "<style scoped>\n",
       "    .dataframe tbody tr th:only-of-type {\n",
       "        vertical-align: middle;\n",
       "    }\n",
       "\n",
       "    .dataframe tbody tr th {\n",
       "        vertical-align: top;\n",
       "    }\n",
       "\n",
       "    .dataframe thead th {\n",
       "        text-align: right;\n",
       "    }\n",
       "</style>\n",
       "<table border=\"1\" class=\"dataframe\">\n",
       "  <thead>\n",
       "    <tr style=\"text-align: right;\">\n",
       "      <th>Gene Symbol</th>\n",
       "      <th>sample</th>\n",
       "      <th>ACAP3</th>\n",
       "      <th>ACTRT2</th>\n",
       "      <th>AGRN</th>\n",
       "      <th>ANKRD65</th>\n",
       "      <th>ATAD3A</th>\n",
       "      <th>ATAD3B</th>\n",
       "      <th>ATAD3C</th>\n",
       "      <th>AURKAIP1</th>\n",
       "      <th>B3GALT6</th>\n",
       "      <th>...</th>\n",
       "      <th>SMIM9</th>\n",
       "      <th>SNORA36A</th>\n",
       "      <th>SNORA56</th>\n",
       "      <th>TMLHE</th>\n",
       "      <th>VBP1</th>\n",
       "      <th>IL9R|ENSG00000124334.12</th>\n",
       "      <th>SPRY3|ENSG00000168939.6</th>\n",
       "      <th>VAMP7|ENSG00000124333.10</th>\n",
       "      <th>WASH6P|ENSG00000182484.10</th>\n",
       "      <th>WASIR1|ENSG00000185203.7</th>\n",
       "    </tr>\n",
       "  </thead>\n",
       "  <tbody>\n",
       "    <tr>\n",
       "      <th>0</th>\n",
       "      <td>TCGA-2H-A9GF-01</td>\n",
       "      <td>-0.061</td>\n",
       "      <td>-0.061</td>\n",
       "      <td>-0.061</td>\n",
       "      <td>-0.061</td>\n",
       "      <td>-0.061</td>\n",
       "      <td>-0.061</td>\n",
       "      <td>-0.061</td>\n",
       "      <td>-0.061</td>\n",
       "      <td>-0.061</td>\n",
       "      <td>...</td>\n",
       "      <td>-0.220</td>\n",
       "      <td>-0.220</td>\n",
       "      <td>-0.220</td>\n",
       "      <td>-0.220</td>\n",
       "      <td>-0.220</td>\n",
       "      <td>-0.220</td>\n",
       "      <td>-0.220</td>\n",
       "      <td>-0.220</td>\n",
       "      <td>-0.220</td>\n",
       "      <td>-0.220</td>\n",
       "    </tr>\n",
       "    <tr>\n",
       "      <th>1</th>\n",
       "      <td>TCGA-2H-A9GH-01</td>\n",
       "      <td>-0.274</td>\n",
       "      <td>-0.274</td>\n",
       "      <td>-0.274</td>\n",
       "      <td>-0.274</td>\n",
       "      <td>-0.274</td>\n",
       "      <td>-0.274</td>\n",
       "      <td>-0.274</td>\n",
       "      <td>-0.274</td>\n",
       "      <td>-0.274</td>\n",
       "      <td>...</td>\n",
       "      <td>-0.051</td>\n",
       "      <td>-0.051</td>\n",
       "      <td>-0.051</td>\n",
       "      <td>-0.051</td>\n",
       "      <td>-0.051</td>\n",
       "      <td>-0.051</td>\n",
       "      <td>-0.051</td>\n",
       "      <td>-0.051</td>\n",
       "      <td>-0.051</td>\n",
       "      <td>-0.051</td>\n",
       "    </tr>\n",
       "  </tbody>\n",
       "</table>\n",
       "<p>2 rows × 24777 columns</p>\n",
       "</div>"
      ],
      "text/plain": [
       "Gene Symbol           sample  ACAP3  ACTRT2   AGRN  ANKRD65  ATAD3A  ATAD3B  \\\n",
       "0            TCGA-2H-A9GF-01 -0.061  -0.061 -0.061   -0.061  -0.061  -0.061   \n",
       "1            TCGA-2H-A9GH-01 -0.274  -0.274 -0.274   -0.274  -0.274  -0.274   \n",
       "\n",
       "Gene Symbol  ATAD3C  AURKAIP1  B3GALT6  ...  SMIM9  SNORA36A  SNORA56  TMLHE  \\\n",
       "0            -0.061    -0.061   -0.061  ... -0.220    -0.220   -0.220 -0.220   \n",
       "1            -0.274    -0.274   -0.274  ... -0.051    -0.051   -0.051 -0.051   \n",
       "\n",
       "Gene Symbol   VBP1  IL9R|ENSG00000124334.12  SPRY3|ENSG00000168939.6  \\\n",
       "0           -0.220                   -0.220                   -0.220   \n",
       "1           -0.051                   -0.051                   -0.051   \n",
       "\n",
       "Gene Symbol  VAMP7|ENSG00000124333.10  WASH6P|ENSG00000182484.10  \\\n",
       "0                              -0.220                     -0.220   \n",
       "1                              -0.051                     -0.051   \n",
       "\n",
       "Gene Symbol  WASIR1|ENSG00000185203.7  \n",
       "0                              -0.220  \n",
       "1                              -0.051  \n",
       "\n",
       "[2 rows x 24777 columns]"
      ]
     },
     "execution_count": 13,
     "metadata": {},
     "output_type": "execute_result"
    }
   ],
   "source": [
    "cnv.head(2)"
   ]
  },
  {
   "cell_type": "code",
   "execution_count": 14,
   "metadata": {},
   "outputs": [
    {
     "data": {
      "text/html": [
       "<div>\n",
       "<style scoped>\n",
       "    .dataframe tbody tr th:only-of-type {\n",
       "        vertical-align: middle;\n",
       "    }\n",
       "\n",
       "    .dataframe tbody tr th {\n",
       "        vertical-align: top;\n",
       "    }\n",
       "\n",
       "    .dataframe thead th {\n",
       "        text-align: right;\n",
       "    }\n",
       "</style>\n",
       "<table border=\"1\" class=\"dataframe\">\n",
       "  <thead>\n",
       "    <tr style=\"text-align: right;\">\n",
       "      <th>sample</th>\n",
       "      <th>sample</th>\n",
       "      <th>ARHGEF10L</th>\n",
       "      <th>HIF3A</th>\n",
       "      <th>RNF17</th>\n",
       "      <th>RNF10</th>\n",
       "      <th>RNF11</th>\n",
       "      <th>RNF13</th>\n",
       "      <th>GTF2IP1</th>\n",
       "      <th>REM1</th>\n",
       "      <th>MTVR2</th>\n",
       "      <th>...</th>\n",
       "      <th>TULP2</th>\n",
       "      <th>NPY5R</th>\n",
       "      <th>GNGT2</th>\n",
       "      <th>GNGT1</th>\n",
       "      <th>TULP3</th>\n",
       "      <th>PTRF</th>\n",
       "      <th>BCL6B</th>\n",
       "      <th>GSTK1</th>\n",
       "      <th>SELP</th>\n",
       "      <th>SELS</th>\n",
       "    </tr>\n",
       "  </thead>\n",
       "  <tbody>\n",
       "    <tr>\n",
       "      <th>0</th>\n",
       "      <td>TCGA-2H-A9GF-01</td>\n",
       "      <td>10.7696</td>\n",
       "      <td>8.1415</td>\n",
       "      <td>0.0</td>\n",
       "      <td>12.0052</td>\n",
       "      <td>10.6921</td>\n",
       "      <td>10.1633</td>\n",
       "      <td>11.2038</td>\n",
       "      <td>3.0309</td>\n",
       "      <td>0.000</td>\n",
       "      <td>...</td>\n",
       "      <td>1.3952</td>\n",
       "      <td>1.2043</td>\n",
       "      <td>3.2445</td>\n",
       "      <td>2.2965</td>\n",
       "      <td>8.7979</td>\n",
       "      <td>10.8803</td>\n",
       "      <td>7.5707</td>\n",
       "      <td>10.3043</td>\n",
       "      <td>5.7846</td>\n",
       "      <td>8.6916</td>\n",
       "    </tr>\n",
       "    <tr>\n",
       "      <th>1</th>\n",
       "      <td>TCGA-2H-A9GG-01</td>\n",
       "      <td>11.9393</td>\n",
       "      <td>7.1988</td>\n",
       "      <td>0.0</td>\n",
       "      <td>11.6344</td>\n",
       "      <td>10.5779</td>\n",
       "      <td>10.0938</td>\n",
       "      <td>12.7264</td>\n",
       "      <td>4.8832</td>\n",
       "      <td>1.175</td>\n",
       "      <td>...</td>\n",
       "      <td>0.0000</td>\n",
       "      <td>0.0000</td>\n",
       "      <td>4.2502</td>\n",
       "      <td>4.8204</td>\n",
       "      <td>8.2625</td>\n",
       "      <td>10.8429</td>\n",
       "      <td>7.0332</td>\n",
       "      <td>10.4248</td>\n",
       "      <td>7.8660</td>\n",
       "      <td>9.0706</td>\n",
       "    </tr>\n",
       "  </tbody>\n",
       "</table>\n",
       "<p>2 rows × 20531 columns</p>\n",
       "</div>"
      ],
      "text/plain": [
       "sample           sample  ARHGEF10L   HIF3A  RNF17    RNF10    RNF11    RNF13  \\\n",
       "0       TCGA-2H-A9GF-01    10.7696  8.1415    0.0  12.0052  10.6921  10.1633   \n",
       "1       TCGA-2H-A9GG-01    11.9393  7.1988    0.0  11.6344  10.5779  10.0938   \n",
       "\n",
       "sample  GTF2IP1    REM1  MTVR2  ...   TULP2   NPY5R   GNGT2   GNGT1   TULP3  \\\n",
       "0       11.2038  3.0309  0.000  ...  1.3952  1.2043  3.2445  2.2965  8.7979   \n",
       "1       12.7264  4.8832  1.175  ...  0.0000  0.0000  4.2502  4.8204  8.2625   \n",
       "\n",
       "sample     PTRF   BCL6B    GSTK1    SELP    SELS  \n",
       "0       10.8803  7.5707  10.3043  5.7846  8.6916  \n",
       "1       10.8429  7.0332  10.4248  7.8660  9.0706  \n",
       "\n",
       "[2 rows x 20531 columns]"
      ]
     },
     "execution_count": 14,
     "metadata": {},
     "output_type": "execute_result"
    }
   ],
   "source": [
    "mrna.head(2)"
   ]
  },
  {
   "attachments": {},
   "cell_type": "markdown",
   "metadata": {
    "id": "V87FJ20YR8pJ"
   },
   "source": [
    "Identify shared patients across all datasets and exclude those not shared\n"
   ]
  },
  {
   "cell_type": "code",
   "execution_count": 15,
   "metadata": {},
   "outputs": [
    {
     "name": "stdout",
     "output_type": "stream",
     "text": [
      "Shape of samples CNV: (183, 24777)\n",
      "Shape of samples RNA Sequence (RNASeq): (183, 20531)\n"
     ]
    }
   ],
   "source": [
    "cnv_common = cnv[cnv['sample'].isin(common_df['sample'])]\n",
    "print (\"Shape of samples CNV:\", cnv_common.shape)\n",
    "\n",
    "mrna_common = mrna[mrna['sample'].isin(common_df['sample'])]\n",
    "print (\"Shape of samples RNA Sequence (RNASeq):\", mrna_common.shape)"
   ]
  },
  {
   "attachments": {},
   "cell_type": "markdown",
   "metadata": {},
   "source": [
    "Concatenate datasets with class labels\n",
    "\n"
   ]
  },
  {
   "cell_type": "code",
   "execution_count": 16,
   "metadata": {
    "executionInfo": {
     "elapsed": 11,
     "status": "aborted",
     "timestamp": 1670413253501,
     "user": {
      "displayName": "Sabrina Azmi",
      "userId": "03843576326678916867"
     },
     "user_tz": -480
    },
    "id": "MELfdKWoSCEy"
   },
   "outputs": [
    {
     "name": "stdout",
     "output_type": "stream",
     "text": [
      "histological_type: ['Esophagus Adenocarcinoma, NOS' 'Esophagus Squamous Cell Carcinoma']\n",
      "histological_type\n",
      "Esophagus Adenocarcinoma, NOS        104\n",
      "Esophagus Squamous Cell Carcinoma    100\n",
      "Name: count, dtype: int64\n"
     ]
    }
   ],
   "source": [
    "dataClass = clinical.histological_type.unique()\n",
    "print(\"histological_type:\", dataClass)\n",
    "print(clinical.histological_type.value_counts())"
   ]
  },
  {
   "cell_type": "code",
   "execution_count": 17,
   "metadata": {},
   "outputs": [],
   "source": [
    "cnv_common.set_index('sample', inplace=True)\n",
    "mrna_common.set_index('sample', inplace=True)"
   ]
  },
  {
   "cell_type": "code",
   "execution_count": 18,
   "metadata": {
    "executionInfo": {
     "elapsed": 12,
     "status": "aborted",
     "timestamp": 1670413253502,
     "user": {
      "displayName": "Sabrina Azmi",
      "userId": "03843576326678916867"
     },
     "user_tz": -480
    },
    "id": "H0zi_0MDS5Su"
   },
   "outputs": [
    {
     "name": "stdout",
     "output_type": "stream",
     "text": [
      "cnv: (183, 24777)\n",
      "RNA Sequence (RNASeq): (183, 20531)\n"
     ]
    }
   ],
   "source": [
    "cnv_common_class = pd.merge(cnv_common, clinical.set_index('sampleID')['histological_type'].to_frame(), how='inner', left_on='sample', right_index=True)\n",
    "print (\"cnv:\", cnv_common_class.shape)\n",
    "\n",
    "mrna_common_class = pd.merge(mrna_common, clinical.set_index('sampleID')['histological_type'].to_frame(), how='inner', left_on='sample', right_index=True)\n",
    "print (\"RNA Sequence (RNASeq):\", mrna_common_class.shape)"
   ]
  },
  {
   "cell_type": "markdown",
   "metadata": {},
   "source": [
    "Examine cancer subtypes and class distributions, then retain only patients with sufficient representation in the class labels"
   ]
  },
  {
   "cell_type": "code",
   "execution_count": 19,
   "metadata": {},
   "outputs": [
    {
     "name": "stdout",
     "output_type": "stream",
     "text": [
      "histological_type\n",
      "Esophagus Squamous Cell Carcinoma    95\n",
      "Esophagus Adenocarcinoma, NOS        88\n",
      "Name: count, dtype: int64\n",
      "histological_type\n",
      "Esophagus Squamous Cell Carcinoma    95\n",
      "Esophagus Adenocarcinoma, NOS        88\n",
      "Name: count, dtype: int64\n"
     ]
    }
   ],
   "source": [
    "print(cnv_common_class.histological_type.value_counts())\n",
    "print(mrna_common_class.histological_type.value_counts())"
   ]
  },
  {
   "cell_type": "code",
   "execution_count": 20,
   "metadata": {
    "executionInfo": {
     "elapsed": 13,
     "status": "aborted",
     "timestamp": 1670413253504,
     "user": {
      "displayName": "Sabrina Azmi",
      "userId": "03843576326678916867"
     },
     "user_tz": -480
    },
    "id": "Yhv9WsPB7vPb"
   },
   "outputs": [
    {
     "name": "stdout",
     "output_type": "stream",
     "text": [
      "cnv: (183, 24777)\n",
      "mrna (183, 20531)\n"
     ]
    }
   ],
   "source": [
    "cnv_common_class.dropna(subset=['histological_type'], inplace = True)\n",
    "print(\"cnv:\", cnv_common_class.shape)\n",
    "\n",
    "mrna_common_class.dropna(subset=['histological_type'], inplace = True)\n",
    "print(\"mrna\", mrna_common_class.shape)"
   ]
  },
  {
   "attachments": {},
   "cell_type": "markdown",
   "metadata": {},
   "source": [
    "Remove features with missing values\n"
   ]
  },
  {
   "cell_type": "code",
   "execution_count": 21,
   "metadata": {},
   "outputs": [
    {
     "name": "stdout",
     "output_type": "stream",
     "text": [
      "Any missing values in cnv?:  False\n",
      "Any missing values in mrna?: False\n"
     ]
    }
   ],
   "source": [
    "print (\"Any missing values in cnv?: \", cnv_common_class.isnull().values.any())\n",
    "print (\"Any missing values in mrna?:\", mrna_common_class.isnull().values.any())"
   ]
  },
  {
   "cell_type": "code",
   "execution_count": 22,
   "metadata": {
    "executionInfo": {
     "elapsed": 13,
     "status": "aborted",
     "timestamp": 1670413253504,
     "user": {
      "displayName": "Sabrina Azmi",
      "userId": "03843576326678916867"
     },
     "user_tz": -480
    },
    "id": "zUrKhGhaUg-q"
   },
   "outputs": [
    {
     "name": "stdout",
     "output_type": "stream",
     "text": [
      "cnv: (183, 24777)\n",
      "mrna (183, 20531)\n"
     ]
    }
   ],
   "source": [
    "cnv_common_class.dropna(axis=1, how='any', inplace = True) \n",
    "mrna_common_class.dropna(axis=1, how='any', inplace = True)\n",
    "\n",
    "print(\"cnv:\", cnv_common_class.shape)\n",
    "print(\"mrna\", mrna_common_class.shape)"
   ]
  },
  {
   "cell_type": "code",
   "execution_count": 23,
   "metadata": {
    "executionInfo": {
     "elapsed": 13,
     "status": "aborted",
     "timestamp": 1670413253504,
     "user": {
      "displayName": "Sabrina Azmi",
      "userId": "03843576326678916867"
     },
     "user_tz": -480
    },
    "id": "Wmn_wos-MAF-"
   },
   "outputs": [
    {
     "name": "stdout",
     "output_type": "stream",
     "text": [
      "Any missing values in cnv?:  False\n",
      "Any missing values in mrna?: False\n"
     ]
    }
   ],
   "source": [
    "print (\"Any missing values in cnv?: \", cnv_common_class.isnull().values.any())\n",
    "print (\"Any missing values in mrna?:\", mrna_common_class.isnull().values.any())"
   ]
  },
  {
   "cell_type": "markdown",
   "metadata": {},
   "source": [
    "Remove zero-variance features"
   ]
  },
  {
   "cell_type": "code",
   "execution_count": 24,
   "metadata": {},
   "outputs": [
    {
     "name": "stdout",
     "output_type": "stream",
     "text": [
      "\n",
      "Processing DataFrame 1...\n",
      "DataFrame 1 has no zero-variance columns.\n",
      "\n",
      "Processing DataFrame 2...\n",
      "DataFrame 2 has 253 zero-variance columns: ['SNORD115-17', 'SNORD114-31', 'SNORD114-30', 'SNORD115-6', 'SNORD115-4', 'SNORD104', 'SNORD115-9', 'SNORD38A', 'SNORD114-3', 'HBII-52-27', 'SNORD11', 'SNORD12', 'SNORD21', 'SNORD20', 'SNORD25', 'SNORD127', 'SNORD124', 'TTTY17A', 'SNORD115-5', 'SNORD80', 'SNORD56B', 'SNORD78', 'SNORD113-7', 'HSFX1', 'SNORD96A', 'SNORD119', 'HBII-52-46', 'HBII-52-45', 'SNORD47', 'SNORD4B', 'SNORD4A', 'SNORD116-24', 'SNORD116-25', 'SNORD116-23', 'SNORD116-29', 'SNORD115-8', 'SNORD66', 'HBII-52-28', 'SNORD69', 'SNORD68', 'SNORD38B', 'SNORD113-4', 'SNORD116-26', 'SNORD115-1', 'SNORD58A', 'SNORD58C', 'PRR20C', 'PRR20D', 'SNORD96B', 'SNORD63', 'SNORD116-22', 'SNORD81', 'GAGE12F', 'SNORD114-20', 'SNORD115-20', 'SNORD115-22', 'SNORD115-25', 'SNORD114-29', 'TEX28', 'DEFB135', 'SNORD29', 'SNORD16', 'SNORD36A', 'SNORD91B', 'SNORD87', 'SNORD86', 'DEFB114', 'RBMY1E', 'SNORD91A', 'SNORD88B', 'SNORD50B', 'SNORD65', 'SNORD61', 'SNORD115-35', 'SNORD114-10', 'SNORD114-6', 'SNORD114-5', 'SNORD12C', 'SNORD123', 'SNORD126', 'SNORD125', 'SNORD48', 'SNORD114-9', 'SNORD46', 'SNORD115-2', 'SNORD115-3', 'SNORD27', 'SNORD105', 'SNORD35A', 'SNORD35B', 'SNORD24', 'SNAR-B2', 'SNORD28', 'SNORD49A', 'SNORD102', 'SNORD115-14', 'LCE4A', 'SNORD115-16', 'SNORD30', 'SNORD31', 'SNORD115-10', 'SNORD18B', 'SNORD26', 'SNORD114-7', 'SNORD45C', 'SNORD111B', 'SNORD18A', 'TTTY20', 'SNORD109B', 'SNORD45B', 'SNORD45A', 'SNORD114-22', 'SNORD114-23', 'SNORD114-26', 'SNORD114-27', 'SNORD114-24', 'SNORD114-25', 'SNORD114-28', 'SNORD115-41', 'SNORD115-40', 'SNORD1A', 'SNORD1B', 'SNORD19', 'SNORD115-37', 'SNORD44', 'SNORD34', 'OR10G9', 'SNORD121B', 'SNORD121A', 'SNAR-E', 'SNORD51', 'SNORD115-44', 'SNORD36C', 'SNORD115-48', 'SNORD49B', 'SNORD116-19', 'SNORA35', 'SNORD116-11', '?|136542', 'SNORD59B', 'SNORD59A', 'SNORD116-27', 'SNORD114-21', 'SNORD114-11', 'SNORD72', 'SNORD74', 'SNORD75', 'SNORD79', 'SNORD114-4', 'OR2T29', 'RNU5E', 'SNORD88C', 'RNY5', 'RNY4', 'SNORD114-16', 'SNORD52', 'SNORD53', 'SNORD115-11', 'SNORD113-9', 'SNORD113-5', 'SNORD113-6', 'SNORD113-1', 'SNORD113-2', 'SNORD114-14', 'SNORD116-18', 'SNORD98', 'SNORD99', 'SNORD93', 'SNORD116-12', 'C13orf28', 'SNORD73A', 'SNORD115-32', 'SNORD115-39', 'SNAR-D', 'SNORD116-10', 'SNORD116-13', 'SNORD116-15', 'SNORD116-14', 'SNORD116-16', 'XKRY', 'SNORD95', 'SNORD90', 'SNORD114-18', 'SNORD92', 'TSSK2', 'SNORA70C', 'SNORD114-15', 'SNORD19B', 'SNORD70', 'SNORD76', 'SNORD77', 'HBII-52-24', 'SNAR-A13', 'SNORD60', 'TTTY3B', 'SNORD105B', 'TTTY17B', 'SNORD6', 'SNORD7', 'SNORD5', 'SNORD2', 'SNORD9', 'SNORD33', 'VTRNA1-2', 'SNORD54', 'SNORD114-8', 'SNORD55', 'SNORD56', 'SNORD57', 'LCN9', 'TTTY21', 'DUX4', 'SNORD50A', 'SNORD117', 'SNORD110', 'SNORD111', 'SNAR-A4', 'SNORD32A', 'SNORD43', 'SNORD114-12', 'SNORD71', 'PRR20B', 'SNAR-C3', 'SNAR-C2', 'SNORD88A', 'SNORD36B', 'VTRNA1-3', 'VTRNA1-1', 'SNORD41', 'SNORD62A', 'SNORD116-5', 'SNORD42B', 'SNORD42A', 'SNORD37', 'SNORD114-1', 'SNORD115-33', 'SNORD115-30', 'SNORD115-31', 'SNORD114-2', 'SNORD115-38', 'SNORD18C', 'SNORD114-19', 'SNORD114-13', 'SNORD114-17', 'CT47A11', 'SNORD116-8', 'SNORD116-1', 'SNORD116-3', 'SNORD116-2', 'SNORD85', 'SNORD84', 'SNORD82', 'SNORD32B']\n",
      "DataFrame 2 updated shape: (183, 20278)\n",
      "\n",
      "----Updated Shapes of DataFrames----\n",
      "DataFrame 1: (183, 24777)\n",
      "DataFrame 2: (183, 20278)\n"
     ]
    }
   ],
   "source": [
    "dataframes = [cnv_common_class, mrna_common_class]\n",
    "\n",
    "# Iterate over each dataframe and check for zero-variance columns\n",
    "for i, df in enumerate(dataframes):\n",
    "    print(f\"\\nProcessing DataFrame {i+1}...\")  # Debugging output\n",
    "    \n",
    "    # Exclude the last column (assuming it's the class column)\n",
    "    feature_columns = df.iloc[:, :-1]\n",
    "    \n",
    "    # Find columns with zero variance\n",
    "    zero_var_cols = feature_columns.columns[feature_columns.nunique() <= 1]\n",
    "    \n",
    "    if len(zero_var_cols) > 0:\n",
    "        print(f\"DataFrame {i+1} has {len(zero_var_cols)} zero-variance columns: {list(zero_var_cols)}\")\n",
    "        \n",
    "        # Drop zero-variance columns and reassign to the dataframes list\n",
    "        dataframes[i] = df.drop(columns=zero_var_cols)\n",
    "        \n",
    "        # Debugging output: Check new shape of the dataframe\n",
    "        print(f\"DataFrame {i+1} updated shape: {dataframes[i].shape}\")\n",
    "    else:\n",
    "        print(f\"DataFrame {i+1} has no zero-variance columns.\")\n",
    "\n",
    "# Verify updated shapes\n",
    "print(\"\\n----Updated Shapes of DataFrames----\")\n",
    "for i, df in enumerate(dataframes):\n",
    "    print(f\"DataFrame {i+1}: {df.shape}\")"
   ]
  },
  {
   "attachments": {},
   "cell_type": "markdown",
   "metadata": {},
   "source": [
    "Eliminate redundant information\n"
   ]
  },
  {
   "cell_type": "code",
   "execution_count": 25,
   "metadata": {},
   "outputs": [
    {
     "name": "stdout",
     "output_type": "stream",
     "text": [
      "----Omics dataset----\n",
      "cnv: (183, 24777)\n",
      "mrna (183, 20278)\n",
      "----Class distribution----\n",
      "histological_type\n",
      "Esophagus Squamous Cell Carcinoma    95\n",
      "Esophagus Adenocarcinoma, NOS        88\n",
      "Name: count, dtype: int64\n"
     ]
    }
   ],
   "source": [
    "# Remove duplicates from each dataset\n",
    "omics_datasets = [df.drop_duplicates() for df in dataframes]\n",
    "\n",
    "# Unpack the updated datasets back into variables\n",
    "cnv_common_class, mrna_common_class = omics_datasets\n",
    "\n",
    "print (\"----Omics dataset----\")\n",
    "print(\"cnv:\", cnv_common_class.shape)\n",
    "print(\"mrna\", mrna_common_class.shape)\n",
    "\n",
    "print (\"----Class distribution----\")\n",
    "print(cnv_common_class.histological_type.value_counts())"
   ]
  },
  {
   "cell_type": "markdown",
   "metadata": {},
   "source": [
    "Data standardization "
   ]
  },
  {
   "cell_type": "code",
   "execution_count": 26,
   "metadata": {},
   "outputs": [],
   "source": [
    "datapath_out = \"/Users/sabye/Downloads/wgRFECV-BIN/Result/\""
   ]
  },
  {
   "cell_type": "code",
   "execution_count": 27,
   "metadata": {},
   "outputs": [
    {
     "name": "stdout",
     "output_type": "stream",
     "text": [
      "Processing dataset: cnv\n",
      "Standardized data for cnv saved successfully at /Users/sabye/Downloads/wgRFECV-BIN/Result/Preprocessed_ESCA_cnv.csv\n",
      "Processing dataset: mrna\n",
      "Standardized data for mrna saved successfully at /Users/sabye/Downloads/wgRFECV-BIN/Result/Preprocessed_ESCA_mrna.csv\n"
     ]
    }
   ],
   "source": [
    "os.makedirs(datapath, exist_ok=True)\n",
    "\n",
    "# Dictionary of datasets with descriptive keys\n",
    "dataframes = {\n",
    "    \"cnv\": cnv_common_class,\n",
    "    \"mrna\": mrna_common_class\n",
    "}\n",
    "\n",
    "# Initialize the StandardScaler\n",
    "scaler = StandardScaler()\n",
    "\n",
    "# Process each dataset and save the preprocessed file\n",
    "for key, df in dataframes.items():\n",
    "    print(f\"Processing dataset: {key}\")\n",
    "    \n",
    "    # Separate features and class\n",
    "    features = df.iloc[:, :-1]\n",
    "    classes = df.iloc[:, -1]\n",
    "    \n",
    "    # Standardize the features\n",
    "    standardized_features = scaler.fit_transform(features)\n",
    "    \n",
    "    # Recreate the DataFrame\n",
    "    standardized_df = pd.DataFrame(standardized_features, columns=features.columns, index=df.index)\n",
    "    standardized_df['hys'] = classes\n",
    "    \n",
    "    # Save the standardized DataFrame to CSV\n",
    "    output_path = os.path.join(datapath_out, f\"Preprocessed_ESCA_{key}.csv\")\n",
    "    standardized_df.to_csv(output_path, index=True)\n",
    "    print(f\"Standardized data for {key} saved successfully at {output_path}\")\n",
    "    \n",
    "    # Clean up variables to free up memory\n",
    "    del features, classes, standardized_features, standardized_df\n"
   ]
  }
 ],
 "metadata": {
  "colab": {
   "collapsed_sections": [
    "tzdgLOvvTHO_"
   ],
   "provenance": []
  },
  "kernelspec": {
   "display_name": "Python [conda env:base] *",
   "language": "python",
   "name": "conda-base-py"
  },
  "language_info": {
   "codemirror_mode": {
    "name": "ipython",
    "version": 3
   },
   "file_extension": ".py",
   "mimetype": "text/x-python",
   "name": "python",
   "nbconvert_exporter": "python",
   "pygments_lexer": "ipython3",
   "version": "3.11.7"
  }
 },
 "nbformat": 4,
 "nbformat_minor": 4
}

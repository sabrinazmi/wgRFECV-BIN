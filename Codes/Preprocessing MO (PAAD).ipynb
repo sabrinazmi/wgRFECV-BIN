{
 "cells": [
  {
   "cell_type": "markdown",
   "metadata": {},
   "source": [
    "Import libraries"
   ]
  },
  {
   "cell_type": "code",
   "execution_count": 1,
   "metadata": {
    "executionInfo": {
     "elapsed": 1925,
     "status": "ok",
     "timestamp": 1670413232894,
     "user": {
      "displayName": "Sabrina Azmi",
      "userId": "03843576326678916867"
     },
     "user_tz": -480
    },
    "id": "xUCTLkPjbLpz"
   },
   "outputs": [],
   "source": [
    "import numpy as np\n",
    "import pandas as pd\n",
    "import os\n",
    "from sklearn.preprocessing import StandardScaler"
   ]
  },
  {
   "attachments": {},
   "cell_type": "markdown",
   "metadata": {},
   "source": [
    "Import the data into the Python environment from CSV files\n"
   ]
  },
  {
   "cell_type": "markdown",
   "metadata": {},
   "source": [
    "Rename data file after unzip downloaded files"
   ]
  },
  {
   "cell_type": "code",
   "execution_count": 2,
   "metadata": {},
   "outputs": [
    {
     "name": "stdout",
     "output_type": "stream",
     "text": [
      "cnv: (24776, 185)\n",
      "mrna: (20530, 184)\n",
      "clinical: (196, 115)\n"
     ]
    }
   ],
   "source": [
    "# Load dataset\n",
    "datapath = \"/Users/sabye/Downloads/wgRFECV-BIN/Data/\"\n",
    "\n",
    "cnv = pd.read_csv(datapath+\"PAAD_cnv\", sep='\\t', comment='#')\n",
    "print(\"cnv:\", cnv.shape)\n",
    "mrna = pd.read_csv(datapath+\"PAAD_mrna\", sep='\\t', comment='#')\n",
    "print(\"mrna:\", mrna.shape)\n",
    "clinical = pd.read_csv(datapath+\"PAAD_clinical\", sep='\\t', comment='#')\n",
    "print(\"clinical:\", clinical.shape)"
   ]
  },
  {
   "cell_type": "code",
   "execution_count": 3,
   "metadata": {},
   "outputs": [
    {
     "data": {
      "text/html": [
       "<div>\n",
       "<style scoped>\n",
       "    .dataframe tbody tr th:only-of-type {\n",
       "        vertical-align: middle;\n",
       "    }\n",
       "\n",
       "    .dataframe tbody tr th {\n",
       "        vertical-align: top;\n",
       "    }\n",
       "\n",
       "    .dataframe thead th {\n",
       "        text-align: right;\n",
       "    }\n",
       "</style>\n",
       "<table border=\"1\" class=\"dataframe\">\n",
       "  <thead>\n",
       "    <tr style=\"text-align: right;\">\n",
       "      <th></th>\n",
       "      <th>Gene Symbol</th>\n",
       "      <th>TCGA-2J-AAB1-01</th>\n",
       "      <th>TCGA-2J-AAB4-01</th>\n",
       "      <th>TCGA-2J-AAB6-01</th>\n",
       "      <th>TCGA-2J-AAB8-01</th>\n",
       "      <th>TCGA-2J-AAB9-01</th>\n",
       "      <th>TCGA-2J-AABA-01</th>\n",
       "      <th>TCGA-2J-AABE-01</th>\n",
       "      <th>TCGA-2J-AABF-01</th>\n",
       "      <th>TCGA-2J-AABH-01</th>\n",
       "      <th>...</th>\n",
       "      <th>TCGA-XD-AAUG-01</th>\n",
       "      <th>TCGA-XD-AAUH-01</th>\n",
       "      <th>TCGA-XD-AAUI-01</th>\n",
       "      <th>TCGA-XD-AAUL-01</th>\n",
       "      <th>TCGA-XN-A8T3-01</th>\n",
       "      <th>TCGA-XN-A8T5-01</th>\n",
       "      <th>TCGA-YB-A89D-01</th>\n",
       "      <th>TCGA-YH-A8SY-01</th>\n",
       "      <th>TCGA-YY-A8LH-01</th>\n",
       "      <th>TCGA-Z5-AAPL-01</th>\n",
       "    </tr>\n",
       "  </thead>\n",
       "  <tbody>\n",
       "    <tr>\n",
       "      <th>0</th>\n",
       "      <td>ACAP3</td>\n",
       "      <td>0.007</td>\n",
       "      <td>0.051</td>\n",
       "      <td>0.469</td>\n",
       "      <td>-0.079</td>\n",
       "      <td>-0.038</td>\n",
       "      <td>-0.351</td>\n",
       "      <td>0.0</td>\n",
       "      <td>0.16</td>\n",
       "      <td>-0.484</td>\n",
       "      <td>...</td>\n",
       "      <td>-0.037</td>\n",
       "      <td>-0.076</td>\n",
       "      <td>-0.025</td>\n",
       "      <td>0.002</td>\n",
       "      <td>0.033</td>\n",
       "      <td>-0.006</td>\n",
       "      <td>-0.004</td>\n",
       "      <td>-0.073</td>\n",
       "      <td>-0.325</td>\n",
       "      <td>-0.007</td>\n",
       "    </tr>\n",
       "    <tr>\n",
       "      <th>1</th>\n",
       "      <td>ACTRT2</td>\n",
       "      <td>0.007</td>\n",
       "      <td>0.051</td>\n",
       "      <td>0.469</td>\n",
       "      <td>-0.079</td>\n",
       "      <td>-0.038</td>\n",
       "      <td>-0.351</td>\n",
       "      <td>0.0</td>\n",
       "      <td>0.16</td>\n",
       "      <td>-0.484</td>\n",
       "      <td>...</td>\n",
       "      <td>-0.037</td>\n",
       "      <td>-0.076</td>\n",
       "      <td>-0.025</td>\n",
       "      <td>0.002</td>\n",
       "      <td>0.033</td>\n",
       "      <td>-0.006</td>\n",
       "      <td>-0.004</td>\n",
       "      <td>-0.073</td>\n",
       "      <td>-0.325</td>\n",
       "      <td>-0.007</td>\n",
       "    </tr>\n",
       "  </tbody>\n",
       "</table>\n",
       "<p>2 rows × 185 columns</p>\n",
       "</div>"
      ],
      "text/plain": [
       "  Gene Symbol  TCGA-2J-AAB1-01  TCGA-2J-AAB4-01  TCGA-2J-AAB6-01  \\\n",
       "0       ACAP3            0.007            0.051            0.469   \n",
       "1      ACTRT2            0.007            0.051            0.469   \n",
       "\n",
       "   TCGA-2J-AAB8-01  TCGA-2J-AAB9-01  TCGA-2J-AABA-01  TCGA-2J-AABE-01  \\\n",
       "0           -0.079           -0.038           -0.351              0.0   \n",
       "1           -0.079           -0.038           -0.351              0.0   \n",
       "\n",
       "   TCGA-2J-AABF-01  TCGA-2J-AABH-01  ...  TCGA-XD-AAUG-01  TCGA-XD-AAUH-01  \\\n",
       "0             0.16           -0.484  ...           -0.037           -0.076   \n",
       "1             0.16           -0.484  ...           -0.037           -0.076   \n",
       "\n",
       "   TCGA-XD-AAUI-01  TCGA-XD-AAUL-01  TCGA-XN-A8T3-01  TCGA-XN-A8T5-01  \\\n",
       "0           -0.025            0.002            0.033           -0.006   \n",
       "1           -0.025            0.002            0.033           -0.006   \n",
       "\n",
       "   TCGA-YB-A89D-01  TCGA-YH-A8SY-01  TCGA-YY-A8LH-01  TCGA-Z5-AAPL-01  \n",
       "0           -0.004           -0.073           -0.325           -0.007  \n",
       "1           -0.004           -0.073           -0.325           -0.007  \n",
       "\n",
       "[2 rows x 185 columns]"
      ]
     },
     "execution_count": 3,
     "metadata": {},
     "output_type": "execute_result"
    }
   ],
   "source": [
    "cnv.head(2)"
   ]
  },
  {
   "cell_type": "code",
   "execution_count": 4,
   "metadata": {},
   "outputs": [
    {
     "data": {
      "text/html": [
       "<div>\n",
       "<style scoped>\n",
       "    .dataframe tbody tr th:only-of-type {\n",
       "        vertical-align: middle;\n",
       "    }\n",
       "\n",
       "    .dataframe tbody tr th {\n",
       "        vertical-align: top;\n",
       "    }\n",
       "\n",
       "    .dataframe thead th {\n",
       "        text-align: right;\n",
       "    }\n",
       "</style>\n",
       "<table border=\"1\" class=\"dataframe\">\n",
       "  <thead>\n",
       "    <tr style=\"text-align: right;\">\n",
       "      <th></th>\n",
       "      <th>sample</th>\n",
       "      <th>TCGA-2L-AAQL-01</th>\n",
       "      <th>TCGA-2J-AABI-01</th>\n",
       "      <th>TCGA-3A-A9J0-01</th>\n",
       "      <th>TCGA-3A-A9I7-01</th>\n",
       "      <th>TCGA-2J-AABO-01</th>\n",
       "      <th>TCGA-IB-7890-01</th>\n",
       "      <th>TCGA-3A-A9IN-01</th>\n",
       "      <th>TCGA-HZ-7926-01</th>\n",
       "      <th>TCGA-3A-A9IH-01</th>\n",
       "      <th>...</th>\n",
       "      <th>TCGA-IB-8127-01</th>\n",
       "      <th>TCGA-S4-A8RM-01</th>\n",
       "      <th>TCGA-F2-A7TX-01</th>\n",
       "      <th>TCGA-2L-AAQI-01</th>\n",
       "      <th>TCGA-2J-AABP-01</th>\n",
       "      <th>TCGA-RB-A7B8-01</th>\n",
       "      <th>TCGA-2L-AAQA-01</th>\n",
       "      <th>TCGA-FB-AAQ6-01</th>\n",
       "      <th>TCGA-IB-7644-01</th>\n",
       "      <th>TCGA-HV-A5A5-01</th>\n",
       "    </tr>\n",
       "  </thead>\n",
       "  <tbody>\n",
       "    <tr>\n",
       "      <th>0</th>\n",
       "      <td>ARHGEF10L</td>\n",
       "      <td>10.2430</td>\n",
       "      <td>9.5734</td>\n",
       "      <td>10.3872</td>\n",
       "      <td>10.1431</td>\n",
       "      <td>9.8022</td>\n",
       "      <td>9.4448</td>\n",
       "      <td>11.0212</td>\n",
       "      <td>9.9304</td>\n",
       "      <td>10.4928</td>\n",
       "      <td>...</td>\n",
       "      <td>10.1282</td>\n",
       "      <td>9.7158</td>\n",
       "      <td>10.4882</td>\n",
       "      <td>10.4211</td>\n",
       "      <td>9.8537</td>\n",
       "      <td>10.0113</td>\n",
       "      <td>9.6876</td>\n",
       "      <td>10.3344</td>\n",
       "      <td>10.2509</td>\n",
       "      <td>10.9966</td>\n",
       "    </tr>\n",
       "    <tr>\n",
       "      <th>1</th>\n",
       "      <td>HIF3A</td>\n",
       "      <td>6.6983</td>\n",
       "      <td>6.4428</td>\n",
       "      <td>5.5034</td>\n",
       "      <td>4.6491</td>\n",
       "      <td>7.2137</td>\n",
       "      <td>5.7352</td>\n",
       "      <td>8.2457</td>\n",
       "      <td>5.1018</td>\n",
       "      <td>5.5330</td>\n",
       "      <td>...</td>\n",
       "      <td>7.1087</td>\n",
       "      <td>8.9044</td>\n",
       "      <td>4.8867</td>\n",
       "      <td>7.2581</td>\n",
       "      <td>4.0688</td>\n",
       "      <td>6.9339</td>\n",
       "      <td>6.5897</td>\n",
       "      <td>7.3360</td>\n",
       "      <td>4.7588</td>\n",
       "      <td>6.5898</td>\n",
       "    </tr>\n",
       "  </tbody>\n",
       "</table>\n",
       "<p>2 rows × 184 columns</p>\n",
       "</div>"
      ],
      "text/plain": [
       "      sample  TCGA-2L-AAQL-01  TCGA-2J-AABI-01  TCGA-3A-A9J0-01  \\\n",
       "0  ARHGEF10L          10.2430           9.5734          10.3872   \n",
       "1      HIF3A           6.6983           6.4428           5.5034   \n",
       "\n",
       "   TCGA-3A-A9I7-01  TCGA-2J-AABO-01  TCGA-IB-7890-01  TCGA-3A-A9IN-01  \\\n",
       "0          10.1431           9.8022           9.4448          11.0212   \n",
       "1           4.6491           7.2137           5.7352           8.2457   \n",
       "\n",
       "   TCGA-HZ-7926-01  TCGA-3A-A9IH-01  ...  TCGA-IB-8127-01  TCGA-S4-A8RM-01  \\\n",
       "0           9.9304          10.4928  ...          10.1282           9.7158   \n",
       "1           5.1018           5.5330  ...           7.1087           8.9044   \n",
       "\n",
       "   TCGA-F2-A7TX-01  TCGA-2L-AAQI-01  TCGA-2J-AABP-01  TCGA-RB-A7B8-01  \\\n",
       "0          10.4882          10.4211           9.8537          10.0113   \n",
       "1           4.8867           7.2581           4.0688           6.9339   \n",
       "\n",
       "   TCGA-2L-AAQA-01  TCGA-FB-AAQ6-01  TCGA-IB-7644-01  TCGA-HV-A5A5-01  \n",
       "0           9.6876          10.3344          10.2509          10.9966  \n",
       "1           6.5897           7.3360           4.7588           6.5898  \n",
       "\n",
       "[2 rows x 184 columns]"
      ]
     },
     "execution_count": 4,
     "metadata": {},
     "output_type": "execute_result"
    }
   ],
   "source": [
    "mrna.head(2)"
   ]
  },
  {
   "cell_type": "code",
   "execution_count": 5,
   "metadata": {},
   "outputs": [],
   "source": [
    "cnv = cnv.set_index('Gene Symbol') \n",
    "mrna = mrna.set_index('sample')  "
   ]
  },
  {
   "cell_type": "code",
   "execution_count": 6,
   "metadata": {},
   "outputs": [
    {
     "data": {
      "text/html": [
       "<div>\n",
       "<style scoped>\n",
       "    .dataframe tbody tr th:only-of-type {\n",
       "        vertical-align: middle;\n",
       "    }\n",
       "\n",
       "    .dataframe tbody tr th {\n",
       "        vertical-align: top;\n",
       "    }\n",
       "\n",
       "    .dataframe thead th {\n",
       "        text-align: right;\n",
       "    }\n",
       "</style>\n",
       "<table border=\"1\" class=\"dataframe\">\n",
       "  <thead>\n",
       "    <tr style=\"text-align: right;\">\n",
       "      <th></th>\n",
       "      <th>TCGA-2J-AAB1-01</th>\n",
       "      <th>TCGA-2J-AAB4-01</th>\n",
       "      <th>TCGA-2J-AAB6-01</th>\n",
       "      <th>TCGA-2J-AAB8-01</th>\n",
       "      <th>TCGA-2J-AAB9-01</th>\n",
       "      <th>TCGA-2J-AABA-01</th>\n",
       "      <th>TCGA-2J-AABE-01</th>\n",
       "      <th>TCGA-2J-AABF-01</th>\n",
       "      <th>TCGA-2J-AABH-01</th>\n",
       "      <th>TCGA-2J-AABI-01</th>\n",
       "      <th>...</th>\n",
       "      <th>TCGA-XD-AAUG-01</th>\n",
       "      <th>TCGA-XD-AAUH-01</th>\n",
       "      <th>TCGA-XD-AAUI-01</th>\n",
       "      <th>TCGA-XD-AAUL-01</th>\n",
       "      <th>TCGA-XN-A8T3-01</th>\n",
       "      <th>TCGA-XN-A8T5-01</th>\n",
       "      <th>TCGA-YB-A89D-01</th>\n",
       "      <th>TCGA-YH-A8SY-01</th>\n",
       "      <th>TCGA-YY-A8LH-01</th>\n",
       "      <th>TCGA-Z5-AAPL-01</th>\n",
       "    </tr>\n",
       "    <tr>\n",
       "      <th>Gene Symbol</th>\n",
       "      <th></th>\n",
       "      <th></th>\n",
       "      <th></th>\n",
       "      <th></th>\n",
       "      <th></th>\n",
       "      <th></th>\n",
       "      <th></th>\n",
       "      <th></th>\n",
       "      <th></th>\n",
       "      <th></th>\n",
       "      <th></th>\n",
       "      <th></th>\n",
       "      <th></th>\n",
       "      <th></th>\n",
       "      <th></th>\n",
       "      <th></th>\n",
       "      <th></th>\n",
       "      <th></th>\n",
       "      <th></th>\n",
       "      <th></th>\n",
       "      <th></th>\n",
       "    </tr>\n",
       "  </thead>\n",
       "  <tbody>\n",
       "    <tr>\n",
       "      <th>ACAP3</th>\n",
       "      <td>0.007</td>\n",
       "      <td>0.051</td>\n",
       "      <td>0.469</td>\n",
       "      <td>-0.079</td>\n",
       "      <td>-0.038</td>\n",
       "      <td>-0.351</td>\n",
       "      <td>0.0</td>\n",
       "      <td>0.16</td>\n",
       "      <td>-0.484</td>\n",
       "      <td>-0.659</td>\n",
       "      <td>...</td>\n",
       "      <td>-0.037</td>\n",
       "      <td>-0.076</td>\n",
       "      <td>-0.025</td>\n",
       "      <td>0.002</td>\n",
       "      <td>0.033</td>\n",
       "      <td>-0.006</td>\n",
       "      <td>-0.004</td>\n",
       "      <td>-0.073</td>\n",
       "      <td>-0.325</td>\n",
       "      <td>-0.007</td>\n",
       "    </tr>\n",
       "    <tr>\n",
       "      <th>ACTRT2</th>\n",
       "      <td>0.007</td>\n",
       "      <td>0.051</td>\n",
       "      <td>0.469</td>\n",
       "      <td>-0.079</td>\n",
       "      <td>-0.038</td>\n",
       "      <td>-0.351</td>\n",
       "      <td>0.0</td>\n",
       "      <td>0.16</td>\n",
       "      <td>-0.484</td>\n",
       "      <td>-0.659</td>\n",
       "      <td>...</td>\n",
       "      <td>-0.037</td>\n",
       "      <td>-0.076</td>\n",
       "      <td>-0.025</td>\n",
       "      <td>0.002</td>\n",
       "      <td>0.033</td>\n",
       "      <td>-0.006</td>\n",
       "      <td>-0.004</td>\n",
       "      <td>-0.073</td>\n",
       "      <td>-0.325</td>\n",
       "      <td>-0.007</td>\n",
       "    </tr>\n",
       "  </tbody>\n",
       "</table>\n",
       "<p>2 rows × 184 columns</p>\n",
       "</div>"
      ],
      "text/plain": [
       "             TCGA-2J-AAB1-01  TCGA-2J-AAB4-01  TCGA-2J-AAB6-01  \\\n",
       "Gene Symbol                                                      \n",
       "ACAP3                  0.007            0.051            0.469   \n",
       "ACTRT2                 0.007            0.051            0.469   \n",
       "\n",
       "             TCGA-2J-AAB8-01  TCGA-2J-AAB9-01  TCGA-2J-AABA-01  \\\n",
       "Gene Symbol                                                      \n",
       "ACAP3                 -0.079           -0.038           -0.351   \n",
       "ACTRT2                -0.079           -0.038           -0.351   \n",
       "\n",
       "             TCGA-2J-AABE-01  TCGA-2J-AABF-01  TCGA-2J-AABH-01  \\\n",
       "Gene Symbol                                                      \n",
       "ACAP3                    0.0             0.16           -0.484   \n",
       "ACTRT2                   0.0             0.16           -0.484   \n",
       "\n",
       "             TCGA-2J-AABI-01  ...  TCGA-XD-AAUG-01  TCGA-XD-AAUH-01  \\\n",
       "Gene Symbol                   ...                                     \n",
       "ACAP3                 -0.659  ...           -0.037           -0.076   \n",
       "ACTRT2                -0.659  ...           -0.037           -0.076   \n",
       "\n",
       "             TCGA-XD-AAUI-01  TCGA-XD-AAUL-01  TCGA-XN-A8T3-01  \\\n",
       "Gene Symbol                                                      \n",
       "ACAP3                 -0.025            0.002            0.033   \n",
       "ACTRT2                -0.025            0.002            0.033   \n",
       "\n",
       "             TCGA-XN-A8T5-01  TCGA-YB-A89D-01  TCGA-YH-A8SY-01  \\\n",
       "Gene Symbol                                                      \n",
       "ACAP3                 -0.006           -0.004           -0.073   \n",
       "ACTRT2                -0.006           -0.004           -0.073   \n",
       "\n",
       "             TCGA-YY-A8LH-01  TCGA-Z5-AAPL-01  \n",
       "Gene Symbol                                    \n",
       "ACAP3                 -0.325           -0.007  \n",
       "ACTRT2                -0.325           -0.007  \n",
       "\n",
       "[2 rows x 184 columns]"
      ]
     },
     "execution_count": 6,
     "metadata": {},
     "output_type": "execute_result"
    }
   ],
   "source": [
    "cnv.head(2)"
   ]
  },
  {
   "cell_type": "code",
   "execution_count": 7,
   "metadata": {},
   "outputs": [
    {
     "data": {
      "text/html": [
       "<div>\n",
       "<style scoped>\n",
       "    .dataframe tbody tr th:only-of-type {\n",
       "        vertical-align: middle;\n",
       "    }\n",
       "\n",
       "    .dataframe tbody tr th {\n",
       "        vertical-align: top;\n",
       "    }\n",
       "\n",
       "    .dataframe thead th {\n",
       "        text-align: right;\n",
       "    }\n",
       "</style>\n",
       "<table border=\"1\" class=\"dataframe\">\n",
       "  <thead>\n",
       "    <tr style=\"text-align: right;\">\n",
       "      <th></th>\n",
       "      <th>TCGA-2L-AAQL-01</th>\n",
       "      <th>TCGA-2J-AABI-01</th>\n",
       "      <th>TCGA-3A-A9J0-01</th>\n",
       "      <th>TCGA-3A-A9I7-01</th>\n",
       "      <th>TCGA-2J-AABO-01</th>\n",
       "      <th>TCGA-IB-7890-01</th>\n",
       "      <th>TCGA-3A-A9IN-01</th>\n",
       "      <th>TCGA-HZ-7926-01</th>\n",
       "      <th>TCGA-3A-A9IH-01</th>\n",
       "      <th>TCGA-2J-AABH-01</th>\n",
       "      <th>...</th>\n",
       "      <th>TCGA-IB-8127-01</th>\n",
       "      <th>TCGA-S4-A8RM-01</th>\n",
       "      <th>TCGA-F2-A7TX-01</th>\n",
       "      <th>TCGA-2L-AAQI-01</th>\n",
       "      <th>TCGA-2J-AABP-01</th>\n",
       "      <th>TCGA-RB-A7B8-01</th>\n",
       "      <th>TCGA-2L-AAQA-01</th>\n",
       "      <th>TCGA-FB-AAQ6-01</th>\n",
       "      <th>TCGA-IB-7644-01</th>\n",
       "      <th>TCGA-HV-A5A5-01</th>\n",
       "    </tr>\n",
       "    <tr>\n",
       "      <th>sample</th>\n",
       "      <th></th>\n",
       "      <th></th>\n",
       "      <th></th>\n",
       "      <th></th>\n",
       "      <th></th>\n",
       "      <th></th>\n",
       "      <th></th>\n",
       "      <th></th>\n",
       "      <th></th>\n",
       "      <th></th>\n",
       "      <th></th>\n",
       "      <th></th>\n",
       "      <th></th>\n",
       "      <th></th>\n",
       "      <th></th>\n",
       "      <th></th>\n",
       "      <th></th>\n",
       "      <th></th>\n",
       "      <th></th>\n",
       "      <th></th>\n",
       "      <th></th>\n",
       "    </tr>\n",
       "  </thead>\n",
       "  <tbody>\n",
       "    <tr>\n",
       "      <th>ARHGEF10L</th>\n",
       "      <td>10.2430</td>\n",
       "      <td>9.5734</td>\n",
       "      <td>10.3872</td>\n",
       "      <td>10.1431</td>\n",
       "      <td>9.8022</td>\n",
       "      <td>9.4448</td>\n",
       "      <td>11.0212</td>\n",
       "      <td>9.9304</td>\n",
       "      <td>10.4928</td>\n",
       "      <td>10.2869</td>\n",
       "      <td>...</td>\n",
       "      <td>10.1282</td>\n",
       "      <td>9.7158</td>\n",
       "      <td>10.4882</td>\n",
       "      <td>10.4211</td>\n",
       "      <td>9.8537</td>\n",
       "      <td>10.0113</td>\n",
       "      <td>9.6876</td>\n",
       "      <td>10.3344</td>\n",
       "      <td>10.2509</td>\n",
       "      <td>10.9966</td>\n",
       "    </tr>\n",
       "    <tr>\n",
       "      <th>HIF3A</th>\n",
       "      <td>6.6983</td>\n",
       "      <td>6.4428</td>\n",
       "      <td>5.5034</td>\n",
       "      <td>4.6491</td>\n",
       "      <td>7.2137</td>\n",
       "      <td>5.7352</td>\n",
       "      <td>8.2457</td>\n",
       "      <td>5.1018</td>\n",
       "      <td>5.5330</td>\n",
       "      <td>7.5433</td>\n",
       "      <td>...</td>\n",
       "      <td>7.1087</td>\n",
       "      <td>8.9044</td>\n",
       "      <td>4.8867</td>\n",
       "      <td>7.2581</td>\n",
       "      <td>4.0688</td>\n",
       "      <td>6.9339</td>\n",
       "      <td>6.5897</td>\n",
       "      <td>7.3360</td>\n",
       "      <td>4.7588</td>\n",
       "      <td>6.5898</td>\n",
       "    </tr>\n",
       "  </tbody>\n",
       "</table>\n",
       "<p>2 rows × 183 columns</p>\n",
       "</div>"
      ],
      "text/plain": [
       "           TCGA-2L-AAQL-01  TCGA-2J-AABI-01  TCGA-3A-A9J0-01  TCGA-3A-A9I7-01  \\\n",
       "sample                                                                          \n",
       "ARHGEF10L          10.2430           9.5734          10.3872          10.1431   \n",
       "HIF3A               6.6983           6.4428           5.5034           4.6491   \n",
       "\n",
       "           TCGA-2J-AABO-01  TCGA-IB-7890-01  TCGA-3A-A9IN-01  TCGA-HZ-7926-01  \\\n",
       "sample                                                                          \n",
       "ARHGEF10L           9.8022           9.4448          11.0212           9.9304   \n",
       "HIF3A               7.2137           5.7352           8.2457           5.1018   \n",
       "\n",
       "           TCGA-3A-A9IH-01  TCGA-2J-AABH-01  ...  TCGA-IB-8127-01  \\\n",
       "sample                                       ...                    \n",
       "ARHGEF10L          10.4928          10.2869  ...          10.1282   \n",
       "HIF3A               5.5330           7.5433  ...           7.1087   \n",
       "\n",
       "           TCGA-S4-A8RM-01  TCGA-F2-A7TX-01  TCGA-2L-AAQI-01  TCGA-2J-AABP-01  \\\n",
       "sample                                                                          \n",
       "ARHGEF10L           9.7158          10.4882          10.4211           9.8537   \n",
       "HIF3A               8.9044           4.8867           7.2581           4.0688   \n",
       "\n",
       "           TCGA-RB-A7B8-01  TCGA-2L-AAQA-01  TCGA-FB-AAQ6-01  TCGA-IB-7644-01  \\\n",
       "sample                                                                          \n",
       "ARHGEF10L          10.0113           9.6876          10.3344          10.2509   \n",
       "HIF3A               6.9339           6.5897           7.3360           4.7588   \n",
       "\n",
       "           TCGA-HV-A5A5-01  \n",
       "sample                      \n",
       "ARHGEF10L          10.9966  \n",
       "HIF3A               6.5898  \n",
       "\n",
       "[2 rows x 183 columns]"
      ]
     },
     "execution_count": 7,
     "metadata": {},
     "output_type": "execute_result"
    }
   ],
   "source": [
    "mrna.head(2)"
   ]
  },
  {
   "cell_type": "markdown",
   "metadata": {},
   "source": [
    "Transpose the data"
   ]
  },
  {
   "cell_type": "code",
   "execution_count": 8,
   "metadata": {},
   "outputs": [
    {
     "name": "stdout",
     "output_type": "stream",
     "text": [
      "cnv: (184, 24776)\n",
      "mrna: (183, 20530)\n"
     ]
    }
   ],
   "source": [
    "cnv = np.transpose(cnv)\n",
    "print(\"cnv:\", cnv.shape)\n",
    "mrna = np.transpose(mrna)\n",
    "print(\"mrna:\", mrna.shape)\n",
    "#print(\"clinical:\", clinical.shape) # clinical do not need to transpose"
   ]
  },
  {
   "cell_type": "code",
   "execution_count": 9,
   "metadata": {},
   "outputs": [
    {
     "data": {
      "text/html": [
       "<div>\n",
       "<style scoped>\n",
       "    .dataframe tbody tr th:only-of-type {\n",
       "        vertical-align: middle;\n",
       "    }\n",
       "\n",
       "    .dataframe tbody tr th {\n",
       "        vertical-align: top;\n",
       "    }\n",
       "\n",
       "    .dataframe thead th {\n",
       "        text-align: right;\n",
       "    }\n",
       "</style>\n",
       "<table border=\"1\" class=\"dataframe\">\n",
       "  <thead>\n",
       "    <tr style=\"text-align: right;\">\n",
       "      <th>Gene Symbol</th>\n",
       "      <th>ACAP3</th>\n",
       "      <th>ACTRT2</th>\n",
       "      <th>AGRN</th>\n",
       "      <th>ANKRD65</th>\n",
       "      <th>ATAD3A</th>\n",
       "      <th>ATAD3B</th>\n",
       "      <th>ATAD3C</th>\n",
       "      <th>AURKAIP1</th>\n",
       "      <th>B3GALT6</th>\n",
       "      <th>C1orf159</th>\n",
       "      <th>...</th>\n",
       "      <th>SMIM9</th>\n",
       "      <th>SNORA36A</th>\n",
       "      <th>SNORA56</th>\n",
       "      <th>TMLHE</th>\n",
       "      <th>VBP1</th>\n",
       "      <th>IL9R|ENSG00000124334.12</th>\n",
       "      <th>SPRY3|ENSG00000168939.6</th>\n",
       "      <th>VAMP7|ENSG00000124333.10</th>\n",
       "      <th>WASH6P|ENSG00000182484.10</th>\n",
       "      <th>WASIR1|ENSG00000185203.7</th>\n",
       "    </tr>\n",
       "  </thead>\n",
       "  <tbody>\n",
       "    <tr>\n",
       "      <th>TCGA-2J-AAB1-01</th>\n",
       "      <td>0.007</td>\n",
       "      <td>0.007</td>\n",
       "      <td>0.007</td>\n",
       "      <td>0.007</td>\n",
       "      <td>0.007</td>\n",
       "      <td>0.007</td>\n",
       "      <td>0.007</td>\n",
       "      <td>0.007</td>\n",
       "      <td>0.007</td>\n",
       "      <td>0.007</td>\n",
       "      <td>...</td>\n",
       "      <td>-0.025</td>\n",
       "      <td>-0.025</td>\n",
       "      <td>-0.025</td>\n",
       "      <td>-0.025</td>\n",
       "      <td>-0.025</td>\n",
       "      <td>-0.025</td>\n",
       "      <td>-0.025</td>\n",
       "      <td>-0.025</td>\n",
       "      <td>-0.025</td>\n",
       "      <td>-0.025</td>\n",
       "    </tr>\n",
       "    <tr>\n",
       "      <th>TCGA-2J-AAB4-01</th>\n",
       "      <td>0.051</td>\n",
       "      <td>0.051</td>\n",
       "      <td>0.051</td>\n",
       "      <td>0.051</td>\n",
       "      <td>0.051</td>\n",
       "      <td>0.051</td>\n",
       "      <td>0.051</td>\n",
       "      <td>0.051</td>\n",
       "      <td>0.051</td>\n",
       "      <td>0.051</td>\n",
       "      <td>...</td>\n",
       "      <td>0.318</td>\n",
       "      <td>0.318</td>\n",
       "      <td>0.318</td>\n",
       "      <td>0.318</td>\n",
       "      <td>0.318</td>\n",
       "      <td>0.318</td>\n",
       "      <td>0.318</td>\n",
       "      <td>0.318</td>\n",
       "      <td>0.318</td>\n",
       "      <td>0.318</td>\n",
       "    </tr>\n",
       "  </tbody>\n",
       "</table>\n",
       "<p>2 rows × 24776 columns</p>\n",
       "</div>"
      ],
      "text/plain": [
       "Gene Symbol      ACAP3  ACTRT2   AGRN  ANKRD65  ATAD3A  ATAD3B  ATAD3C  \\\n",
       "TCGA-2J-AAB1-01  0.007   0.007  0.007    0.007   0.007   0.007   0.007   \n",
       "TCGA-2J-AAB4-01  0.051   0.051  0.051    0.051   0.051   0.051   0.051   \n",
       "\n",
       "Gene Symbol      AURKAIP1  B3GALT6  C1orf159  ...  SMIM9  SNORA36A  SNORA56  \\\n",
       "TCGA-2J-AAB1-01     0.007    0.007     0.007  ... -0.025    -0.025   -0.025   \n",
       "TCGA-2J-AAB4-01     0.051    0.051     0.051  ...  0.318     0.318    0.318   \n",
       "\n",
       "Gene Symbol      TMLHE   VBP1  IL9R|ENSG00000124334.12  \\\n",
       "TCGA-2J-AAB1-01 -0.025 -0.025                   -0.025   \n",
       "TCGA-2J-AAB4-01  0.318  0.318                    0.318   \n",
       "\n",
       "Gene Symbol      SPRY3|ENSG00000168939.6  VAMP7|ENSG00000124333.10  \\\n",
       "TCGA-2J-AAB1-01                   -0.025                    -0.025   \n",
       "TCGA-2J-AAB4-01                    0.318                     0.318   \n",
       "\n",
       "Gene Symbol      WASH6P|ENSG00000182484.10  WASIR1|ENSG00000185203.7  \n",
       "TCGA-2J-AAB1-01                     -0.025                    -0.025  \n",
       "TCGA-2J-AAB4-01                      0.318                     0.318  \n",
       "\n",
       "[2 rows x 24776 columns]"
      ]
     },
     "execution_count": 9,
     "metadata": {},
     "output_type": "execute_result"
    }
   ],
   "source": [
    "cnv.head(2)"
   ]
  },
  {
   "cell_type": "code",
   "execution_count": 10,
   "metadata": {},
   "outputs": [
    {
     "data": {
      "text/html": [
       "<div>\n",
       "<style scoped>\n",
       "    .dataframe tbody tr th:only-of-type {\n",
       "        vertical-align: middle;\n",
       "    }\n",
       "\n",
       "    .dataframe tbody tr th {\n",
       "        vertical-align: top;\n",
       "    }\n",
       "\n",
       "    .dataframe thead th {\n",
       "        text-align: right;\n",
       "    }\n",
       "</style>\n",
       "<table border=\"1\" class=\"dataframe\">\n",
       "  <thead>\n",
       "    <tr style=\"text-align: right;\">\n",
       "      <th>sample</th>\n",
       "      <th>ARHGEF10L</th>\n",
       "      <th>HIF3A</th>\n",
       "      <th>RNF17</th>\n",
       "      <th>RNF10</th>\n",
       "      <th>RNF11</th>\n",
       "      <th>RNF13</th>\n",
       "      <th>GTF2IP1</th>\n",
       "      <th>REM1</th>\n",
       "      <th>MTVR2</th>\n",
       "      <th>RTN4RL2</th>\n",
       "      <th>...</th>\n",
       "      <th>TULP2</th>\n",
       "      <th>NPY5R</th>\n",
       "      <th>GNGT2</th>\n",
       "      <th>GNGT1</th>\n",
       "      <th>TULP3</th>\n",
       "      <th>PTRF</th>\n",
       "      <th>BCL6B</th>\n",
       "      <th>GSTK1</th>\n",
       "      <th>SELP</th>\n",
       "      <th>SELS</th>\n",
       "    </tr>\n",
       "  </thead>\n",
       "  <tbody>\n",
       "    <tr>\n",
       "      <th>TCGA-2L-AAQL-01</th>\n",
       "      <td>10.2430</td>\n",
       "      <td>6.6983</td>\n",
       "      <td>0.0</td>\n",
       "      <td>11.9248</td>\n",
       "      <td>10.2773</td>\n",
       "      <td>10.1117</td>\n",
       "      <td>13.0042</td>\n",
       "      <td>5.9795</td>\n",
       "      <td>0.0</td>\n",
       "      <td>4.9121</td>\n",
       "      <td>...</td>\n",
       "      <td>0.7197</td>\n",
       "      <td>1.8429</td>\n",
       "      <td>6.0232</td>\n",
       "      <td>2.6264</td>\n",
       "      <td>8.7059</td>\n",
       "      <td>13.0378</td>\n",
       "      <td>8.2740</td>\n",
       "      <td>11.9118</td>\n",
       "      <td>8.5478</td>\n",
       "      <td>10.9906</td>\n",
       "    </tr>\n",
       "    <tr>\n",
       "      <th>TCGA-2J-AABI-01</th>\n",
       "      <td>9.5734</td>\n",
       "      <td>6.4428</td>\n",
       "      <td>0.0</td>\n",
       "      <td>11.0862</td>\n",
       "      <td>9.2096</td>\n",
       "      <td>9.8581</td>\n",
       "      <td>12.0516</td>\n",
       "      <td>3.9888</td>\n",
       "      <td>0.0</td>\n",
       "      <td>4.3893</td>\n",
       "      <td>...</td>\n",
       "      <td>0.7872</td>\n",
       "      <td>0.4466</td>\n",
       "      <td>4.7807</td>\n",
       "      <td>3.3832</td>\n",
       "      <td>10.8562</td>\n",
       "      <td>12.7767</td>\n",
       "      <td>6.9876</td>\n",
       "      <td>11.5041</td>\n",
       "      <td>5.4414</td>\n",
       "      <td>10.0317</td>\n",
       "    </tr>\n",
       "  </tbody>\n",
       "</table>\n",
       "<p>2 rows × 20530 columns</p>\n",
       "</div>"
      ],
      "text/plain": [
       "sample           ARHGEF10L   HIF3A  RNF17    RNF10    RNF11    RNF13  GTF2IP1  \\\n",
       "TCGA-2L-AAQL-01    10.2430  6.6983    0.0  11.9248  10.2773  10.1117  13.0042   \n",
       "TCGA-2J-AABI-01     9.5734  6.4428    0.0  11.0862   9.2096   9.8581  12.0516   \n",
       "\n",
       "sample             REM1  MTVR2  RTN4RL2  ...   TULP2   NPY5R   GNGT2   GNGT1  \\\n",
       "TCGA-2L-AAQL-01  5.9795    0.0   4.9121  ...  0.7197  1.8429  6.0232  2.6264   \n",
       "TCGA-2J-AABI-01  3.9888    0.0   4.3893  ...  0.7872  0.4466  4.7807  3.3832   \n",
       "\n",
       "sample             TULP3     PTRF   BCL6B    GSTK1    SELP     SELS  \n",
       "TCGA-2L-AAQL-01   8.7059  13.0378  8.2740  11.9118  8.5478  10.9906  \n",
       "TCGA-2J-AABI-01  10.8562  12.7767  6.9876  11.5041  5.4414  10.0317  \n",
       "\n",
       "[2 rows x 20530 columns]"
      ]
     },
     "execution_count": 10,
     "metadata": {},
     "output_type": "execute_result"
    }
   ],
   "source": [
    "mrna.head(2)"
   ]
  },
  {
   "cell_type": "markdown",
   "metadata": {},
   "source": [
    "Remove duplication"
   ]
  },
  {
   "cell_type": "code",
   "execution_count": 11,
   "metadata": {},
   "outputs": [
    {
     "name": "stdout",
     "output_type": "stream",
     "text": [
      "cnv: (184, 24776)\n",
      "mrna (183, 20530)\n"
     ]
    }
   ],
   "source": [
    "cnv = cnv[~cnv.duplicated(keep='first')]\n",
    "mrna = mrna[~mrna.duplicated(keep='first')]\n",
    "\n",
    "print(\"cnv:\", cnv.shape)\n",
    "print(\"mrna\", mrna.shape)"
   ]
  },
  {
   "attachments": {},
   "cell_type": "markdown",
   "metadata": {},
   "source": [
    "Identify shared patients across all datasets and exclude those not shared\n"
   ]
  },
  {
   "cell_type": "code",
   "execution_count": 12,
   "metadata": {},
   "outputs": [
    {
     "name": "stdout",
     "output_type": "stream",
     "text": [
      "Shape of common samples: 177\n"
     ]
    },
    {
     "data": {
      "text/html": [
       "<div>\n",
       "<style scoped>\n",
       "    .dataframe tbody tr th:only-of-type {\n",
       "        vertical-align: middle;\n",
       "    }\n",
       "\n",
       "    .dataframe tbody tr th {\n",
       "        vertical-align: top;\n",
       "    }\n",
       "\n",
       "    .dataframe thead th {\n",
       "        text-align: right;\n",
       "    }\n",
       "</style>\n",
       "<table border=\"1\" class=\"dataframe\">\n",
       "  <thead>\n",
       "    <tr style=\"text-align: right;\">\n",
       "      <th></th>\n",
       "      <th>sample</th>\n",
       "    </tr>\n",
       "  </thead>\n",
       "  <tbody>\n",
       "    <tr>\n",
       "      <th>0</th>\n",
       "      <td>TCGA-FB-AAPY-01</td>\n",
       "    </tr>\n",
       "    <tr>\n",
       "      <th>1</th>\n",
       "      <td>TCGA-HZ-8637-01</td>\n",
       "    </tr>\n",
       "    <tr>\n",
       "      <th>2</th>\n",
       "      <td>TCGA-IB-8127-01</td>\n",
       "    </tr>\n",
       "  </tbody>\n",
       "</table>\n",
       "</div>"
      ],
      "text/plain": [
       "            sample\n",
       "0  TCGA-FB-AAPY-01\n",
       "1  TCGA-HZ-8637-01\n",
       "2  TCGA-IB-8127-01"
      ]
     },
     "execution_count": 12,
     "metadata": {},
     "output_type": "execute_result"
    }
   ],
   "source": [
    "cnv.index.names = ['sample']\n",
    "mrna.index.names = ['sample']\n",
    "\n",
    "cnv = cnv.sort_values(by='sample')\n",
    "mrna = mrna.sort_values(by='sample')\n",
    "\n",
    "cnv = cnv.reset_index()\n",
    "mrna = mrna.reset_index()\n",
    "\n",
    "list_1 = cnv['sample'].values.tolist()\n",
    "list_2 = mrna['sample'].values.tolist()\n",
    "\n",
    "common_list0 = set(list_1).intersection(list_2)\n",
    "print (\"Shape of common samples:\", len(common_list0))\n",
    "\n",
    "common_df = pd.DataFrame(common_list0)\n",
    "common_df.rename(columns = {0:'sample'}, inplace = True)\n",
    "common_df.head(3)"
   ]
  },
  {
   "cell_type": "code",
   "execution_count": 13,
   "metadata": {},
   "outputs": [
    {
     "data": {
      "text/html": [
       "<div>\n",
       "<style scoped>\n",
       "    .dataframe tbody tr th:only-of-type {\n",
       "        vertical-align: middle;\n",
       "    }\n",
       "\n",
       "    .dataframe tbody tr th {\n",
       "        vertical-align: top;\n",
       "    }\n",
       "\n",
       "    .dataframe thead th {\n",
       "        text-align: right;\n",
       "    }\n",
       "</style>\n",
       "<table border=\"1\" class=\"dataframe\">\n",
       "  <thead>\n",
       "    <tr style=\"text-align: right;\">\n",
       "      <th>Gene Symbol</th>\n",
       "      <th>sample</th>\n",
       "      <th>ACAP3</th>\n",
       "      <th>ACTRT2</th>\n",
       "      <th>AGRN</th>\n",
       "      <th>ANKRD65</th>\n",
       "      <th>ATAD3A</th>\n",
       "      <th>ATAD3B</th>\n",
       "      <th>ATAD3C</th>\n",
       "      <th>AURKAIP1</th>\n",
       "      <th>B3GALT6</th>\n",
       "      <th>...</th>\n",
       "      <th>SMIM9</th>\n",
       "      <th>SNORA36A</th>\n",
       "      <th>SNORA56</th>\n",
       "      <th>TMLHE</th>\n",
       "      <th>VBP1</th>\n",
       "      <th>IL9R|ENSG00000124334.12</th>\n",
       "      <th>SPRY3|ENSG00000168939.6</th>\n",
       "      <th>VAMP7|ENSG00000124333.10</th>\n",
       "      <th>WASH6P|ENSG00000182484.10</th>\n",
       "      <th>WASIR1|ENSG00000185203.7</th>\n",
       "    </tr>\n",
       "  </thead>\n",
       "  <tbody>\n",
       "    <tr>\n",
       "      <th>0</th>\n",
       "      <td>TCGA-2J-AAB1-01</td>\n",
       "      <td>0.007</td>\n",
       "      <td>0.007</td>\n",
       "      <td>0.007</td>\n",
       "      <td>0.007</td>\n",
       "      <td>0.007</td>\n",
       "      <td>0.007</td>\n",
       "      <td>0.007</td>\n",
       "      <td>0.007</td>\n",
       "      <td>0.007</td>\n",
       "      <td>...</td>\n",
       "      <td>-0.025</td>\n",
       "      <td>-0.025</td>\n",
       "      <td>-0.025</td>\n",
       "      <td>-0.025</td>\n",
       "      <td>-0.025</td>\n",
       "      <td>-0.025</td>\n",
       "      <td>-0.025</td>\n",
       "      <td>-0.025</td>\n",
       "      <td>-0.025</td>\n",
       "      <td>-0.025</td>\n",
       "    </tr>\n",
       "    <tr>\n",
       "      <th>1</th>\n",
       "      <td>TCGA-2J-AAB4-01</td>\n",
       "      <td>0.051</td>\n",
       "      <td>0.051</td>\n",
       "      <td>0.051</td>\n",
       "      <td>0.051</td>\n",
       "      <td>0.051</td>\n",
       "      <td>0.051</td>\n",
       "      <td>0.051</td>\n",
       "      <td>0.051</td>\n",
       "      <td>0.051</td>\n",
       "      <td>...</td>\n",
       "      <td>0.318</td>\n",
       "      <td>0.318</td>\n",
       "      <td>0.318</td>\n",
       "      <td>0.318</td>\n",
       "      <td>0.318</td>\n",
       "      <td>0.318</td>\n",
       "      <td>0.318</td>\n",
       "      <td>0.318</td>\n",
       "      <td>0.318</td>\n",
       "      <td>0.318</td>\n",
       "    </tr>\n",
       "  </tbody>\n",
       "</table>\n",
       "<p>2 rows × 24777 columns</p>\n",
       "</div>"
      ],
      "text/plain": [
       "Gene Symbol           sample  ACAP3  ACTRT2   AGRN  ANKRD65  ATAD3A  ATAD3B  \\\n",
       "0            TCGA-2J-AAB1-01  0.007   0.007  0.007    0.007   0.007   0.007   \n",
       "1            TCGA-2J-AAB4-01  0.051   0.051  0.051    0.051   0.051   0.051   \n",
       "\n",
       "Gene Symbol  ATAD3C  AURKAIP1  B3GALT6  ...  SMIM9  SNORA36A  SNORA56  TMLHE  \\\n",
       "0             0.007     0.007    0.007  ... -0.025    -0.025   -0.025 -0.025   \n",
       "1             0.051     0.051    0.051  ...  0.318     0.318    0.318  0.318   \n",
       "\n",
       "Gene Symbol   VBP1  IL9R|ENSG00000124334.12  SPRY3|ENSG00000168939.6  \\\n",
       "0           -0.025                   -0.025                   -0.025   \n",
       "1            0.318                    0.318                    0.318   \n",
       "\n",
       "Gene Symbol  VAMP7|ENSG00000124333.10  WASH6P|ENSG00000182484.10  \\\n",
       "0                              -0.025                     -0.025   \n",
       "1                               0.318                      0.318   \n",
       "\n",
       "Gene Symbol  WASIR1|ENSG00000185203.7  \n",
       "0                              -0.025  \n",
       "1                               0.318  \n",
       "\n",
       "[2 rows x 24777 columns]"
      ]
     },
     "execution_count": 13,
     "metadata": {},
     "output_type": "execute_result"
    }
   ],
   "source": [
    "cnv.head(2)"
   ]
  },
  {
   "cell_type": "code",
   "execution_count": 14,
   "metadata": {},
   "outputs": [
    {
     "data": {
      "text/html": [
       "<div>\n",
       "<style scoped>\n",
       "    .dataframe tbody tr th:only-of-type {\n",
       "        vertical-align: middle;\n",
       "    }\n",
       "\n",
       "    .dataframe tbody tr th {\n",
       "        vertical-align: top;\n",
       "    }\n",
       "\n",
       "    .dataframe thead th {\n",
       "        text-align: right;\n",
       "    }\n",
       "</style>\n",
       "<table border=\"1\" class=\"dataframe\">\n",
       "  <thead>\n",
       "    <tr style=\"text-align: right;\">\n",
       "      <th>sample</th>\n",
       "      <th>sample</th>\n",
       "      <th>ARHGEF10L</th>\n",
       "      <th>HIF3A</th>\n",
       "      <th>RNF17</th>\n",
       "      <th>RNF10</th>\n",
       "      <th>RNF11</th>\n",
       "      <th>RNF13</th>\n",
       "      <th>GTF2IP1</th>\n",
       "      <th>REM1</th>\n",
       "      <th>MTVR2</th>\n",
       "      <th>...</th>\n",
       "      <th>TULP2</th>\n",
       "      <th>NPY5R</th>\n",
       "      <th>GNGT2</th>\n",
       "      <th>GNGT1</th>\n",
       "      <th>TULP3</th>\n",
       "      <th>PTRF</th>\n",
       "      <th>BCL6B</th>\n",
       "      <th>GSTK1</th>\n",
       "      <th>SELP</th>\n",
       "      <th>SELS</th>\n",
       "    </tr>\n",
       "  </thead>\n",
       "  <tbody>\n",
       "    <tr>\n",
       "      <th>0</th>\n",
       "      <td>TCGA-2J-AAB1-01</td>\n",
       "      <td>9.7910</td>\n",
       "      <td>8.7310</td>\n",
       "      <td>0.5732</td>\n",
       "      <td>11.9111</td>\n",
       "      <td>10.2312</td>\n",
       "      <td>10.2914</td>\n",
       "      <td>12.5644</td>\n",
       "      <td>5.0099</td>\n",
       "      <td>0.0000</td>\n",
       "      <td>...</td>\n",
       "      <td>0.0000</td>\n",
       "      <td>0.9823</td>\n",
       "      <td>5.0739</td>\n",
       "      <td>0.0</td>\n",
       "      <td>9.0034</td>\n",
       "      <td>12.3950</td>\n",
       "      <td>7.8502</td>\n",
       "      <td>11.9071</td>\n",
       "      <td>7.8982</td>\n",
       "      <td>10.9499</td>\n",
       "    </tr>\n",
       "    <tr>\n",
       "      <th>1</th>\n",
       "      <td>TCGA-2J-AAB4-01</td>\n",
       "      <td>10.5186</td>\n",
       "      <td>5.9351</td>\n",
       "      <td>0.0000</td>\n",
       "      <td>11.7311</td>\n",
       "      <td>10.7823</td>\n",
       "      <td>9.9883</td>\n",
       "      <td>12.8189</td>\n",
       "      <td>4.6911</td>\n",
       "      <td>0.5068</td>\n",
       "      <td>...</td>\n",
       "      <td>1.4241</td>\n",
       "      <td>2.2594</td>\n",
       "      <td>4.9088</td>\n",
       "      <td>0.0</td>\n",
       "      <td>8.6178</td>\n",
       "      <td>12.1204</td>\n",
       "      <td>7.6353</td>\n",
       "      <td>11.6672</td>\n",
       "      <td>7.5143</td>\n",
       "      <td>10.6963</td>\n",
       "    </tr>\n",
       "  </tbody>\n",
       "</table>\n",
       "<p>2 rows × 20531 columns</p>\n",
       "</div>"
      ],
      "text/plain": [
       "sample           sample  ARHGEF10L   HIF3A   RNF17    RNF10    RNF11    RNF13  \\\n",
       "0       TCGA-2J-AAB1-01     9.7910  8.7310  0.5732  11.9111  10.2312  10.2914   \n",
       "1       TCGA-2J-AAB4-01    10.5186  5.9351  0.0000  11.7311  10.7823   9.9883   \n",
       "\n",
       "sample  GTF2IP1    REM1   MTVR2  ...   TULP2   NPY5R   GNGT2  GNGT1   TULP3  \\\n",
       "0       12.5644  5.0099  0.0000  ...  0.0000  0.9823  5.0739    0.0  9.0034   \n",
       "1       12.8189  4.6911  0.5068  ...  1.4241  2.2594  4.9088    0.0  8.6178   \n",
       "\n",
       "sample     PTRF   BCL6B    GSTK1    SELP     SELS  \n",
       "0       12.3950  7.8502  11.9071  7.8982  10.9499  \n",
       "1       12.1204  7.6353  11.6672  7.5143  10.6963  \n",
       "\n",
       "[2 rows x 20531 columns]"
      ]
     },
     "execution_count": 14,
     "metadata": {},
     "output_type": "execute_result"
    }
   ],
   "source": [
    "mrna.head(2)"
   ]
  },
  {
   "attachments": {},
   "cell_type": "markdown",
   "metadata": {
    "id": "V87FJ20YR8pJ"
   },
   "source": [
    "Identify shared patients across all datasets and exclude those not shared\n"
   ]
  },
  {
   "cell_type": "code",
   "execution_count": 15,
   "metadata": {},
   "outputs": [
    {
     "name": "stdout",
     "output_type": "stream",
     "text": [
      "Shape of samples CNV: (177, 24777)\n",
      "Shape of samples RNA Sequence (RNASeq): (177, 20531)\n"
     ]
    }
   ],
   "source": [
    "cnv_common = cnv[cnv['sample'].isin(common_df['sample'])]\n",
    "print (\"Shape of samples CNV:\", cnv_common.shape)\n",
    "\n",
    "mrna_common = mrna[mrna['sample'].isin(common_df['sample'])]\n",
    "print (\"Shape of samples RNA Sequence (RNASeq):\", mrna_common.shape)"
   ]
  },
  {
   "attachments": {},
   "cell_type": "markdown",
   "metadata": {},
   "source": [
    "Concatenate datasets with class labels\n",
    "\n"
   ]
  },
  {
   "cell_type": "code",
   "execution_count": 16,
   "metadata": {
    "executionInfo": {
     "elapsed": 11,
     "status": "aborted",
     "timestamp": 1670413253501,
     "user": {
      "displayName": "Sabrina Azmi",
      "userId": "03843576326678916867"
     },
     "user_tz": -480
    },
    "id": "MELfdKWoSCEy"
   },
   "outputs": [
    {
     "name": "stdout",
     "output_type": "stream",
     "text": [
      "histological_type: ['Pancreas-Adenocarcinoma-Other Subtype'\n",
      " 'Pancreas-Adenocarcinoma Ductal Type'\n",
      " 'Pancreas-Undifferentiated Carcinoma'\n",
      " 'Pancreas-Colloid (mucinous non-cystic) Carcinoma' '[Discrepancy]']\n",
      "histological_type\n",
      "Pancreas-Adenocarcinoma Ductal Type                 163\n",
      "Pancreas-Adenocarcinoma-Other Subtype                27\n",
      "Pancreas-Colloid (mucinous non-cystic) Carcinoma      4\n",
      "Pancreas-Undifferentiated Carcinoma                   1\n",
      "[Discrepancy]                                         1\n",
      "Name: count, dtype: int64\n"
     ]
    }
   ],
   "source": [
    "dataClass = clinical.histological_type.unique()\n",
    "print(\"histological_type:\", dataClass)\n",
    "print(clinical.histological_type.value_counts())"
   ]
  },
  {
   "cell_type": "code",
   "execution_count": 17,
   "metadata": {},
   "outputs": [],
   "source": [
    "cnv_common.set_index('sample', inplace=True)\n",
    "mrna_common.set_index('sample', inplace=True)"
   ]
  },
  {
   "cell_type": "code",
   "execution_count": 18,
   "metadata": {
    "executionInfo": {
     "elapsed": 12,
     "status": "aborted",
     "timestamp": 1670413253502,
     "user": {
      "displayName": "Sabrina Azmi",
      "userId": "03843576326678916867"
     },
     "user_tz": -480
    },
    "id": "H0zi_0MDS5Su"
   },
   "outputs": [
    {
     "name": "stdout",
     "output_type": "stream",
     "text": [
      "cnv: (177, 24777)\n",
      "RNA Sequence (RNASeq): (177, 20531)\n"
     ]
    }
   ],
   "source": [
    "cnv_common_class = pd.merge(cnv_common, clinical.set_index('sampleID')['histological_type'].to_frame(), how='inner', left_on='sample', right_index=True)\n",
    "print (\"cnv:\", cnv_common_class.shape)\n",
    "\n",
    "mrna_common_class = pd.merge(mrna_common, clinical.set_index('sampleID')['histological_type'].to_frame(), how='inner', left_on='sample', right_index=True)\n",
    "print (\"RNA Sequence (RNASeq):\", mrna_common_class.shape)"
   ]
  },
  {
   "cell_type": "markdown",
   "metadata": {},
   "source": [
    "Examine cancer subtypes and class distributions, then retain only patients with sufficient representation in the class labels"
   ]
  },
  {
   "cell_type": "code",
   "execution_count": 19,
   "metadata": {
    "scrolled": true
   },
   "outputs": [
    {
     "name": "stdout",
     "output_type": "stream",
     "text": [
      "histological_type\n",
      "Pancreas-Adenocarcinoma Ductal Type                 146\n",
      "Pancreas-Adenocarcinoma-Other Subtype                25\n",
      "Pancreas-Colloid (mucinous non-cystic) Carcinoma      4\n",
      "Pancreas-Undifferentiated Carcinoma                   1\n",
      "[Discrepancy]                                         1\n",
      "Name: count, dtype: int64\n",
      "histological_type\n",
      "Pancreas-Adenocarcinoma Ductal Type                 146\n",
      "Pancreas-Adenocarcinoma-Other Subtype                25\n",
      "Pancreas-Colloid (mucinous non-cystic) Carcinoma      4\n",
      "Pancreas-Undifferentiated Carcinoma                   1\n",
      "[Discrepancy]                                         1\n",
      "Name: count, dtype: int64\n"
     ]
    }
   ],
   "source": [
    "print(cnv_common_class.histological_type.value_counts())\n",
    "print(mrna_common_class.histological_type.value_counts())"
   ]
  },
  {
   "cell_type": "code",
   "execution_count": 20,
   "metadata": {
    "executionInfo": {
     "elapsed": 13,
     "status": "aborted",
     "timestamp": 1670413253504,
     "user": {
      "displayName": "Sabrina Azmi",
      "userId": "03843576326678916867"
     },
     "user_tz": -480
    },
    "id": "Yhv9WsPB7vPb"
   },
   "outputs": [
    {
     "name": "stdout",
     "output_type": "stream",
     "text": [
      "cnv: (177, 24777)\n",
      "mrna (177, 20531)\n"
     ]
    }
   ],
   "source": [
    "cnv_common_class.dropna(subset=['histological_type'], inplace = True)\n",
    "print(\"cnv:\", cnv_common_class.shape)\n",
    "\n",
    "mrna_common_class.dropna(subset=['histological_type'], inplace = True)\n",
    "print(\"mrna\", mrna_common_class.shape)"
   ]
  },
  {
   "cell_type": "code",
   "execution_count": 21,
   "metadata": {},
   "outputs": [
    {
     "name": "stdout",
     "output_type": "stream",
     "text": [
      "Copy Number Variation (CNV): (171, 24777)\n",
      "RNA Sequence (RNASeq): (171, 20531)\n"
     ]
    }
   ],
   "source": [
    "# List of subtypes to remove\n",
    "subtypes_to_remove = [\n",
    "    \"[Discrepancy]\", \"Pancreas-Undifferentiated Carcinoma\", \"Pancreas-Colloid (mucinous non-cystic) Carcinoma\"\n",
    "]\n",
    "\n",
    "# Filter them out\n",
    "cnv_common_class = cnv_common_class[~cnv_common_class['histological_type'].isin(subtypes_to_remove)]\n",
    "print(\"Copy Number Variation (CNV):\", cnv_common_class.shape)\n",
    "\n",
    "mrna_common_class = mrna_common_class[~mrna_common_class['histological_type'].isin(subtypes_to_remove)]\n",
    "print(\"RNA Sequence (RNASeq):\", mrna_common_class.shape)"
   ]
  },
  {
   "attachments": {},
   "cell_type": "markdown",
   "metadata": {},
   "source": [
    "Remove features with missing values\n"
   ]
  },
  {
   "cell_type": "code",
   "execution_count": 22,
   "metadata": {},
   "outputs": [
    {
     "name": "stdout",
     "output_type": "stream",
     "text": [
      "Any missing values in cnv?:  False\n",
      "Any missing values in mrna?: False\n"
     ]
    }
   ],
   "source": [
    "print (\"Any missing values in cnv?: \", cnv_common_class.isnull().values.any())\n",
    "print (\"Any missing values in mrna?:\", mrna_common_class.isnull().values.any())"
   ]
  },
  {
   "cell_type": "code",
   "execution_count": 23,
   "metadata": {
    "executionInfo": {
     "elapsed": 13,
     "status": "aborted",
     "timestamp": 1670413253504,
     "user": {
      "displayName": "Sabrina Azmi",
      "userId": "03843576326678916867"
     },
     "user_tz": -480
    },
    "id": "zUrKhGhaUg-q"
   },
   "outputs": [
    {
     "name": "stdout",
     "output_type": "stream",
     "text": [
      "cnv: (171, 24777)\n",
      "mrna (171, 20531)\n"
     ]
    }
   ],
   "source": [
    "cnv_common_class.dropna(axis=1, how='any', inplace = True) \n",
    "mrna_common_class.dropna(axis=1, how='any', inplace = True)\n",
    "\n",
    "print(\"cnv:\", cnv_common_class.shape)\n",
    "print(\"mrna\", mrna_common_class.shape)"
   ]
  },
  {
   "cell_type": "code",
   "execution_count": 24,
   "metadata": {
    "executionInfo": {
     "elapsed": 13,
     "status": "aborted",
     "timestamp": 1670413253504,
     "user": {
      "displayName": "Sabrina Azmi",
      "userId": "03843576326678916867"
     },
     "user_tz": -480
    },
    "id": "Wmn_wos-MAF-"
   },
   "outputs": [
    {
     "name": "stdout",
     "output_type": "stream",
     "text": [
      "Any missing values in cnv?:  False\n",
      "Any missing values in mrna?: False\n"
     ]
    }
   ],
   "source": [
    "print (\"Any missing values in cnv?: \", cnv_common_class.isnull().values.any())\n",
    "print (\"Any missing values in mrna?:\", mrna_common_class.isnull().values.any())"
   ]
  },
  {
   "cell_type": "markdown",
   "metadata": {},
   "source": [
    "Remove zero-variance features"
   ]
  },
  {
   "cell_type": "code",
   "execution_count": 25,
   "metadata": {},
   "outputs": [
    {
     "name": "stdout",
     "output_type": "stream",
     "text": [
      "\n",
      "Processing DataFrame 1...\n",
      "DataFrame 1 has no zero-variance columns.\n",
      "\n",
      "Processing DataFrame 2...\n",
      "DataFrame 2 has 487 zero-variance columns: ['RBMY1A3P', 'OR8J1', 'SNORD115-17', 'SNORD114-31', 'SNORD114-30', 'SNORD115-6', 'PISRT1', 'SNORD115-4', 'SNORD104', 'TECRL', 'KRTAP2-4', 'SNORD115-9', 'OR7G1', 'PRAMEF9', 'SNORD38A', 'OR8U1', 'KRTAP19-2', 'KRTAP19-7', 'KRTAP19-4', 'SNORD114-3', 'RAB9BP1', 'HBII-52-27', 'SNORD11', 'SNORD12', 'SNORD21', 'SNORD20', 'SNORD23', 'SNORD25', 'SNORD127', 'SNORD124', 'TTTY17A', 'SNORD115-5', 'SNORD80', 'TSPY1', 'SNORD56B', 'SNORD78', 'PRAMEF17', 'SNORD113-7', 'HSFX1', 'SNORD96A', 'ADAM3A', 'SNORD119', 'HBII-52-46', 'HBII-52-45', 'SNORD47', 'SNORD4B', 'SNORD4A', 'SNORD116-24', 'SNORD116-25', 'SNORD116-23', 'SNORD116-29', 'RBMY1B', 'RBMY1F', 'GRXCR1', 'DEFB121', 'OR6V1', 'SNORD115-8', 'SNORD67', 'SNORD66', 'HBII-52-28', 'SNORD69', 'SNORD68', 'SNORD38B', 'SNORD113-4', 'SNORD116-26', 'OR5H15', 'OR5H14', 'SNORD115-1', 'SNORD58A', 'SNORD58C', 'OR5B17', 'PRR20A', 'PRR20C', 'PRR20D', 'OR5H1', 'SNORD96B', 'SNORD63', 'SNORD116-22', 'HNRNPCL1', 'SNORD81', 'PLA2G2E', 'KRTAP21-1', 'OR8J3', 'MRGPRG', 'NPVF', 'OR7G3', 'OR9Q2', 'LOC643955', 'PRAMEF3', '?|404770', 'OR5J2', 'SNORD114-20', 'LOC728410', 'SNAR-A3', 'SNORD115-20', 'SNORD115-22', 'SNORD115-25', 'OR4L1', 'SNORD114-29', 'TEX28', 'OR8H1', 'OR8H2', 'OR8H3', 'TRIM64', 'OR6C75', 'OR5L1', 'OR7A10', 'OR7A17', 'NCRNA00157', 'DEFB134', 'DEFB135', 'DEFB130', 'SNORD29', 'KRTAP10-7', 'S100A7L2', 'OR7C2', 'LOC653545', 'OR5K4', 'PPIAL4B', 'OR6C3', 'KRTAP15-1', 'GSC2', 'SNORD16', 'KRTAP19-5', 'SNORD36A', 'LEUTX', 'SNORD91B', 'LOC255025', 'RBMY1J', 'SNORD87', 'SNORD86', 'OR4C11', 'OR4C13', 'OR4C12', 'DEFB116', 'DEFB114', 'DEFB115', 'DEFB112', 'DEFB113', 'OR8D2', 'RBMY1E', 'SNORD91A', 'LOC339568', 'SNORD88B', 'SNORD50B', 'SNORD65', 'KRTAP22-1', 'SNORD61', 'SNORD115-35', 'SNORD114-10', 'KRTAP13-1', 'C9orf27', 'SNORD114-6', 'SNORD114-5', 'OR8B4', 'FAM27L', 'OR13C8', 'FAM41AY1', 'OR6C6', 'SNORD12C', 'SNORD123', 'SNORD126', 'SNORD125', 'OR1S1', 'OR1S2', 'DEFB108B', 'OR4D9', 'OR4D2', 'OR5T3', 'OR5T1', 'KRTAP23-1', 'SNORD48', 'SNORD114-9', 'SNORD46', 'SNORD115-2', 'SNORD115-3', 'SNORD27', 'SNORD105', 'DEFB106A', 'RBMY2EP', 'SNORD35A', 'SNORD35B', 'OR5AR1', 'RBMY3AP', 'TMEM225', 'OR6K2', 'OR4A15', 'LOC100169752', 'TTTY22', 'SNORD24', 'POTEA', 'SNORD28', 'OR52E4', 'OR52E8', 'TRIM77', 'KRTAP25-1', 'DEFB104A', 'OR5F1', 'OR4S2', 'OR5AC2', 'SNORD49A', 'C11orf40', 'SNORD102', 'SNORD115-14', 'LCE4A', 'KRTAP12-3', 'OR5M9', 'OR5M3', 'BSPH1', 'SNORD115-16', 'POM121L12', 'TAAR9', 'SNORD30', 'SNORD31', 'SNORD115-10', 'SNORD18B', 'OR51L1', '?|728045', 'OR4K15', 'OR4A5', 'SNORD26', 'SNORD114-7', 'SNORD45C', 'SNORD111B', 'SNORD18A', 'TTTY5', 'KRTAP9-9', 'TTTY20', 'CT47A7', 'CT47A6', 'CT47A2', 'CT47A1', 'CT47A9', 'SNORD109B', 'OR10K2', 'SNORD45B', 'TTTY23', 'SNORD45A', 'OR5D13', 'KRTAP6-2', 'OR5D14', 'SNORD114-22', 'SNORD114-23', 'SNORD114-26', 'SNORD114-27', 'SNORD114-24', 'SNORD114-25', 'SNORD114-28', 'SNORD115-41', 'SNORD115-40', 'P2RX6P', 'MBD3L2', 'SNORD1A', 'SNORD1B', 'SNORD19', 'SNORD115-37', 'OR4C16', 'OR52M1', 'OR4K5', 'OR4K1', 'SNORD44', 'SNORD34', 'SNORD121B', 'SNORD121A', 'OR10AG1', 'SNAR-F', 'SNAR-E', 'SNAR-H', 'SUN5', 'SNORD51', 'SNORD115-44', 'SNORD36C', 'SNORD115-48', 'SNORD11B', 'SNORD49B', 'OR4C15', 'SNORD116-19', 'SNORA35', 'SNORD116-11', 'DEFB110', 'GLYCAM1', 'SNORD59B', 'SNORD59A', 'SNORD116-27', 'OR5W2', 'SNORD114-21', 'TMEM30C', 'SNORD114-11', 'SNORD72', 'SNORD74', 'SNORD75', 'SNORD79', 'SNORD114-4', 'OR9K2', 'OR8K1', 'OR8K5', 'OR2T29', 'OR2T27', 'SPAG11A', 'CDY1', 'SSX7', 'KRTAP9-2', 'RNU5E', 'SNORD88C', 'RNY5', 'RNY4', 'SNORD114-16', 'OR5I1', 'SNORD52', 'SNORD53', 'SNORD115-11', 'SNORD113-9', 'SNORD113-5', 'SNORD113-6', 'SNORD113-1', 'SNORD113-2', 'SNORD114-14', 'OR10X1', 'SNORD116-18', 'KRTAP20-3', 'SNORD98', 'SNORD99', 'SNORD93', 'KRTAP20-1', 'OR8I2', 'CSPG4PY2', 'SNORD116-12', 'NMS', 'SNORD73A', 'OR5K3', 'SNORD115-32', 'SNORD115-39', 'SNAR-D', 'SNORA30', 'OR4C3', 'OR10Z1', 'DEFB129', 'DEFB127', 'DEFB123', 'DEFB122', 'OR8G2', '?|442388', 'OR4K17', 'OR4K13', 'OR52E2', 'MS4A13', 'FTLP10', 'SNORD116-10', 'SNORD116-13', 'VENTXP1', 'SNORD116-15', 'SNORD116-14', 'SNORD116-16', 'OR5M8', 'XKRY', 'SNORD95', 'SNORD90', 'SNORD114-18', 'SNORD92', 'TSSK2', 'SNORA70C', 'SNORD114-15', 'KRTAP10-8', 'KRTAP10-5', 'SNORD19B', 'LOC729121', 'MRGPRX1', 'SNORD70', 'SNORD76', '?|317712', 'SNORD77', 'HBII-52-24', 'SNAR-A13', 'SNORD60', 'TXNDC8', 'TTTY3B', 'SCARNA14', 'KRTAP13-4', 'KRTAP13-3', 'SNORA11C', 'OR52A1', 'OR52A5', 'OR52A4', 'SNORD105B', 'PRM3', 'TTTY17B', 'SNORD6', 'SNORD7', 'SNORD5', 'SNORD2', 'SNORD9', 'SNAR-G1', 'SNORD33', 'VTRNA1-2', 'OR5A2', 'SNAR-G2', 'SNORD54', 'FAM24A', 'OR51G1', 'SNORD114-8', 'SNORD55', 'SNORD56', 'SNORD57', 'LCN9', 'OR4X1', 'OR8B8', 'KRTAP27-1', 'PRAMEF13', 'DUX4', 'SNORD50A', 'SNORD117', 'SNORD110', 'SNORD111', 'SNAR-A2', 'SNAR-A4', 'OR2T6', 'TTTY12', 'OR2T1', 'SNORD8', 'OR5AS1', 'SNORD32A', 'SNORD43', 'FKSG73', 'SNORD114-12', 'TSPY4', 'SNORD71', 'PRR20B', 'SNAR-C2', 'DEFB107A', 'OR1D2', 'VN1R4', 'SNORD88A', '?|280660', 'SPANXN2', 'SNORD36B', 'SNAR-I', 'VTRNA1-3', 'VTRNA1-1', 'SNORD41', 'SNORD62A', 'DEFB105A', 'LCE3B', 'LCE3C', 'SNORD116-5', 'SNORD103A', 'OR56A1', 'OR4F15', 'OR4C45', 'OR8B12', 'SNORD42B', 'OR6C74', 'IFNA16', 'SNORD42A', 'SNORD37', 'SNORD114-1', 'OR14C36', 'TTTY13', 'TTTY19', 'LOC283914', 'SNORD115-33', 'OR10H4', 'SNORD115-30', 'SNORD115-31', 'OR2W1', 'KRTAP9-4', 'SNORD114-2', 'KRTAP20-2', 'SNORD115-38', 'SNORD18C', 'SNORD12B', 'LOC100287704', 'OR4C46', 'SNORD114-19', 'SNORD114-13', 'SNORD114-17', 'CT47A11', 'CT47A10', 'OR4P4', 'SNORD116-8', 'SNORD116-1', 'SNORD116-3', 'SNORD116-2', 'SNORD85', 'SNORD84', 'SNORD82', 'OR51V1', 'SNORD32B']\n",
      "DataFrame 2 updated shape: (171, 20044)\n",
      "\n",
      "----Updated Shapes of DataFrames----\n",
      "DataFrame 1: (171, 24777)\n",
      "DataFrame 2: (171, 20044)\n"
     ]
    }
   ],
   "source": [
    "dataframes = [cnv_common_class, mrna_common_class]\n",
    "\n",
    "# Iterate over each dataframe and check for zero-variance columns\n",
    "for i, df in enumerate(dataframes):\n",
    "    print(f\"\\nProcessing DataFrame {i+1}...\")  # Debugging output\n",
    "    \n",
    "    # Exclude the last column (assuming it's the class column)\n",
    "    feature_columns = df.iloc[:, :-1]\n",
    "    \n",
    "    # Find columns with zero variance\n",
    "    zero_var_cols = feature_columns.columns[feature_columns.nunique() <= 1]\n",
    "    \n",
    "    if len(zero_var_cols) > 0:\n",
    "        print(f\"DataFrame {i+1} has {len(zero_var_cols)} zero-variance columns: {list(zero_var_cols)}\")\n",
    "        \n",
    "        # Drop zero-variance columns and reassign to the dataframes list\n",
    "        dataframes[i] = df.drop(columns=zero_var_cols)\n",
    "        \n",
    "        # Debugging output: Check new shape of the dataframe\n",
    "        print(f\"DataFrame {i+1} updated shape: {dataframes[i].shape}\")\n",
    "    else:\n",
    "        print(f\"DataFrame {i+1} has no zero-variance columns.\")\n",
    "\n",
    "# Verify updated shapes\n",
    "print(\"\\n----Updated Shapes of DataFrames----\")\n",
    "for i, df in enumerate(dataframes):\n",
    "    print(f\"DataFrame {i+1}: {df.shape}\")"
   ]
  },
  {
   "attachments": {},
   "cell_type": "markdown",
   "metadata": {},
   "source": [
    "Eliminate redundant information\n"
   ]
  },
  {
   "cell_type": "code",
   "execution_count": 26,
   "metadata": {},
   "outputs": [
    {
     "name": "stdout",
     "output_type": "stream",
     "text": [
      "----Omics dataset----\n",
      "cnv: (171, 24777)\n",
      "mrna (171, 20044)\n",
      "----Class distribution----\n",
      "histological_type\n",
      "Pancreas-Adenocarcinoma Ductal Type      146\n",
      "Pancreas-Adenocarcinoma-Other Subtype     25\n",
      "Name: count, dtype: int64\n"
     ]
    }
   ],
   "source": [
    "# Remove duplicates from each dataset\n",
    "omics_datasets = [df.drop_duplicates() for df in dataframes]\n",
    "\n",
    "# Unpack the updated datasets back into variables\n",
    "cnv_common_class, mrna_common_class = omics_datasets\n",
    "\n",
    "print (\"----Omics dataset----\")\n",
    "print(\"cnv:\", cnv_common_class.shape)\n",
    "print(\"mrna\", mrna_common_class.shape)\n",
    "\n",
    "print (\"----Class distribution----\")\n",
    "print(cnv_common_class.histological_type.value_counts())"
   ]
  },
  {
   "cell_type": "markdown",
   "metadata": {},
   "source": [
    "Data standardization "
   ]
  },
  {
   "cell_type": "code",
   "execution_count": 27,
   "metadata": {},
   "outputs": [],
   "source": [
    "datapath_out = \"/Users/sabye/Downloads/wgRFECV-BIN/Result/\""
   ]
  },
  {
   "cell_type": "code",
   "execution_count": 28,
   "metadata": {},
   "outputs": [
    {
     "name": "stdout",
     "output_type": "stream",
     "text": [
      "Processing dataset: cnv\n",
      "Standardized data for cnv saved successfully at /Users/sabye/Downloads/wgRFECV-BIN/Result/Preprocessed_PAAD_cnv.csv\n",
      "Processing dataset: mrna\n",
      "Standardized data for mrna saved successfully at /Users/sabye/Downloads/wgRFECV-BIN/Result/Preprocessed_PAAD_mrna.csv\n"
     ]
    }
   ],
   "source": [
    "os.makedirs(datapath, exist_ok=True)\n",
    "\n",
    "# Dictionary of datasets with descriptive keys\n",
    "dataframes = {\n",
    "    \"cnv\": cnv_common_class,\n",
    "    \"mrna\": mrna_common_class\n",
    "}\n",
    "\n",
    "# Initialize the StandardScaler\n",
    "scaler = StandardScaler()\n",
    "\n",
    "# Process each dataset and save the preprocessed file\n",
    "for key, df in dataframes.items():\n",
    "    print(f\"Processing dataset: {key}\")\n",
    "    \n",
    "    # Separate features and class\n",
    "    features = df.iloc[:, :-1]\n",
    "    classes = df.iloc[:, -1]\n",
    "    \n",
    "    # Standardize the features\n",
    "    standardized_features = scaler.fit_transform(features)\n",
    "    \n",
    "    # Recreate the DataFrame\n",
    "    standardized_df = pd.DataFrame(standardized_features, columns=features.columns, index=df.index)\n",
    "    standardized_df['hys'] = classes\n",
    "    \n",
    "    # Save the standardized DataFrame to CSV\n",
    "    output_path = os.path.join(datapath_out, f\"Preprocessed_PAAD_{key}.csv\")\n",
    "    standardized_df.to_csv(output_path, index=True)\n",
    "    print(f\"Standardized data for {key} saved successfully at {output_path}\")\n",
    "    \n",
    "    # Clean up variables to free up memory\n",
    "    del features, classes, standardized_features, standardized_df\n"
   ]
  }
 ],
 "metadata": {
  "colab": {
   "collapsed_sections": [
    "tzdgLOvvTHO_"
   ],
   "provenance": []
  },
  "kernelspec": {
   "display_name": "Python [conda env:base] *",
   "language": "python",
   "name": "conda-base-py"
  },
  "language_info": {
   "codemirror_mode": {
    "name": "ipython",
    "version": 3
   },
   "file_extension": ".py",
   "mimetype": "text/x-python",
   "name": "python",
   "nbconvert_exporter": "python",
   "pygments_lexer": "ipython3",
   "version": "3.11.7"
  }
 },
 "nbformat": 4,
 "nbformat_minor": 4
}

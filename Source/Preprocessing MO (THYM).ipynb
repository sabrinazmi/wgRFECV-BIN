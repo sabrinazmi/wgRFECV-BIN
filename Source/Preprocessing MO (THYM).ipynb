{
 "cells": [
  {
   "cell_type": "markdown",
   "metadata": {},
   "source": [
    "Import libraries"
   ]
  },
  {
   "cell_type": "code",
   "execution_count": 28,
   "metadata": {
    "executionInfo": {
     "elapsed": 1925,
     "status": "ok",
     "timestamp": 1670413232894,
     "user": {
      "displayName": "Sabrina Azmi",
      "userId": "03843576326678916867"
     },
     "user_tz": -480
    },
    "id": "xUCTLkPjbLpz"
   },
   "outputs": [],
   "source": [
    "import numpy as np\n",
    "import pandas as pd\n",
    "import os\n",
    "from sklearn.preprocessing import StandardScaler"
   ]
  },
  {
   "attachments": {},
   "cell_type": "markdown",
   "metadata": {},
   "source": [
    "Import the data into the Python environment from CSV files\n"
   ]
  },
  {
   "cell_type": "markdown",
   "metadata": {},
   "source": [
    "Rename data file after unzip downloaded files"
   ]
  },
  {
   "cell_type": "code",
   "execution_count": 29,
   "metadata": {},
   "outputs": [
    {
     "name": "stdout",
     "output_type": "stream",
     "text": [
      "cnv: (24776, 124)\n",
      "mrna: (20530, 123)\n",
      "clinical: (126, 74)\n"
     ]
    }
   ],
   "source": [
    "# Load dataset\n",
    "datapath = \"/Users/sabye/Downloads/wgRFECV-BIN/Data/\"\n",
    "\n",
    "cnv = pd.read_csv(datapath+\"THYM_cnv\", sep='\\t', comment='#')\n",
    "print(\"cnv:\", cnv.shape)\n",
    "mrna = pd.read_csv(datapath+\"THYM_mrna\", sep='\\t', comment='#')\n",
    "print(\"mrna:\", mrna.shape)\n",
    "clinical = pd.read_csv(datapath+\"THYM_clinical\", sep='\\t', comment='#')\n",
    "print(\"clinical:\", clinical.shape)"
   ]
  },
  {
   "cell_type": "code",
   "execution_count": 30,
   "metadata": {},
   "outputs": [
    {
     "data": {
      "text/html": [
       "<div>\n",
       "<style scoped>\n",
       "    .dataframe tbody tr th:only-of-type {\n",
       "        vertical-align: middle;\n",
       "    }\n",
       "\n",
       "    .dataframe tbody tr th {\n",
       "        vertical-align: top;\n",
       "    }\n",
       "\n",
       "    .dataframe thead th {\n",
       "        text-align: right;\n",
       "    }\n",
       "</style>\n",
       "<table border=\"1\" class=\"dataframe\">\n",
       "  <thead>\n",
       "    <tr style=\"text-align: right;\">\n",
       "      <th></th>\n",
       "      <th>Gene Symbol</th>\n",
       "      <th>TCGA-3G-AB0O-01</th>\n",
       "      <th>TCGA-3G-AB0Q-01</th>\n",
       "      <th>TCGA-3G-AB0T-01</th>\n",
       "      <th>TCGA-3G-AB14-01</th>\n",
       "      <th>TCGA-3G-AB19-01</th>\n",
       "      <th>TCGA-3Q-A9WF-01</th>\n",
       "      <th>TCGA-3S-A8YW-01</th>\n",
       "      <th>TCGA-3S-AAYX-01</th>\n",
       "      <th>TCGA-3T-AA9L-01</th>\n",
       "      <th>...</th>\n",
       "      <th>TCGA-ZB-A96P-01</th>\n",
       "      <th>TCGA-ZB-A96Q-01</th>\n",
       "      <th>TCGA-ZB-A96R-01</th>\n",
       "      <th>TCGA-ZB-A96V-01</th>\n",
       "      <th>TCGA-ZC-AAA7-01</th>\n",
       "      <th>TCGA-ZC-AAAA-01</th>\n",
       "      <th>TCGA-ZC-AAAF-01</th>\n",
       "      <th>TCGA-ZC-AAAH-01</th>\n",
       "      <th>TCGA-ZL-A9V6-01</th>\n",
       "      <th>TCGA-ZT-A8OM-01</th>\n",
       "    </tr>\n",
       "  </thead>\n",
       "  <tbody>\n",
       "    <tr>\n",
       "      <th>0</th>\n",
       "      <td>ACAP3</td>\n",
       "      <td>0.006</td>\n",
       "      <td>-0.026</td>\n",
       "      <td>0.144</td>\n",
       "      <td>-0.014</td>\n",
       "      <td>0.009</td>\n",
       "      <td>-0.004</td>\n",
       "      <td>-0.532</td>\n",
       "      <td>-0.01</td>\n",
       "      <td>0.012</td>\n",
       "      <td>...</td>\n",
       "      <td>-0.019</td>\n",
       "      <td>-0.005</td>\n",
       "      <td>0.0</td>\n",
       "      <td>0.002</td>\n",
       "      <td>-0.008</td>\n",
       "      <td>0.001</td>\n",
       "      <td>-0.001</td>\n",
       "      <td>0.035</td>\n",
       "      <td>-0.005</td>\n",
       "      <td>-0.001</td>\n",
       "    </tr>\n",
       "    <tr>\n",
       "      <th>1</th>\n",
       "      <td>ACTRT2</td>\n",
       "      <td>0.006</td>\n",
       "      <td>-0.026</td>\n",
       "      <td>0.144</td>\n",
       "      <td>-0.014</td>\n",
       "      <td>0.009</td>\n",
       "      <td>-0.004</td>\n",
       "      <td>-0.532</td>\n",
       "      <td>-0.01</td>\n",
       "      <td>0.012</td>\n",
       "      <td>...</td>\n",
       "      <td>-0.019</td>\n",
       "      <td>-0.005</td>\n",
       "      <td>0.0</td>\n",
       "      <td>0.002</td>\n",
       "      <td>-0.008</td>\n",
       "      <td>0.001</td>\n",
       "      <td>-0.001</td>\n",
       "      <td>0.035</td>\n",
       "      <td>-0.005</td>\n",
       "      <td>-0.001</td>\n",
       "    </tr>\n",
       "  </tbody>\n",
       "</table>\n",
       "<p>2 rows × 124 columns</p>\n",
       "</div>"
      ],
      "text/plain": [
       "  Gene Symbol  TCGA-3G-AB0O-01  TCGA-3G-AB0Q-01  TCGA-3G-AB0T-01  \\\n",
       "0       ACAP3            0.006           -0.026            0.144   \n",
       "1      ACTRT2            0.006           -0.026            0.144   \n",
       "\n",
       "   TCGA-3G-AB14-01  TCGA-3G-AB19-01  TCGA-3Q-A9WF-01  TCGA-3S-A8YW-01  \\\n",
       "0           -0.014            0.009           -0.004           -0.532   \n",
       "1           -0.014            0.009           -0.004           -0.532   \n",
       "\n",
       "   TCGA-3S-AAYX-01  TCGA-3T-AA9L-01  ...  TCGA-ZB-A96P-01  TCGA-ZB-A96Q-01  \\\n",
       "0            -0.01            0.012  ...           -0.019           -0.005   \n",
       "1            -0.01            0.012  ...           -0.019           -0.005   \n",
       "\n",
       "   TCGA-ZB-A96R-01  TCGA-ZB-A96V-01  TCGA-ZC-AAA7-01  TCGA-ZC-AAAA-01  \\\n",
       "0              0.0            0.002           -0.008            0.001   \n",
       "1              0.0            0.002           -0.008            0.001   \n",
       "\n",
       "   TCGA-ZC-AAAF-01  TCGA-ZC-AAAH-01  TCGA-ZL-A9V6-01  TCGA-ZT-A8OM-01  \n",
       "0           -0.001            0.035           -0.005           -0.001  \n",
       "1           -0.001            0.035           -0.005           -0.001  \n",
       "\n",
       "[2 rows x 124 columns]"
      ]
     },
     "execution_count": 30,
     "metadata": {},
     "output_type": "execute_result"
    }
   ],
   "source": [
    "cnv.head(2)"
   ]
  },
  {
   "cell_type": "code",
   "execution_count": 31,
   "metadata": {},
   "outputs": [
    {
     "data": {
      "text/html": [
       "<div>\n",
       "<style scoped>\n",
       "    .dataframe tbody tr th:only-of-type {\n",
       "        vertical-align: middle;\n",
       "    }\n",
       "\n",
       "    .dataframe tbody tr th {\n",
       "        vertical-align: top;\n",
       "    }\n",
       "\n",
       "    .dataframe thead th {\n",
       "        text-align: right;\n",
       "    }\n",
       "</style>\n",
       "<table border=\"1\" class=\"dataframe\">\n",
       "  <thead>\n",
       "    <tr style=\"text-align: right;\">\n",
       "      <th></th>\n",
       "      <th>sample</th>\n",
       "      <th>TCGA-ZB-A96P-01</th>\n",
       "      <th>TCGA-X7-A8M4-01</th>\n",
       "      <th>TCGA-4V-A9QI-01</th>\n",
       "      <th>TCGA-4V-A9QL-01</th>\n",
       "      <th>TCGA-X7-A8DE-01</th>\n",
       "      <th>TCGA-ZB-A963-01</th>\n",
       "      <th>TCGA-3T-AA9L-01</th>\n",
       "      <th>TCGA-4V-A9QW-01</th>\n",
       "      <th>TCGA-YT-A95E-01</th>\n",
       "      <th>...</th>\n",
       "      <th>TCGA-XU-A936-01</th>\n",
       "      <th>TCGA-4V-A9QX-01</th>\n",
       "      <th>TCGA-ZB-A96R-01</th>\n",
       "      <th>TCGA-XM-A8RF-01</th>\n",
       "      <th>TCGA-XU-A92X-01</th>\n",
       "      <th>TCGA-XU-A92Z-01</th>\n",
       "      <th>TCGA-X7-A8D8-01</th>\n",
       "      <th>TCGA-XU-A92O-01</th>\n",
       "      <th>TCGA-X7-A8M8-01</th>\n",
       "      <th>TCGA-3G-AB14-01</th>\n",
       "    </tr>\n",
       "  </thead>\n",
       "  <tbody>\n",
       "    <tr>\n",
       "      <th>0</th>\n",
       "      <td>ARHGEF10L</td>\n",
       "      <td>5.9112</td>\n",
       "      <td>7.1534</td>\n",
       "      <td>7.2058</td>\n",
       "      <td>7.9149</td>\n",
       "      <td>7.2974</td>\n",
       "      <td>8.5239</td>\n",
       "      <td>5.1763</td>\n",
       "      <td>7.0397</td>\n",
       "      <td>6.9305</td>\n",
       "      <td>...</td>\n",
       "      <td>9.4304</td>\n",
       "      <td>7.7330</td>\n",
       "      <td>6.6605</td>\n",
       "      <td>7.7890</td>\n",
       "      <td>9.3090</td>\n",
       "      <td>8.1344</td>\n",
       "      <td>8.2520</td>\n",
       "      <td>7.1141</td>\n",
       "      <td>6.5183</td>\n",
       "      <td>9.1209</td>\n",
       "    </tr>\n",
       "    <tr>\n",
       "      <th>1</th>\n",
       "      <td>HIF3A</td>\n",
       "      <td>2.6279</td>\n",
       "      <td>6.5434</td>\n",
       "      <td>7.5815</td>\n",
       "      <td>6.9778</td>\n",
       "      <td>5.1001</td>\n",
       "      <td>4.0366</td>\n",
       "      <td>4.4036</td>\n",
       "      <td>5.5492</td>\n",
       "      <td>4.7640</td>\n",
       "      <td>...</td>\n",
       "      <td>8.2541</td>\n",
       "      <td>4.5728</td>\n",
       "      <td>2.5159</td>\n",
       "      <td>5.5568</td>\n",
       "      <td>5.1962</td>\n",
       "      <td>1.1869</td>\n",
       "      <td>6.7037</td>\n",
       "      <td>5.1845</td>\n",
       "      <td>5.7662</td>\n",
       "      <td>8.6198</td>\n",
       "    </tr>\n",
       "  </tbody>\n",
       "</table>\n",
       "<p>2 rows × 123 columns</p>\n",
       "</div>"
      ],
      "text/plain": [
       "      sample  TCGA-ZB-A96P-01  TCGA-X7-A8M4-01  TCGA-4V-A9QI-01  \\\n",
       "0  ARHGEF10L           5.9112           7.1534           7.2058   \n",
       "1      HIF3A           2.6279           6.5434           7.5815   \n",
       "\n",
       "   TCGA-4V-A9QL-01  TCGA-X7-A8DE-01  TCGA-ZB-A963-01  TCGA-3T-AA9L-01  \\\n",
       "0           7.9149           7.2974           8.5239           5.1763   \n",
       "1           6.9778           5.1001           4.0366           4.4036   \n",
       "\n",
       "   TCGA-4V-A9QW-01  TCGA-YT-A95E-01  ...  TCGA-XU-A936-01  TCGA-4V-A9QX-01  \\\n",
       "0           7.0397           6.9305  ...           9.4304           7.7330   \n",
       "1           5.5492           4.7640  ...           8.2541           4.5728   \n",
       "\n",
       "   TCGA-ZB-A96R-01  TCGA-XM-A8RF-01  TCGA-XU-A92X-01  TCGA-XU-A92Z-01  \\\n",
       "0           6.6605           7.7890           9.3090           8.1344   \n",
       "1           2.5159           5.5568           5.1962           1.1869   \n",
       "\n",
       "   TCGA-X7-A8D8-01  TCGA-XU-A92O-01  TCGA-X7-A8M8-01  TCGA-3G-AB14-01  \n",
       "0           8.2520           7.1141           6.5183           9.1209  \n",
       "1           6.7037           5.1845           5.7662           8.6198  \n",
       "\n",
       "[2 rows x 123 columns]"
      ]
     },
     "execution_count": 31,
     "metadata": {},
     "output_type": "execute_result"
    }
   ],
   "source": [
    "mrna.head(2)"
   ]
  },
  {
   "cell_type": "code",
   "execution_count": 32,
   "metadata": {},
   "outputs": [],
   "source": [
    "cnv = cnv.set_index('Gene Symbol') \n",
    "mrna = mrna.set_index('sample')  "
   ]
  },
  {
   "cell_type": "code",
   "execution_count": 33,
   "metadata": {},
   "outputs": [
    {
     "data": {
      "text/html": [
       "<div>\n",
       "<style scoped>\n",
       "    .dataframe tbody tr th:only-of-type {\n",
       "        vertical-align: middle;\n",
       "    }\n",
       "\n",
       "    .dataframe tbody tr th {\n",
       "        vertical-align: top;\n",
       "    }\n",
       "\n",
       "    .dataframe thead th {\n",
       "        text-align: right;\n",
       "    }\n",
       "</style>\n",
       "<table border=\"1\" class=\"dataframe\">\n",
       "  <thead>\n",
       "    <tr style=\"text-align: right;\">\n",
       "      <th></th>\n",
       "      <th>TCGA-3G-AB0O-01</th>\n",
       "      <th>TCGA-3G-AB0Q-01</th>\n",
       "      <th>TCGA-3G-AB0T-01</th>\n",
       "      <th>TCGA-3G-AB14-01</th>\n",
       "      <th>TCGA-3G-AB19-01</th>\n",
       "      <th>TCGA-3Q-A9WF-01</th>\n",
       "      <th>TCGA-3S-A8YW-01</th>\n",
       "      <th>TCGA-3S-AAYX-01</th>\n",
       "      <th>TCGA-3T-AA9L-01</th>\n",
       "      <th>TCGA-4V-A9QI-01</th>\n",
       "      <th>...</th>\n",
       "      <th>TCGA-ZB-A96P-01</th>\n",
       "      <th>TCGA-ZB-A96Q-01</th>\n",
       "      <th>TCGA-ZB-A96R-01</th>\n",
       "      <th>TCGA-ZB-A96V-01</th>\n",
       "      <th>TCGA-ZC-AAA7-01</th>\n",
       "      <th>TCGA-ZC-AAAA-01</th>\n",
       "      <th>TCGA-ZC-AAAF-01</th>\n",
       "      <th>TCGA-ZC-AAAH-01</th>\n",
       "      <th>TCGA-ZL-A9V6-01</th>\n",
       "      <th>TCGA-ZT-A8OM-01</th>\n",
       "    </tr>\n",
       "    <tr>\n",
       "      <th>Gene Symbol</th>\n",
       "      <th></th>\n",
       "      <th></th>\n",
       "      <th></th>\n",
       "      <th></th>\n",
       "      <th></th>\n",
       "      <th></th>\n",
       "      <th></th>\n",
       "      <th></th>\n",
       "      <th></th>\n",
       "      <th></th>\n",
       "      <th></th>\n",
       "      <th></th>\n",
       "      <th></th>\n",
       "      <th></th>\n",
       "      <th></th>\n",
       "      <th></th>\n",
       "      <th></th>\n",
       "      <th></th>\n",
       "      <th></th>\n",
       "      <th></th>\n",
       "      <th></th>\n",
       "    </tr>\n",
       "  </thead>\n",
       "  <tbody>\n",
       "    <tr>\n",
       "      <th>ACAP3</th>\n",
       "      <td>0.006</td>\n",
       "      <td>-0.026</td>\n",
       "      <td>0.144</td>\n",
       "      <td>-0.014</td>\n",
       "      <td>0.009</td>\n",
       "      <td>-0.004</td>\n",
       "      <td>-0.532</td>\n",
       "      <td>-0.01</td>\n",
       "      <td>0.012</td>\n",
       "      <td>0.052</td>\n",
       "      <td>...</td>\n",
       "      <td>-0.019</td>\n",
       "      <td>-0.005</td>\n",
       "      <td>0.0</td>\n",
       "      <td>0.002</td>\n",
       "      <td>-0.008</td>\n",
       "      <td>0.001</td>\n",
       "      <td>-0.001</td>\n",
       "      <td>0.035</td>\n",
       "      <td>-0.005</td>\n",
       "      <td>-0.001</td>\n",
       "    </tr>\n",
       "    <tr>\n",
       "      <th>ACTRT2</th>\n",
       "      <td>0.006</td>\n",
       "      <td>-0.026</td>\n",
       "      <td>0.144</td>\n",
       "      <td>-0.014</td>\n",
       "      <td>0.009</td>\n",
       "      <td>-0.004</td>\n",
       "      <td>-0.532</td>\n",
       "      <td>-0.01</td>\n",
       "      <td>0.012</td>\n",
       "      <td>0.052</td>\n",
       "      <td>...</td>\n",
       "      <td>-0.019</td>\n",
       "      <td>-0.005</td>\n",
       "      <td>0.0</td>\n",
       "      <td>0.002</td>\n",
       "      <td>-0.008</td>\n",
       "      <td>0.001</td>\n",
       "      <td>-0.001</td>\n",
       "      <td>0.035</td>\n",
       "      <td>-0.005</td>\n",
       "      <td>-0.001</td>\n",
       "    </tr>\n",
       "  </tbody>\n",
       "</table>\n",
       "<p>2 rows × 123 columns</p>\n",
       "</div>"
      ],
      "text/plain": [
       "             TCGA-3G-AB0O-01  TCGA-3G-AB0Q-01  TCGA-3G-AB0T-01  \\\n",
       "Gene Symbol                                                      \n",
       "ACAP3                  0.006           -0.026            0.144   \n",
       "ACTRT2                 0.006           -0.026            0.144   \n",
       "\n",
       "             TCGA-3G-AB14-01  TCGA-3G-AB19-01  TCGA-3Q-A9WF-01  \\\n",
       "Gene Symbol                                                      \n",
       "ACAP3                 -0.014            0.009           -0.004   \n",
       "ACTRT2                -0.014            0.009           -0.004   \n",
       "\n",
       "             TCGA-3S-A8YW-01  TCGA-3S-AAYX-01  TCGA-3T-AA9L-01  \\\n",
       "Gene Symbol                                                      \n",
       "ACAP3                 -0.532            -0.01            0.012   \n",
       "ACTRT2                -0.532            -0.01            0.012   \n",
       "\n",
       "             TCGA-4V-A9QI-01  ...  TCGA-ZB-A96P-01  TCGA-ZB-A96Q-01  \\\n",
       "Gene Symbol                   ...                                     \n",
       "ACAP3                  0.052  ...           -0.019           -0.005   \n",
       "ACTRT2                 0.052  ...           -0.019           -0.005   \n",
       "\n",
       "             TCGA-ZB-A96R-01  TCGA-ZB-A96V-01  TCGA-ZC-AAA7-01  \\\n",
       "Gene Symbol                                                      \n",
       "ACAP3                    0.0            0.002           -0.008   \n",
       "ACTRT2                   0.0            0.002           -0.008   \n",
       "\n",
       "             TCGA-ZC-AAAA-01  TCGA-ZC-AAAF-01  TCGA-ZC-AAAH-01  \\\n",
       "Gene Symbol                                                      \n",
       "ACAP3                  0.001           -0.001            0.035   \n",
       "ACTRT2                 0.001           -0.001            0.035   \n",
       "\n",
       "             TCGA-ZL-A9V6-01  TCGA-ZT-A8OM-01  \n",
       "Gene Symbol                                    \n",
       "ACAP3                 -0.005           -0.001  \n",
       "ACTRT2                -0.005           -0.001  \n",
       "\n",
       "[2 rows x 123 columns]"
      ]
     },
     "execution_count": 33,
     "metadata": {},
     "output_type": "execute_result"
    }
   ],
   "source": [
    "cnv.head(2)"
   ]
  },
  {
   "cell_type": "code",
   "execution_count": 34,
   "metadata": {},
   "outputs": [
    {
     "data": {
      "text/html": [
       "<div>\n",
       "<style scoped>\n",
       "    .dataframe tbody tr th:only-of-type {\n",
       "        vertical-align: middle;\n",
       "    }\n",
       "\n",
       "    .dataframe tbody tr th {\n",
       "        vertical-align: top;\n",
       "    }\n",
       "\n",
       "    .dataframe thead th {\n",
       "        text-align: right;\n",
       "    }\n",
       "</style>\n",
       "<table border=\"1\" class=\"dataframe\">\n",
       "  <thead>\n",
       "    <tr style=\"text-align: right;\">\n",
       "      <th></th>\n",
       "      <th>TCGA-ZB-A96P-01</th>\n",
       "      <th>TCGA-X7-A8M4-01</th>\n",
       "      <th>TCGA-4V-A9QI-01</th>\n",
       "      <th>TCGA-4V-A9QL-01</th>\n",
       "      <th>TCGA-X7-A8DE-01</th>\n",
       "      <th>TCGA-ZB-A963-01</th>\n",
       "      <th>TCGA-3T-AA9L-01</th>\n",
       "      <th>TCGA-4V-A9QW-01</th>\n",
       "      <th>TCGA-YT-A95E-01</th>\n",
       "      <th>TCGA-X7-A8DF-01</th>\n",
       "      <th>...</th>\n",
       "      <th>TCGA-XU-A936-01</th>\n",
       "      <th>TCGA-4V-A9QX-01</th>\n",
       "      <th>TCGA-ZB-A96R-01</th>\n",
       "      <th>TCGA-XM-A8RF-01</th>\n",
       "      <th>TCGA-XU-A92X-01</th>\n",
       "      <th>TCGA-XU-A92Z-01</th>\n",
       "      <th>TCGA-X7-A8D8-01</th>\n",
       "      <th>TCGA-XU-A92O-01</th>\n",
       "      <th>TCGA-X7-A8M8-01</th>\n",
       "      <th>TCGA-3G-AB14-01</th>\n",
       "    </tr>\n",
       "    <tr>\n",
       "      <th>sample</th>\n",
       "      <th></th>\n",
       "      <th></th>\n",
       "      <th></th>\n",
       "      <th></th>\n",
       "      <th></th>\n",
       "      <th></th>\n",
       "      <th></th>\n",
       "      <th></th>\n",
       "      <th></th>\n",
       "      <th></th>\n",
       "      <th></th>\n",
       "      <th></th>\n",
       "      <th></th>\n",
       "      <th></th>\n",
       "      <th></th>\n",
       "      <th></th>\n",
       "      <th></th>\n",
       "      <th></th>\n",
       "      <th></th>\n",
       "      <th></th>\n",
       "      <th></th>\n",
       "    </tr>\n",
       "  </thead>\n",
       "  <tbody>\n",
       "    <tr>\n",
       "      <th>ARHGEF10L</th>\n",
       "      <td>5.9112</td>\n",
       "      <td>7.1534</td>\n",
       "      <td>7.2058</td>\n",
       "      <td>7.9149</td>\n",
       "      <td>7.2974</td>\n",
       "      <td>8.5239</td>\n",
       "      <td>5.1763</td>\n",
       "      <td>7.0397</td>\n",
       "      <td>6.9305</td>\n",
       "      <td>7.5823</td>\n",
       "      <td>...</td>\n",
       "      <td>9.4304</td>\n",
       "      <td>7.7330</td>\n",
       "      <td>6.6605</td>\n",
       "      <td>7.7890</td>\n",
       "      <td>9.3090</td>\n",
       "      <td>8.1344</td>\n",
       "      <td>8.2520</td>\n",
       "      <td>7.1141</td>\n",
       "      <td>6.5183</td>\n",
       "      <td>9.1209</td>\n",
       "    </tr>\n",
       "    <tr>\n",
       "      <th>HIF3A</th>\n",
       "      <td>2.6279</td>\n",
       "      <td>6.5434</td>\n",
       "      <td>7.5815</td>\n",
       "      <td>6.9778</td>\n",
       "      <td>5.1001</td>\n",
       "      <td>4.0366</td>\n",
       "      <td>4.4036</td>\n",
       "      <td>5.5492</td>\n",
       "      <td>4.7640</td>\n",
       "      <td>4.3894</td>\n",
       "      <td>...</td>\n",
       "      <td>8.2541</td>\n",
       "      <td>4.5728</td>\n",
       "      <td>2.5159</td>\n",
       "      <td>5.5568</td>\n",
       "      <td>5.1962</td>\n",
       "      <td>1.1869</td>\n",
       "      <td>6.7037</td>\n",
       "      <td>5.1845</td>\n",
       "      <td>5.7662</td>\n",
       "      <td>8.6198</td>\n",
       "    </tr>\n",
       "  </tbody>\n",
       "</table>\n",
       "<p>2 rows × 122 columns</p>\n",
       "</div>"
      ],
      "text/plain": [
       "           TCGA-ZB-A96P-01  TCGA-X7-A8M4-01  TCGA-4V-A9QI-01  TCGA-4V-A9QL-01  \\\n",
       "sample                                                                          \n",
       "ARHGEF10L           5.9112           7.1534           7.2058           7.9149   \n",
       "HIF3A               2.6279           6.5434           7.5815           6.9778   \n",
       "\n",
       "           TCGA-X7-A8DE-01  TCGA-ZB-A963-01  TCGA-3T-AA9L-01  TCGA-4V-A9QW-01  \\\n",
       "sample                                                                          \n",
       "ARHGEF10L           7.2974           8.5239           5.1763           7.0397   \n",
       "HIF3A               5.1001           4.0366           4.4036           5.5492   \n",
       "\n",
       "           TCGA-YT-A95E-01  TCGA-X7-A8DF-01  ...  TCGA-XU-A936-01  \\\n",
       "sample                                       ...                    \n",
       "ARHGEF10L           6.9305           7.5823  ...           9.4304   \n",
       "HIF3A               4.7640           4.3894  ...           8.2541   \n",
       "\n",
       "           TCGA-4V-A9QX-01  TCGA-ZB-A96R-01  TCGA-XM-A8RF-01  TCGA-XU-A92X-01  \\\n",
       "sample                                                                          \n",
       "ARHGEF10L           7.7330           6.6605           7.7890           9.3090   \n",
       "HIF3A               4.5728           2.5159           5.5568           5.1962   \n",
       "\n",
       "           TCGA-XU-A92Z-01  TCGA-X7-A8D8-01  TCGA-XU-A92O-01  TCGA-X7-A8M8-01  \\\n",
       "sample                                                                          \n",
       "ARHGEF10L           8.1344           8.2520           7.1141           6.5183   \n",
       "HIF3A               1.1869           6.7037           5.1845           5.7662   \n",
       "\n",
       "           TCGA-3G-AB14-01  \n",
       "sample                      \n",
       "ARHGEF10L           9.1209  \n",
       "HIF3A               8.6198  \n",
       "\n",
       "[2 rows x 122 columns]"
      ]
     },
     "execution_count": 34,
     "metadata": {},
     "output_type": "execute_result"
    }
   ],
   "source": [
    "mrna.head(2)"
   ]
  },
  {
   "cell_type": "markdown",
   "metadata": {},
   "source": [
    "Transpose the data"
   ]
  },
  {
   "cell_type": "code",
   "execution_count": 35,
   "metadata": {},
   "outputs": [
    {
     "name": "stdout",
     "output_type": "stream",
     "text": [
      "cnv: (123, 24776)\n",
      "mrna: (122, 20530)\n"
     ]
    }
   ],
   "source": [
    "cnv = np.transpose(cnv)\n",
    "print(\"cnv:\", cnv.shape)\n",
    "mrna = np.transpose(mrna)\n",
    "print(\"mrna:\", mrna.shape)\n",
    "#print(\"clinical:\", clinical.shape) # clinical do not need to transpose"
   ]
  },
  {
   "cell_type": "code",
   "execution_count": 36,
   "metadata": {},
   "outputs": [
    {
     "data": {
      "text/html": [
       "<div>\n",
       "<style scoped>\n",
       "    .dataframe tbody tr th:only-of-type {\n",
       "        vertical-align: middle;\n",
       "    }\n",
       "\n",
       "    .dataframe tbody tr th {\n",
       "        vertical-align: top;\n",
       "    }\n",
       "\n",
       "    .dataframe thead th {\n",
       "        text-align: right;\n",
       "    }\n",
       "</style>\n",
       "<table border=\"1\" class=\"dataframe\">\n",
       "  <thead>\n",
       "    <tr style=\"text-align: right;\">\n",
       "      <th>Gene Symbol</th>\n",
       "      <th>ACAP3</th>\n",
       "      <th>ACTRT2</th>\n",
       "      <th>AGRN</th>\n",
       "      <th>ANKRD65</th>\n",
       "      <th>ATAD3A</th>\n",
       "      <th>ATAD3B</th>\n",
       "      <th>ATAD3C</th>\n",
       "      <th>AURKAIP1</th>\n",
       "      <th>B3GALT6</th>\n",
       "      <th>C1orf159</th>\n",
       "      <th>...</th>\n",
       "      <th>SMIM9</th>\n",
       "      <th>SNORA36A</th>\n",
       "      <th>SNORA56</th>\n",
       "      <th>TMLHE</th>\n",
       "      <th>VBP1</th>\n",
       "      <th>IL9R|ENSG00000124334.12</th>\n",
       "      <th>SPRY3|ENSG00000168939.6</th>\n",
       "      <th>VAMP7|ENSG00000124333.10</th>\n",
       "      <th>WASH6P|ENSG00000182484.10</th>\n",
       "      <th>WASIR1|ENSG00000185203.7</th>\n",
       "    </tr>\n",
       "  </thead>\n",
       "  <tbody>\n",
       "    <tr>\n",
       "      <th>TCGA-3G-AB0O-01</th>\n",
       "      <td>0.006</td>\n",
       "      <td>0.006</td>\n",
       "      <td>0.006</td>\n",
       "      <td>0.006</td>\n",
       "      <td>0.006</td>\n",
       "      <td>0.006</td>\n",
       "      <td>0.006</td>\n",
       "      <td>0.006</td>\n",
       "      <td>0.006</td>\n",
       "      <td>0.006</td>\n",
       "      <td>...</td>\n",
       "      <td>0.017</td>\n",
       "      <td>0.017</td>\n",
       "      <td>0.017</td>\n",
       "      <td>0.017</td>\n",
       "      <td>0.017</td>\n",
       "      <td>0.017</td>\n",
       "      <td>0.017</td>\n",
       "      <td>0.017</td>\n",
       "      <td>0.017</td>\n",
       "      <td>0.017</td>\n",
       "    </tr>\n",
       "    <tr>\n",
       "      <th>TCGA-3G-AB0Q-01</th>\n",
       "      <td>-0.026</td>\n",
       "      <td>-0.026</td>\n",
       "      <td>-0.026</td>\n",
       "      <td>-0.026</td>\n",
       "      <td>-0.026</td>\n",
       "      <td>-0.026</td>\n",
       "      <td>-0.026</td>\n",
       "      <td>-0.026</td>\n",
       "      <td>-0.026</td>\n",
       "      <td>-0.026</td>\n",
       "      <td>...</td>\n",
       "      <td>-0.002</td>\n",
       "      <td>-0.002</td>\n",
       "      <td>-0.002</td>\n",
       "      <td>-0.002</td>\n",
       "      <td>-0.002</td>\n",
       "      <td>-0.002</td>\n",
       "      <td>-0.002</td>\n",
       "      <td>-0.002</td>\n",
       "      <td>-0.002</td>\n",
       "      <td>-0.002</td>\n",
       "    </tr>\n",
       "  </tbody>\n",
       "</table>\n",
       "<p>2 rows × 24776 columns</p>\n",
       "</div>"
      ],
      "text/plain": [
       "Gene Symbol      ACAP3  ACTRT2   AGRN  ANKRD65  ATAD3A  ATAD3B  ATAD3C  \\\n",
       "TCGA-3G-AB0O-01  0.006   0.006  0.006    0.006   0.006   0.006   0.006   \n",
       "TCGA-3G-AB0Q-01 -0.026  -0.026 -0.026   -0.026  -0.026  -0.026  -0.026   \n",
       "\n",
       "Gene Symbol      AURKAIP1  B3GALT6  C1orf159  ...  SMIM9  SNORA36A  SNORA56  \\\n",
       "TCGA-3G-AB0O-01     0.006    0.006     0.006  ...  0.017     0.017    0.017   \n",
       "TCGA-3G-AB0Q-01    -0.026   -0.026    -0.026  ... -0.002    -0.002   -0.002   \n",
       "\n",
       "Gene Symbol      TMLHE   VBP1  IL9R|ENSG00000124334.12  \\\n",
       "TCGA-3G-AB0O-01  0.017  0.017                    0.017   \n",
       "TCGA-3G-AB0Q-01 -0.002 -0.002                   -0.002   \n",
       "\n",
       "Gene Symbol      SPRY3|ENSG00000168939.6  VAMP7|ENSG00000124333.10  \\\n",
       "TCGA-3G-AB0O-01                    0.017                     0.017   \n",
       "TCGA-3G-AB0Q-01                   -0.002                    -0.002   \n",
       "\n",
       "Gene Symbol      WASH6P|ENSG00000182484.10  WASIR1|ENSG00000185203.7  \n",
       "TCGA-3G-AB0O-01                      0.017                     0.017  \n",
       "TCGA-3G-AB0Q-01                     -0.002                    -0.002  \n",
       "\n",
       "[2 rows x 24776 columns]"
      ]
     },
     "execution_count": 36,
     "metadata": {},
     "output_type": "execute_result"
    }
   ],
   "source": [
    "cnv.head(2)"
   ]
  },
  {
   "cell_type": "code",
   "execution_count": 37,
   "metadata": {},
   "outputs": [
    {
     "data": {
      "text/html": [
       "<div>\n",
       "<style scoped>\n",
       "    .dataframe tbody tr th:only-of-type {\n",
       "        vertical-align: middle;\n",
       "    }\n",
       "\n",
       "    .dataframe tbody tr th {\n",
       "        vertical-align: top;\n",
       "    }\n",
       "\n",
       "    .dataframe thead th {\n",
       "        text-align: right;\n",
       "    }\n",
       "</style>\n",
       "<table border=\"1\" class=\"dataframe\">\n",
       "  <thead>\n",
       "    <tr style=\"text-align: right;\">\n",
       "      <th>sample</th>\n",
       "      <th>ARHGEF10L</th>\n",
       "      <th>HIF3A</th>\n",
       "      <th>RNF17</th>\n",
       "      <th>RNF10</th>\n",
       "      <th>RNF11</th>\n",
       "      <th>RNF13</th>\n",
       "      <th>GTF2IP1</th>\n",
       "      <th>REM1</th>\n",
       "      <th>MTVR2</th>\n",
       "      <th>RTN4RL2</th>\n",
       "      <th>...</th>\n",
       "      <th>TULP2</th>\n",
       "      <th>NPY5R</th>\n",
       "      <th>GNGT2</th>\n",
       "      <th>GNGT1</th>\n",
       "      <th>TULP3</th>\n",
       "      <th>PTRF</th>\n",
       "      <th>BCL6B</th>\n",
       "      <th>GSTK1</th>\n",
       "      <th>SELP</th>\n",
       "      <th>SELS</th>\n",
       "    </tr>\n",
       "  </thead>\n",
       "  <tbody>\n",
       "    <tr>\n",
       "      <th>TCGA-ZB-A96P-01</th>\n",
       "      <td>5.9112</td>\n",
       "      <td>2.6279</td>\n",
       "      <td>0.0</td>\n",
       "      <td>11.8625</td>\n",
       "      <td>9.9403</td>\n",
       "      <td>9.3885</td>\n",
       "      <td>12.7935</td>\n",
       "      <td>0.0000</td>\n",
       "      <td>0.3479</td>\n",
       "      <td>8.6438</td>\n",
       "      <td>...</td>\n",
       "      <td>0.0</td>\n",
       "      <td>0.0000</td>\n",
       "      <td>5.4262</td>\n",
       "      <td>3.6066</td>\n",
       "      <td>8.2874</td>\n",
       "      <td>8.1108</td>\n",
       "      <td>4.9024</td>\n",
       "      <td>10.3093</td>\n",
       "      <td>1.8981</td>\n",
       "      <td>8.8505</td>\n",
       "    </tr>\n",
       "    <tr>\n",
       "      <th>TCGA-X7-A8M4-01</th>\n",
       "      <td>7.1534</td>\n",
       "      <td>6.5434</td>\n",
       "      <td>0.0</td>\n",
       "      <td>12.0008</td>\n",
       "      <td>10.1789</td>\n",
       "      <td>9.9705</td>\n",
       "      <td>12.8489</td>\n",
       "      <td>1.4948</td>\n",
       "      <td>0.9329</td>\n",
       "      <td>6.6320</td>\n",
       "      <td>...</td>\n",
       "      <td>0.0</td>\n",
       "      <td>2.6903</td>\n",
       "      <td>5.7353</td>\n",
       "      <td>3.3350</td>\n",
       "      <td>8.0553</td>\n",
       "      <td>12.0477</td>\n",
       "      <td>8.4117</td>\n",
       "      <td>11.0350</td>\n",
       "      <td>3.8715</td>\n",
       "      <td>9.4268</td>\n",
       "    </tr>\n",
       "  </tbody>\n",
       "</table>\n",
       "<p>2 rows × 20530 columns</p>\n",
       "</div>"
      ],
      "text/plain": [
       "sample           ARHGEF10L   HIF3A  RNF17    RNF10    RNF11   RNF13  GTF2IP1  \\\n",
       "TCGA-ZB-A96P-01     5.9112  2.6279    0.0  11.8625   9.9403  9.3885  12.7935   \n",
       "TCGA-X7-A8M4-01     7.1534  6.5434    0.0  12.0008  10.1789  9.9705  12.8489   \n",
       "\n",
       "sample             REM1   MTVR2  RTN4RL2  ...  TULP2   NPY5R   GNGT2   GNGT1  \\\n",
       "TCGA-ZB-A96P-01  0.0000  0.3479   8.6438  ...    0.0  0.0000  5.4262  3.6066   \n",
       "TCGA-X7-A8M4-01  1.4948  0.9329   6.6320  ...    0.0  2.6903  5.7353  3.3350   \n",
       "\n",
       "sample            TULP3     PTRF   BCL6B    GSTK1    SELP    SELS  \n",
       "TCGA-ZB-A96P-01  8.2874   8.1108  4.9024  10.3093  1.8981  8.8505  \n",
       "TCGA-X7-A8M4-01  8.0553  12.0477  8.4117  11.0350  3.8715  9.4268  \n",
       "\n",
       "[2 rows x 20530 columns]"
      ]
     },
     "execution_count": 37,
     "metadata": {},
     "output_type": "execute_result"
    }
   ],
   "source": [
    "mrna.head(2)"
   ]
  },
  {
   "cell_type": "markdown",
   "metadata": {},
   "source": [
    "Remove duplication"
   ]
  },
  {
   "cell_type": "code",
   "execution_count": 38,
   "metadata": {},
   "outputs": [
    {
     "name": "stdout",
     "output_type": "stream",
     "text": [
      "cnv: (123, 24776)\n",
      "mrna (122, 20530)\n"
     ]
    }
   ],
   "source": [
    "cnv = cnv[~cnv.duplicated(keep='first')]\n",
    "mrna = mrna[~mrna.duplicated(keep='first')]\n",
    "\n",
    "print(\"cnv:\", cnv.shape)\n",
    "print(\"mrna\", mrna.shape)"
   ]
  },
  {
   "attachments": {},
   "cell_type": "markdown",
   "metadata": {},
   "source": [
    "Identify shared patients across all datasets and exclude those not shared\n"
   ]
  },
  {
   "cell_type": "code",
   "execution_count": 39,
   "metadata": {},
   "outputs": [
    {
     "name": "stdout",
     "output_type": "stream",
     "text": [
      "Shape of common samples: 119\n"
     ]
    },
    {
     "data": {
      "text/html": [
       "<div>\n",
       "<style scoped>\n",
       "    .dataframe tbody tr th:only-of-type {\n",
       "        vertical-align: middle;\n",
       "    }\n",
       "\n",
       "    .dataframe tbody tr th {\n",
       "        vertical-align: top;\n",
       "    }\n",
       "\n",
       "    .dataframe thead th {\n",
       "        text-align: right;\n",
       "    }\n",
       "</style>\n",
       "<table border=\"1\" class=\"dataframe\">\n",
       "  <thead>\n",
       "    <tr style=\"text-align: right;\">\n",
       "      <th></th>\n",
       "      <th>sample</th>\n",
       "    </tr>\n",
       "  </thead>\n",
       "  <tbody>\n",
       "    <tr>\n",
       "      <th>0</th>\n",
       "      <td>TCGA-XM-A8RF-01</td>\n",
       "    </tr>\n",
       "    <tr>\n",
       "      <th>1</th>\n",
       "      <td>TCGA-ZB-A962-01</td>\n",
       "    </tr>\n",
       "    <tr>\n",
       "      <th>2</th>\n",
       "      <td>TCGA-X7-A8D6-01</td>\n",
       "    </tr>\n",
       "  </tbody>\n",
       "</table>\n",
       "</div>"
      ],
      "text/plain": [
       "            sample\n",
       "0  TCGA-XM-A8RF-01\n",
       "1  TCGA-ZB-A962-01\n",
       "2  TCGA-X7-A8D6-01"
      ]
     },
     "execution_count": 39,
     "metadata": {},
     "output_type": "execute_result"
    }
   ],
   "source": [
    "cnv.index.names = ['sample']\n",
    "mrna.index.names = ['sample']\n",
    "\n",
    "cnv = cnv.sort_values(by='sample')\n",
    "mrna = mrna.sort_values(by='sample')\n",
    "\n",
    "cnv = cnv.reset_index()\n",
    "mrna = mrna.reset_index()\n",
    "\n",
    "list_1 = cnv['sample'].values.tolist()\n",
    "list_2 = mrna['sample'].values.tolist()\n",
    "\n",
    "common_list0 = set(list_1).intersection(list_2)\n",
    "print (\"Shape of common samples:\", len(common_list0))\n",
    "\n",
    "common_df = pd.DataFrame(common_list0)\n",
    "common_df.rename(columns = {0:'sample'}, inplace = True)\n",
    "common_df.head(3)"
   ]
  },
  {
   "cell_type": "code",
   "execution_count": 40,
   "metadata": {},
   "outputs": [
    {
     "data": {
      "text/html": [
       "<div>\n",
       "<style scoped>\n",
       "    .dataframe tbody tr th:only-of-type {\n",
       "        vertical-align: middle;\n",
       "    }\n",
       "\n",
       "    .dataframe tbody tr th {\n",
       "        vertical-align: top;\n",
       "    }\n",
       "\n",
       "    .dataframe thead th {\n",
       "        text-align: right;\n",
       "    }\n",
       "</style>\n",
       "<table border=\"1\" class=\"dataframe\">\n",
       "  <thead>\n",
       "    <tr style=\"text-align: right;\">\n",
       "      <th>Gene Symbol</th>\n",
       "      <th>sample</th>\n",
       "      <th>ACAP3</th>\n",
       "      <th>ACTRT2</th>\n",
       "      <th>AGRN</th>\n",
       "      <th>ANKRD65</th>\n",
       "      <th>ATAD3A</th>\n",
       "      <th>ATAD3B</th>\n",
       "      <th>ATAD3C</th>\n",
       "      <th>AURKAIP1</th>\n",
       "      <th>B3GALT6</th>\n",
       "      <th>...</th>\n",
       "      <th>SMIM9</th>\n",
       "      <th>SNORA36A</th>\n",
       "      <th>SNORA56</th>\n",
       "      <th>TMLHE</th>\n",
       "      <th>VBP1</th>\n",
       "      <th>IL9R|ENSG00000124334.12</th>\n",
       "      <th>SPRY3|ENSG00000168939.6</th>\n",
       "      <th>VAMP7|ENSG00000124333.10</th>\n",
       "      <th>WASH6P|ENSG00000182484.10</th>\n",
       "      <th>WASIR1|ENSG00000185203.7</th>\n",
       "    </tr>\n",
       "  </thead>\n",
       "  <tbody>\n",
       "    <tr>\n",
       "      <th>0</th>\n",
       "      <td>TCGA-3G-AB0O-01</td>\n",
       "      <td>0.006</td>\n",
       "      <td>0.006</td>\n",
       "      <td>0.006</td>\n",
       "      <td>0.006</td>\n",
       "      <td>0.006</td>\n",
       "      <td>0.006</td>\n",
       "      <td>0.006</td>\n",
       "      <td>0.006</td>\n",
       "      <td>0.006</td>\n",
       "      <td>...</td>\n",
       "      <td>0.017</td>\n",
       "      <td>0.017</td>\n",
       "      <td>0.017</td>\n",
       "      <td>0.017</td>\n",
       "      <td>0.017</td>\n",
       "      <td>0.017</td>\n",
       "      <td>0.017</td>\n",
       "      <td>0.017</td>\n",
       "      <td>0.017</td>\n",
       "      <td>0.017</td>\n",
       "    </tr>\n",
       "    <tr>\n",
       "      <th>1</th>\n",
       "      <td>TCGA-3G-AB0Q-01</td>\n",
       "      <td>-0.026</td>\n",
       "      <td>-0.026</td>\n",
       "      <td>-0.026</td>\n",
       "      <td>-0.026</td>\n",
       "      <td>-0.026</td>\n",
       "      <td>-0.026</td>\n",
       "      <td>-0.026</td>\n",
       "      <td>-0.026</td>\n",
       "      <td>-0.026</td>\n",
       "      <td>...</td>\n",
       "      <td>-0.002</td>\n",
       "      <td>-0.002</td>\n",
       "      <td>-0.002</td>\n",
       "      <td>-0.002</td>\n",
       "      <td>-0.002</td>\n",
       "      <td>-0.002</td>\n",
       "      <td>-0.002</td>\n",
       "      <td>-0.002</td>\n",
       "      <td>-0.002</td>\n",
       "      <td>-0.002</td>\n",
       "    </tr>\n",
       "  </tbody>\n",
       "</table>\n",
       "<p>2 rows × 24777 columns</p>\n",
       "</div>"
      ],
      "text/plain": [
       "Gene Symbol           sample  ACAP3  ACTRT2   AGRN  ANKRD65  ATAD3A  ATAD3B  \\\n",
       "0            TCGA-3G-AB0O-01  0.006   0.006  0.006    0.006   0.006   0.006   \n",
       "1            TCGA-3G-AB0Q-01 -0.026  -0.026 -0.026   -0.026  -0.026  -0.026   \n",
       "\n",
       "Gene Symbol  ATAD3C  AURKAIP1  B3GALT6  ...  SMIM9  SNORA36A  SNORA56  TMLHE  \\\n",
       "0             0.006     0.006    0.006  ...  0.017     0.017    0.017  0.017   \n",
       "1            -0.026    -0.026   -0.026  ... -0.002    -0.002   -0.002 -0.002   \n",
       "\n",
       "Gene Symbol   VBP1  IL9R|ENSG00000124334.12  SPRY3|ENSG00000168939.6  \\\n",
       "0            0.017                    0.017                    0.017   \n",
       "1           -0.002                   -0.002                   -0.002   \n",
       "\n",
       "Gene Symbol  VAMP7|ENSG00000124333.10  WASH6P|ENSG00000182484.10  \\\n",
       "0                               0.017                      0.017   \n",
       "1                              -0.002                     -0.002   \n",
       "\n",
       "Gene Symbol  WASIR1|ENSG00000185203.7  \n",
       "0                               0.017  \n",
       "1                              -0.002  \n",
       "\n",
       "[2 rows x 24777 columns]"
      ]
     },
     "execution_count": 40,
     "metadata": {},
     "output_type": "execute_result"
    }
   ],
   "source": [
    "cnv.head(2)"
   ]
  },
  {
   "cell_type": "code",
   "execution_count": 41,
   "metadata": {},
   "outputs": [
    {
     "data": {
      "text/html": [
       "<div>\n",
       "<style scoped>\n",
       "    .dataframe tbody tr th:only-of-type {\n",
       "        vertical-align: middle;\n",
       "    }\n",
       "\n",
       "    .dataframe tbody tr th {\n",
       "        vertical-align: top;\n",
       "    }\n",
       "\n",
       "    .dataframe thead th {\n",
       "        text-align: right;\n",
       "    }\n",
       "</style>\n",
       "<table border=\"1\" class=\"dataframe\">\n",
       "  <thead>\n",
       "    <tr style=\"text-align: right;\">\n",
       "      <th>sample</th>\n",
       "      <th>sample</th>\n",
       "      <th>ARHGEF10L</th>\n",
       "      <th>HIF3A</th>\n",
       "      <th>RNF17</th>\n",
       "      <th>RNF10</th>\n",
       "      <th>RNF11</th>\n",
       "      <th>RNF13</th>\n",
       "      <th>GTF2IP1</th>\n",
       "      <th>REM1</th>\n",
       "      <th>MTVR2</th>\n",
       "      <th>...</th>\n",
       "      <th>TULP2</th>\n",
       "      <th>NPY5R</th>\n",
       "      <th>GNGT2</th>\n",
       "      <th>GNGT1</th>\n",
       "      <th>TULP3</th>\n",
       "      <th>PTRF</th>\n",
       "      <th>BCL6B</th>\n",
       "      <th>GSTK1</th>\n",
       "      <th>SELP</th>\n",
       "      <th>SELS</th>\n",
       "    </tr>\n",
       "  </thead>\n",
       "  <tbody>\n",
       "    <tr>\n",
       "      <th>0</th>\n",
       "      <td>TCGA-3G-AB0O-01</td>\n",
       "      <td>6.3409</td>\n",
       "      <td>3.6366</td>\n",
       "      <td>0.0</td>\n",
       "      <td>11.9505</td>\n",
       "      <td>9.9786</td>\n",
       "      <td>9.5009</td>\n",
       "      <td>13.0365</td>\n",
       "      <td>2.8006</td>\n",
       "      <td>0.996</td>\n",
       "      <td>...</td>\n",
       "      <td>0.00</td>\n",
       "      <td>1.3172</td>\n",
       "      <td>5.8377</td>\n",
       "      <td>2.4530</td>\n",
       "      <td>8.2353</td>\n",
       "      <td>9.8945</td>\n",
       "      <td>5.6070</td>\n",
       "      <td>11.0792</td>\n",
       "      <td>6.0256</td>\n",
       "      <td>8.9273</td>\n",
       "    </tr>\n",
       "    <tr>\n",
       "      <th>1</th>\n",
       "      <td>TCGA-3G-AB0Q-01</td>\n",
       "      <td>8.6342</td>\n",
       "      <td>8.3575</td>\n",
       "      <td>0.0</td>\n",
       "      <td>12.0800</td>\n",
       "      <td>10.8148</td>\n",
       "      <td>10.6025</td>\n",
       "      <td>12.9276</td>\n",
       "      <td>1.7771</td>\n",
       "      <td>0.000</td>\n",
       "      <td>...</td>\n",
       "      <td>0.76</td>\n",
       "      <td>5.0248</td>\n",
       "      <td>5.8460</td>\n",
       "      <td>4.6792</td>\n",
       "      <td>9.1688</td>\n",
       "      <td>13.6039</td>\n",
       "      <td>8.2416</td>\n",
       "      <td>11.2787</td>\n",
       "      <td>4.9779</td>\n",
       "      <td>9.5534</td>\n",
       "    </tr>\n",
       "  </tbody>\n",
       "</table>\n",
       "<p>2 rows × 20531 columns</p>\n",
       "</div>"
      ],
      "text/plain": [
       "sample           sample  ARHGEF10L   HIF3A  RNF17    RNF10    RNF11    RNF13  \\\n",
       "0       TCGA-3G-AB0O-01     6.3409  3.6366    0.0  11.9505   9.9786   9.5009   \n",
       "1       TCGA-3G-AB0Q-01     8.6342  8.3575    0.0  12.0800  10.8148  10.6025   \n",
       "\n",
       "sample  GTF2IP1    REM1  MTVR2  ...  TULP2   NPY5R   GNGT2   GNGT1   TULP3  \\\n",
       "0       13.0365  2.8006  0.996  ...   0.00  1.3172  5.8377  2.4530  8.2353   \n",
       "1       12.9276  1.7771  0.000  ...   0.76  5.0248  5.8460  4.6792  9.1688   \n",
       "\n",
       "sample     PTRF   BCL6B    GSTK1    SELP    SELS  \n",
       "0        9.8945  5.6070  11.0792  6.0256  8.9273  \n",
       "1       13.6039  8.2416  11.2787  4.9779  9.5534  \n",
       "\n",
       "[2 rows x 20531 columns]"
      ]
     },
     "execution_count": 41,
     "metadata": {},
     "output_type": "execute_result"
    }
   ],
   "source": [
    "mrna.head(2)"
   ]
  },
  {
   "attachments": {},
   "cell_type": "markdown",
   "metadata": {
    "id": "V87FJ20YR8pJ"
   },
   "source": [
    "Identify shared patients across all datasets and exclude those not shared\n"
   ]
  },
  {
   "cell_type": "code",
   "execution_count": 42,
   "metadata": {},
   "outputs": [
    {
     "name": "stdout",
     "output_type": "stream",
     "text": [
      "Shape of samples CNV: (119, 24777)\n",
      "Shape of samples RNA Sequence (RNASeq): (119, 20531)\n"
     ]
    }
   ],
   "source": [
    "cnv_common = cnv[cnv['sample'].isin(common_df['sample'])]\n",
    "print (\"Shape of samples CNV:\", cnv_common.shape)\n",
    "\n",
    "mrna_common = mrna[mrna['sample'].isin(common_df['sample'])]\n",
    "print (\"Shape of samples RNA Sequence (RNASeq):\", mrna_common.shape)"
   ]
  },
  {
   "attachments": {},
   "cell_type": "markdown",
   "metadata": {},
   "source": [
    "Concatenate datasets with class labels\n",
    "\n"
   ]
  },
  {
   "cell_type": "code",
   "execution_count": 43,
   "metadata": {
    "executionInfo": {
     "elapsed": 11,
     "status": "aborted",
     "timestamp": 1670413253501,
     "user": {
      "displayName": "Sabrina Azmi",
      "userId": "03843576326678916867"
     },
     "user_tz": -480
    },
    "id": "MELfdKWoSCEy"
   },
   "outputs": [
    {
     "name": "stdout",
     "output_type": "stream",
     "text": [
      "histological_type: ['Thymoma; Type B1' 'Thymoma; Type A' 'Thymoma; Type B2' 'Thymoma; Type C'\n",
      " 'Thymoma; Type B3' 'Thymoma; Type AB' 'Thymoma; Type B2|Thymoma; Type B3'\n",
      " 'Thymoma; Type A|Thymoma; Type AB' 'Thymoma; Type B1|Thymoma; Type B2']\n",
      "histological_type\n",
      "Thymoma; Type AB                     38\n",
      "Thymoma; Type B2                     29\n",
      "Thymoma; Type B1                     15\n",
      "Thymoma; Type A                      15\n",
      "Thymoma; Type B3                     12\n",
      "Thymoma; Type C                      11\n",
      "Thymoma; Type B2|Thymoma; Type B3     3\n",
      "Thymoma; Type A|Thymoma; Type AB      2\n",
      "Thymoma; Type B1|Thymoma; Type B2     1\n",
      "Name: count, dtype: int64\n"
     ]
    }
   ],
   "source": [
    "dataClass = clinical.histological_type.unique()\n",
    "print(\"histological_type:\", dataClass)\n",
    "print(clinical.histological_type.value_counts())"
   ]
  },
  {
   "cell_type": "code",
   "execution_count": 44,
   "metadata": {},
   "outputs": [],
   "source": [
    "cnv_common.set_index('sample', inplace=True)\n",
    "mrna_common.set_index('sample', inplace=True)"
   ]
  },
  {
   "cell_type": "code",
   "execution_count": 45,
   "metadata": {
    "executionInfo": {
     "elapsed": 12,
     "status": "aborted",
     "timestamp": 1670413253502,
     "user": {
      "displayName": "Sabrina Azmi",
      "userId": "03843576326678916867"
     },
     "user_tz": -480
    },
    "id": "H0zi_0MDS5Su"
   },
   "outputs": [
    {
     "name": "stdout",
     "output_type": "stream",
     "text": [
      "cnv: (119, 24777)\n",
      "RNA Sequence (RNASeq): (119, 20531)\n"
     ]
    }
   ],
   "source": [
    "cnv_common_class = pd.merge(cnv_common, clinical.set_index('sampleID')['histological_type'].to_frame(), how='inner', left_on='sample', right_index=True)\n",
    "print (\"cnv:\", cnv_common_class.shape)\n",
    "\n",
    "mrna_common_class = pd.merge(mrna_common, clinical.set_index('sampleID')['histological_type'].to_frame(), how='inner', left_on='sample', right_index=True)\n",
    "print (\"RNA Sequence (RNASeq):\", mrna_common_class.shape)"
   ]
  },
  {
   "cell_type": "markdown",
   "metadata": {},
   "source": [
    "Examine cancer subtypes and class distributions, then retain only patients with sufficient representation in the class labels"
   ]
  },
  {
   "cell_type": "code",
   "execution_count": 46,
   "metadata": {},
   "outputs": [
    {
     "name": "stdout",
     "output_type": "stream",
     "text": [
      "histological_type\n",
      "Thymoma; Type AB                     35\n",
      "Thymoma; Type B2                     27\n",
      "Thymoma; Type A                      15\n",
      "Thymoma; Type B1                     14\n",
      "Thymoma; Type C                      11\n",
      "Thymoma; Type B3                     11\n",
      "Thymoma; Type B2|Thymoma; Type B3     3\n",
      "Thymoma; Type A|Thymoma; Type AB      2\n",
      "Thymoma; Type B1|Thymoma; Type B2     1\n",
      "Name: count, dtype: int64\n",
      "histological_type\n",
      "Thymoma; Type AB                     35\n",
      "Thymoma; Type B2                     27\n",
      "Thymoma; Type A                      15\n",
      "Thymoma; Type B1                     14\n",
      "Thymoma; Type C                      11\n",
      "Thymoma; Type B3                     11\n",
      "Thymoma; Type B2|Thymoma; Type B3     3\n",
      "Thymoma; Type A|Thymoma; Type AB      2\n",
      "Thymoma; Type B1|Thymoma; Type B2     1\n",
      "Name: count, dtype: int64\n"
     ]
    }
   ],
   "source": [
    "print(cnv_common_class.histological_type.value_counts())\n",
    "print(mrna_common_class.histological_type.value_counts())"
   ]
  },
  {
   "cell_type": "code",
   "execution_count": 47,
   "metadata": {
    "executionInfo": {
     "elapsed": 13,
     "status": "aborted",
     "timestamp": 1670413253504,
     "user": {
      "displayName": "Sabrina Azmi",
      "userId": "03843576326678916867"
     },
     "user_tz": -480
    },
    "id": "Yhv9WsPB7vPb"
   },
   "outputs": [
    {
     "name": "stdout",
     "output_type": "stream",
     "text": [
      "cnv: (119, 24777)\n",
      "mrna (119, 20531)\n"
     ]
    }
   ],
   "source": [
    "cnv_common_class.dropna(subset=['histological_type'], inplace = True)\n",
    "print(\"cnv:\", cnv_common_class.shape)\n",
    "\n",
    "mrna_common_class.dropna(subset=['histological_type'], inplace = True)\n",
    "print(\"mrna\", mrna_common_class.shape)"
   ]
  },
  {
   "cell_type": "code",
   "execution_count": 48,
   "metadata": {},
   "outputs": [
    {
     "name": "stdout",
     "output_type": "stream",
     "text": [
      "Copy Number Variation (CNV): (113, 24777)\n",
      "RNA Sequence (RNASeq): (113, 20531)\n"
     ]
    }
   ],
   "source": [
    "# List of subtypes to remove\n",
    "subtypes_to_remove = [\n",
    "    \"Thymoma; Type B2|Thymoma; Type B3\", \"Thymoma; Type A|Thymoma; Type AB\", \"Thymoma; Type B1|Thymoma; Type B2\"\n",
    "]\n",
    "\n",
    "# Filter them out\n",
    "cnv_common_class = cnv_common_class[~cnv_common_class['histological_type'].isin(subtypes_to_remove)]\n",
    "print(\"Copy Number Variation (CNV):\", cnv_common_class.shape)\n",
    "\n",
    "mrna_common_class = mrna_common_class[~mrna_common_class['histological_type'].isin(subtypes_to_remove)]\n",
    "print(\"RNA Sequence (RNASeq):\", mrna_common_class.shape)"
   ]
  },
  {
   "attachments": {},
   "cell_type": "markdown",
   "metadata": {},
   "source": [
    "Remove features with missing values\n"
   ]
  },
  {
   "cell_type": "code",
   "execution_count": 49,
   "metadata": {},
   "outputs": [
    {
     "name": "stdout",
     "output_type": "stream",
     "text": [
      "Any missing values in cnv?:  False\n",
      "Any missing values in mrna?: False\n"
     ]
    }
   ],
   "source": [
    "print (\"Any missing values in cnv?: \", cnv_common_class.isnull().values.any())\n",
    "print (\"Any missing values in mrna?:\", mrna_common_class.isnull().values.any())"
   ]
  },
  {
   "cell_type": "code",
   "execution_count": 50,
   "metadata": {
    "executionInfo": {
     "elapsed": 13,
     "status": "aborted",
     "timestamp": 1670413253504,
     "user": {
      "displayName": "Sabrina Azmi",
      "userId": "03843576326678916867"
     },
     "user_tz": -480
    },
    "id": "zUrKhGhaUg-q"
   },
   "outputs": [
    {
     "name": "stdout",
     "output_type": "stream",
     "text": [
      "cnv: (113, 24777)\n",
      "mrna (113, 20531)\n"
     ]
    }
   ],
   "source": [
    "cnv_common_class.dropna(axis=1, how='any', inplace = True) \n",
    "mrna_common_class.dropna(axis=1, how='any', inplace = True)\n",
    "\n",
    "print(\"cnv:\", cnv_common_class.shape)\n",
    "print(\"mrna\", mrna_common_class.shape)"
   ]
  },
  {
   "cell_type": "code",
   "execution_count": 51,
   "metadata": {
    "executionInfo": {
     "elapsed": 13,
     "status": "aborted",
     "timestamp": 1670413253504,
     "user": {
      "displayName": "Sabrina Azmi",
      "userId": "03843576326678916867"
     },
     "user_tz": -480
    },
    "id": "Wmn_wos-MAF-"
   },
   "outputs": [
    {
     "name": "stdout",
     "output_type": "stream",
     "text": [
      "Any missing values in cnv?:  False\n",
      "Any missing values in mrna?: False\n"
     ]
    }
   ],
   "source": [
    "print (\"Any missing values in cnv?: \", cnv_common_class.isnull().values.any())\n",
    "print (\"Any missing values in mrna?:\", mrna_common_class.isnull().values.any())"
   ]
  },
  {
   "cell_type": "markdown",
   "metadata": {},
   "source": [
    "Remove zero-variance features"
   ]
  },
  {
   "cell_type": "code",
   "execution_count": 52,
   "metadata": {},
   "outputs": [
    {
     "name": "stdout",
     "output_type": "stream",
     "text": [
      "\n",
      "Processing DataFrame 1...\n",
      "DataFrame 1 has no zero-variance columns.\n",
      "\n",
      "Processing DataFrame 2...\n",
      "DataFrame 2 has 540 zero-variance columns: ['RBMY1A3P', 'OR8J1', 'SNORD115-17', 'SNORD114-31', 'SNORD114-30', 'SNORD115-6', 'SNORD115-7', 'PISRT1', 'SNORD115-4', 'SNORD104', 'REG1P', 'KRTAP2-4', 'SNORD115-9', 'ZCCHC13', 'OR7G1', 'SNORD38A', 'OR8U1', 'KRTAP19-2', 'KRTAP19-7', 'KRTAP19-4', 'SNORD114-3', '?|441362', 'RAB9BP1', 'OR5R1', 'CT45A6', 'HBII-52-27', 'SNORD11', 'SNORD12', 'C10orf96', 'C20orf79', 'C20orf71', 'SNORD21', 'SNORD20', 'SNORD23', 'SNORD25', 'SERPINA7', 'SNORD127', 'DAZ3', 'DAZ4', 'SNORD124', 'TTTY17A', 'CETN1', 'SNORD115-5', 'SNORD80', 'TSPY3', 'SNORD56B', 'SNORD78', 'PRR21', 'SNORD113-7', 'HSFX1', 'SNORD96A', 'PER4', 'SNORD119', 'HBII-52-46', 'HBII-52-45', 'SNORD47', 'OR2G3', 'SNORD4B', 'SNORD4A', 'SNORD116-24', 'SNORD116-25', 'SNORD116-23', 'SNORD116-29', 'RBMY1B', 'GAGE1', 'OR52J3', 'CSN1S2A', 'BPY2', 'DEFB121', 'OR6V1', 'SNORD115-8', 'SNORD67', 'SNORD66', 'HBII-52-28', 'SNORD69', 'SNORD68', 'SNORD38B', 'OR2T34', 'SNORD113-4', 'SNORD116-26', 'OR5H15', 'OR5H14', 'SNORD115-1', 'SNORD58A', 'SNORD58C', 'OR5B17', 'PRR20A', 'PRR20C', 'PRR20D', 'OR5H1', 'SNORD96B', 'SNORD63', 'SNORD116-22', 'CTSL3', 'SNORD81', 'OR8J3', 'MRGPRG', 'NKX2-6', 'OR9Q2', 'GAGE12F', 'LOC643955', 'PRAMEF3', '?|404770', 'OR5J2', 'SNORD114-20', 'LOC728410', 'SNAR-A3', 'SNORD115-20', 'SNORD115-22', 'SNORD115-25', 'SNORD114-29', 'OR1A1', 'APCS', 'TEX28', 'OR8H1', 'TAAR8', 'OR8H3', 'PYDC2', 'MAGEB16', 'OR7A10', 'OR7A17', 'DEFB134', 'DEFB135', 'DEFB130', 'SNORD29', 'S100A7L2', 'OR7C2', 'LOC653545', 'OR5K4', 'OR6C3', 'SPINK8', 'WFDC9', 'KRTAP15-1', 'SNORD16', 'KRTAP19-5', 'SNORD36A', 'LOC388946', 'SNORD91B', 'SNORD87', 'SNORD86', 'MGC34034', 'OR4C11', 'OR4C13', 'OR4C12', 'DEFB116', 'DEFB114', 'DEFB115', 'DEFB112', 'DEFB113', 'TTTY4C', 'OR8D4', 'OR4B1', 'OR8D2', 'RBMY1E', 'SNORD91A', 'SNORD88B', 'TECTB', 'SNORD50B', 'SNORD65', 'KRTAP22-1', 'OR2T35', 'SNORD61', 'SNORD115-35', 'SNORD114-10', 'C9orf27', 'OR4F5', 'SNORD114-6', 'SNORD114-5', 'OR10W1', 'OR8B3', 'OR8B4', 'OR2AT4', 'OR8G5', 'SNORD12C', 'SNORD123', 'SNORD126', 'SNORD125', 'OR1S1', 'OR1S2', 'DEFB108B', 'OR4D9', 'OR5T3', 'OR5T1', 'KRTAP23-1', 'SNORD48', 'OR5L2', 'SNORD114-9', 'SNORD46', 'SNORD115-2', 'SNORD115-3', 'OR14J1', 'SNORD27', 'SNORD105', 'HIST1H2BA', 'DEFB106A', 'RBMY2EP', 'SPANXN1', 'SNORD35A', 'SNORD35B', 'OR5AR1', 'RBMY3AP', 'TMEM225', 'OR4A15', 'LOC100169752', 'TTTY22', 'SNORD24', 'GSTA5', 'SNORD28', 'OR52E8', 'KRTAP25-1', 'DEFB104A', 'OR5F1', 'BEYLA', 'SPINT3', 'OR5AP2', 'SMEK3P', 'FLJ25328', 'OR6M1', 'OR4S1', 'OR4S2', 'OR5AC2', 'SNORD49A', 'C11orf40', 'SNORD102', 'SNORD115-14', 'PRNT', 'LCE4A', 'KRTAP12-3', 'OR5M3', 'BSPH1', 'SNORD115-16', 'SNORA70B', 'SNORD30', 'SNORD31', 'SNORD115-10', 'OR6C1', 'SNORD18B', 'SCARNA23', 'SPANXN5', '?|728045', 'BASE', 'ASB10', 'OR4A5', 'CCDC105', 'SNORD26', 'SNORD114-7', 'SNORD45C', 'OR5T2', 'SNORD111B', 'SNORD18A', 'OR9I1', 'TTTY7', 'TTTY8', 'KRTAP9-9', 'TTTY20', 'CT47A7', 'CT47A6', 'CT47A2', 'CT47A1', 'CT47A9', 'SNORD109B', 'OR10G3', 'SNORD45B', 'TTTY23', 'SNORD45A', 'OR5D13', 'KRTAP6-2', 'KRTAP6-1', 'OR5D14', 'OR5D16', 'SNORD114-22', 'SNORD114-23', 'SNORD114-26', 'SNORD114-27', 'SNORD114-24', 'SNORD114-25', 'SNORD114-28', 'SNORD115-41', 'SNORD115-40', 'P2RX6P', 'SNORD1A', 'SNORD1B', 'SNORD19', 'TGIF2LX', 'OR9G4', 'SNORD115-37', 'PTH', 'OR4C16', 'OR4K5', 'SNORD44', 'SLC22A24', 'OR6B3', 'SNORD34', 'TGM6', 'OR2AG1', 'OR10G7', 'SNORA58', 'SNORD121B', 'SNORD121A', 'GPR139', 'SNAR-F', 'SNAR-H', 'FLJ44082', 'SNORD51', 'SNORD115-44', 'SNORD36C', 'SNORD115-48', 'SNORD11B', 'SNORD49B', 'OR4C15', 'SNORD116-19', 'SNORA35', 'SNORD116-11', 'DEFB110', 'PRR23C', 'GLYCAM1', 'KCNK18', 'SNORD59B', 'SNORD59A', 'SNORD116-27', 'OR5W2', 'GAGE2B', 'ZNF679', 'SNORD114-21', 'SNORD114-11', 'C3P1', 'SNORD72', 'SNORD74', 'SNORD75', 'SNORD79', 'SNORD114-4', 'OR8K3', 'OR2T29', 'OR2T27', 'CDY1', 'RNU5E', 'GAGE8', 'SNORD88C', 'OR6N1', 'RNY5', 'RNY4', 'OR6N2', 'SNORD114-16', 'TGIF2LY', 'OR5I1', 'SNORD52', 'SNORD53', 'SNORD115-11', 'SNORD113-9', 'SNORD113-5', 'SNORD113-6', 'SNORD113-1', 'SNORD113-2', 'SNORD114-14', 'SDC4P', 'SNORD116-18', 'KRTAP20-3', 'SNORD98', 'SNORD99', 'SNORD93', 'KRTAP20-1', 'SNORD116-12', 'GABRR3', 'NMS', 'SNORD73A', 'OR6C4', 'SPINK14', 'SNORD115-32', 'SNORD115-39', 'SNORA30', 'OR4C3', 'DEFB128', 'DEFB127', 'DEFB123', 'SNAR-C4', 'PAGE1', 'OR4K17', 'OR4K13', 'OR4A16', 'OR52E2', 'MS4A13', 'HTR1E', 'SPINT4', 'FTLP10', 'SNORD116-10', 'SNORD116-13', 'VENTXP1', 'SNORD116-15', 'SNORD116-14', 'SNORD116-16', 'OR5M8', 'XKRY', 'SNORD95', 'SNORD90', 'SNORD114-18', 'SNORD92', 'TSSK2', 'SNORA70C', 'SNORD114-15', 'SNORD19B', 'LOC729121', 'SNORD70', 'SNORD76', '?|317712', 'SNORD77', 'HBII-52-24', 'SNAR-A13', 'TREML2P1', 'SNORD60', 'NEU2', 'TMEM207', 'TTTY3B', 'SCARNA14', 'SCARNA18', 'KRTAP13-3', 'SNORA11C', 'OR51A7', 'OR51A2', 'ADAM2', 'OR52A1', 'OR52A5', 'OR52A4', 'SNORD105B', 'TTTY17B', 'HIST1H2AA', 'SNORD6', 'SNORD7', 'SNORD5', 'SNORD2', 'SNORD9', 'OR4F4', 'SNORD33', 'VTRNA1-2', 'SNAR-G2', 'SNORD54', 'TTTY16', 'TTTY18', 'CYP11B2', 'IQCF5', 'FAM24A', 'OR51G1', 'SNORD114-8', 'SNORD55', 'SNORD56', 'SNORD57', 'OR8B2', 'OR4X1', 'TTTY21', 'KRTAP27-1', 'DUX4', 'SNORD50A', 'SNORD117', 'SNORD110', 'SNORD111', 'KRTAP4-8', 'KRTAP4-4', 'SNAR-A2', 'SNAR-A4', 'RNASE9', 'TTTY12', 'OR2T1', 'SNORD8', 'SNORD32A', 'SNORD43', 'FKSG73', 'SNORD114-12', 'CXorf66', 'NPS', 'OR1I1', 'OR4D6', 'TSPY4', 'SNORD71', 'PRR20B', 'S100G', 'SNAR-C3', 'SNAR-C2', 'DEFB107A', 'VN1R4', 'RBMY2FP', 'SNORD88A', 'SCARNA4', 'GK2', 'XAGE5', 'SNORD36B', 'SNAR-I', 'VTRNA1-3', 'VTRNA1-1', 'SNORD41', 'SNORD62A', 'DEFB105A', 'GOT1L1', 'LCE3B', 'LCE3C', 'SNORD116-5', 'SNORD103A', 'OR11H1', 'OR4F15', 'OR4C45', 'OR8B12', 'SNORD42B', 'TAAR2', 'SNORD42A', 'SNORD37', 'SNORD114-1', 'TTTY11', 'TTTY13', 'TTTY19', 'OR8A1', 'OR4N5', 'LOC340094', 'SNORD115-33', 'CSTT', 'OR10H3', 'OR10H4', 'SNORD115-30', 'SNORD115-31', 'SNORD114-2', 'SNORD115-38', 'KRTAP20-4', 'SNORD18C', 'SNORD12B', 'LOC100287704', 'OR4C46', 'SNORD114-19', 'SNORD114-13', 'SNORD114-17', 'CT47A11', 'CT47A10', 'OR4P4', 'OR5H2', 'SNORD116-8', 'SNORD116-1', 'SNORD116-3', 'SNORD116-2', 'SNORD85', 'SNORD84', 'SNORD82', 'OR51V1', 'SNORD32B', 'OR10J5']\n",
      "DataFrame 2 updated shape: (113, 19991)\n",
      "\n",
      "----Updated Shapes of DataFrames----\n",
      "DataFrame 1: (113, 24777)\n",
      "DataFrame 2: (113, 19991)\n"
     ]
    }
   ],
   "source": [
    "dataframes = [cnv_common_class, mrna_common_class]\n",
    "\n",
    "# Iterate over each dataframe and check for zero-variance columns\n",
    "for i, df in enumerate(dataframes):\n",
    "    print(f\"\\nProcessing DataFrame {i+1}...\")  # Debugging output\n",
    "    \n",
    "    # Exclude the last column (assuming it's the class column)\n",
    "    feature_columns = df.iloc[:, :-1]\n",
    "    \n",
    "    # Find columns with zero variance\n",
    "    zero_var_cols = feature_columns.columns[feature_columns.nunique() <= 1]\n",
    "    \n",
    "    if len(zero_var_cols) > 0:\n",
    "        print(f\"DataFrame {i+1} has {len(zero_var_cols)} zero-variance columns: {list(zero_var_cols)}\")\n",
    "        \n",
    "        # Drop zero-variance columns and reassign to the dataframes list\n",
    "        dataframes[i] = df.drop(columns=zero_var_cols)\n",
    "        \n",
    "        # Debugging output: Check new shape of the dataframe\n",
    "        print(f\"DataFrame {i+1} updated shape: {dataframes[i].shape}\")\n",
    "    else:\n",
    "        print(f\"DataFrame {i+1} has no zero-variance columns.\")\n",
    "\n",
    "# Verify updated shapes\n",
    "print(\"\\n----Updated Shapes of DataFrames----\")\n",
    "for i, df in enumerate(dataframes):\n",
    "    print(f\"DataFrame {i+1}: {df.shape}\")"
   ]
  },
  {
   "attachments": {},
   "cell_type": "markdown",
   "metadata": {},
   "source": [
    "Eliminate redundant information\n"
   ]
  },
  {
   "cell_type": "code",
   "execution_count": 53,
   "metadata": {},
   "outputs": [
    {
     "name": "stdout",
     "output_type": "stream",
     "text": [
      "----Omics dataset----\n",
      "cnv: (113, 24777)\n",
      "mrna (113, 19991)\n",
      "----Class distribution----\n",
      "histological_type\n",
      "Thymoma; Type AB    35\n",
      "Thymoma; Type B2    27\n",
      "Thymoma; Type A     15\n",
      "Thymoma; Type B1    14\n",
      "Thymoma; Type C     11\n",
      "Thymoma; Type B3    11\n",
      "Name: count, dtype: int64\n"
     ]
    }
   ],
   "source": [
    "# Remove duplicates from each dataset\n",
    "omics_datasets = [df.drop_duplicates() for df in dataframes]\n",
    "\n",
    "# Unpack the updated datasets back into variables\n",
    "cnv_common_class, mrna_common_class = omics_datasets\n",
    "\n",
    "print (\"----Omics dataset----\")\n",
    "print(\"cnv:\", cnv_common_class.shape)\n",
    "print(\"mrna\", mrna_common_class.shape)\n",
    "\n",
    "print (\"----Class distribution----\")\n",
    "print(cnv_common_class.histological_type.value_counts())"
   ]
  },
  {
   "cell_type": "markdown",
   "metadata": {},
   "source": [
    "Data standardization "
   ]
  },
  {
   "cell_type": "code",
   "execution_count": 54,
   "metadata": {},
   "outputs": [],
   "source": [
    "datapath_out = \"/Users/sabye/Downloads/wgRFECV-BIN/Result/\""
   ]
  },
  {
   "cell_type": "code",
   "execution_count": 55,
   "metadata": {},
   "outputs": [
    {
     "name": "stdout",
     "output_type": "stream",
     "text": [
      "Processing dataset: cnv\n",
      "Standardized data for cnv saved successfully at /Users/sabye/Downloads/wgRFECV-BIN/Result/Preprocessed_THYM_cnv.csv\n",
      "Processing dataset: mrna\n",
      "Standardized data for mrna saved successfully at /Users/sabye/Downloads/wgRFECV-BIN/Result/Preprocessed_THYM_mrna.csv\n"
     ]
    }
   ],
   "source": [
    "os.makedirs(datapath, exist_ok=True)\n",
    "\n",
    "# Dictionary of datasets with descriptive keys\n",
    "dataframes = {\n",
    "    \"cnv\": cnv_common_class,\n",
    "    \"mrna\": mrna_common_class\n",
    "}\n",
    "\n",
    "# Initialize the StandardScaler\n",
    "scaler = StandardScaler()\n",
    "\n",
    "# Process each dataset and save the preprocessed file\n",
    "for key, df in dataframes.items():\n",
    "    print(f\"Processing dataset: {key}\")\n",
    "    \n",
    "    # Separate features and class\n",
    "    features = df.iloc[:, :-1]\n",
    "    classes = df.iloc[:, -1]\n",
    "    \n",
    "    # Standardize the features\n",
    "    standardized_features = scaler.fit_transform(features)\n",
    "    \n",
    "    # Recreate the DataFrame\n",
    "    standardized_df = pd.DataFrame(standardized_features, columns=features.columns, index=df.index)\n",
    "    standardized_df['hys'] = classes\n",
    "    \n",
    "    # Save the standardized DataFrame to CSV\n",
    "    output_path = os.path.join(datapath_out, f\"Preprocessed_THYM_{key}.csv\")\n",
    "    standardized_df.to_csv(output_path, index=True)\n",
    "    print(f\"Standardized data for {key} saved successfully at {output_path}\")\n",
    "    \n",
    "    # Clean up variables to free up memory\n",
    "    del features, classes, standardized_features, standardized_df\n"
   ]
  }
 ],
 "metadata": {
  "colab": {
   "collapsed_sections": [
    "tzdgLOvvTHO_"
   ],
   "provenance": []
  },
  "kernelspec": {
   "display_name": "Python [conda env:base] *",
   "language": "python",
   "name": "conda-base-py"
  },
  "language_info": {
   "codemirror_mode": {
    "name": "ipython",
    "version": 3
   },
   "file_extension": ".py",
   "mimetype": "text/x-python",
   "name": "python",
   "nbconvert_exporter": "python",
   "pygments_lexer": "ipython3",
   "version": "3.11.7"
  }
 },
 "nbformat": 4,
 "nbformat_minor": 4
}

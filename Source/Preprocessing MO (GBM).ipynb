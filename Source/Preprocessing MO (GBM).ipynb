{
 "cells": [
  {
   "cell_type": "markdown",
   "metadata": {},
   "source": [
    "Import libraries"
   ]
  },
  {
   "cell_type": "code",
   "execution_count": 1,
   "metadata": {
    "executionInfo": {
     "elapsed": 1925,
     "status": "ok",
     "timestamp": 1670413232894,
     "user": {
      "displayName": "Sabrina Azmi",
      "userId": "03843576326678916867"
     },
     "user_tz": -480
    },
    "id": "xUCTLkPjbLpz"
   },
   "outputs": [],
   "source": [
    "import numpy as np\n",
    "import pandas as pd\n",
    "import os\n",
    "from sklearn.preprocessing import StandardScaler"
   ]
  },
  {
   "attachments": {},
   "cell_type": "markdown",
   "metadata": {},
   "source": [
    "Import the data into the Python environment from CSV files\n"
   ]
  },
  {
   "cell_type": "markdown",
   "metadata": {},
   "source": [
    "Rename data file after unzip downloaded files"
   ]
  },
  {
   "cell_type": "code",
   "execution_count": 2,
   "metadata": {},
   "outputs": [
    {
     "name": "stdout",
     "output_type": "stream",
     "text": [
      "cnv: (24776, 578)\n",
      "mrna: (20530, 173)\n",
      "clinical: (629, 129)\n"
     ]
    }
   ],
   "source": [
    "# Load dataset\n",
    "datapath = \"/Users/sabye/Downloads/wgRFECV-BIN/Data/\"\n",
    "\n",
    "cnv = pd.read_csv(datapath+\"GBM_cnv\", sep='\\t', comment='#')\n",
    "print(\"cnv:\", cnv.shape)\n",
    "mrna = pd.read_csv(datapath+\"GBM_mrna\", sep='\\t', comment='#')\n",
    "print(\"mrna:\", mrna.shape)\n",
    "clinical = pd.read_csv(datapath+\"GBM_clinical\", sep='\\t', comment='#')\n",
    "print(\"clinical:\", clinical.shape)"
   ]
  },
  {
   "cell_type": "code",
   "execution_count": 3,
   "metadata": {},
   "outputs": [
    {
     "data": {
      "text/html": [
       "<div>\n",
       "<style scoped>\n",
       "    .dataframe tbody tr th:only-of-type {\n",
       "        vertical-align: middle;\n",
       "    }\n",
       "\n",
       "    .dataframe tbody tr th {\n",
       "        vertical-align: top;\n",
       "    }\n",
       "\n",
       "    .dataframe thead th {\n",
       "        text-align: right;\n",
       "    }\n",
       "</style>\n",
       "<table border=\"1\" class=\"dataframe\">\n",
       "  <thead>\n",
       "    <tr style=\"text-align: right;\">\n",
       "      <th></th>\n",
       "      <th>Gene Symbol</th>\n",
       "      <th>TCGA-02-0001-01</th>\n",
       "      <th>TCGA-02-0003-01</th>\n",
       "      <th>TCGA-02-0006-01</th>\n",
       "      <th>TCGA-02-0007-01</th>\n",
       "      <th>TCGA-02-0009-01</th>\n",
       "      <th>TCGA-02-0010-01</th>\n",
       "      <th>TCGA-02-0011-01</th>\n",
       "      <th>TCGA-02-0014-01</th>\n",
       "      <th>TCGA-02-0015-01</th>\n",
       "      <th>...</th>\n",
       "      <th>TCGA-76-6662-01</th>\n",
       "      <th>TCGA-76-6663-01</th>\n",
       "      <th>TCGA-76-6664-01</th>\n",
       "      <th>TCGA-81-5910-01</th>\n",
       "      <th>TCGA-81-5911-01</th>\n",
       "      <th>TCGA-87-5896-01</th>\n",
       "      <th>TCGA-OX-A56R-01</th>\n",
       "      <th>TCGA-RR-A6KA-01</th>\n",
       "      <th>TCGA-RR-A6KB-01</th>\n",
       "      <th>TCGA-RR-A6KC-01</th>\n",
       "    </tr>\n",
       "  </thead>\n",
       "  <tbody>\n",
       "    <tr>\n",
       "      <th>0</th>\n",
       "      <td>ACAP3</td>\n",
       "      <td>0.242</td>\n",
       "      <td>0.007</td>\n",
       "      <td>0.005</td>\n",
       "      <td>-0.072</td>\n",
       "      <td>0.048</td>\n",
       "      <td>-0.094</td>\n",
       "      <td>0.013</td>\n",
       "      <td>-0.029</td>\n",
       "      <td>-0.222</td>\n",
       "      <td>...</td>\n",
       "      <td>-0.003</td>\n",
       "      <td>-0.003</td>\n",
       "      <td>-0.001</td>\n",
       "      <td>0.052</td>\n",
       "      <td>-0.02</td>\n",
       "      <td>-0.916</td>\n",
       "      <td>0.152</td>\n",
       "      <td>-0.047</td>\n",
       "      <td>0.027</td>\n",
       "      <td>-0.016</td>\n",
       "    </tr>\n",
       "    <tr>\n",
       "      <th>1</th>\n",
       "      <td>ACTRT2</td>\n",
       "      <td>0.242</td>\n",
       "      <td>0.007</td>\n",
       "      <td>0.005</td>\n",
       "      <td>-0.072</td>\n",
       "      <td>0.048</td>\n",
       "      <td>-0.094</td>\n",
       "      <td>0.013</td>\n",
       "      <td>-0.029</td>\n",
       "      <td>-0.222</td>\n",
       "      <td>...</td>\n",
       "      <td>-0.003</td>\n",
       "      <td>-0.003</td>\n",
       "      <td>-0.001</td>\n",
       "      <td>0.052</td>\n",
       "      <td>-0.02</td>\n",
       "      <td>-0.916</td>\n",
       "      <td>0.152</td>\n",
       "      <td>-0.047</td>\n",
       "      <td>0.027</td>\n",
       "      <td>-0.016</td>\n",
       "    </tr>\n",
       "  </tbody>\n",
       "</table>\n",
       "<p>2 rows × 578 columns</p>\n",
       "</div>"
      ],
      "text/plain": [
       "  Gene Symbol  TCGA-02-0001-01  TCGA-02-0003-01  TCGA-02-0006-01  \\\n",
       "0       ACAP3            0.242            0.007            0.005   \n",
       "1      ACTRT2            0.242            0.007            0.005   \n",
       "\n",
       "   TCGA-02-0007-01  TCGA-02-0009-01  TCGA-02-0010-01  TCGA-02-0011-01  \\\n",
       "0           -0.072            0.048           -0.094            0.013   \n",
       "1           -0.072            0.048           -0.094            0.013   \n",
       "\n",
       "   TCGA-02-0014-01  TCGA-02-0015-01  ...  TCGA-76-6662-01  TCGA-76-6663-01  \\\n",
       "0           -0.029           -0.222  ...           -0.003           -0.003   \n",
       "1           -0.029           -0.222  ...           -0.003           -0.003   \n",
       "\n",
       "   TCGA-76-6664-01  TCGA-81-5910-01  TCGA-81-5911-01  TCGA-87-5896-01  \\\n",
       "0           -0.001            0.052            -0.02           -0.916   \n",
       "1           -0.001            0.052            -0.02           -0.916   \n",
       "\n",
       "   TCGA-OX-A56R-01  TCGA-RR-A6KA-01  TCGA-RR-A6KB-01  TCGA-RR-A6KC-01  \n",
       "0            0.152           -0.047            0.027           -0.016  \n",
       "1            0.152           -0.047            0.027           -0.016  \n",
       "\n",
       "[2 rows x 578 columns]"
      ]
     },
     "execution_count": 3,
     "metadata": {},
     "output_type": "execute_result"
    }
   ],
   "source": [
    "cnv.head(2)"
   ]
  },
  {
   "cell_type": "code",
   "execution_count": 4,
   "metadata": {},
   "outputs": [
    {
     "data": {
      "text/html": [
       "<div>\n",
       "<style scoped>\n",
       "    .dataframe tbody tr th:only-of-type {\n",
       "        vertical-align: middle;\n",
       "    }\n",
       "\n",
       "    .dataframe tbody tr th {\n",
       "        vertical-align: top;\n",
       "    }\n",
       "\n",
       "    .dataframe thead th {\n",
       "        text-align: right;\n",
       "    }\n",
       "</style>\n",
       "<table border=\"1\" class=\"dataframe\">\n",
       "  <thead>\n",
       "    <tr style=\"text-align: right;\">\n",
       "      <th></th>\n",
       "      <th>sample</th>\n",
       "      <th>TCGA-27-1832-01</th>\n",
       "      <th>TCGA-27-1831-01</th>\n",
       "      <th>TCGA-28-5216-01</th>\n",
       "      <th>TCGA-16-0846-01</th>\n",
       "      <th>TCGA-28-5218-01</th>\n",
       "      <th>TCGA-06-0178-01</th>\n",
       "      <th>TCGA-06-0238-01</th>\n",
       "      <th>TCGA-06-0125-01</th>\n",
       "      <th>TCGA-06-0219-01</th>\n",
       "      <th>...</th>\n",
       "      <th>TCGA-41-2571-01</th>\n",
       "      <th>TCGA-06-0129-01</th>\n",
       "      <th>TCGA-19-2625-01</th>\n",
       "      <th>TCGA-06-2565-01</th>\n",
       "      <th>TCGA-02-2485-01</th>\n",
       "      <th>TCGA-06-0210-01</th>\n",
       "      <th>TCGA-06-0210-02</th>\n",
       "      <th>TCGA-02-0047-01</th>\n",
       "      <th>TCGA-06-0750-01</th>\n",
       "      <th>TCGA-32-1982-01</th>\n",
       "    </tr>\n",
       "  </thead>\n",
       "  <tbody>\n",
       "    <tr>\n",
       "      <th>0</th>\n",
       "      <td>ARHGEF10L</td>\n",
       "      <td>9.8929</td>\n",
       "      <td>8.5115</td>\n",
       "      <td>10.4760</td>\n",
       "      <td>11.1505</td>\n",
       "      <td>8.9427</td>\n",
       "      <td>9.8866</td>\n",
       "      <td>9.4898</td>\n",
       "      <td>10.5040</td>\n",
       "      <td>9.0106</td>\n",
       "      <td>...</td>\n",
       "      <td>10.0803</td>\n",
       "      <td>11.1889</td>\n",
       "      <td>11.2223</td>\n",
       "      <td>10.7435</td>\n",
       "      <td>10.8230</td>\n",
       "      <td>9.6700</td>\n",
       "      <td>11.0339</td>\n",
       "      <td>10.8850</td>\n",
       "      <td>10.3499</td>\n",
       "      <td>10.0621</td>\n",
       "    </tr>\n",
       "    <tr>\n",
       "      <th>1</th>\n",
       "      <td>HIF3A</td>\n",
       "      <td>9.2511</td>\n",
       "      <td>2.3579</td>\n",
       "      <td>7.6115</td>\n",
       "      <td>7.5040</td>\n",
       "      <td>8.1849</td>\n",
       "      <td>5.7765</td>\n",
       "      <td>8.6211</td>\n",
       "      <td>7.5671</td>\n",
       "      <td>6.7722</td>\n",
       "      <td>...</td>\n",
       "      <td>8.6865</td>\n",
       "      <td>11.0359</td>\n",
       "      <td>10.7498</td>\n",
       "      <td>7.1685</td>\n",
       "      <td>9.7483</td>\n",
       "      <td>9.1845</td>\n",
       "      <td>8.7847</td>\n",
       "      <td>7.2025</td>\n",
       "      <td>7.4013</td>\n",
       "      <td>7.9127</td>\n",
       "    </tr>\n",
       "  </tbody>\n",
       "</table>\n",
       "<p>2 rows × 173 columns</p>\n",
       "</div>"
      ],
      "text/plain": [
       "      sample  TCGA-27-1832-01  TCGA-27-1831-01  TCGA-28-5216-01  \\\n",
       "0  ARHGEF10L           9.8929           8.5115          10.4760   \n",
       "1      HIF3A           9.2511           2.3579           7.6115   \n",
       "\n",
       "   TCGA-16-0846-01  TCGA-28-5218-01  TCGA-06-0178-01  TCGA-06-0238-01  \\\n",
       "0          11.1505           8.9427           9.8866           9.4898   \n",
       "1           7.5040           8.1849           5.7765           8.6211   \n",
       "\n",
       "   TCGA-06-0125-01  TCGA-06-0219-01  ...  TCGA-41-2571-01  TCGA-06-0129-01  \\\n",
       "0          10.5040           9.0106  ...          10.0803          11.1889   \n",
       "1           7.5671           6.7722  ...           8.6865          11.0359   \n",
       "\n",
       "   TCGA-19-2625-01  TCGA-06-2565-01  TCGA-02-2485-01  TCGA-06-0210-01  \\\n",
       "0          11.2223          10.7435          10.8230           9.6700   \n",
       "1          10.7498           7.1685           9.7483           9.1845   \n",
       "\n",
       "   TCGA-06-0210-02  TCGA-02-0047-01  TCGA-06-0750-01  TCGA-32-1982-01  \n",
       "0          11.0339          10.8850          10.3499          10.0621  \n",
       "1           8.7847           7.2025           7.4013           7.9127  \n",
       "\n",
       "[2 rows x 173 columns]"
      ]
     },
     "execution_count": 4,
     "metadata": {},
     "output_type": "execute_result"
    }
   ],
   "source": [
    "mrna.head(2)"
   ]
  },
  {
   "cell_type": "code",
   "execution_count": 5,
   "metadata": {},
   "outputs": [],
   "source": [
    "cnv = cnv.set_index('Gene Symbol') \n",
    "mrna = mrna.set_index('sample')  "
   ]
  },
  {
   "cell_type": "code",
   "execution_count": 6,
   "metadata": {},
   "outputs": [
    {
     "data": {
      "text/html": [
       "<div>\n",
       "<style scoped>\n",
       "    .dataframe tbody tr th:only-of-type {\n",
       "        vertical-align: middle;\n",
       "    }\n",
       "\n",
       "    .dataframe tbody tr th {\n",
       "        vertical-align: top;\n",
       "    }\n",
       "\n",
       "    .dataframe thead th {\n",
       "        text-align: right;\n",
       "    }\n",
       "</style>\n",
       "<table border=\"1\" class=\"dataframe\">\n",
       "  <thead>\n",
       "    <tr style=\"text-align: right;\">\n",
       "      <th></th>\n",
       "      <th>TCGA-02-0001-01</th>\n",
       "      <th>TCGA-02-0003-01</th>\n",
       "      <th>TCGA-02-0006-01</th>\n",
       "      <th>TCGA-02-0007-01</th>\n",
       "      <th>TCGA-02-0009-01</th>\n",
       "      <th>TCGA-02-0010-01</th>\n",
       "      <th>TCGA-02-0011-01</th>\n",
       "      <th>TCGA-02-0014-01</th>\n",
       "      <th>TCGA-02-0015-01</th>\n",
       "      <th>TCGA-02-0016-01</th>\n",
       "      <th>...</th>\n",
       "      <th>TCGA-76-6662-01</th>\n",
       "      <th>TCGA-76-6663-01</th>\n",
       "      <th>TCGA-76-6664-01</th>\n",
       "      <th>TCGA-81-5910-01</th>\n",
       "      <th>TCGA-81-5911-01</th>\n",
       "      <th>TCGA-87-5896-01</th>\n",
       "      <th>TCGA-OX-A56R-01</th>\n",
       "      <th>TCGA-RR-A6KA-01</th>\n",
       "      <th>TCGA-RR-A6KB-01</th>\n",
       "      <th>TCGA-RR-A6KC-01</th>\n",
       "    </tr>\n",
       "    <tr>\n",
       "      <th>Gene Symbol</th>\n",
       "      <th></th>\n",
       "      <th></th>\n",
       "      <th></th>\n",
       "      <th></th>\n",
       "      <th></th>\n",
       "      <th></th>\n",
       "      <th></th>\n",
       "      <th></th>\n",
       "      <th></th>\n",
       "      <th></th>\n",
       "      <th></th>\n",
       "      <th></th>\n",
       "      <th></th>\n",
       "      <th></th>\n",
       "      <th></th>\n",
       "      <th></th>\n",
       "      <th></th>\n",
       "      <th></th>\n",
       "      <th></th>\n",
       "      <th></th>\n",
       "      <th></th>\n",
       "    </tr>\n",
       "  </thead>\n",
       "  <tbody>\n",
       "    <tr>\n",
       "      <th>ACAP3</th>\n",
       "      <td>0.242</td>\n",
       "      <td>0.007</td>\n",
       "      <td>0.005</td>\n",
       "      <td>-0.072</td>\n",
       "      <td>0.048</td>\n",
       "      <td>-0.094</td>\n",
       "      <td>0.013</td>\n",
       "      <td>-0.029</td>\n",
       "      <td>-0.222</td>\n",
       "      <td>-0.063</td>\n",
       "      <td>...</td>\n",
       "      <td>-0.003</td>\n",
       "      <td>-0.003</td>\n",
       "      <td>-0.001</td>\n",
       "      <td>0.052</td>\n",
       "      <td>-0.02</td>\n",
       "      <td>-0.916</td>\n",
       "      <td>0.152</td>\n",
       "      <td>-0.047</td>\n",
       "      <td>0.027</td>\n",
       "      <td>-0.016</td>\n",
       "    </tr>\n",
       "    <tr>\n",
       "      <th>ACTRT2</th>\n",
       "      <td>0.242</td>\n",
       "      <td>0.007</td>\n",
       "      <td>0.005</td>\n",
       "      <td>-0.072</td>\n",
       "      <td>0.048</td>\n",
       "      <td>-0.094</td>\n",
       "      <td>0.013</td>\n",
       "      <td>-0.029</td>\n",
       "      <td>-0.222</td>\n",
       "      <td>-0.063</td>\n",
       "      <td>...</td>\n",
       "      <td>-0.003</td>\n",
       "      <td>-0.003</td>\n",
       "      <td>-0.001</td>\n",
       "      <td>0.052</td>\n",
       "      <td>-0.02</td>\n",
       "      <td>-0.916</td>\n",
       "      <td>0.152</td>\n",
       "      <td>-0.047</td>\n",
       "      <td>0.027</td>\n",
       "      <td>-0.016</td>\n",
       "    </tr>\n",
       "  </tbody>\n",
       "</table>\n",
       "<p>2 rows × 577 columns</p>\n",
       "</div>"
      ],
      "text/plain": [
       "             TCGA-02-0001-01  TCGA-02-0003-01  TCGA-02-0006-01  \\\n",
       "Gene Symbol                                                      \n",
       "ACAP3                  0.242            0.007            0.005   \n",
       "ACTRT2                 0.242            0.007            0.005   \n",
       "\n",
       "             TCGA-02-0007-01  TCGA-02-0009-01  TCGA-02-0010-01  \\\n",
       "Gene Symbol                                                      \n",
       "ACAP3                 -0.072            0.048           -0.094   \n",
       "ACTRT2                -0.072            0.048           -0.094   \n",
       "\n",
       "             TCGA-02-0011-01  TCGA-02-0014-01  TCGA-02-0015-01  \\\n",
       "Gene Symbol                                                      \n",
       "ACAP3                  0.013           -0.029           -0.222   \n",
       "ACTRT2                 0.013           -0.029           -0.222   \n",
       "\n",
       "             TCGA-02-0016-01  ...  TCGA-76-6662-01  TCGA-76-6663-01  \\\n",
       "Gene Symbol                   ...                                     \n",
       "ACAP3                 -0.063  ...           -0.003           -0.003   \n",
       "ACTRT2                -0.063  ...           -0.003           -0.003   \n",
       "\n",
       "             TCGA-76-6664-01  TCGA-81-5910-01  TCGA-81-5911-01  \\\n",
       "Gene Symbol                                                      \n",
       "ACAP3                 -0.001            0.052            -0.02   \n",
       "ACTRT2                -0.001            0.052            -0.02   \n",
       "\n",
       "             TCGA-87-5896-01  TCGA-OX-A56R-01  TCGA-RR-A6KA-01  \\\n",
       "Gene Symbol                                                      \n",
       "ACAP3                 -0.916            0.152           -0.047   \n",
       "ACTRT2                -0.916            0.152           -0.047   \n",
       "\n",
       "             TCGA-RR-A6KB-01  TCGA-RR-A6KC-01  \n",
       "Gene Symbol                                    \n",
       "ACAP3                  0.027           -0.016  \n",
       "ACTRT2                 0.027           -0.016  \n",
       "\n",
       "[2 rows x 577 columns]"
      ]
     },
     "execution_count": 6,
     "metadata": {},
     "output_type": "execute_result"
    }
   ],
   "source": [
    "cnv.head(2)"
   ]
  },
  {
   "cell_type": "code",
   "execution_count": 7,
   "metadata": {},
   "outputs": [
    {
     "data": {
      "text/html": [
       "<div>\n",
       "<style scoped>\n",
       "    .dataframe tbody tr th:only-of-type {\n",
       "        vertical-align: middle;\n",
       "    }\n",
       "\n",
       "    .dataframe tbody tr th {\n",
       "        vertical-align: top;\n",
       "    }\n",
       "\n",
       "    .dataframe thead th {\n",
       "        text-align: right;\n",
       "    }\n",
       "</style>\n",
       "<table border=\"1\" class=\"dataframe\">\n",
       "  <thead>\n",
       "    <tr style=\"text-align: right;\">\n",
       "      <th></th>\n",
       "      <th>TCGA-27-1832-01</th>\n",
       "      <th>TCGA-27-1831-01</th>\n",
       "      <th>TCGA-28-5216-01</th>\n",
       "      <th>TCGA-16-0846-01</th>\n",
       "      <th>TCGA-28-5218-01</th>\n",
       "      <th>TCGA-06-0178-01</th>\n",
       "      <th>TCGA-06-0238-01</th>\n",
       "      <th>TCGA-06-0125-01</th>\n",
       "      <th>TCGA-06-0219-01</th>\n",
       "      <th>TCGA-06-0125-02</th>\n",
       "      <th>...</th>\n",
       "      <th>TCGA-41-2571-01</th>\n",
       "      <th>TCGA-06-0129-01</th>\n",
       "      <th>TCGA-19-2625-01</th>\n",
       "      <th>TCGA-06-2565-01</th>\n",
       "      <th>TCGA-02-2485-01</th>\n",
       "      <th>TCGA-06-0210-01</th>\n",
       "      <th>TCGA-06-0210-02</th>\n",
       "      <th>TCGA-02-0047-01</th>\n",
       "      <th>TCGA-06-0750-01</th>\n",
       "      <th>TCGA-32-1982-01</th>\n",
       "    </tr>\n",
       "    <tr>\n",
       "      <th>sample</th>\n",
       "      <th></th>\n",
       "      <th></th>\n",
       "      <th></th>\n",
       "      <th></th>\n",
       "      <th></th>\n",
       "      <th></th>\n",
       "      <th></th>\n",
       "      <th></th>\n",
       "      <th></th>\n",
       "      <th></th>\n",
       "      <th></th>\n",
       "      <th></th>\n",
       "      <th></th>\n",
       "      <th></th>\n",
       "      <th></th>\n",
       "      <th></th>\n",
       "      <th></th>\n",
       "      <th></th>\n",
       "      <th></th>\n",
       "      <th></th>\n",
       "      <th></th>\n",
       "    </tr>\n",
       "  </thead>\n",
       "  <tbody>\n",
       "    <tr>\n",
       "      <th>ARHGEF10L</th>\n",
       "      <td>9.8929</td>\n",
       "      <td>8.5115</td>\n",
       "      <td>10.4760</td>\n",
       "      <td>11.1505</td>\n",
       "      <td>8.9427</td>\n",
       "      <td>9.8866</td>\n",
       "      <td>9.4898</td>\n",
       "      <td>10.5040</td>\n",
       "      <td>9.0106</td>\n",
       "      <td>10.4642</td>\n",
       "      <td>...</td>\n",
       "      <td>10.0803</td>\n",
       "      <td>11.1889</td>\n",
       "      <td>11.2223</td>\n",
       "      <td>10.7435</td>\n",
       "      <td>10.8230</td>\n",
       "      <td>9.6700</td>\n",
       "      <td>11.0339</td>\n",
       "      <td>10.8850</td>\n",
       "      <td>10.3499</td>\n",
       "      <td>10.0621</td>\n",
       "    </tr>\n",
       "    <tr>\n",
       "      <th>HIF3A</th>\n",
       "      <td>9.2511</td>\n",
       "      <td>2.3579</td>\n",
       "      <td>7.6115</td>\n",
       "      <td>7.5040</td>\n",
       "      <td>8.1849</td>\n",
       "      <td>5.7765</td>\n",
       "      <td>8.6211</td>\n",
       "      <td>7.5671</td>\n",
       "      <td>6.7722</td>\n",
       "      <td>7.4054</td>\n",
       "      <td>...</td>\n",
       "      <td>8.6865</td>\n",
       "      <td>11.0359</td>\n",
       "      <td>10.7498</td>\n",
       "      <td>7.1685</td>\n",
       "      <td>9.7483</td>\n",
       "      <td>9.1845</td>\n",
       "      <td>8.7847</td>\n",
       "      <td>7.2025</td>\n",
       "      <td>7.4013</td>\n",
       "      <td>7.9127</td>\n",
       "    </tr>\n",
       "  </tbody>\n",
       "</table>\n",
       "<p>2 rows × 172 columns</p>\n",
       "</div>"
      ],
      "text/plain": [
       "           TCGA-27-1832-01  TCGA-27-1831-01  TCGA-28-5216-01  TCGA-16-0846-01  \\\n",
       "sample                                                                          \n",
       "ARHGEF10L           9.8929           8.5115          10.4760          11.1505   \n",
       "HIF3A               9.2511           2.3579           7.6115           7.5040   \n",
       "\n",
       "           TCGA-28-5218-01  TCGA-06-0178-01  TCGA-06-0238-01  TCGA-06-0125-01  \\\n",
       "sample                                                                          \n",
       "ARHGEF10L           8.9427           9.8866           9.4898          10.5040   \n",
       "HIF3A               8.1849           5.7765           8.6211           7.5671   \n",
       "\n",
       "           TCGA-06-0219-01  TCGA-06-0125-02  ...  TCGA-41-2571-01  \\\n",
       "sample                                       ...                    \n",
       "ARHGEF10L           9.0106          10.4642  ...          10.0803   \n",
       "HIF3A               6.7722           7.4054  ...           8.6865   \n",
       "\n",
       "           TCGA-06-0129-01  TCGA-19-2625-01  TCGA-06-2565-01  TCGA-02-2485-01  \\\n",
       "sample                                                                          \n",
       "ARHGEF10L          11.1889          11.2223          10.7435          10.8230   \n",
       "HIF3A              11.0359          10.7498           7.1685           9.7483   \n",
       "\n",
       "           TCGA-06-0210-01  TCGA-06-0210-02  TCGA-02-0047-01  TCGA-06-0750-01  \\\n",
       "sample                                                                          \n",
       "ARHGEF10L           9.6700          11.0339          10.8850          10.3499   \n",
       "HIF3A               9.1845           8.7847           7.2025           7.4013   \n",
       "\n",
       "           TCGA-32-1982-01  \n",
       "sample                      \n",
       "ARHGEF10L          10.0621  \n",
       "HIF3A               7.9127  \n",
       "\n",
       "[2 rows x 172 columns]"
      ]
     },
     "execution_count": 7,
     "metadata": {},
     "output_type": "execute_result"
    }
   ],
   "source": [
    "mrna.head(2)"
   ]
  },
  {
   "cell_type": "markdown",
   "metadata": {},
   "source": [
    "Transpose the data"
   ]
  },
  {
   "cell_type": "code",
   "execution_count": 8,
   "metadata": {},
   "outputs": [
    {
     "name": "stdout",
     "output_type": "stream",
     "text": [
      "cnv: (577, 24776)\n",
      "mrna: (172, 20530)\n"
     ]
    }
   ],
   "source": [
    "cnv = np.transpose(cnv)\n",
    "print(\"cnv:\", cnv.shape)\n",
    "mrna = np.transpose(mrna)\n",
    "print(\"mrna:\", mrna.shape)\n",
    "#print(\"clinical:\", clinical.shape) # clinical do not need to transpose"
   ]
  },
  {
   "cell_type": "code",
   "execution_count": 9,
   "metadata": {},
   "outputs": [
    {
     "data": {
      "text/html": [
       "<div>\n",
       "<style scoped>\n",
       "    .dataframe tbody tr th:only-of-type {\n",
       "        vertical-align: middle;\n",
       "    }\n",
       "\n",
       "    .dataframe tbody tr th {\n",
       "        vertical-align: top;\n",
       "    }\n",
       "\n",
       "    .dataframe thead th {\n",
       "        text-align: right;\n",
       "    }\n",
       "</style>\n",
       "<table border=\"1\" class=\"dataframe\">\n",
       "  <thead>\n",
       "    <tr style=\"text-align: right;\">\n",
       "      <th>Gene Symbol</th>\n",
       "      <th>ACAP3</th>\n",
       "      <th>ACTRT2</th>\n",
       "      <th>AGRN</th>\n",
       "      <th>ANKRD65</th>\n",
       "      <th>ATAD3A</th>\n",
       "      <th>ATAD3B</th>\n",
       "      <th>ATAD3C</th>\n",
       "      <th>AURKAIP1</th>\n",
       "      <th>B3GALT6</th>\n",
       "      <th>C1orf159</th>\n",
       "      <th>...</th>\n",
       "      <th>SMIM9</th>\n",
       "      <th>SNORA36A</th>\n",
       "      <th>SNORA56</th>\n",
       "      <th>TMLHE</th>\n",
       "      <th>VBP1</th>\n",
       "      <th>IL9R|ENSG00000124334.12</th>\n",
       "      <th>SPRY3|ENSG00000168939.6</th>\n",
       "      <th>VAMP7|ENSG00000124333.10</th>\n",
       "      <th>WASH6P|ENSG00000182484.10</th>\n",
       "      <th>WASIR1|ENSG00000185203.7</th>\n",
       "    </tr>\n",
       "  </thead>\n",
       "  <tbody>\n",
       "    <tr>\n",
       "      <th>TCGA-02-0001-01</th>\n",
       "      <td>0.242</td>\n",
       "      <td>0.242</td>\n",
       "      <td>0.242</td>\n",
       "      <td>0.242</td>\n",
       "      <td>0.242</td>\n",
       "      <td>0.242</td>\n",
       "      <td>0.242</td>\n",
       "      <td>0.242</td>\n",
       "      <td>0.242</td>\n",
       "      <td>0.242</td>\n",
       "      <td>...</td>\n",
       "      <td>0.076</td>\n",
       "      <td>0.076</td>\n",
       "      <td>0.076</td>\n",
       "      <td>0.076</td>\n",
       "      <td>0.076</td>\n",
       "      <td>0.076</td>\n",
       "      <td>0.076</td>\n",
       "      <td>0.076</td>\n",
       "      <td>0.076</td>\n",
       "      <td>0.076</td>\n",
       "    </tr>\n",
       "    <tr>\n",
       "      <th>TCGA-02-0003-01</th>\n",
       "      <td>0.007</td>\n",
       "      <td>0.007</td>\n",
       "      <td>0.007</td>\n",
       "      <td>0.007</td>\n",
       "      <td>0.007</td>\n",
       "      <td>0.007</td>\n",
       "      <td>0.007</td>\n",
       "      <td>0.007</td>\n",
       "      <td>0.007</td>\n",
       "      <td>0.007</td>\n",
       "      <td>...</td>\n",
       "      <td>-0.071</td>\n",
       "      <td>-0.071</td>\n",
       "      <td>-0.071</td>\n",
       "      <td>-0.071</td>\n",
       "      <td>-0.071</td>\n",
       "      <td>-0.071</td>\n",
       "      <td>-0.071</td>\n",
       "      <td>-0.071</td>\n",
       "      <td>-0.071</td>\n",
       "      <td>-0.071</td>\n",
       "    </tr>\n",
       "  </tbody>\n",
       "</table>\n",
       "<p>2 rows × 24776 columns</p>\n",
       "</div>"
      ],
      "text/plain": [
       "Gene Symbol      ACAP3  ACTRT2   AGRN  ANKRD65  ATAD3A  ATAD3B  ATAD3C  \\\n",
       "TCGA-02-0001-01  0.242   0.242  0.242    0.242   0.242   0.242   0.242   \n",
       "TCGA-02-0003-01  0.007   0.007  0.007    0.007   0.007   0.007   0.007   \n",
       "\n",
       "Gene Symbol      AURKAIP1  B3GALT6  C1orf159  ...  SMIM9  SNORA36A  SNORA56  \\\n",
       "TCGA-02-0001-01     0.242    0.242     0.242  ...  0.076     0.076    0.076   \n",
       "TCGA-02-0003-01     0.007    0.007     0.007  ... -0.071    -0.071   -0.071   \n",
       "\n",
       "Gene Symbol      TMLHE   VBP1  IL9R|ENSG00000124334.12  \\\n",
       "TCGA-02-0001-01  0.076  0.076                    0.076   \n",
       "TCGA-02-0003-01 -0.071 -0.071                   -0.071   \n",
       "\n",
       "Gene Symbol      SPRY3|ENSG00000168939.6  VAMP7|ENSG00000124333.10  \\\n",
       "TCGA-02-0001-01                    0.076                     0.076   \n",
       "TCGA-02-0003-01                   -0.071                    -0.071   \n",
       "\n",
       "Gene Symbol      WASH6P|ENSG00000182484.10  WASIR1|ENSG00000185203.7  \n",
       "TCGA-02-0001-01                      0.076                     0.076  \n",
       "TCGA-02-0003-01                     -0.071                    -0.071  \n",
       "\n",
       "[2 rows x 24776 columns]"
      ]
     },
     "execution_count": 9,
     "metadata": {},
     "output_type": "execute_result"
    }
   ],
   "source": [
    "cnv.head(2)"
   ]
  },
  {
   "cell_type": "code",
   "execution_count": 10,
   "metadata": {},
   "outputs": [
    {
     "data": {
      "text/html": [
       "<div>\n",
       "<style scoped>\n",
       "    .dataframe tbody tr th:only-of-type {\n",
       "        vertical-align: middle;\n",
       "    }\n",
       "\n",
       "    .dataframe tbody tr th {\n",
       "        vertical-align: top;\n",
       "    }\n",
       "\n",
       "    .dataframe thead th {\n",
       "        text-align: right;\n",
       "    }\n",
       "</style>\n",
       "<table border=\"1\" class=\"dataframe\">\n",
       "  <thead>\n",
       "    <tr style=\"text-align: right;\">\n",
       "      <th>sample</th>\n",
       "      <th>ARHGEF10L</th>\n",
       "      <th>HIF3A</th>\n",
       "      <th>RNF17</th>\n",
       "      <th>RNF10</th>\n",
       "      <th>RNF11</th>\n",
       "      <th>RNF13</th>\n",
       "      <th>GTF2IP1</th>\n",
       "      <th>REM1</th>\n",
       "      <th>MTVR2</th>\n",
       "      <th>RTN4RL2</th>\n",
       "      <th>...</th>\n",
       "      <th>TULP2</th>\n",
       "      <th>NPY5R</th>\n",
       "      <th>GNGT2</th>\n",
       "      <th>GNGT1</th>\n",
       "      <th>TULP3</th>\n",
       "      <th>PTRF</th>\n",
       "      <th>BCL6B</th>\n",
       "      <th>GSTK1</th>\n",
       "      <th>SELP</th>\n",
       "      <th>SELS</th>\n",
       "    </tr>\n",
       "  </thead>\n",
       "  <tbody>\n",
       "    <tr>\n",
       "      <th>TCGA-27-1832-01</th>\n",
       "      <td>9.8929</td>\n",
       "      <td>9.2511</td>\n",
       "      <td>0.0</td>\n",
       "      <td>11.9661</td>\n",
       "      <td>10.8284</td>\n",
       "      <td>11.2220</td>\n",
       "      <td>13.0658</td>\n",
       "      <td>1.8913</td>\n",
       "      <td>0.0</td>\n",
       "      <td>4.2528</td>\n",
       "      <td>...</td>\n",
       "      <td>3.5655</td>\n",
       "      <td>4.7890</td>\n",
       "      <td>6.3144</td>\n",
       "      <td>0.0</td>\n",
       "      <td>9.2901</td>\n",
       "      <td>13.3932</td>\n",
       "      <td>6.8431</td>\n",
       "      <td>11.9599</td>\n",
       "      <td>2.9587</td>\n",
       "      <td>10.1312</td>\n",
       "    </tr>\n",
       "    <tr>\n",
       "      <th>TCGA-27-1831-01</th>\n",
       "      <td>8.5115</td>\n",
       "      <td>2.3579</td>\n",
       "      <td>0.0</td>\n",
       "      <td>10.2652</td>\n",
       "      <td>12.3519</td>\n",
       "      <td>12.7531</td>\n",
       "      <td>12.9097</td>\n",
       "      <td>4.2597</td>\n",
       "      <td>0.0</td>\n",
       "      <td>1.7973</td>\n",
       "      <td>...</td>\n",
       "      <td>0.8681</td>\n",
       "      <td>3.8282</td>\n",
       "      <td>6.3260</td>\n",
       "      <td>0.0</td>\n",
       "      <td>7.8635</td>\n",
       "      <td>9.9241</td>\n",
       "      <td>6.5070</td>\n",
       "      <td>12.7814</td>\n",
       "      <td>3.4467</td>\n",
       "      <td>11.2738</td>\n",
       "    </tr>\n",
       "  </tbody>\n",
       "</table>\n",
       "<p>2 rows × 20530 columns</p>\n",
       "</div>"
      ],
      "text/plain": [
       "sample           ARHGEF10L   HIF3A  RNF17    RNF10    RNF11    RNF13  GTF2IP1  \\\n",
       "TCGA-27-1832-01     9.8929  9.2511    0.0  11.9661  10.8284  11.2220  13.0658   \n",
       "TCGA-27-1831-01     8.5115  2.3579    0.0  10.2652  12.3519  12.7531  12.9097   \n",
       "\n",
       "sample             REM1  MTVR2  RTN4RL2  ...   TULP2   NPY5R   GNGT2  GNGT1  \\\n",
       "TCGA-27-1832-01  1.8913    0.0   4.2528  ...  3.5655  4.7890  6.3144    0.0   \n",
       "TCGA-27-1831-01  4.2597    0.0   1.7973  ...  0.8681  3.8282  6.3260    0.0   \n",
       "\n",
       "sample            TULP3     PTRF   BCL6B    GSTK1    SELP     SELS  \n",
       "TCGA-27-1832-01  9.2901  13.3932  6.8431  11.9599  2.9587  10.1312  \n",
       "TCGA-27-1831-01  7.8635   9.9241  6.5070  12.7814  3.4467  11.2738  \n",
       "\n",
       "[2 rows x 20530 columns]"
      ]
     },
     "execution_count": 10,
     "metadata": {},
     "output_type": "execute_result"
    }
   ],
   "source": [
    "mrna.head(2)"
   ]
  },
  {
   "cell_type": "markdown",
   "metadata": {},
   "source": [
    "Remove duplication"
   ]
  },
  {
   "cell_type": "code",
   "execution_count": 11,
   "metadata": {},
   "outputs": [
    {
     "name": "stdout",
     "output_type": "stream",
     "text": [
      "cnv: (577, 24776)\n",
      "mrna (172, 20530)\n"
     ]
    }
   ],
   "source": [
    "cnv = cnv[~cnv.duplicated(keep='first')]\n",
    "mrna = mrna[~mrna.duplicated(keep='first')]\n",
    "\n",
    "print(\"cnv:\", cnv.shape)\n",
    "print(\"mrna\", mrna.shape)"
   ]
  },
  {
   "attachments": {},
   "cell_type": "markdown",
   "metadata": {},
   "source": [
    "Identify shared patients across all datasets and exclude those not shared\n"
   ]
  },
  {
   "cell_type": "code",
   "execution_count": 12,
   "metadata": {},
   "outputs": [
    {
     "name": "stdout",
     "output_type": "stream",
     "text": [
      "Shape of common samples: 148\n"
     ]
    },
    {
     "data": {
      "text/html": [
       "<div>\n",
       "<style scoped>\n",
       "    .dataframe tbody tr th:only-of-type {\n",
       "        vertical-align: middle;\n",
       "    }\n",
       "\n",
       "    .dataframe tbody tr th {\n",
       "        vertical-align: top;\n",
       "    }\n",
       "\n",
       "    .dataframe thead th {\n",
       "        text-align: right;\n",
       "    }\n",
       "</style>\n",
       "<table border=\"1\" class=\"dataframe\">\n",
       "  <thead>\n",
       "    <tr style=\"text-align: right;\">\n",
       "      <th></th>\n",
       "      <th>sample</th>\n",
       "    </tr>\n",
       "  </thead>\n",
       "  <tbody>\n",
       "    <tr>\n",
       "      <th>0</th>\n",
       "      <td>TCGA-06-2563-01</td>\n",
       "    </tr>\n",
       "    <tr>\n",
       "      <th>1</th>\n",
       "      <td>TCGA-27-1832-01</td>\n",
       "    </tr>\n",
       "    <tr>\n",
       "      <th>2</th>\n",
       "      <td>TCGA-06-0125-01</td>\n",
       "    </tr>\n",
       "  </tbody>\n",
       "</table>\n",
       "</div>"
      ],
      "text/plain": [
       "            sample\n",
       "0  TCGA-06-2563-01\n",
       "1  TCGA-27-1832-01\n",
       "2  TCGA-06-0125-01"
      ]
     },
     "execution_count": 12,
     "metadata": {},
     "output_type": "execute_result"
    }
   ],
   "source": [
    "cnv.index.names = ['sample']\n",
    "mrna.index.names = ['sample']\n",
    "\n",
    "cnv = cnv.sort_values(by='sample')\n",
    "mrna = mrna.sort_values(by='sample')\n",
    "\n",
    "cnv = cnv.reset_index()\n",
    "mrna = mrna.reset_index()\n",
    "\n",
    "list_1 = cnv['sample'].values.tolist()\n",
    "list_2 = mrna['sample'].values.tolist()\n",
    "\n",
    "common_list0 = set(list_1).intersection(list_2)\n",
    "print (\"Shape of common samples:\", len(common_list0))\n",
    "\n",
    "common_df = pd.DataFrame(common_list0)\n",
    "common_df.rename(columns = {0:'sample'}, inplace = True)\n",
    "common_df.head(3)"
   ]
  },
  {
   "cell_type": "code",
   "execution_count": 13,
   "metadata": {},
   "outputs": [
    {
     "data": {
      "text/html": [
       "<div>\n",
       "<style scoped>\n",
       "    .dataframe tbody tr th:only-of-type {\n",
       "        vertical-align: middle;\n",
       "    }\n",
       "\n",
       "    .dataframe tbody tr th {\n",
       "        vertical-align: top;\n",
       "    }\n",
       "\n",
       "    .dataframe thead th {\n",
       "        text-align: right;\n",
       "    }\n",
       "</style>\n",
       "<table border=\"1\" class=\"dataframe\">\n",
       "  <thead>\n",
       "    <tr style=\"text-align: right;\">\n",
       "      <th>Gene Symbol</th>\n",
       "      <th>sample</th>\n",
       "      <th>ACAP3</th>\n",
       "      <th>ACTRT2</th>\n",
       "      <th>AGRN</th>\n",
       "      <th>ANKRD65</th>\n",
       "      <th>ATAD3A</th>\n",
       "      <th>ATAD3B</th>\n",
       "      <th>ATAD3C</th>\n",
       "      <th>AURKAIP1</th>\n",
       "      <th>B3GALT6</th>\n",
       "      <th>...</th>\n",
       "      <th>SMIM9</th>\n",
       "      <th>SNORA36A</th>\n",
       "      <th>SNORA56</th>\n",
       "      <th>TMLHE</th>\n",
       "      <th>VBP1</th>\n",
       "      <th>IL9R|ENSG00000124334.12</th>\n",
       "      <th>SPRY3|ENSG00000168939.6</th>\n",
       "      <th>VAMP7|ENSG00000124333.10</th>\n",
       "      <th>WASH6P|ENSG00000182484.10</th>\n",
       "      <th>WASIR1|ENSG00000185203.7</th>\n",
       "    </tr>\n",
       "  </thead>\n",
       "  <tbody>\n",
       "    <tr>\n",
       "      <th>0</th>\n",
       "      <td>TCGA-02-0001-01</td>\n",
       "      <td>0.242</td>\n",
       "      <td>0.242</td>\n",
       "      <td>0.242</td>\n",
       "      <td>0.242</td>\n",
       "      <td>0.242</td>\n",
       "      <td>0.242</td>\n",
       "      <td>0.242</td>\n",
       "      <td>0.242</td>\n",
       "      <td>0.242</td>\n",
       "      <td>...</td>\n",
       "      <td>0.076</td>\n",
       "      <td>0.076</td>\n",
       "      <td>0.076</td>\n",
       "      <td>0.076</td>\n",
       "      <td>0.076</td>\n",
       "      <td>0.076</td>\n",
       "      <td>0.076</td>\n",
       "      <td>0.076</td>\n",
       "      <td>0.076</td>\n",
       "      <td>0.076</td>\n",
       "    </tr>\n",
       "    <tr>\n",
       "      <th>1</th>\n",
       "      <td>TCGA-02-0003-01</td>\n",
       "      <td>0.007</td>\n",
       "      <td>0.007</td>\n",
       "      <td>0.007</td>\n",
       "      <td>0.007</td>\n",
       "      <td>0.007</td>\n",
       "      <td>0.007</td>\n",
       "      <td>0.007</td>\n",
       "      <td>0.007</td>\n",
       "      <td>0.007</td>\n",
       "      <td>...</td>\n",
       "      <td>-0.071</td>\n",
       "      <td>-0.071</td>\n",
       "      <td>-0.071</td>\n",
       "      <td>-0.071</td>\n",
       "      <td>-0.071</td>\n",
       "      <td>-0.071</td>\n",
       "      <td>-0.071</td>\n",
       "      <td>-0.071</td>\n",
       "      <td>-0.071</td>\n",
       "      <td>-0.071</td>\n",
       "    </tr>\n",
       "  </tbody>\n",
       "</table>\n",
       "<p>2 rows × 24777 columns</p>\n",
       "</div>"
      ],
      "text/plain": [
       "Gene Symbol           sample  ACAP3  ACTRT2   AGRN  ANKRD65  ATAD3A  ATAD3B  \\\n",
       "0            TCGA-02-0001-01  0.242   0.242  0.242    0.242   0.242   0.242   \n",
       "1            TCGA-02-0003-01  0.007   0.007  0.007    0.007   0.007   0.007   \n",
       "\n",
       "Gene Symbol  ATAD3C  AURKAIP1  B3GALT6  ...  SMIM9  SNORA36A  SNORA56  TMLHE  \\\n",
       "0             0.242     0.242    0.242  ...  0.076     0.076    0.076  0.076   \n",
       "1             0.007     0.007    0.007  ... -0.071    -0.071   -0.071 -0.071   \n",
       "\n",
       "Gene Symbol   VBP1  IL9R|ENSG00000124334.12  SPRY3|ENSG00000168939.6  \\\n",
       "0            0.076                    0.076                    0.076   \n",
       "1           -0.071                   -0.071                   -0.071   \n",
       "\n",
       "Gene Symbol  VAMP7|ENSG00000124333.10  WASH6P|ENSG00000182484.10  \\\n",
       "0                               0.076                      0.076   \n",
       "1                              -0.071                     -0.071   \n",
       "\n",
       "Gene Symbol  WASIR1|ENSG00000185203.7  \n",
       "0                               0.076  \n",
       "1                              -0.071  \n",
       "\n",
       "[2 rows x 24777 columns]"
      ]
     },
     "execution_count": 13,
     "metadata": {},
     "output_type": "execute_result"
    }
   ],
   "source": [
    "cnv.head(2)"
   ]
  },
  {
   "cell_type": "code",
   "execution_count": 14,
   "metadata": {},
   "outputs": [
    {
     "data": {
      "text/html": [
       "<div>\n",
       "<style scoped>\n",
       "    .dataframe tbody tr th:only-of-type {\n",
       "        vertical-align: middle;\n",
       "    }\n",
       "\n",
       "    .dataframe tbody tr th {\n",
       "        vertical-align: top;\n",
       "    }\n",
       "\n",
       "    .dataframe thead th {\n",
       "        text-align: right;\n",
       "    }\n",
       "</style>\n",
       "<table border=\"1\" class=\"dataframe\">\n",
       "  <thead>\n",
       "    <tr style=\"text-align: right;\">\n",
       "      <th>sample</th>\n",
       "      <th>sample</th>\n",
       "      <th>ARHGEF10L</th>\n",
       "      <th>HIF3A</th>\n",
       "      <th>RNF17</th>\n",
       "      <th>RNF10</th>\n",
       "      <th>RNF11</th>\n",
       "      <th>RNF13</th>\n",
       "      <th>GTF2IP1</th>\n",
       "      <th>REM1</th>\n",
       "      <th>MTVR2</th>\n",
       "      <th>...</th>\n",
       "      <th>TULP2</th>\n",
       "      <th>NPY5R</th>\n",
       "      <th>GNGT2</th>\n",
       "      <th>GNGT1</th>\n",
       "      <th>TULP3</th>\n",
       "      <th>PTRF</th>\n",
       "      <th>BCL6B</th>\n",
       "      <th>GSTK1</th>\n",
       "      <th>SELP</th>\n",
       "      <th>SELS</th>\n",
       "    </tr>\n",
       "  </thead>\n",
       "  <tbody>\n",
       "    <tr>\n",
       "      <th>0</th>\n",
       "      <td>TCGA-02-0047-01</td>\n",
       "      <td>10.8850</td>\n",
       "      <td>7.2025</td>\n",
       "      <td>0.0</td>\n",
       "      <td>11.4257</td>\n",
       "      <td>11.4626</td>\n",
       "      <td>11.7846</td>\n",
       "      <td>13.2226</td>\n",
       "      <td>2.7075</td>\n",
       "      <td>0.0</td>\n",
       "      <td>...</td>\n",
       "      <td>0.0000</td>\n",
       "      <td>5.4803</td>\n",
       "      <td>5.6837</td>\n",
       "      <td>0.0</td>\n",
       "      <td>8.8536</td>\n",
       "      <td>11.5592</td>\n",
       "      <td>7.3565</td>\n",
       "      <td>10.0220</td>\n",
       "      <td>1.1566</td>\n",
       "      <td>9.5989</td>\n",
       "    </tr>\n",
       "    <tr>\n",
       "      <th>1</th>\n",
       "      <td>TCGA-02-0055-01</td>\n",
       "      <td>8.9992</td>\n",
       "      <td>7.0586</td>\n",
       "      <td>0.0</td>\n",
       "      <td>11.4327</td>\n",
       "      <td>11.8005</td>\n",
       "      <td>11.0846</td>\n",
       "      <td>12.1154</td>\n",
       "      <td>3.3176</td>\n",
       "      <td>0.0</td>\n",
       "      <td>...</td>\n",
       "      <td>1.4233</td>\n",
       "      <td>0.6421</td>\n",
       "      <td>5.7913</td>\n",
       "      <td>0.0</td>\n",
       "      <td>9.2456</td>\n",
       "      <td>12.7854</td>\n",
       "      <td>5.3506</td>\n",
       "      <td>11.0894</td>\n",
       "      <td>4.8595</td>\n",
       "      <td>10.8950</td>\n",
       "    </tr>\n",
       "  </tbody>\n",
       "</table>\n",
       "<p>2 rows × 20531 columns</p>\n",
       "</div>"
      ],
      "text/plain": [
       "sample           sample  ARHGEF10L   HIF3A  RNF17    RNF10    RNF11    RNF13  \\\n",
       "0       TCGA-02-0047-01    10.8850  7.2025    0.0  11.4257  11.4626  11.7846   \n",
       "1       TCGA-02-0055-01     8.9992  7.0586    0.0  11.4327  11.8005  11.0846   \n",
       "\n",
       "sample  GTF2IP1    REM1  MTVR2  ...   TULP2   NPY5R   GNGT2  GNGT1   TULP3  \\\n",
       "0       13.2226  2.7075    0.0  ...  0.0000  5.4803  5.6837    0.0  8.8536   \n",
       "1       12.1154  3.3176    0.0  ...  1.4233  0.6421  5.7913    0.0  9.2456   \n",
       "\n",
       "sample     PTRF   BCL6B    GSTK1    SELP     SELS  \n",
       "0       11.5592  7.3565  10.0220  1.1566   9.5989  \n",
       "1       12.7854  5.3506  11.0894  4.8595  10.8950  \n",
       "\n",
       "[2 rows x 20531 columns]"
      ]
     },
     "execution_count": 14,
     "metadata": {},
     "output_type": "execute_result"
    }
   ],
   "source": [
    "mrna.head(2)"
   ]
  },
  {
   "attachments": {},
   "cell_type": "markdown",
   "metadata": {
    "id": "V87FJ20YR8pJ"
   },
   "source": [
    "Identify shared patients across all datasets and exclude those not shared\n"
   ]
  },
  {
   "cell_type": "code",
   "execution_count": 15,
   "metadata": {},
   "outputs": [
    {
     "name": "stdout",
     "output_type": "stream",
     "text": [
      "Shape of samples CNV: (148, 24777)\n",
      "Shape of samples RNA Sequence (RNASeq): (148, 20531)\n"
     ]
    }
   ],
   "source": [
    "cnv_common = cnv[cnv['sample'].isin(common_df['sample'])]\n",
    "print (\"Shape of samples CNV:\", cnv_common.shape)\n",
    "\n",
    "mrna_common = mrna[mrna['sample'].isin(common_df['sample'])]\n",
    "print (\"Shape of samples RNA Sequence (RNASeq):\", mrna_common.shape)"
   ]
  },
  {
   "attachments": {},
   "cell_type": "markdown",
   "metadata": {},
   "source": [
    "Concatenate datasets with class labels\n",
    "\n"
   ]
  },
  {
   "cell_type": "code",
   "execution_count": 16,
   "metadata": {
    "executionInfo": {
     "elapsed": 11,
     "status": "aborted",
     "timestamp": 1670413253501,
     "user": {
      "displayName": "Sabrina Azmi",
      "userId": "03843576326678916867"
     },
     "user_tz": -480
    },
    "id": "MELfdKWoSCEy"
   },
   "outputs": [
    {
     "name": "stdout",
     "output_type": "stream",
     "text": [
      "PAM50Call_RNAseq: ['Classical' 'Neural' 'Proneural' 'Mesenchymal' nan]\n",
      "GeneExp_Subtype\n",
      "Mesenchymal    166\n",
      "Classical      150\n",
      "Proneural      140\n",
      "Neural          90\n",
      "Name: count, dtype: int64\n"
     ]
    }
   ],
   "source": [
    "dataClass = clinical.GeneExp_Subtype.unique()\n",
    "print(\"GeneExp_Subtype:\", dataClass)\n",
    "print(clinical.GeneExp_Subtype.value_counts())"
   ]
  },
  {
   "cell_type": "code",
   "execution_count": 17,
   "metadata": {},
   "outputs": [],
   "source": [
    "cnv_common.set_index('sample', inplace=True)\n",
    "mrna_common.set_index('sample', inplace=True)"
   ]
  },
  {
   "cell_type": "code",
   "execution_count": 18,
   "metadata": {
    "executionInfo": {
     "elapsed": 12,
     "status": "aborted",
     "timestamp": 1670413253502,
     "user": {
      "displayName": "Sabrina Azmi",
      "userId": "03843576326678916867"
     },
     "user_tz": -480
    },
    "id": "H0zi_0MDS5Su"
   },
   "outputs": [
    {
     "name": "stdout",
     "output_type": "stream",
     "text": [
      "cnv: (148, 24777)\n",
      "RNA Sequence (RNASeq): (148, 20531)\n"
     ]
    }
   ],
   "source": [
    "cnv_common_class = pd.merge(cnv_common, clinical.set_index('sampleID')['GeneExp_Subtype'].to_frame(), how='inner', left_on='sample', right_index=True)\n",
    "print (\"cnv:\", cnv_common_class.shape)\n",
    "\n",
    "mrna_common_class = pd.merge(mrna_common, clinical.set_index('sampleID')['GeneExp_Subtype'].to_frame(), how='inner', left_on='sample', right_index=True)\n",
    "print (\"RNA Sequence (RNASeq):\", mrna_common_class.shape)"
   ]
  },
  {
   "cell_type": "markdown",
   "metadata": {},
   "source": [
    "Examine cancer subtypes and class distributions, then retain only patients with sufficient representation in the class labels"
   ]
  },
  {
   "cell_type": "code",
   "execution_count": 19,
   "metadata": {},
   "outputs": [
    {
     "name": "stdout",
     "output_type": "stream",
     "text": [
      "GeneExp_Subtype\n",
      "Mesenchymal    49\n",
      "Classical      39\n",
      "Proneural      34\n",
      "Neural         25\n",
      "Name: count, dtype: int64\n",
      "GeneExp_Subtype\n",
      "Mesenchymal    49\n",
      "Classical      39\n",
      "Proneural      34\n",
      "Neural         25\n",
      "Name: count, dtype: int64\n"
     ]
    }
   ],
   "source": [
    "print(cnv_common_class.GeneExp_Subtype.value_counts())\n",
    "print(mrna_common_class.GeneExp_Subtype.value_counts())"
   ]
  },
  {
   "cell_type": "code",
   "execution_count": 20,
   "metadata": {
    "executionInfo": {
     "elapsed": 13,
     "status": "aborted",
     "timestamp": 1670413253504,
     "user": {
      "displayName": "Sabrina Azmi",
      "userId": "03843576326678916867"
     },
     "user_tz": -480
    },
    "id": "Yhv9WsPB7vPb"
   },
   "outputs": [
    {
     "name": "stdout",
     "output_type": "stream",
     "text": [
      "cnv: (147, 24777)\n",
      "mrna (147, 20531)\n"
     ]
    }
   ],
   "source": [
    "cnv_common_class.dropna(subset=['GeneExp_Subtype'], inplace = True)\n",
    "print(\"cnv:\", cnv_common_class.shape)\n",
    "\n",
    "mrna_common_class.dropna(subset=['GeneExp_Subtype'], inplace = True)\n",
    "print(\"mrna\", mrna_common_class.shape)"
   ]
  },
  {
   "attachments": {},
   "cell_type": "markdown",
   "metadata": {},
   "source": [
    "Remove features with missing values\n"
   ]
  },
  {
   "cell_type": "code",
   "execution_count": 21,
   "metadata": {},
   "outputs": [
    {
     "name": "stdout",
     "output_type": "stream",
     "text": [
      "Any missing values in cnv?:  False\n",
      "Any missing values in mrna?: False\n"
     ]
    }
   ],
   "source": [
    "print (\"Any missing values in cnv?: \", cnv_common_class.isnull().values.any())\n",
    "print (\"Any missing values in mrna?:\", mrna_common_class.isnull().values.any())"
   ]
  },
  {
   "cell_type": "code",
   "execution_count": 22,
   "metadata": {
    "executionInfo": {
     "elapsed": 13,
     "status": "aborted",
     "timestamp": 1670413253504,
     "user": {
      "displayName": "Sabrina Azmi",
      "userId": "03843576326678916867"
     },
     "user_tz": -480
    },
    "id": "zUrKhGhaUg-q"
   },
   "outputs": [
    {
     "name": "stdout",
     "output_type": "stream",
     "text": [
      "cnv: (147, 24777)\n",
      "mrna (147, 20531)\n"
     ]
    }
   ],
   "source": [
    "cnv_common_class.dropna(axis=1, how='any', inplace = True) \n",
    "mrna_common_class.dropna(axis=1, how='any', inplace = True)\n",
    "\n",
    "print(\"cnv:\", cnv_common_class.shape)\n",
    "print(\"mrna\", mrna_common_class.shape)"
   ]
  },
  {
   "cell_type": "code",
   "execution_count": 23,
   "metadata": {
    "executionInfo": {
     "elapsed": 13,
     "status": "aborted",
     "timestamp": 1670413253504,
     "user": {
      "displayName": "Sabrina Azmi",
      "userId": "03843576326678916867"
     },
     "user_tz": -480
    },
    "id": "Wmn_wos-MAF-"
   },
   "outputs": [
    {
     "name": "stdout",
     "output_type": "stream",
     "text": [
      "Any missing values in cnv?:  False\n",
      "Any missing values in mrna?: False\n"
     ]
    }
   ],
   "source": [
    "print (\"Any missing values in cnv?: \", cnv_common_class.isnull().values.any())\n",
    "print (\"Any missing values in mrna?:\", mrna_common_class.isnull().values.any())"
   ]
  },
  {
   "cell_type": "markdown",
   "metadata": {},
   "source": [
    "Remove zero-variance features"
   ]
  },
  {
   "cell_type": "code",
   "execution_count": 24,
   "metadata": {},
   "outputs": [
    {
     "name": "stdout",
     "output_type": "stream",
     "text": [
      "\n",
      "Processing DataFrame 1...\n",
      "DataFrame 1 has no zero-variance columns.\n",
      "\n",
      "Processing DataFrame 2...\n",
      "DataFrame 2 has 550 zero-variance columns: ['RBMY1A3P', 'OR8J1', 'SNORD115-17', 'OR6P1', 'SNORD114-31', 'SNORD114-30', 'SNORD115-6', 'PISRT1', 'SNORD115-4', 'SNORD104', 'KRTAP10-12', 'KRTAP2-4', 'SNORD115-9', 'OR7G1', 'OR10A2', 'SNORD38A', 'OR8U1', 'KRTAP19-2', 'KRTAP19-3', 'KRTAP19-7', 'SNORD114-3', '?|441362', 'OR52R1', 'OR5R1', 'HBII-52-27', 'SNORD11', 'SNORD12', 'C20orf71', 'SNORD21', 'SNORD20', 'SNORD25', 'SNORD127', 'TAS2R16', 'SNORD124', 'TTTY17A', 'SNORD115-5', 'SNORD80', 'SNORD56B', 'SNORD78', 'PRR21', 'TMCO5A', 'PRAMEF17', 'SNORD113-7', 'SNORD96A', 'SNORD119', 'HBII-52-46', 'HBII-52-45', 'SNORD47', 'OR2G3', 'SNORD4B', 'SNORD4A', 'SNORD116-24', 'SNORD116-25', 'SNORD116-23', 'SNORD116-29', 'RBMY1B', 'RBMY1F', 'OR51T1', 'OR52J3', 'CSN1S2A', 'BPY2', 'DEFB121', 'SNORD115-8', 'OR6Q1', 'SNORD66', 'HBII-52-28', 'SNORD69', 'SNORD68', 'SNORD38B', 'OR2T34', 'SNORD113-4', 'SNORD116-26', 'OR5H15', 'OR5H14', 'GAGE2E', 'LIPK', 'SNORD115-1', 'SNORD58A', 'SNORD58C', 'OR5B17', 'PRR20C', 'PRR20D', 'ACTL9', 'OR5H1', 'SNORD96B', 'SNORD63', 'SNORD116-22', 'OR5AN1', 'NCRNA00112', 'CTSL3', 'SNORD81', 'PLA2G2E', 'OR8J3', 'OR2T11', 'OR2T12', 'MRGPRG', 'OR7G2', 'CDX4', 'OR9Q2', 'GAGE12F', 'PRAMEF3', 'SNORD114-20', 'DAOA', 'SNORD115-20', 'SNORD115-22', 'SNORD115-25', 'OR2G2', 'SNORD114-29', 'OR1A1', 'TEX28', 'OR8H1', 'OR8H2', 'OR8H3', 'OR6C75', 'PAGE3', 'OR7A10', 'OR7A17', 'DEFB134', 'DEFB136', 'DEFB130', 'DEFB131', 'SNORD29', 'S100A7L2', 'OR5K4', 'PPIAL4B', 'WFDC9', 'KRTAP15-1', 'SNORD16', 'KRTAP19-5', 'SNORD36A', 'LEUTX', 'SNORD91B', 'LOC255025', 'RBMY1J', 'OR10S1', 'SNORD87', 'SNORD86', 'OR4C13', 'OR4C12', 'DEFB116', 'DEFB115', 'DEFB112', 'DEFB113', 'OR8D2', 'RBMY1E', 'SNORD91A', 'LOC339568', 'OR51B6', 'OR4D10', 'CNBD1', 'SNORD50B', 'SNORD65', 'KRTAP22-1', 'OR2T35', 'SNORD61', 'SNORD115-35', 'SNORD114-10', 'SNORD114-6', 'SNORD114-5', 'OR8B3', 'OR8B4', 'SCARNA27', 'FAM27L', 'FAM41AY1', 'C21orf54', 'INS', 'OR8G5', 'OR6C6', 'SNORD12C', 'PRAMEF22', 'SNORD123', 'SNORD126', 'SNORD125', 'OR1S1', 'OR1S2', 'DEFB108B', 'OR2A14', 'OR4D9', 'OR4D2', 'OR4D5', 'KRTAP23-1', 'SNORD48', 'FLJ25363', 'OR5L2', 'OR51F1', 'SNORD114-9', 'SNORD46', 'SNORD115-2', 'SNORD115-3', 'SNORD27', 'SNORD105', 'SPANXN4', 'DEFB106A', 'RBMY2EP', 'SPANXN1', 'SNORD35A', 'SNORD35B', 'OR5AR1', 'RBMY3AP', 'TMEM225', 'OR6K6', 'OR4A15', 'LOC100169752', 'TTTY22', 'SNORD24', 'SNAR-B2', 'POTEG', 'POTEA', 'GSTA5', 'SNORD28', 'GH2', 'OR52E4', 'MT1B', 'OR52E8', 'TRIM77', 'KRTAP25-1', 'DEFB104A', 'OR5F1', 'BEYLA', 'SPINT3', 'OR5D18', 'LCE2D', 'SNORA69', 'OR4S1', 'SNORD49A', 'C11orf40', 'SNORD102', 'OR14A16', 'SNORD115-14', 'LCE4A', 'KRTAP12-3', 'OR5M9', 'OR5M3', 'OR5M1', 'NCRNA00113', 'SNORD115-16', 'POM121L12', 'SNORD30', 'SNORD31', 'SNORD115-10', 'SNORD18B', 'SPANXN5', 'C11orf64', 'OR51L1', '?|728045', 'CLDN22', 'BASE', 'OR4K15', 'OR4K14', 'OR4A5', 'SNORD26', 'SNORD114-7', 'CSN2', 'SNORD45C', 'OR5T2', 'SNORD111B', 'SNORD18A', 'TTTY7', 'TTTY5', 'PGLYRP3', 'SNORA36C', 'TTTY20', 'OR2Z1', 'CT47A7', 'CT47A6', 'CT47A1', 'SNORD109B', 'OR10K1', 'OR10G3', 'SNORD45B', 'TTTY23', 'SNORD45A', 'LRRC30', 'OR5D13', 'KRTAP6-3', 'KRTAP6-2', 'KRTAP6-1', 'OR5D14', 'OR5D16', 'SNORD114-22', 'SNORD114-23', 'SNORD114-26', 'SNORD114-27', 'SNORD114-24', 'SNORD114-25', 'SNORD114-28', 'SNORD115-41', 'SNORD115-40', 'SNORD1A', 'SNORD1B', 'SNORD19', 'KLK12', 'OR9G4', 'SNORD115-37', 'SNORD44', 'LOC286135', 'SNORD34', 'OR10G7', 'SNORD121B', 'SNORD121A', 'SNAR-E', 'SNAR-H', 'SUN5', 'BCYRN1', 'CSH1', 'MS4A5', 'SNORD51', 'SNORD115-44', 'SNORD36C', 'SNORD115-48', 'SNORD11B', 'SNORD49B', 'SNORD116-19', 'SNORA35', 'SNORD116-11', '?|136542', 'PRR23C', 'OR13H1', 'GLYCAM1', 'SNORD59B', 'SNORD59A', 'SNORD116-27', 'OR5W2', 'GAGE2B', 'SNORD114-21', 'SNORD114-11', 'SNORD72', 'SNORD74', 'SNORD75', 'SNORD79', 'SNORD114-4', 'OR2Y1', 'OR8K1', 'OR8K3', 'OR2T29', 'SPAG11A', 'CDY1', 'SNORA19', 'RNU5E', 'SNORD88C', 'OR6N1', 'RNY5', 'RNY4', 'OR6N2', 'SNORD114-16', 'TGIF2LY', 'OR5I1', 'SNORD52', 'SNORD53', 'SNORD115-11', 'SNORD113-9', 'SNORD113-5', 'SNORD113-6', 'SNORD113-1', 'SNORD113-2', 'SNORD114-14', 'SNORD116-18', 'KRTAP20-3', 'SNORD98', 'SNORD99', 'SNORD93', 'KRTAP20-1', 'OR8I2', 'OR7D4', 'SNORD116-12', 'C13orf28', 'NMS', 'SNORD73A', 'OR6C4', 'OR5K3', 'SPINK14', 'SNORD115-32', 'SNORD115-39', 'NLRP8', 'OR4C3', 'OR10Z1', 'DEFB129', 'DEFB128', 'DEFB127', 'DEFB122', 'PRLH', 'OR4D11', 'OR8G2', 'SNAR-C4', 'OR4K17', 'OR4K13', 'MS4A13', 'SPINT4', 'FTLP10', 'CELA3A', 'SNORD116-10', 'SNORD116-13', 'SNORD116-15', 'SNORD116-14', 'SNORD116-16', 'OR5M8', 'XKRY', 'SNORD95', 'SNORD90', 'UGT1A3', 'SNORD114-18', 'SNORD92', 'OR10T2', 'TSSK2', 'SNORA70C', 'SNORD114-15', 'SNORD19B', 'SPINK4', 'MRGPRX1', 'SNORD70', 'OR2F2', 'SNORD76', '?|317712', 'SNORD77', 'HBII-52-24', 'SNAR-A13', 'TNP2', 'SNORD60', 'TXNDC8', 'TTTY3B', 'KRTAP13-3', 'SNORA11C', 'OR4Q3', 'OR51A2', 'OR51A4', 'OR52A1', 'IQCF6', 'SNORD105B', 'TTTY17B', 'SNORD6', 'SNORD7', 'SNORD5', 'SNORD2', 'SNORD33', 'VTRNA1-2', 'RNASE12', 'OR5A1', 'OR4E2', 'SNORD54', 'FAM24A', 'OR51G2', 'OR51G1', 'SNORD114-8', 'SNORD55', 'SNORD56', 'SNORD57', 'OR8B2', 'UGT1A4', 'OR10A5', 'OR4X1', 'TTTY21', 'OR8B8', 'OR10A6', 'SNORD50A', 'SNORD117', 'SNORD110', 'SNORD111', 'KRTAP4-5', 'KRTAP12-4', 'SNAR-A2', 'SNAR-A4', 'RNASE9', 'OR2T6', 'TTTY12', 'OR2T2', 'OR2T3', 'OR2T1', 'SNORD32A', 'FGF4', 'MAGEB10', 'SNORD43', 'FKSG73', 'SNORD114-12', 'CXorf61', 'OR1I1', 'SNORD71', 'PRR20B', 'S100G', 'SNAR-C3', 'SNAR-C2', 'DEFB107A', 'FAM99A', 'FAM99B', 'DSCR10', 'RETNLB', 'RBMY2FP', 'SNORD88A', 'FAM47B', '?|280660', 'SPANXN2', 'XAGE5', 'SNORD36B', 'SNAR-I', 'VTRNA1-3', 'VTRNA1-1', 'SNORD41', 'OR2M5', 'OR2M7', 'OR2M2', 'SNORD62A', 'LCE6A', 'LCE3E', 'LCE3B', 'SNORD116-5', 'SNORD103A', 'OR56A4', 'OR56A1', 'OR4C45', 'OR8B12', 'SNORD42B', 'OR6C74', 'IFNA16', 'SNORD42A', 'SNORD37', 'SNORD114-1', 'TTTY11', 'POTEC', 'LOC340094', 'CST8', 'SNORD115-33', 'OR10H3', 'OR10H4', 'SNORD115-30', 'SNORD115-31', 'OR2W1', 'OR6Y1', 'SNORD114-2', 'SNORD115-38', 'KRTAP20-4', 'OR5M10', 'SNORD18C', 'SNORD12B', 'NCRNA00111', 'OR4C46', 'SNORD114-19', 'SNORD114-13', 'SNORD114-17', 'CT47A11', 'CT47A10', 'OR4P4', 'OR5H2', 'SNORD116-8', 'SNORD116-1', 'SNORD116-3', 'SNORD116-2', 'SNORD85', 'SNORD84', 'SNORD82', 'OR51V1', 'SNORD32B']\n",
      "DataFrame 2 updated shape: (147, 19981)\n",
      "\n",
      "----Updated Shapes of DataFrames----\n",
      "DataFrame 1: (147, 24777)\n",
      "DataFrame 2: (147, 19981)\n"
     ]
    }
   ],
   "source": [
    "dataframes = [cnv_common_class, mrna_common_class]\n",
    "\n",
    "# Iterate over each dataframe and check for zero-variance columns\n",
    "for i, df in enumerate(dataframes):\n",
    "    print(f\"\\nProcessing DataFrame {i+1}...\")  # Debugging output\n",
    "    \n",
    "    # Exclude the last column (assuming it's the class column)\n",
    "    feature_columns = df.iloc[:, :-1]\n",
    "    \n",
    "    # Find columns with zero variance\n",
    "    zero_var_cols = feature_columns.columns[feature_columns.nunique() <= 1]\n",
    "    \n",
    "    if len(zero_var_cols) > 0:\n",
    "        print(f\"DataFrame {i+1} has {len(zero_var_cols)} zero-variance columns: {list(zero_var_cols)}\")\n",
    "        \n",
    "        # Drop zero-variance columns and reassign to the dataframes list\n",
    "        dataframes[i] = df.drop(columns=zero_var_cols)\n",
    "        \n",
    "        # Debugging output: Check new shape of the dataframe\n",
    "        print(f\"DataFrame {i+1} updated shape: {dataframes[i].shape}\")\n",
    "    else:\n",
    "        print(f\"DataFrame {i+1} has no zero-variance columns.\")\n",
    "\n",
    "# Verify updated shapes\n",
    "print(\"\\n----Updated Shapes of DataFrames----\")\n",
    "for i, df in enumerate(dataframes):\n",
    "    print(f\"DataFrame {i+1}: {df.shape}\")"
   ]
  },
  {
   "attachments": {},
   "cell_type": "markdown",
   "metadata": {},
   "source": [
    "Eliminate redundant information\n"
   ]
  },
  {
   "cell_type": "code",
   "execution_count": 25,
   "metadata": {},
   "outputs": [
    {
     "name": "stdout",
     "output_type": "stream",
     "text": [
      "----Omics dataset----\n",
      "cnv: (147, 24777)\n",
      "mrna (147, 19981)\n",
      "----Class distribution----\n",
      "GeneExp_Subtype\n",
      "Mesenchymal    49\n",
      "Classical      39\n",
      "Proneural      34\n",
      "Neural         25\n",
      "Name: count, dtype: int64\n"
     ]
    }
   ],
   "source": [
    "# Remove duplicates from each dataset\n",
    "omics_datasets = [df.drop_duplicates() for df in dataframes]\n",
    "\n",
    "# Unpack the updated datasets back into variables\n",
    "cnv_common_class, mrna_common_class = omics_datasets\n",
    "\n",
    "print (\"----Omics dataset----\")\n",
    "print(\"cnv:\", cnv_common_class.shape)\n",
    "print(\"mrna\", mrna_common_class.shape)\n",
    "\n",
    "print (\"----Class distribution----\")\n",
    "print(cnv_common_class.GeneExp_Subtype.value_counts())"
   ]
  },
  {
   "cell_type": "markdown",
   "metadata": {},
   "source": [
    "Data standardization "
   ]
  },
  {
   "cell_type": "code",
   "execution_count": 26,
   "metadata": {},
   "outputs": [],
   "source": [
    "datapath_out = \"/Users/sabye/Downloads/wgRFECV-BIN/Result/\""
   ]
  },
  {
   "cell_type": "code",
   "execution_count": 27,
   "metadata": {},
   "outputs": [
    {
     "name": "stdout",
     "output_type": "stream",
     "text": [
      "Processing dataset: cnv\n",
      "Standardized data for cnv saved successfully at /Users/sabye/Downloads/wgRFECV-BIN/Result/Preprocessed_GBM_cnv.csv\n",
      "Processing dataset: mrna\n",
      "Standardized data for mrna saved successfully at /Users/sabye/Downloads/wgRFECV-BIN/Result/Preprocessed_GBM_mrna.csv\n"
     ]
    }
   ],
   "source": [
    "os.makedirs(datapath, exist_ok=True)\n",
    "\n",
    "# Dictionary of datasets with descriptive keys\n",
    "dataframes = {\n",
    "    \"cnv\": cnv_common_class,\n",
    "    \"mrna\": mrna_common_class\n",
    "}\n",
    "\n",
    "# Initialize the StandardScaler\n",
    "scaler = StandardScaler()\n",
    "\n",
    "# Process each dataset and save the preprocessed file\n",
    "for key, df in dataframes.items():\n",
    "    print(f\"Processing dataset: {key}\")\n",
    "    \n",
    "    # Separate features and class\n",
    "    features = df.iloc[:, :-1]\n",
    "    classes = df.iloc[:, -1]\n",
    "    \n",
    "    # Standardize the features\n",
    "    standardized_features = scaler.fit_transform(features)\n",
    "    \n",
    "    # Recreate the DataFrame\n",
    "    standardized_df = pd.DataFrame(standardized_features, columns=features.columns, index=df.index)\n",
    "    standardized_df['GeneExp_Subtype'] = classes\n",
    "    \n",
    "    # Save the standardized DataFrame to CSV\n",
    "    output_path = os.path.join(datapath_out, f\"Preprocessed_GBM_{key}.csv\")\n",
    "    standardized_df.to_csv(output_path, index=True)\n",
    "    print(f\"Standardized data for {key} saved successfully at {output_path}\")\n",
    "    \n",
    "    # Clean up variables to free up memory\n",
    "    del features, classes, standardized_features, standardized_df\n"
   ]
  }
 ],
 "metadata": {
  "colab": {
   "collapsed_sections": [
    "tzdgLOvvTHO_"
   ],
   "provenance": []
  },
  "kernelspec": {
   "display_name": "Python [conda env:base] *",
   "language": "python",
   "name": "conda-base-py"
  },
  "language_info": {
   "codemirror_mode": {
    "name": "ipython",
    "version": 3
   },
   "file_extension": ".py",
   "mimetype": "text/x-python",
   "name": "python",
   "nbconvert_exporter": "python",
   "pygments_lexer": "ipython3",
   "version": "3.11.7"
  }
 },
 "nbformat": 4,
 "nbformat_minor": 4
}

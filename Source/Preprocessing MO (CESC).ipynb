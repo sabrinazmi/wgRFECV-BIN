{
 "cells": [
  {
   "cell_type": "markdown",
   "metadata": {},
   "source": [
    "Import libraries"
   ]
  },
  {
   "cell_type": "code",
   "execution_count": 29,
   "metadata": {
    "executionInfo": {
     "elapsed": 1925,
     "status": "ok",
     "timestamp": 1670413232894,
     "user": {
      "displayName": "Sabrina Azmi",
      "userId": "03843576326678916867"
     },
     "user_tz": -480
    },
    "id": "xUCTLkPjbLpz"
   },
   "outputs": [],
   "source": [
    "import numpy as np\n",
    "import pandas as pd\n",
    "import os\n",
    "from sklearn.preprocessing import StandardScaler"
   ]
  },
  {
   "attachments": {},
   "cell_type": "markdown",
   "metadata": {},
   "source": [
    "Import the data into the Python environment from CSV files\n"
   ]
  },
  {
   "cell_type": "markdown",
   "metadata": {},
   "source": [
    "Rename data file after unzip downloaded files"
   ]
  },
  {
   "cell_type": "code",
   "execution_count": 30,
   "metadata": {},
   "outputs": [
    {
     "name": "stdout",
     "output_type": "stream",
     "text": [
      "cnv: (24776, 296)\n",
      "mrna: (20530, 309)\n",
      "clinical: (313, 158)\n"
     ]
    }
   ],
   "source": [
    "# Load dataset\n",
    "datapath = \"/Users/sabye/Downloads/wgRFECV-BIN/Data/\"\n",
    "\n",
    "cnv = pd.read_csv(datapath+\"CESC_cnv\", sep='\\t', comment='#')\n",
    "print(\"cnv:\", cnv.shape)\n",
    "mrna = pd.read_csv(datapath+\"CESC_mrna\", sep='\\t', comment='#')\n",
    "print(\"mrna:\", mrna.shape)\n",
    "clinical = pd.read_csv(datapath+\"CESC_clinical\", sep='\\t', comment='#')\n",
    "print(\"clinical:\", clinical.shape)"
   ]
  },
  {
   "cell_type": "code",
   "execution_count": 31,
   "metadata": {},
   "outputs": [
    {
     "data": {
      "text/html": [
       "<div>\n",
       "<style scoped>\n",
       "    .dataframe tbody tr th:only-of-type {\n",
       "        vertical-align: middle;\n",
       "    }\n",
       "\n",
       "    .dataframe tbody tr th {\n",
       "        vertical-align: top;\n",
       "    }\n",
       "\n",
       "    .dataframe thead th {\n",
       "        text-align: right;\n",
       "    }\n",
       "</style>\n",
       "<table border=\"1\" class=\"dataframe\">\n",
       "  <thead>\n",
       "    <tr style=\"text-align: right;\">\n",
       "      <th></th>\n",
       "      <th>Gene Symbol</th>\n",
       "      <th>TCGA-2W-A8YY-01</th>\n",
       "      <th>TCGA-4J-AA1J-01</th>\n",
       "      <th>TCGA-BI-A0VR-01</th>\n",
       "      <th>TCGA-BI-A0VS-01</th>\n",
       "      <th>TCGA-BI-A20A-01</th>\n",
       "      <th>TCGA-C5-A0TN-01</th>\n",
       "      <th>TCGA-C5-A1BE-01</th>\n",
       "      <th>TCGA-C5-A1BF-01</th>\n",
       "      <th>TCGA-C5-A1BI-01</th>\n",
       "      <th>...</th>\n",
       "      <th>TCGA-ZJ-AAXD-01</th>\n",
       "      <th>TCGA-ZJ-AAXF-01</th>\n",
       "      <th>TCGA-ZJ-AAXI-01</th>\n",
       "      <th>TCGA-ZJ-AAXJ-01</th>\n",
       "      <th>TCGA-ZJ-AAXN-01</th>\n",
       "      <th>TCGA-ZJ-AAXT-01</th>\n",
       "      <th>TCGA-ZJ-AAXU-01</th>\n",
       "      <th>TCGA-ZJ-AB0H-01</th>\n",
       "      <th>TCGA-ZJ-AB0I-01</th>\n",
       "      <th>TCGA-ZX-AA5X-01</th>\n",
       "    </tr>\n",
       "  </thead>\n",
       "  <tbody>\n",
       "    <tr>\n",
       "      <th>0</th>\n",
       "      <td>ACAP3</td>\n",
       "      <td>0.0</td>\n",
       "      <td>-0.009</td>\n",
       "      <td>0.211</td>\n",
       "      <td>0.119</td>\n",
       "      <td>0.05</td>\n",
       "      <td>-0.85</td>\n",
       "      <td>0.0</td>\n",
       "      <td>0.012</td>\n",
       "      <td>0.149</td>\n",
       "      <td>...</td>\n",
       "      <td>0.366</td>\n",
       "      <td>0.149</td>\n",
       "      <td>0.333</td>\n",
       "      <td>-0.057</td>\n",
       "      <td>-0.3</td>\n",
       "      <td>0.0</td>\n",
       "      <td>0.0</td>\n",
       "      <td>-0.065</td>\n",
       "      <td>0.807</td>\n",
       "      <td>0.4</td>\n",
       "    </tr>\n",
       "    <tr>\n",
       "      <th>1</th>\n",
       "      <td>ACTRT2</td>\n",
       "      <td>0.0</td>\n",
       "      <td>-0.009</td>\n",
       "      <td>0.211</td>\n",
       "      <td>0.119</td>\n",
       "      <td>0.05</td>\n",
       "      <td>-0.85</td>\n",
       "      <td>0.0</td>\n",
       "      <td>0.012</td>\n",
       "      <td>0.149</td>\n",
       "      <td>...</td>\n",
       "      <td>0.366</td>\n",
       "      <td>0.149</td>\n",
       "      <td>0.333</td>\n",
       "      <td>-0.057</td>\n",
       "      <td>-0.3</td>\n",
       "      <td>0.0</td>\n",
       "      <td>0.0</td>\n",
       "      <td>-0.065</td>\n",
       "      <td>0.807</td>\n",
       "      <td>0.4</td>\n",
       "    </tr>\n",
       "  </tbody>\n",
       "</table>\n",
       "<p>2 rows × 296 columns</p>\n",
       "</div>"
      ],
      "text/plain": [
       "  Gene Symbol  TCGA-2W-A8YY-01  TCGA-4J-AA1J-01  TCGA-BI-A0VR-01  \\\n",
       "0       ACAP3              0.0           -0.009            0.211   \n",
       "1      ACTRT2              0.0           -0.009            0.211   \n",
       "\n",
       "   TCGA-BI-A0VS-01  TCGA-BI-A20A-01  TCGA-C5-A0TN-01  TCGA-C5-A1BE-01  \\\n",
       "0            0.119             0.05            -0.85              0.0   \n",
       "1            0.119             0.05            -0.85              0.0   \n",
       "\n",
       "   TCGA-C5-A1BF-01  TCGA-C5-A1BI-01  ...  TCGA-ZJ-AAXD-01  TCGA-ZJ-AAXF-01  \\\n",
       "0            0.012            0.149  ...            0.366            0.149   \n",
       "1            0.012            0.149  ...            0.366            0.149   \n",
       "\n",
       "   TCGA-ZJ-AAXI-01  TCGA-ZJ-AAXJ-01  TCGA-ZJ-AAXN-01  TCGA-ZJ-AAXT-01  \\\n",
       "0            0.333           -0.057             -0.3              0.0   \n",
       "1            0.333           -0.057             -0.3              0.0   \n",
       "\n",
       "   TCGA-ZJ-AAXU-01  TCGA-ZJ-AB0H-01  TCGA-ZJ-AB0I-01  TCGA-ZX-AA5X-01  \n",
       "0              0.0           -0.065            0.807              0.4  \n",
       "1              0.0           -0.065            0.807              0.4  \n",
       "\n",
       "[2 rows x 296 columns]"
      ]
     },
     "execution_count": 31,
     "metadata": {},
     "output_type": "execute_result"
    }
   ],
   "source": [
    "cnv.head(2)"
   ]
  },
  {
   "cell_type": "code",
   "execution_count": 32,
   "metadata": {},
   "outputs": [
    {
     "data": {
      "text/html": [
       "<div>\n",
       "<style scoped>\n",
       "    .dataframe tbody tr th:only-of-type {\n",
       "        vertical-align: middle;\n",
       "    }\n",
       "\n",
       "    .dataframe tbody tr th {\n",
       "        vertical-align: top;\n",
       "    }\n",
       "\n",
       "    .dataframe thead th {\n",
       "        text-align: right;\n",
       "    }\n",
       "</style>\n",
       "<table border=\"1\" class=\"dataframe\">\n",
       "  <thead>\n",
       "    <tr style=\"text-align: right;\">\n",
       "      <th></th>\n",
       "      <th>sample</th>\n",
       "      <th>TCGA-EA-A3HT-01</th>\n",
       "      <th>TCGA-FU-A3HZ-01</th>\n",
       "      <th>TCGA-FU-A3TQ-01</th>\n",
       "      <th>TCGA-DS-A0VK-01</th>\n",
       "      <th>TCGA-UC-A7PG-01</th>\n",
       "      <th>TCGA-C5-A7UE-01</th>\n",
       "      <th>TCGA-C5-A1MJ-01</th>\n",
       "      <th>TCGA-UC-A7PI-01</th>\n",
       "      <th>TCGA-C5-A1MF-01</th>\n",
       "      <th>...</th>\n",
       "      <th>TCGA-JW-A5VI-01</th>\n",
       "      <th>TCGA-VS-A9UD-01</th>\n",
       "      <th>TCGA-C5-A1BQ-01</th>\n",
       "      <th>TCGA-MU-A8JM-01</th>\n",
       "      <th>TCGA-DS-A0VM-01</th>\n",
       "      <th>TCGA-MY-A5BF-01</th>\n",
       "      <th>TCGA-EA-A556-01</th>\n",
       "      <th>TCGA-IR-A3LA-01</th>\n",
       "      <th>TCGA-VS-AA62-01</th>\n",
       "      <th>TCGA-ZJ-AAXB-01</th>\n",
       "    </tr>\n",
       "  </thead>\n",
       "  <tbody>\n",
       "    <tr>\n",
       "      <th>0</th>\n",
       "      <td>ARHGEF10L</td>\n",
       "      <td>10.5288</td>\n",
       "      <td>8.9938</td>\n",
       "      <td>11.1427</td>\n",
       "      <td>9.6531</td>\n",
       "      <td>10.7841</td>\n",
       "      <td>9.1479</td>\n",
       "      <td>9.9180</td>\n",
       "      <td>11.3020</td>\n",
       "      <td>9.7611</td>\n",
       "      <td>...</td>\n",
       "      <td>9.7557</td>\n",
       "      <td>9.4056</td>\n",
       "      <td>9.4501</td>\n",
       "      <td>8.8562</td>\n",
       "      <td>9.3147</td>\n",
       "      <td>9.6083</td>\n",
       "      <td>8.6916</td>\n",
       "      <td>9.7172</td>\n",
       "      <td>8.5571</td>\n",
       "      <td>9.3718</td>\n",
       "    </tr>\n",
       "    <tr>\n",
       "      <th>1</th>\n",
       "      <td>HIF3A</td>\n",
       "      <td>2.3360</td>\n",
       "      <td>3.0519</td>\n",
       "      <td>2.8401</td>\n",
       "      <td>4.7910</td>\n",
       "      <td>5.0874</td>\n",
       "      <td>1.0768</td>\n",
       "      <td>5.0908</td>\n",
       "      <td>4.0824</td>\n",
       "      <td>6.6607</td>\n",
       "      <td>...</td>\n",
       "      <td>2.5435</td>\n",
       "      <td>3.4127</td>\n",
       "      <td>3.4331</td>\n",
       "      <td>1.4381</td>\n",
       "      <td>2.3607</td>\n",
       "      <td>1.5007</td>\n",
       "      <td>9.9533</td>\n",
       "      <td>3.3598</td>\n",
       "      <td>2.4615</td>\n",
       "      <td>5.6179</td>\n",
       "    </tr>\n",
       "  </tbody>\n",
       "</table>\n",
       "<p>2 rows × 309 columns</p>\n",
       "</div>"
      ],
      "text/plain": [
       "      sample  TCGA-EA-A3HT-01  TCGA-FU-A3HZ-01  TCGA-FU-A3TQ-01  \\\n",
       "0  ARHGEF10L          10.5288           8.9938          11.1427   \n",
       "1      HIF3A           2.3360           3.0519           2.8401   \n",
       "\n",
       "   TCGA-DS-A0VK-01  TCGA-UC-A7PG-01  TCGA-C5-A7UE-01  TCGA-C5-A1MJ-01  \\\n",
       "0           9.6531          10.7841           9.1479           9.9180   \n",
       "1           4.7910           5.0874           1.0768           5.0908   \n",
       "\n",
       "   TCGA-UC-A7PI-01  TCGA-C5-A1MF-01  ...  TCGA-JW-A5VI-01  TCGA-VS-A9UD-01  \\\n",
       "0          11.3020           9.7611  ...           9.7557           9.4056   \n",
       "1           4.0824           6.6607  ...           2.5435           3.4127   \n",
       "\n",
       "   TCGA-C5-A1BQ-01  TCGA-MU-A8JM-01  TCGA-DS-A0VM-01  TCGA-MY-A5BF-01  \\\n",
       "0           9.4501           8.8562           9.3147           9.6083   \n",
       "1           3.4331           1.4381           2.3607           1.5007   \n",
       "\n",
       "   TCGA-EA-A556-01  TCGA-IR-A3LA-01  TCGA-VS-AA62-01  TCGA-ZJ-AAXB-01  \n",
       "0           8.6916           9.7172           8.5571           9.3718  \n",
       "1           9.9533           3.3598           2.4615           5.6179  \n",
       "\n",
       "[2 rows x 309 columns]"
      ]
     },
     "execution_count": 32,
     "metadata": {},
     "output_type": "execute_result"
    }
   ],
   "source": [
    "mrna.head(2)"
   ]
  },
  {
   "cell_type": "code",
   "execution_count": 33,
   "metadata": {},
   "outputs": [],
   "source": [
    "cnv = cnv.set_index('Gene Symbol') \n",
    "mrna = mrna.set_index('sample')  "
   ]
  },
  {
   "cell_type": "code",
   "execution_count": 34,
   "metadata": {},
   "outputs": [
    {
     "data": {
      "text/html": [
       "<div>\n",
       "<style scoped>\n",
       "    .dataframe tbody tr th:only-of-type {\n",
       "        vertical-align: middle;\n",
       "    }\n",
       "\n",
       "    .dataframe tbody tr th {\n",
       "        vertical-align: top;\n",
       "    }\n",
       "\n",
       "    .dataframe thead th {\n",
       "        text-align: right;\n",
       "    }\n",
       "</style>\n",
       "<table border=\"1\" class=\"dataframe\">\n",
       "  <thead>\n",
       "    <tr style=\"text-align: right;\">\n",
       "      <th></th>\n",
       "      <th>TCGA-2W-A8YY-01</th>\n",
       "      <th>TCGA-4J-AA1J-01</th>\n",
       "      <th>TCGA-BI-A0VR-01</th>\n",
       "      <th>TCGA-BI-A0VS-01</th>\n",
       "      <th>TCGA-BI-A20A-01</th>\n",
       "      <th>TCGA-C5-A0TN-01</th>\n",
       "      <th>TCGA-C5-A1BE-01</th>\n",
       "      <th>TCGA-C5-A1BF-01</th>\n",
       "      <th>TCGA-C5-A1BI-01</th>\n",
       "      <th>TCGA-C5-A1BJ-01</th>\n",
       "      <th>...</th>\n",
       "      <th>TCGA-ZJ-AAXD-01</th>\n",
       "      <th>TCGA-ZJ-AAXF-01</th>\n",
       "      <th>TCGA-ZJ-AAXI-01</th>\n",
       "      <th>TCGA-ZJ-AAXJ-01</th>\n",
       "      <th>TCGA-ZJ-AAXN-01</th>\n",
       "      <th>TCGA-ZJ-AAXT-01</th>\n",
       "      <th>TCGA-ZJ-AAXU-01</th>\n",
       "      <th>TCGA-ZJ-AB0H-01</th>\n",
       "      <th>TCGA-ZJ-AB0I-01</th>\n",
       "      <th>TCGA-ZX-AA5X-01</th>\n",
       "    </tr>\n",
       "    <tr>\n",
       "      <th>Gene Symbol</th>\n",
       "      <th></th>\n",
       "      <th></th>\n",
       "      <th></th>\n",
       "      <th></th>\n",
       "      <th></th>\n",
       "      <th></th>\n",
       "      <th></th>\n",
       "      <th></th>\n",
       "      <th></th>\n",
       "      <th></th>\n",
       "      <th></th>\n",
       "      <th></th>\n",
       "      <th></th>\n",
       "      <th></th>\n",
       "      <th></th>\n",
       "      <th></th>\n",
       "      <th></th>\n",
       "      <th></th>\n",
       "      <th></th>\n",
       "      <th></th>\n",
       "      <th></th>\n",
       "    </tr>\n",
       "  </thead>\n",
       "  <tbody>\n",
       "    <tr>\n",
       "      <th>ACAP3</th>\n",
       "      <td>0.0</td>\n",
       "      <td>-0.009</td>\n",
       "      <td>0.211</td>\n",
       "      <td>0.119</td>\n",
       "      <td>0.05</td>\n",
       "      <td>-0.85</td>\n",
       "      <td>0.0</td>\n",
       "      <td>0.012</td>\n",
       "      <td>0.149</td>\n",
       "      <td>0.002</td>\n",
       "      <td>...</td>\n",
       "      <td>0.366</td>\n",
       "      <td>0.149</td>\n",
       "      <td>0.333</td>\n",
       "      <td>-0.057</td>\n",
       "      <td>-0.3</td>\n",
       "      <td>0.0</td>\n",
       "      <td>0.0</td>\n",
       "      <td>-0.065</td>\n",
       "      <td>0.807</td>\n",
       "      <td>0.4</td>\n",
       "    </tr>\n",
       "    <tr>\n",
       "      <th>ACTRT2</th>\n",
       "      <td>0.0</td>\n",
       "      <td>-0.009</td>\n",
       "      <td>0.211</td>\n",
       "      <td>0.119</td>\n",
       "      <td>0.05</td>\n",
       "      <td>-0.85</td>\n",
       "      <td>0.0</td>\n",
       "      <td>0.012</td>\n",
       "      <td>0.149</td>\n",
       "      <td>0.002</td>\n",
       "      <td>...</td>\n",
       "      <td>0.366</td>\n",
       "      <td>0.149</td>\n",
       "      <td>0.333</td>\n",
       "      <td>-0.057</td>\n",
       "      <td>-0.3</td>\n",
       "      <td>0.0</td>\n",
       "      <td>0.0</td>\n",
       "      <td>-0.065</td>\n",
       "      <td>0.807</td>\n",
       "      <td>0.4</td>\n",
       "    </tr>\n",
       "  </tbody>\n",
       "</table>\n",
       "<p>2 rows × 295 columns</p>\n",
       "</div>"
      ],
      "text/plain": [
       "             TCGA-2W-A8YY-01  TCGA-4J-AA1J-01  TCGA-BI-A0VR-01  \\\n",
       "Gene Symbol                                                      \n",
       "ACAP3                    0.0           -0.009            0.211   \n",
       "ACTRT2                   0.0           -0.009            0.211   \n",
       "\n",
       "             TCGA-BI-A0VS-01  TCGA-BI-A20A-01  TCGA-C5-A0TN-01  \\\n",
       "Gene Symbol                                                      \n",
       "ACAP3                  0.119             0.05            -0.85   \n",
       "ACTRT2                 0.119             0.05            -0.85   \n",
       "\n",
       "             TCGA-C5-A1BE-01  TCGA-C5-A1BF-01  TCGA-C5-A1BI-01  \\\n",
       "Gene Symbol                                                      \n",
       "ACAP3                    0.0            0.012            0.149   \n",
       "ACTRT2                   0.0            0.012            0.149   \n",
       "\n",
       "             TCGA-C5-A1BJ-01  ...  TCGA-ZJ-AAXD-01  TCGA-ZJ-AAXF-01  \\\n",
       "Gene Symbol                   ...                                     \n",
       "ACAP3                  0.002  ...            0.366            0.149   \n",
       "ACTRT2                 0.002  ...            0.366            0.149   \n",
       "\n",
       "             TCGA-ZJ-AAXI-01  TCGA-ZJ-AAXJ-01  TCGA-ZJ-AAXN-01  \\\n",
       "Gene Symbol                                                      \n",
       "ACAP3                  0.333           -0.057             -0.3   \n",
       "ACTRT2                 0.333           -0.057             -0.3   \n",
       "\n",
       "             TCGA-ZJ-AAXT-01  TCGA-ZJ-AAXU-01  TCGA-ZJ-AB0H-01  \\\n",
       "Gene Symbol                                                      \n",
       "ACAP3                    0.0              0.0           -0.065   \n",
       "ACTRT2                   0.0              0.0           -0.065   \n",
       "\n",
       "             TCGA-ZJ-AB0I-01  TCGA-ZX-AA5X-01  \n",
       "Gene Symbol                                    \n",
       "ACAP3                  0.807              0.4  \n",
       "ACTRT2                 0.807              0.4  \n",
       "\n",
       "[2 rows x 295 columns]"
      ]
     },
     "execution_count": 34,
     "metadata": {},
     "output_type": "execute_result"
    }
   ],
   "source": [
    "cnv.head(2)"
   ]
  },
  {
   "cell_type": "code",
   "execution_count": 35,
   "metadata": {},
   "outputs": [
    {
     "data": {
      "text/html": [
       "<div>\n",
       "<style scoped>\n",
       "    .dataframe tbody tr th:only-of-type {\n",
       "        vertical-align: middle;\n",
       "    }\n",
       "\n",
       "    .dataframe tbody tr th {\n",
       "        vertical-align: top;\n",
       "    }\n",
       "\n",
       "    .dataframe thead th {\n",
       "        text-align: right;\n",
       "    }\n",
       "</style>\n",
       "<table border=\"1\" class=\"dataframe\">\n",
       "  <thead>\n",
       "    <tr style=\"text-align: right;\">\n",
       "      <th></th>\n",
       "      <th>TCGA-EA-A3HT-01</th>\n",
       "      <th>TCGA-FU-A3HZ-01</th>\n",
       "      <th>TCGA-FU-A3TQ-01</th>\n",
       "      <th>TCGA-DS-A0VK-01</th>\n",
       "      <th>TCGA-UC-A7PG-01</th>\n",
       "      <th>TCGA-C5-A7UE-01</th>\n",
       "      <th>TCGA-C5-A1MJ-01</th>\n",
       "      <th>TCGA-UC-A7PI-01</th>\n",
       "      <th>TCGA-C5-A1MF-01</th>\n",
       "      <th>TCGA-EA-A5ZF-01</th>\n",
       "      <th>...</th>\n",
       "      <th>TCGA-JW-A5VI-01</th>\n",
       "      <th>TCGA-VS-A9UD-01</th>\n",
       "      <th>TCGA-C5-A1BQ-01</th>\n",
       "      <th>TCGA-MU-A8JM-01</th>\n",
       "      <th>TCGA-DS-A0VM-01</th>\n",
       "      <th>TCGA-MY-A5BF-01</th>\n",
       "      <th>TCGA-EA-A556-01</th>\n",
       "      <th>TCGA-IR-A3LA-01</th>\n",
       "      <th>TCGA-VS-AA62-01</th>\n",
       "      <th>TCGA-ZJ-AAXB-01</th>\n",
       "    </tr>\n",
       "    <tr>\n",
       "      <th>sample</th>\n",
       "      <th></th>\n",
       "      <th></th>\n",
       "      <th></th>\n",
       "      <th></th>\n",
       "      <th></th>\n",
       "      <th></th>\n",
       "      <th></th>\n",
       "      <th></th>\n",
       "      <th></th>\n",
       "      <th></th>\n",
       "      <th></th>\n",
       "      <th></th>\n",
       "      <th></th>\n",
       "      <th></th>\n",
       "      <th></th>\n",
       "      <th></th>\n",
       "      <th></th>\n",
       "      <th></th>\n",
       "      <th></th>\n",
       "      <th></th>\n",
       "      <th></th>\n",
       "    </tr>\n",
       "  </thead>\n",
       "  <tbody>\n",
       "    <tr>\n",
       "      <th>ARHGEF10L</th>\n",
       "      <td>10.5288</td>\n",
       "      <td>8.9938</td>\n",
       "      <td>11.1427</td>\n",
       "      <td>9.6531</td>\n",
       "      <td>10.7841</td>\n",
       "      <td>9.1479</td>\n",
       "      <td>9.9180</td>\n",
       "      <td>11.3020</td>\n",
       "      <td>9.7611</td>\n",
       "      <td>9.1857</td>\n",
       "      <td>...</td>\n",
       "      <td>9.7557</td>\n",
       "      <td>9.4056</td>\n",
       "      <td>9.4501</td>\n",
       "      <td>8.8562</td>\n",
       "      <td>9.3147</td>\n",
       "      <td>9.6083</td>\n",
       "      <td>8.6916</td>\n",
       "      <td>9.7172</td>\n",
       "      <td>8.5571</td>\n",
       "      <td>9.3718</td>\n",
       "    </tr>\n",
       "    <tr>\n",
       "      <th>HIF3A</th>\n",
       "      <td>2.3360</td>\n",
       "      <td>3.0519</td>\n",
       "      <td>2.8401</td>\n",
       "      <td>4.7910</td>\n",
       "      <td>5.0874</td>\n",
       "      <td>1.0768</td>\n",
       "      <td>5.0908</td>\n",
       "      <td>4.0824</td>\n",
       "      <td>6.6607</td>\n",
       "      <td>7.5791</td>\n",
       "      <td>...</td>\n",
       "      <td>2.5435</td>\n",
       "      <td>3.4127</td>\n",
       "      <td>3.4331</td>\n",
       "      <td>1.4381</td>\n",
       "      <td>2.3607</td>\n",
       "      <td>1.5007</td>\n",
       "      <td>9.9533</td>\n",
       "      <td>3.3598</td>\n",
       "      <td>2.4615</td>\n",
       "      <td>5.6179</td>\n",
       "    </tr>\n",
       "  </tbody>\n",
       "</table>\n",
       "<p>2 rows × 308 columns</p>\n",
       "</div>"
      ],
      "text/plain": [
       "           TCGA-EA-A3HT-01  TCGA-FU-A3HZ-01  TCGA-FU-A3TQ-01  TCGA-DS-A0VK-01  \\\n",
       "sample                                                                          \n",
       "ARHGEF10L          10.5288           8.9938          11.1427           9.6531   \n",
       "HIF3A               2.3360           3.0519           2.8401           4.7910   \n",
       "\n",
       "           TCGA-UC-A7PG-01  TCGA-C5-A7UE-01  TCGA-C5-A1MJ-01  TCGA-UC-A7PI-01  \\\n",
       "sample                                                                          \n",
       "ARHGEF10L          10.7841           9.1479           9.9180          11.3020   \n",
       "HIF3A               5.0874           1.0768           5.0908           4.0824   \n",
       "\n",
       "           TCGA-C5-A1MF-01  TCGA-EA-A5ZF-01  ...  TCGA-JW-A5VI-01  \\\n",
       "sample                                       ...                    \n",
       "ARHGEF10L           9.7611           9.1857  ...           9.7557   \n",
       "HIF3A               6.6607           7.5791  ...           2.5435   \n",
       "\n",
       "           TCGA-VS-A9UD-01  TCGA-C5-A1BQ-01  TCGA-MU-A8JM-01  TCGA-DS-A0VM-01  \\\n",
       "sample                                                                          \n",
       "ARHGEF10L           9.4056           9.4501           8.8562           9.3147   \n",
       "HIF3A               3.4127           3.4331           1.4381           2.3607   \n",
       "\n",
       "           TCGA-MY-A5BF-01  TCGA-EA-A556-01  TCGA-IR-A3LA-01  TCGA-VS-AA62-01  \\\n",
       "sample                                                                          \n",
       "ARHGEF10L           9.6083           8.6916           9.7172           8.5571   \n",
       "HIF3A               1.5007           9.9533           3.3598           2.4615   \n",
       "\n",
       "           TCGA-ZJ-AAXB-01  \n",
       "sample                      \n",
       "ARHGEF10L           9.3718  \n",
       "HIF3A               5.6179  \n",
       "\n",
       "[2 rows x 308 columns]"
      ]
     },
     "execution_count": 35,
     "metadata": {},
     "output_type": "execute_result"
    }
   ],
   "source": [
    "mrna.head(2)"
   ]
  },
  {
   "cell_type": "markdown",
   "metadata": {},
   "source": [
    "Transpose the data"
   ]
  },
  {
   "cell_type": "code",
   "execution_count": 36,
   "metadata": {},
   "outputs": [
    {
     "name": "stdout",
     "output_type": "stream",
     "text": [
      "cnv: (295, 24776)\n",
      "mrna: (308, 20530)\n"
     ]
    }
   ],
   "source": [
    "cnv = np.transpose(cnv)\n",
    "print(\"cnv:\", cnv.shape)\n",
    "mrna = np.transpose(mrna)\n",
    "print(\"mrna:\", mrna.shape)\n",
    "#print(\"clinical:\", clinical.shape) # clinical do not need to transpose"
   ]
  },
  {
   "cell_type": "code",
   "execution_count": 37,
   "metadata": {},
   "outputs": [
    {
     "data": {
      "text/html": [
       "<div>\n",
       "<style scoped>\n",
       "    .dataframe tbody tr th:only-of-type {\n",
       "        vertical-align: middle;\n",
       "    }\n",
       "\n",
       "    .dataframe tbody tr th {\n",
       "        vertical-align: top;\n",
       "    }\n",
       "\n",
       "    .dataframe thead th {\n",
       "        text-align: right;\n",
       "    }\n",
       "</style>\n",
       "<table border=\"1\" class=\"dataframe\">\n",
       "  <thead>\n",
       "    <tr style=\"text-align: right;\">\n",
       "      <th>Gene Symbol</th>\n",
       "      <th>ACAP3</th>\n",
       "      <th>ACTRT2</th>\n",
       "      <th>AGRN</th>\n",
       "      <th>ANKRD65</th>\n",
       "      <th>ATAD3A</th>\n",
       "      <th>ATAD3B</th>\n",
       "      <th>ATAD3C</th>\n",
       "      <th>AURKAIP1</th>\n",
       "      <th>B3GALT6</th>\n",
       "      <th>C1orf159</th>\n",
       "      <th>...</th>\n",
       "      <th>SMIM9</th>\n",
       "      <th>SNORA36A</th>\n",
       "      <th>SNORA56</th>\n",
       "      <th>TMLHE</th>\n",
       "      <th>VBP1</th>\n",
       "      <th>IL9R|ENSG00000124334.12</th>\n",
       "      <th>SPRY3|ENSG00000168939.6</th>\n",
       "      <th>VAMP7|ENSG00000124333.10</th>\n",
       "      <th>WASH6P|ENSG00000182484.10</th>\n",
       "      <th>WASIR1|ENSG00000185203.7</th>\n",
       "    </tr>\n",
       "  </thead>\n",
       "  <tbody>\n",
       "    <tr>\n",
       "      <th>TCGA-2W-A8YY-01</th>\n",
       "      <td>0.000</td>\n",
       "      <td>0.000</td>\n",
       "      <td>0.000</td>\n",
       "      <td>0.000</td>\n",
       "      <td>0.000</td>\n",
       "      <td>0.000</td>\n",
       "      <td>0.000</td>\n",
       "      <td>0.000</td>\n",
       "      <td>0.000</td>\n",
       "      <td>0.000</td>\n",
       "      <td>...</td>\n",
       "      <td>-0.021</td>\n",
       "      <td>-0.021</td>\n",
       "      <td>-0.021</td>\n",
       "      <td>-0.021</td>\n",
       "      <td>-0.021</td>\n",
       "      <td>-0.021</td>\n",
       "      <td>-0.021</td>\n",
       "      <td>-0.021</td>\n",
       "      <td>-0.021</td>\n",
       "      <td>-0.021</td>\n",
       "    </tr>\n",
       "    <tr>\n",
       "      <th>TCGA-4J-AA1J-01</th>\n",
       "      <td>-0.009</td>\n",
       "      <td>-0.009</td>\n",
       "      <td>-0.009</td>\n",
       "      <td>-0.009</td>\n",
       "      <td>-0.009</td>\n",
       "      <td>-0.009</td>\n",
       "      <td>-0.009</td>\n",
       "      <td>-0.009</td>\n",
       "      <td>-0.009</td>\n",
       "      <td>-0.009</td>\n",
       "      <td>...</td>\n",
       "      <td>-0.272</td>\n",
       "      <td>-0.272</td>\n",
       "      <td>-0.272</td>\n",
       "      <td>-0.272</td>\n",
       "      <td>-0.272</td>\n",
       "      <td>-0.272</td>\n",
       "      <td>-0.272</td>\n",
       "      <td>-0.272</td>\n",
       "      <td>-0.272</td>\n",
       "      <td>-0.272</td>\n",
       "    </tr>\n",
       "  </tbody>\n",
       "</table>\n",
       "<p>2 rows × 24776 columns</p>\n",
       "</div>"
      ],
      "text/plain": [
       "Gene Symbol      ACAP3  ACTRT2   AGRN  ANKRD65  ATAD3A  ATAD3B  ATAD3C  \\\n",
       "TCGA-2W-A8YY-01  0.000   0.000  0.000    0.000   0.000   0.000   0.000   \n",
       "TCGA-4J-AA1J-01 -0.009  -0.009 -0.009   -0.009  -0.009  -0.009  -0.009   \n",
       "\n",
       "Gene Symbol      AURKAIP1  B3GALT6  C1orf159  ...  SMIM9  SNORA36A  SNORA56  \\\n",
       "TCGA-2W-A8YY-01     0.000    0.000     0.000  ... -0.021    -0.021   -0.021   \n",
       "TCGA-4J-AA1J-01    -0.009   -0.009    -0.009  ... -0.272    -0.272   -0.272   \n",
       "\n",
       "Gene Symbol      TMLHE   VBP1  IL9R|ENSG00000124334.12  \\\n",
       "TCGA-2W-A8YY-01 -0.021 -0.021                   -0.021   \n",
       "TCGA-4J-AA1J-01 -0.272 -0.272                   -0.272   \n",
       "\n",
       "Gene Symbol      SPRY3|ENSG00000168939.6  VAMP7|ENSG00000124333.10  \\\n",
       "TCGA-2W-A8YY-01                   -0.021                    -0.021   \n",
       "TCGA-4J-AA1J-01                   -0.272                    -0.272   \n",
       "\n",
       "Gene Symbol      WASH6P|ENSG00000182484.10  WASIR1|ENSG00000185203.7  \n",
       "TCGA-2W-A8YY-01                     -0.021                    -0.021  \n",
       "TCGA-4J-AA1J-01                     -0.272                    -0.272  \n",
       "\n",
       "[2 rows x 24776 columns]"
      ]
     },
     "execution_count": 37,
     "metadata": {},
     "output_type": "execute_result"
    }
   ],
   "source": [
    "cnv.head(2)"
   ]
  },
  {
   "cell_type": "code",
   "execution_count": 38,
   "metadata": {},
   "outputs": [
    {
     "data": {
      "text/html": [
       "<div>\n",
       "<style scoped>\n",
       "    .dataframe tbody tr th:only-of-type {\n",
       "        vertical-align: middle;\n",
       "    }\n",
       "\n",
       "    .dataframe tbody tr th {\n",
       "        vertical-align: top;\n",
       "    }\n",
       "\n",
       "    .dataframe thead th {\n",
       "        text-align: right;\n",
       "    }\n",
       "</style>\n",
       "<table border=\"1\" class=\"dataframe\">\n",
       "  <thead>\n",
       "    <tr style=\"text-align: right;\">\n",
       "      <th>sample</th>\n",
       "      <th>ARHGEF10L</th>\n",
       "      <th>HIF3A</th>\n",
       "      <th>RNF17</th>\n",
       "      <th>RNF10</th>\n",
       "      <th>RNF11</th>\n",
       "      <th>RNF13</th>\n",
       "      <th>GTF2IP1</th>\n",
       "      <th>REM1</th>\n",
       "      <th>MTVR2</th>\n",
       "      <th>RTN4RL2</th>\n",
       "      <th>...</th>\n",
       "      <th>TULP2</th>\n",
       "      <th>NPY5R</th>\n",
       "      <th>GNGT2</th>\n",
       "      <th>GNGT1</th>\n",
       "      <th>TULP3</th>\n",
       "      <th>PTRF</th>\n",
       "      <th>BCL6B</th>\n",
       "      <th>GSTK1</th>\n",
       "      <th>SELP</th>\n",
       "      <th>SELS</th>\n",
       "    </tr>\n",
       "  </thead>\n",
       "  <tbody>\n",
       "    <tr>\n",
       "      <th>TCGA-EA-A3HT-01</th>\n",
       "      <td>10.5288</td>\n",
       "      <td>2.3360</td>\n",
       "      <td>1.1089</td>\n",
       "      <td>11.5901</td>\n",
       "      <td>11.5206</td>\n",
       "      <td>10.6758</td>\n",
       "      <td>12.0714</td>\n",
       "      <td>4.8749</td>\n",
       "      <td>0.0</td>\n",
       "      <td>2.1604</td>\n",
       "      <td>...</td>\n",
       "      <td>1.1089</td>\n",
       "      <td>0.0000</td>\n",
       "      <td>4.8462</td>\n",
       "      <td>1.4516</td>\n",
       "      <td>9.2349</td>\n",
       "      <td>12.5329</td>\n",
       "      <td>6.7780</td>\n",
       "      <td>9.9459</td>\n",
       "      <td>3.3582</td>\n",
       "      <td>10.0640</td>\n",
       "    </tr>\n",
       "    <tr>\n",
       "      <th>TCGA-FU-A3HZ-01</th>\n",
       "      <td>8.9938</td>\n",
       "      <td>3.0519</td>\n",
       "      <td>0.0000</td>\n",
       "      <td>11.7196</td>\n",
       "      <td>10.8445</td>\n",
       "      <td>9.3593</td>\n",
       "      <td>12.3598</td>\n",
       "      <td>2.5966</td>\n",
       "      <td>0.0</td>\n",
       "      <td>1.0854</td>\n",
       "      <td>...</td>\n",
       "      <td>0.0000</td>\n",
       "      <td>1.4238</td>\n",
       "      <td>4.4801</td>\n",
       "      <td>2.7246</td>\n",
       "      <td>8.7393</td>\n",
       "      <td>10.1113</td>\n",
       "      <td>5.4474</td>\n",
       "      <td>10.1345</td>\n",
       "      <td>3.3184</td>\n",
       "      <td>10.4844</td>\n",
       "    </tr>\n",
       "  </tbody>\n",
       "</table>\n",
       "<p>2 rows × 20530 columns</p>\n",
       "</div>"
      ],
      "text/plain": [
       "sample           ARHGEF10L   HIF3A   RNF17    RNF10    RNF11    RNF13  \\\n",
       "TCGA-EA-A3HT-01    10.5288  2.3360  1.1089  11.5901  11.5206  10.6758   \n",
       "TCGA-FU-A3HZ-01     8.9938  3.0519  0.0000  11.7196  10.8445   9.3593   \n",
       "\n",
       "sample           GTF2IP1    REM1  MTVR2  RTN4RL2  ...   TULP2   NPY5R   GNGT2  \\\n",
       "TCGA-EA-A3HT-01  12.0714  4.8749    0.0   2.1604  ...  1.1089  0.0000  4.8462   \n",
       "TCGA-FU-A3HZ-01  12.3598  2.5966    0.0   1.0854  ...  0.0000  1.4238  4.4801   \n",
       "\n",
       "sample            GNGT1   TULP3     PTRF   BCL6B    GSTK1    SELP     SELS  \n",
       "TCGA-EA-A3HT-01  1.4516  9.2349  12.5329  6.7780   9.9459  3.3582  10.0640  \n",
       "TCGA-FU-A3HZ-01  2.7246  8.7393  10.1113  5.4474  10.1345  3.3184  10.4844  \n",
       "\n",
       "[2 rows x 20530 columns]"
      ]
     },
     "execution_count": 38,
     "metadata": {},
     "output_type": "execute_result"
    }
   ],
   "source": [
    "mrna.head(2)"
   ]
  },
  {
   "cell_type": "markdown",
   "metadata": {},
   "source": [
    "Remove duplication"
   ]
  },
  {
   "cell_type": "code",
   "execution_count": 39,
   "metadata": {},
   "outputs": [
    {
     "name": "stdout",
     "output_type": "stream",
     "text": [
      "cnv: (295, 24776)\n",
      "mrna (308, 20530)\n"
     ]
    }
   ],
   "source": [
    "cnv = cnv[~cnv.duplicated(keep='first')]\n",
    "mrna = mrna[~mrna.duplicated(keep='first')]\n",
    "\n",
    "print(\"cnv:\", cnv.shape)\n",
    "print(\"mrna\", mrna.shape)"
   ]
  },
  {
   "attachments": {},
   "cell_type": "markdown",
   "metadata": {},
   "source": [
    "Identify shared patients across all datasets and exclude those not shared\n"
   ]
  },
  {
   "cell_type": "code",
   "execution_count": 40,
   "metadata": {},
   "outputs": [
    {
     "name": "stdout",
     "output_type": "stream",
     "text": [
      "Shape of common samples: 290\n"
     ]
    },
    {
     "data": {
      "text/html": [
       "<div>\n",
       "<style scoped>\n",
       "    .dataframe tbody tr th:only-of-type {\n",
       "        vertical-align: middle;\n",
       "    }\n",
       "\n",
       "    .dataframe tbody tr th {\n",
       "        vertical-align: top;\n",
       "    }\n",
       "\n",
       "    .dataframe thead th {\n",
       "        text-align: right;\n",
       "    }\n",
       "</style>\n",
       "<table border=\"1\" class=\"dataframe\">\n",
       "  <thead>\n",
       "    <tr style=\"text-align: right;\">\n",
       "      <th></th>\n",
       "      <th>sample</th>\n",
       "    </tr>\n",
       "  </thead>\n",
       "  <tbody>\n",
       "    <tr>\n",
       "      <th>0</th>\n",
       "      <td>TCGA-HM-A6W2-01</td>\n",
       "    </tr>\n",
       "    <tr>\n",
       "      <th>1</th>\n",
       "      <td>TCGA-VS-A9UQ-01</td>\n",
       "    </tr>\n",
       "    <tr>\n",
       "      <th>2</th>\n",
       "      <td>TCGA-C5-A2LV-01</td>\n",
       "    </tr>\n",
       "  </tbody>\n",
       "</table>\n",
       "</div>"
      ],
      "text/plain": [
       "            sample\n",
       "0  TCGA-HM-A6W2-01\n",
       "1  TCGA-VS-A9UQ-01\n",
       "2  TCGA-C5-A2LV-01"
      ]
     },
     "execution_count": 40,
     "metadata": {},
     "output_type": "execute_result"
    }
   ],
   "source": [
    "cnv.index.names = ['sample']\n",
    "mrna.index.names = ['sample']\n",
    "\n",
    "cnv = cnv.sort_values(by='sample')\n",
    "mrna = mrna.sort_values(by='sample')\n",
    "\n",
    "cnv = cnv.reset_index()\n",
    "mrna = mrna.reset_index()\n",
    "\n",
    "list_1 = cnv['sample'].values.tolist()\n",
    "list_2 = mrna['sample'].values.tolist()\n",
    "\n",
    "common_list0 = set(list_1).intersection(list_2)\n",
    "print (\"Shape of common samples:\", len(common_list0))\n",
    "\n",
    "common_df = pd.DataFrame(common_list0)\n",
    "common_df.rename(columns = {0:'sample'}, inplace = True)\n",
    "common_df.head(3)"
   ]
  },
  {
   "cell_type": "code",
   "execution_count": 41,
   "metadata": {},
   "outputs": [
    {
     "data": {
      "text/html": [
       "<div>\n",
       "<style scoped>\n",
       "    .dataframe tbody tr th:only-of-type {\n",
       "        vertical-align: middle;\n",
       "    }\n",
       "\n",
       "    .dataframe tbody tr th {\n",
       "        vertical-align: top;\n",
       "    }\n",
       "\n",
       "    .dataframe thead th {\n",
       "        text-align: right;\n",
       "    }\n",
       "</style>\n",
       "<table border=\"1\" class=\"dataframe\">\n",
       "  <thead>\n",
       "    <tr style=\"text-align: right;\">\n",
       "      <th>Gene Symbol</th>\n",
       "      <th>sample</th>\n",
       "      <th>ACAP3</th>\n",
       "      <th>ACTRT2</th>\n",
       "      <th>AGRN</th>\n",
       "      <th>ANKRD65</th>\n",
       "      <th>ATAD3A</th>\n",
       "      <th>ATAD3B</th>\n",
       "      <th>ATAD3C</th>\n",
       "      <th>AURKAIP1</th>\n",
       "      <th>B3GALT6</th>\n",
       "      <th>...</th>\n",
       "      <th>SMIM9</th>\n",
       "      <th>SNORA36A</th>\n",
       "      <th>SNORA56</th>\n",
       "      <th>TMLHE</th>\n",
       "      <th>VBP1</th>\n",
       "      <th>IL9R|ENSG00000124334.12</th>\n",
       "      <th>SPRY3|ENSG00000168939.6</th>\n",
       "      <th>VAMP7|ENSG00000124333.10</th>\n",
       "      <th>WASH6P|ENSG00000182484.10</th>\n",
       "      <th>WASIR1|ENSG00000185203.7</th>\n",
       "    </tr>\n",
       "  </thead>\n",
       "  <tbody>\n",
       "    <tr>\n",
       "      <th>0</th>\n",
       "      <td>TCGA-2W-A8YY-01</td>\n",
       "      <td>0.000</td>\n",
       "      <td>0.000</td>\n",
       "      <td>0.000</td>\n",
       "      <td>0.000</td>\n",
       "      <td>0.000</td>\n",
       "      <td>0.000</td>\n",
       "      <td>0.000</td>\n",
       "      <td>0.000</td>\n",
       "      <td>0.000</td>\n",
       "      <td>...</td>\n",
       "      <td>-0.021</td>\n",
       "      <td>-0.021</td>\n",
       "      <td>-0.021</td>\n",
       "      <td>-0.021</td>\n",
       "      <td>-0.021</td>\n",
       "      <td>-0.021</td>\n",
       "      <td>-0.021</td>\n",
       "      <td>-0.021</td>\n",
       "      <td>-0.021</td>\n",
       "      <td>-0.021</td>\n",
       "    </tr>\n",
       "    <tr>\n",
       "      <th>1</th>\n",
       "      <td>TCGA-4J-AA1J-01</td>\n",
       "      <td>-0.009</td>\n",
       "      <td>-0.009</td>\n",
       "      <td>-0.009</td>\n",
       "      <td>-0.009</td>\n",
       "      <td>-0.009</td>\n",
       "      <td>-0.009</td>\n",
       "      <td>-0.009</td>\n",
       "      <td>-0.009</td>\n",
       "      <td>-0.009</td>\n",
       "      <td>...</td>\n",
       "      <td>-0.272</td>\n",
       "      <td>-0.272</td>\n",
       "      <td>-0.272</td>\n",
       "      <td>-0.272</td>\n",
       "      <td>-0.272</td>\n",
       "      <td>-0.272</td>\n",
       "      <td>-0.272</td>\n",
       "      <td>-0.272</td>\n",
       "      <td>-0.272</td>\n",
       "      <td>-0.272</td>\n",
       "    </tr>\n",
       "  </tbody>\n",
       "</table>\n",
       "<p>2 rows × 24777 columns</p>\n",
       "</div>"
      ],
      "text/plain": [
       "Gene Symbol           sample  ACAP3  ACTRT2   AGRN  ANKRD65  ATAD3A  ATAD3B  \\\n",
       "0            TCGA-2W-A8YY-01  0.000   0.000  0.000    0.000   0.000   0.000   \n",
       "1            TCGA-4J-AA1J-01 -0.009  -0.009 -0.009   -0.009  -0.009  -0.009   \n",
       "\n",
       "Gene Symbol  ATAD3C  AURKAIP1  B3GALT6  ...  SMIM9  SNORA36A  SNORA56  TMLHE  \\\n",
       "0             0.000     0.000    0.000  ... -0.021    -0.021   -0.021 -0.021   \n",
       "1            -0.009    -0.009   -0.009  ... -0.272    -0.272   -0.272 -0.272   \n",
       "\n",
       "Gene Symbol   VBP1  IL9R|ENSG00000124334.12  SPRY3|ENSG00000168939.6  \\\n",
       "0           -0.021                   -0.021                   -0.021   \n",
       "1           -0.272                   -0.272                   -0.272   \n",
       "\n",
       "Gene Symbol  VAMP7|ENSG00000124333.10  WASH6P|ENSG00000182484.10  \\\n",
       "0                              -0.021                     -0.021   \n",
       "1                              -0.272                     -0.272   \n",
       "\n",
       "Gene Symbol  WASIR1|ENSG00000185203.7  \n",
       "0                              -0.021  \n",
       "1                              -0.272  \n",
       "\n",
       "[2 rows x 24777 columns]"
      ]
     },
     "execution_count": 41,
     "metadata": {},
     "output_type": "execute_result"
    }
   ],
   "source": [
    "cnv.head(2)"
   ]
  },
  {
   "cell_type": "code",
   "execution_count": 42,
   "metadata": {},
   "outputs": [
    {
     "data": {
      "text/html": [
       "<div>\n",
       "<style scoped>\n",
       "    .dataframe tbody tr th:only-of-type {\n",
       "        vertical-align: middle;\n",
       "    }\n",
       "\n",
       "    .dataframe tbody tr th {\n",
       "        vertical-align: top;\n",
       "    }\n",
       "\n",
       "    .dataframe thead th {\n",
       "        text-align: right;\n",
       "    }\n",
       "</style>\n",
       "<table border=\"1\" class=\"dataframe\">\n",
       "  <thead>\n",
       "    <tr style=\"text-align: right;\">\n",
       "      <th>sample</th>\n",
       "      <th>sample</th>\n",
       "      <th>ARHGEF10L</th>\n",
       "      <th>HIF3A</th>\n",
       "      <th>RNF17</th>\n",
       "      <th>RNF10</th>\n",
       "      <th>RNF11</th>\n",
       "      <th>RNF13</th>\n",
       "      <th>GTF2IP1</th>\n",
       "      <th>REM1</th>\n",
       "      <th>MTVR2</th>\n",
       "      <th>...</th>\n",
       "      <th>TULP2</th>\n",
       "      <th>NPY5R</th>\n",
       "      <th>GNGT2</th>\n",
       "      <th>GNGT1</th>\n",
       "      <th>TULP3</th>\n",
       "      <th>PTRF</th>\n",
       "      <th>BCL6B</th>\n",
       "      <th>GSTK1</th>\n",
       "      <th>SELP</th>\n",
       "      <th>SELS</th>\n",
       "    </tr>\n",
       "  </thead>\n",
       "  <tbody>\n",
       "    <tr>\n",
       "      <th>0</th>\n",
       "      <td>TCGA-2W-A8YY-01</td>\n",
       "      <td>9.7001</td>\n",
       "      <td>6.1518</td>\n",
       "      <td>0.0000</td>\n",
       "      <td>11.7427</td>\n",
       "      <td>10.5971</td>\n",
       "      <td>9.9744</td>\n",
       "      <td>12.4478</td>\n",
       "      <td>3.5954</td>\n",
       "      <td>0.0</td>\n",
       "      <td>...</td>\n",
       "      <td>0.4412</td>\n",
       "      <td>0.00</td>\n",
       "      <td>3.8312</td>\n",
       "      <td>0.0000</td>\n",
       "      <td>9.2722</td>\n",
       "      <td>9.9035</td>\n",
       "      <td>6.4041</td>\n",
       "      <td>10.5930</td>\n",
       "      <td>4.9891</td>\n",
       "      <td>10.6915</td>\n",
       "    </tr>\n",
       "    <tr>\n",
       "      <th>1</th>\n",
       "      <td>TCGA-4J-AA1J-01</td>\n",
       "      <td>9.7899</td>\n",
       "      <td>5.4216</td>\n",
       "      <td>1.9965</td>\n",
       "      <td>11.4053</td>\n",
       "      <td>11.0224</td>\n",
       "      <td>10.1437</td>\n",
       "      <td>12.1223</td>\n",
       "      <td>4.5101</td>\n",
       "      <td>0.0</td>\n",
       "      <td>...</td>\n",
       "      <td>0.5132</td>\n",
       "      <td>1.19</td>\n",
       "      <td>3.8747</td>\n",
       "      <td>2.6149</td>\n",
       "      <td>8.7719</td>\n",
       "      <td>12.4489</td>\n",
       "      <td>6.6079</td>\n",
       "      <td>10.8191</td>\n",
       "      <td>6.3147</td>\n",
       "      <td>10.3348</td>\n",
       "    </tr>\n",
       "  </tbody>\n",
       "</table>\n",
       "<p>2 rows × 20531 columns</p>\n",
       "</div>"
      ],
      "text/plain": [
       "sample           sample  ARHGEF10L   HIF3A   RNF17    RNF10    RNF11    RNF13  \\\n",
       "0       TCGA-2W-A8YY-01     9.7001  6.1518  0.0000  11.7427  10.5971   9.9744   \n",
       "1       TCGA-4J-AA1J-01     9.7899  5.4216  1.9965  11.4053  11.0224  10.1437   \n",
       "\n",
       "sample  GTF2IP1    REM1  MTVR2  ...   TULP2  NPY5R   GNGT2   GNGT1   TULP3  \\\n",
       "0       12.4478  3.5954    0.0  ...  0.4412   0.00  3.8312  0.0000  9.2722   \n",
       "1       12.1223  4.5101    0.0  ...  0.5132   1.19  3.8747  2.6149  8.7719   \n",
       "\n",
       "sample     PTRF   BCL6B    GSTK1    SELP     SELS  \n",
       "0        9.9035  6.4041  10.5930  4.9891  10.6915  \n",
       "1       12.4489  6.6079  10.8191  6.3147  10.3348  \n",
       "\n",
       "[2 rows x 20531 columns]"
      ]
     },
     "execution_count": 42,
     "metadata": {},
     "output_type": "execute_result"
    }
   ],
   "source": [
    "mrna.head(2)"
   ]
  },
  {
   "attachments": {},
   "cell_type": "markdown",
   "metadata": {
    "id": "V87FJ20YR8pJ"
   },
   "source": [
    "Identify shared patients across all datasets and exclude those not shared\n"
   ]
  },
  {
   "cell_type": "code",
   "execution_count": 43,
   "metadata": {},
   "outputs": [
    {
     "name": "stdout",
     "output_type": "stream",
     "text": [
      "Shape of samples CNV: (290, 24777)\n",
      "Shape of samples RNA Sequence (RNASeq): (290, 20531)\n"
     ]
    }
   ],
   "source": [
    "cnv_common = cnv[cnv['sample'].isin(common_df['sample'])]\n",
    "print (\"Shape of samples CNV:\", cnv_common.shape)\n",
    "\n",
    "mrna_common = mrna[mrna['sample'].isin(common_df['sample'])]\n",
    "print (\"Shape of samples RNA Sequence (RNASeq):\", mrna_common.shape)"
   ]
  },
  {
   "attachments": {},
   "cell_type": "markdown",
   "metadata": {},
   "source": [
    "Concatenate datasets with class labels\n",
    "\n"
   ]
  },
  {
   "cell_type": "code",
   "execution_count": 44,
   "metadata": {
    "executionInfo": {
     "elapsed": 11,
     "status": "aborted",
     "timestamp": 1670413253501,
     "user": {
      "displayName": "Sabrina Azmi",
      "userId": "03843576326678916867"
     },
     "user_tz": -480
    },
    "id": "MELfdKWoSCEy"
   },
   "outputs": [
    {
     "name": "stdout",
     "output_type": "stream",
     "text": [
      "histological_type: ['Adenosquamous' 'Cervical Squamous Cell Carcinoma'\n",
      " 'Endocervical Type of Adenocarcinoma'\n",
      " 'Endocervical Adenocarcinoma of the Usual Type'\n",
      " 'Mucinous Adenocarcinoma of Endocervical Type'\n",
      " 'Endometrioid Adenocarcinoma of Endocervix' nan]\n",
      "histological_type\n",
      "Cervical Squamous Cell Carcinoma                 257\n",
      "Endocervical Type of Adenocarcinoma               22\n",
      "Mucinous Adenocarcinoma of Endocervical Type      17\n",
      "Adenosquamous                                      7\n",
      "Endocervical Adenocarcinoma of the Usual Type      6\n",
      "Endometrioid Adenocarcinoma of Endocervix          3\n",
      "Name: count, dtype: int64\n"
     ]
    }
   ],
   "source": [
    "dataClass = clinical.histological_type.unique()\n",
    "print(\"histological_type:\", dataClass)\n",
    "print(clinical.histological_type.value_counts())"
   ]
  },
  {
   "cell_type": "code",
   "execution_count": 45,
   "metadata": {},
   "outputs": [],
   "source": [
    "cnv_common.set_index('sample', inplace=True)\n",
    "mrna_common.set_index('sample', inplace=True)"
   ]
  },
  {
   "cell_type": "code",
   "execution_count": 46,
   "metadata": {
    "executionInfo": {
     "elapsed": 12,
     "status": "aborted",
     "timestamp": 1670413253502,
     "user": {
      "displayName": "Sabrina Azmi",
      "userId": "03843576326678916867"
     },
     "user_tz": -480
    },
    "id": "H0zi_0MDS5Su"
   },
   "outputs": [
    {
     "name": "stdout",
     "output_type": "stream",
     "text": [
      "cnv: (290, 24777)\n",
      "RNA Sequence (RNASeq): (290, 20531)\n"
     ]
    }
   ],
   "source": [
    "cnv_common_class = pd.merge(cnv_common, clinical.set_index('sampleID')['histological_type'].to_frame(), how='inner', left_on='sample', right_index=True)\n",
    "print (\"cnv:\", cnv_common_class.shape)\n",
    "\n",
    "mrna_common_class = pd.merge(mrna_common, clinical.set_index('sampleID')['histological_type'].to_frame(), how='inner', left_on='sample', right_index=True)\n",
    "print (\"RNA Sequence (RNASeq):\", mrna_common_class.shape)"
   ]
  },
  {
   "cell_type": "markdown",
   "metadata": {},
   "source": [
    "Examine cancer subtypes and class distributions, then retain only patients with sufficient representation in the class labels"
   ]
  },
  {
   "cell_type": "code",
   "execution_count": 47,
   "metadata": {},
   "outputs": [
    {
     "name": "stdout",
     "output_type": "stream",
     "text": [
      "histological_type\n",
      "Cervical Squamous Cell Carcinoma                 238\n",
      "Endocervical Type of Adenocarcinoma               21\n",
      "Mucinous Adenocarcinoma of Endocervical Type      17\n",
      "Endocervical Adenocarcinoma of the Usual Type      6\n",
      "Adenosquamous                                      5\n",
      "Endometrioid Adenocarcinoma of Endocervix          3\n",
      "Name: count, dtype: int64\n",
      "histological_type\n",
      "Cervical Squamous Cell Carcinoma                 238\n",
      "Endocervical Type of Adenocarcinoma               21\n",
      "Mucinous Adenocarcinoma of Endocervical Type      17\n",
      "Endocervical Adenocarcinoma of the Usual Type      6\n",
      "Adenosquamous                                      5\n",
      "Endometrioid Adenocarcinoma of Endocervix          3\n",
      "Name: count, dtype: int64\n"
     ]
    }
   ],
   "source": [
    "print(cnv_common_class.histological_type.value_counts())\n",
    "print(mrna_common_class.histological_type.value_counts())"
   ]
  },
  {
   "cell_type": "code",
   "execution_count": 48,
   "metadata": {
    "executionInfo": {
     "elapsed": 13,
     "status": "aborted",
     "timestamp": 1670413253504,
     "user": {
      "displayName": "Sabrina Azmi",
      "userId": "03843576326678916867"
     },
     "user_tz": -480
    },
    "id": "Yhv9WsPB7vPb"
   },
   "outputs": [
    {
     "name": "stdout",
     "output_type": "stream",
     "text": [
      "cnv: (290, 24777)\n",
      "mrna (290, 20531)\n"
     ]
    }
   ],
   "source": [
    "cnv_common_class.dropna(subset=['histological_type'], inplace = True)\n",
    "print(\"cnv:\", cnv_common_class.shape)\n",
    "\n",
    "mrna_common_class.dropna(subset=['histological_type'], inplace = True)\n",
    "print(\"mrna\", mrna_common_class.shape)"
   ]
  },
  {
   "cell_type": "code",
   "execution_count": 49,
   "metadata": {},
   "outputs": [
    {
     "name": "stdout",
     "output_type": "stream",
     "text": [
      "Copy Number Variation (CNV): (276, 24777)\n",
      "RNA Sequence (RNASeq): (276, 20531)\n"
     ]
    }
   ],
   "source": [
    "# List of subtypes to remove\n",
    "subtypes_to_remove = [\n",
    "    \"Endocervical Adenocarcinoma of the Usual Type\", \"Adenosquamous\", \"Endometrioid Adenocarcinoma of Endocervix\"\n",
    "]\n",
    "\n",
    "# Filter them out\n",
    "cnv_common_class = cnv_common_class[~cnv_common_class['histological_type'].isin(subtypes_to_remove)]\n",
    "print(\"Copy Number Variation (CNV):\", cnv_common_class.shape)\n",
    "\n",
    "mrna_common_class = mrna_common_class[~mrna_common_class['histological_type'].isin(subtypes_to_remove)]\n",
    "print(\"RNA Sequence (RNASeq):\", mrna_common_class.shape)"
   ]
  },
  {
   "attachments": {},
   "cell_type": "markdown",
   "metadata": {},
   "source": [
    "Remove features with missing values\n"
   ]
  },
  {
   "cell_type": "code",
   "execution_count": 50,
   "metadata": {},
   "outputs": [
    {
     "name": "stdout",
     "output_type": "stream",
     "text": [
      "Any missing values in cnv?:  False\n",
      "Any missing values in mrna?: False\n"
     ]
    }
   ],
   "source": [
    "print (\"Any missing values in cnv?: \", cnv_common_class.isnull().values.any())\n",
    "print (\"Any missing values in mrna?:\", mrna_common_class.isnull().values.any())"
   ]
  },
  {
   "cell_type": "code",
   "execution_count": 51,
   "metadata": {
    "executionInfo": {
     "elapsed": 13,
     "status": "aborted",
     "timestamp": 1670413253504,
     "user": {
      "displayName": "Sabrina Azmi",
      "userId": "03843576326678916867"
     },
     "user_tz": -480
    },
    "id": "zUrKhGhaUg-q"
   },
   "outputs": [
    {
     "name": "stdout",
     "output_type": "stream",
     "text": [
      "cnv: (276, 24777)\n",
      "mrna (276, 20531)\n"
     ]
    }
   ],
   "source": [
    "cnv_common_class.dropna(axis=1, how='any', inplace = True) \n",
    "mrna_common_class.dropna(axis=1, how='any', inplace = True)\n",
    "\n",
    "print(\"cnv:\", cnv_common_class.shape)\n",
    "print(\"mrna\", mrna_common_class.shape)"
   ]
  },
  {
   "cell_type": "code",
   "execution_count": 52,
   "metadata": {
    "executionInfo": {
     "elapsed": 13,
     "status": "aborted",
     "timestamp": 1670413253504,
     "user": {
      "displayName": "Sabrina Azmi",
      "userId": "03843576326678916867"
     },
     "user_tz": -480
    },
    "id": "Wmn_wos-MAF-"
   },
   "outputs": [
    {
     "name": "stdout",
     "output_type": "stream",
     "text": [
      "Any missing values in cnv?:  False\n",
      "Any missing values in mrna?: False\n"
     ]
    }
   ],
   "source": [
    "print (\"Any missing values in cnv?: \", cnv_common_class.isnull().values.any())\n",
    "print (\"Any missing values in mrna?:\", mrna_common_class.isnull().values.any())"
   ]
  },
  {
   "cell_type": "markdown",
   "metadata": {},
   "source": [
    "Remove zero-variance features"
   ]
  },
  {
   "cell_type": "code",
   "execution_count": 53,
   "metadata": {},
   "outputs": [
    {
     "name": "stdout",
     "output_type": "stream",
     "text": [
      "\n",
      "Processing DataFrame 1...\n",
      "DataFrame 1 has no zero-variance columns.\n",
      "\n",
      "Processing DataFrame 2...\n",
      "DataFrame 2 has 418 zero-variance columns: ['RBMY1A3P', 'SNORD115-17', 'SNORD114-31', 'SNORD114-30', 'SNORD115-6', 'SNORD115-4', 'SNORD104', 'SNORD115-9', 'SNORD38A', 'KRTAP19-2', 'KRTAP19-7', 'KRTAP19-4', 'SNORD114-3', 'SRY', 'HBII-52-27', 'SNORD11', 'SNORD12', 'SNORD21', 'SNORD20', 'SNORD23', 'SNORD25', 'SNORD127', 'DAZ3', 'DAZ2', 'DAZ4', 'SNORD124', 'TTTY17A', 'SNORD115-5', 'SNORD80', 'TSPY1', 'TSPY2', 'SNORD56B', 'SNORD78', 'PRAMEF17', 'SNORD113-7', 'HSFX1', 'SNORD96A', 'ADAM3A', 'SNORD119', 'HBII-52-46', 'HBII-52-45', 'SNORD47', 'SNORD4B', 'SNORD4A', 'CRYGA', 'SNORD116-24', 'SNORD116-25', 'SNORD116-23', 'SNORD116-29', 'RBMY1B', 'RBMY1F', 'OR52J3', 'CSN1S2A', 'BPY2', 'DEFB121', 'SNORD115-8', 'OR6Q1', 'SNORD67', 'SNORD66', 'HBII-52-28', 'SNORD69', 'SNORD68', 'SNORD38B', 'OR2T34', 'SNORD113-4', 'SNORD116-26', 'OR5H15', 'SNORD115-1', 'SNORD58A', 'SNORD58C', 'PRR20A', 'PRR20C', 'PRR20D', 'OR5H1', 'SNORD96B', 'SNORD63', 'SNORD116-22', 'PRY2', 'SNORD81', 'KRTAP21-1', 'OR8J3', 'PRAMEF3', '?|404770', 'SNORD114-20', 'LOC728410', 'SNAR-A3', 'SNORD115-20', 'SNORD115-22', 'SNORD115-25', 'SNORD114-29', 'OR8H3', 'KRTAP24-1', 'DEFB134', 'DEFB135', 'DEFB130', 'SNORD29', 'S100A7L2', 'LOC653545', 'OR6C3', 'WFDC9', 'KRTAP15-1', 'SNORD16', 'SNORD36A', 'SNORD91B', 'RBMY1J', 'SNORD87', 'SNORD86', 'OR4C11', 'DEFB116', 'DEFB114', 'DEFB115', 'DEFB112', 'DEFB113', 'TTTY4C', 'OR4B1', 'RBMY1E', 'SNORD91A', 'ATXN8OS', 'SNORD88B', 'SNORD50B', 'SNORD65', 'KRTAP22-1', 'SNORD61', 'SNORD115-35', 'SNORD114-10', 'SNORD114-6', 'SNORD114-5', 'OR8B3', 'FAM27L', 'FAM41AY1', 'OR6C6', 'SNORD12C', 'SNORD123', 'SNORD126', 'SNORD125', 'DEFB108B', 'OR5B3', 'OR5T3', 'KRTAP23-1', 'SNORD48', 'SNORD114-9', 'SNORD46', 'SNORD115-2', 'SNORD115-3', 'SNORD27', 'SNORD105', 'SPANXN4', 'DEFB106A', 'RBMY2EP', 'SPANXN1', 'SNORD35A', 'SNORD35B', 'RBMY3AP', 'LOC100169752', 'TTTY22', 'OR51D1', 'SNORD24', 'C21orf94', 'SNORD28', 'HSFY2', 'OR52E8', 'TRIM77', 'XKRY2', 'KRTAP25-1', 'TTTY6B', 'OR5D18', 'OR2M1P', 'SNORD49A', 'OR5AK2', 'SNORD102', 'ZNF735', 'SNORD115-14', 'OR5M3', 'BSPH1', 'SNORD115-16', 'SNORD30', 'SNORD31', 'SNORD115-10', 'SNORD18B', 'OR51L1', 'OR51S1', 'SNORD26', 'SNORD114-7', 'SNORD45C', 'SNORD111B', 'SNORD18A', 'TTTY6', 'TTTY7', 'TTTY5', 'TTTY8', 'SNORA36C', 'TTTY20', 'CT47A7', 'CT47A9', 'SNORD109B', 'OR10K1', 'SNORD45B', 'TTTY23', 'SNORD45A', 'KRTAP6-2', 'OR5D14', 'OR5D16', 'SNORD114-22', 'SNORD114-23', 'SNORD114-26', 'SNORD114-27', 'SNORD114-24', 'SNORD114-25', 'SNORD114-28', 'SNORD115-41', 'SNORD115-40', 'CDY1B', 'SNORD1A', 'SNORD1B', 'SNORD19', 'OR9G4', 'SNORD115-37', 'OR4K5', 'SNORD44', 'SNORD34', 'LOC254312', 'SNORD121B', 'SNORD121A', 'OR10AG1', 'SNAR-F', 'SNAR-H', 'SUN5', 'MS4A5', 'SNORD51', 'SNORD115-44', 'SNORD36C', 'SNORD115-48', 'SNORD11B', 'SNORD49B', 'OR4C15', 'SNORD116-19', 'SNORA35', 'SNORD116-11', '?|136542', 'DEFB110', 'GLYCAM1', 'SNORD59B', 'SNORD59A', 'SNORD116-27', 'OR6C68', 'SNORD114-21', 'SNORD114-11', 'SNORD72', 'SNORD74', 'SNORD75', 'SNORD79', 'SNORD114-4', 'OR8K5', 'OR2T27', 'CDY1', 'SNORA19', 'RNU5E', 'SNORD88C', 'RNY5', 'RNY4', 'SNORD114-16', 'SNORD52', 'SNORD53', 'SNORD115-11', 'SNORD113-9', 'SNORD113-5', 'SNORD113-6', 'SNORD113-1', 'SNORD113-2', 'SNORD114-14', 'OR10X1', 'SNORD116-18', 'KRTAP20-3', 'SNORD98', 'SNORD99', 'SNORD93', 'KRTAP20-1', 'SNORD116-12', 'C13orf28', 'C7orf66', 'NMS', 'SNORD73A', 'SNORD115-32', 'SNORD115-39', 'SNAR-D', 'SNORA30', 'DEFB128', 'DEFB127', 'DEFB122', 'SNAR-C4', '?|442388', 'OR4K13', 'OR4A16', 'SNORD116-10', 'SNORD116-13', 'SNORD116-15', 'SNORD116-14', 'SNORD116-16', 'OR5M8', 'XKRY', 'SNORD95', 'SNORD90', 'SNORD114-18', 'SNORD92', 'TSSK2', 'SNORA70C', 'SNORD114-15', 'SNORD19B', 'SNORD70', 'SNORD76', '?|317712', 'SNORD77', 'HBII-52-24', 'SNAR-A13', 'TREML2P1', 'SNORD60', 'TXNDC8', 'TTTY3B', 'KRTAP13-4', 'KRTAP13-3', 'SNORA11C', 'OR51A2', 'OR51A4', 'IQCF2', 'SNORD105B', 'TTTY17B', 'SNORD6', 'SNORD7', 'SNORD5', 'SNORD2', 'SNORD9', 'SNORD33', 'VTRNA1-2', 'SNORD54', 'TTTY16', 'TTTY10', 'TTTY18', 'TTTY1B', 'FAM197Y2', 'OR51G2', 'SNORD114-8', 'SNORD55', 'SNORD56', 'SNORD57', 'MLN', 'TTTY21', 'RBMY1A1', 'DUX4', 'SNORD50A', 'SNORD117', 'SNORD110', 'SNORD111', 'KRTAP12-4', 'SNAR-A2', 'SNAR-A4', 'OR10R2', 'TTTY12', 'OR2T1', 'OR5AS1', 'SNORD32A', 'SNORD43', 'SNORD114-12', 'NPS', 'TSPY4', 'SNORD71', 'PRR20B', 'SNAR-C3', 'SNAR-C2', 'VN1R4', 'SNORD88A', 'SNORD36B', 'SNAR-I', 'VTRNA1-3', 'VTRNA1-1', 'SNORD41', 'OR2M5', 'SNORD62A', 'DEFB105A', 'SNORD116-5', 'SNORD103A', 'OR4C45', 'OR8B12', 'SNORD42B', 'IFNA16', 'SNORD42A', 'SNORD37', 'SNORD114-1', 'TTTY11', 'TTTY13', 'TTTY19', 'LOC340094', 'SNORD115-33', 'SNORD115-30', 'TTTY9B', 'SNORD115-31', 'OR6Y1', 'SNORD114-2', 'SNORD115-38', 'SNORD18C', 'SNORD12B', 'LOC100287704', 'CDY2B', 'SNORD114-19', 'SNORD114-13', 'SNORD114-17', 'CT47A11', 'CT47A10', 'OR4P4', 'SNORD116-8', 'SNORD116-1', 'SNORD116-3', 'SNORD116-2', 'SNORD85', 'SNORD84', 'SNORD82', 'SNORD32B', 'AMELY', 'OR10J5']\n",
      "DataFrame 2 updated shape: (276, 20113)\n",
      "\n",
      "----Updated Shapes of DataFrames----\n",
      "DataFrame 1: (276, 24777)\n",
      "DataFrame 2: (276, 20113)\n"
     ]
    }
   ],
   "source": [
    "dataframes = [cnv_common_class, mrna_common_class]\n",
    "\n",
    "# Iterate over each dataframe and check for zero-variance columns\n",
    "for i, df in enumerate(dataframes):\n",
    "    print(f\"\\nProcessing DataFrame {i+1}...\")  # Debugging output\n",
    "    \n",
    "    # Exclude the last column (assuming it's the class column)\n",
    "    feature_columns = df.iloc[:, :-1]\n",
    "    \n",
    "    # Find columns with zero variance\n",
    "    zero_var_cols = feature_columns.columns[feature_columns.nunique() <= 1]\n",
    "    \n",
    "    if len(zero_var_cols) > 0:\n",
    "        print(f\"DataFrame {i+1} has {len(zero_var_cols)} zero-variance columns: {list(zero_var_cols)}\")\n",
    "        \n",
    "        # Drop zero-variance columns and reassign to the dataframes list\n",
    "        dataframes[i] = df.drop(columns=zero_var_cols)\n",
    "        \n",
    "        # Debugging output: Check new shape of the dataframe\n",
    "        print(f\"DataFrame {i+1} updated shape: {dataframes[i].shape}\")\n",
    "    else:\n",
    "        print(f\"DataFrame {i+1} has no zero-variance columns.\")\n",
    "\n",
    "# Verify updated shapes\n",
    "print(\"\\n----Updated Shapes of DataFrames----\")\n",
    "for i, df in enumerate(dataframes):\n",
    "    print(f\"DataFrame {i+1}: {df.shape}\")"
   ]
  },
  {
   "attachments": {},
   "cell_type": "markdown",
   "metadata": {},
   "source": [
    "Eliminate redundant information\n"
   ]
  },
  {
   "cell_type": "code",
   "execution_count": 54,
   "metadata": {},
   "outputs": [
    {
     "name": "stdout",
     "output_type": "stream",
     "text": [
      "----Omics dataset----\n",
      "cnv: (276, 24777)\n",
      "mrna (276, 20113)\n",
      "----Class distribution----\n",
      "histological_type\n",
      "Cervical Squamous Cell Carcinoma                238\n",
      "Endocervical Type of Adenocarcinoma              21\n",
      "Mucinous Adenocarcinoma of Endocervical Type     17\n",
      "Name: count, dtype: int64\n"
     ]
    }
   ],
   "source": [
    "# Remove duplicates from each dataset\n",
    "omics_datasets = [df.drop_duplicates() for df in dataframes]\n",
    "\n",
    "# Unpack the updated datasets back into variables\n",
    "cnv_common_class, mrna_common_class = omics_datasets\n",
    "\n",
    "print (\"----Omics dataset----\")\n",
    "print(\"cnv:\", cnv_common_class.shape)\n",
    "print(\"mrna\", mrna_common_class.shape)\n",
    "\n",
    "print (\"----Class distribution----\")\n",
    "print(cnv_common_class.histological_type.value_counts())"
   ]
  },
  {
   "cell_type": "markdown",
   "metadata": {},
   "source": [
    "Data standardization "
   ]
  },
  {
   "cell_type": "code",
   "execution_count": 55,
   "metadata": {},
   "outputs": [],
   "source": [
    "datapath_out = \"/Users/sabye/Downloads/wgRFECV-BIN/Result/\""
   ]
  },
  {
   "cell_type": "code",
   "execution_count": 56,
   "metadata": {},
   "outputs": [
    {
     "name": "stdout",
     "output_type": "stream",
     "text": [
      "Processing dataset: cnv\n",
      "Standardized data for cnv saved successfully at /Users/sabye/Downloads/wgRFECV-BIN/Result/Preprocessed_CESC_cnv.csv\n",
      "Processing dataset: mrna\n",
      "Standardized data for mrna saved successfully at /Users/sabye/Downloads/wgRFECV-BIN/Result/Preprocessed_CESC_mrna.csv\n"
     ]
    }
   ],
   "source": [
    "os.makedirs(datapath, exist_ok=True)\n",
    "\n",
    "# Dictionary of datasets with descriptive keys\n",
    "dataframes = {\n",
    "    \"cnv\": cnv_common_class,\n",
    "    \"mrna\": mrna_common_class\n",
    "}\n",
    "\n",
    "# Initialize the StandardScaler\n",
    "scaler = StandardScaler()\n",
    "\n",
    "# Process each dataset and save the preprocessed file\n",
    "for key, df in dataframes.items():\n",
    "    print(f\"Processing dataset: {key}\")\n",
    "    \n",
    "    # Separate features and class\n",
    "    features = df.iloc[:, :-1]\n",
    "    classes = df.iloc[:, -1]\n",
    "    \n",
    "    # Standardize the features\n",
    "    standardized_features = scaler.fit_transform(features)\n",
    "    \n",
    "    # Recreate the DataFrame\n",
    "    standardized_df = pd.DataFrame(standardized_features, columns=features.columns, index=df.index)\n",
    "    standardized_df['hys'] = classes\n",
    "    \n",
    "    # Save the standardized DataFrame to CSV\n",
    "    output_path = os.path.join(datapath_out, f\"Preprocessed_CESC_{key}.csv\")\n",
    "    standardized_df.to_csv(output_path, index=True)\n",
    "    print(f\"Standardized data for {key} saved successfully at {output_path}\")\n",
    "    \n",
    "    # Clean up variables to free up memory\n",
    "    del features, classes, standardized_features, standardized_df\n"
   ]
  }
 ],
 "metadata": {
  "colab": {
   "collapsed_sections": [
    "tzdgLOvvTHO_"
   ],
   "provenance": []
  },
  "kernelspec": {
   "display_name": "Python [conda env:base] *",
   "language": "python",
   "name": "conda-base-py"
  },
  "language_info": {
   "codemirror_mode": {
    "name": "ipython",
    "version": 3
   },
   "file_extension": ".py",
   "mimetype": "text/x-python",
   "name": "python",
   "nbconvert_exporter": "python",
   "pygments_lexer": "ipython3",
   "version": "3.11.7"
  }
 },
 "nbformat": 4,
 "nbformat_minor": 4
}

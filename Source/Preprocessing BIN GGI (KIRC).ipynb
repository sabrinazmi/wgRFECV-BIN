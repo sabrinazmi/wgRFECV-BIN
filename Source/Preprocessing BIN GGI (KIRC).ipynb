{
 "cells": [
  {
   "cell_type": "code",
   "execution_count": 1,
   "id": "857238bb-2f75-455f-be00-992033cbf151",
   "metadata": {},
   "outputs": [
    {
     "name": "stdout",
     "output_type": "stream",
     "text": [
      "len: 81115\n",
      "  features  degree\n",
      "0   MAP2K4   130.0\n",
      "1     MYPN    40.0\n",
      "2    ACVR1   143.0\n",
      "3    GATA2   226.0\n",
      "4     RPA2  3580.0\n"
     ]
    }
   ],
   "source": [
    "import pandas as pd\n",
    "\n",
    "# Load the BioGRID .tab3 file\n",
    "datapath = \"/Users/sabye/Downloads/Codes/wgRFE-BIN/Data/\"\n",
    "biogrid_data = pd.read_csv(datapath + \"BIOGRID-ALL-4.4.241.tab3.txt\", sep='\\t', low_memory=False)\n",
    "\n",
    "# Extract the relevant columns\n",
    "gene_a = biogrid_data['Official Symbol Interactor A']\n",
    "gene_b = biogrid_data['Official Symbol Interactor B']\n",
    "\n",
    "# Create a new dataframe with unique genes from both columns 'gene_a' and 'gene_b'\n",
    "unique_genes = pd.DataFrame(pd.concat([gene_a, gene_b]).unique(), columns=['features'])\n",
    "\n",
    "# Compute the degree of each node\n",
    "degree_count = pd.concat([gene_a, gene_b]).value_counts().reset_index()\n",
    "degree_count.columns = ['features', 'degree']\n",
    "\n",
    "# Merge the degree count with the unique genes dataframe\n",
    "unique_genes = unique_genes.merge(degree_count, on='features', how='left')\n",
    "\n",
    "print(\"len:\", len(unique_genes))\n",
    "\n",
    "# Display the new dataframe with unique genes and their degrees\n",
    "print(unique_genes.head())"
   ]
  },
  {
   "cell_type": "code",
   "execution_count": 2,
   "id": "739e8fb8-0439-4bbd-beca-199bbe580e68",
   "metadata": {},
   "outputs": [
    {
     "name": "stdout",
     "output_type": "stream",
     "text": [
      "Number of CNV features with matched genes in BIN: 18575\n",
      "len: 24776\n",
      "  features  degree\n",
      "0    ACAP3    21.0\n",
      "1   ACTRT2    10.0\n",
      "2     AGRN   278.0\n",
      "3  ANKRD65     3.0\n",
      "4   ATAD3A   402.0\n"
     ]
    }
   ],
   "source": [
    "# Read the dataframe from the specified CSV file\n",
    "ggi_cnv = pd.read_csv(\"/Users/sabye/Downloads/Codes/wgRFE-BIN/Result/Preprocessed_KIRC_cnv.csv\")\n",
    "ggi_cnv = ggi_cnv.set_index('sample')\n",
    "ggi_cnv = ggi_cnv.iloc[:, :-1]  # All columns except the last one\n",
    "\n",
    "# Save the name of features into a column named 'features'\n",
    "ggi_cnv_features = pd.DataFrame(ggi_cnv.columns, columns=['features'])\n",
    "\n",
    "# Merge with the ggi_mrna_features DataFrame\n",
    "ggi_cnv_features = ggi_cnv_features.merge(unique_genes, on='features', how='left')\n",
    "\n",
    "num_matched = (ggi_cnv_features['degree'] > 0).sum()\n",
    "print(\"Number of CNV features with matched genes in BIN:\", num_matched)\n",
    "\n",
    "# Fill NaN values with 0 in case some features don't have a corresponding degree\n",
    "ggi_cnv_features['degree'] = ggi_cnv_features['degree'].fillna(0)\n",
    "\n",
    "print(\"len:\", len(ggi_cnv_features))\n",
    "\n",
    "# Display the new dataframe with features\n",
    "print(ggi_cnv_features.head())"
   ]
  },
  {
   "cell_type": "code",
   "execution_count": 3,
   "id": "2ea1de0d-61f6-4a39-a6f5-2a56ca4c7ff7",
   "metadata": {},
   "outputs": [
    {
     "name": "stdout",
     "output_type": "stream",
     "text": [
      "Number of mrna features with matched genes in BIN: 17267\n",
      "len: 20238\n",
      "    features  degree\n",
      "0  ARHGEF10L    62.0\n",
      "1      HIF3A    11.0\n",
      "2      RNF17    12.0\n",
      "3      RNF10   103.0\n",
      "4      RNF11   270.0\n"
     ]
    }
   ],
   "source": [
    "# Read the dataframe from the specified CSV file\n",
    "ggi_mrna = pd.read_csv(\"/Users/sabye/Downloads/Codes/wgRFE-BIN/Result/Preprocessed_KIRC_mrna.csv\")\n",
    "ggi_mrna = ggi_mrna.set_index('sample')\n",
    "ggi_mrna = ggi_mrna.iloc[:, :-1]  # All columns except the last one\n",
    "\n",
    "# Save the name of features into a column named 'features'\n",
    "ggi_mrna_features = pd.DataFrame(ggi_mrna.columns, columns=['features'])\n",
    "\n",
    "# Merge with the ggi_mrna_features DataFrame\n",
    "ggi_mrna_features = ggi_mrna_features.merge(unique_genes, on='features', how='left')\n",
    "\n",
    "num_matched = (ggi_mrna_features['degree'] > 0).sum()\n",
    "print(\"Number of mrna features with matched genes in BIN:\", num_matched)\n",
    "\n",
    "# Fill NaN values with 0 in case some features don't have a corresponding degree\n",
    "ggi_mrna_features['degree'] = ggi_mrna_features['degree'].fillna(0)\n",
    "\n",
    "print(\"len:\", len(ggi_mrna_features))\n",
    "\n",
    "# Display the new dataframe with features\n",
    "print(ggi_mrna_features.head())"
   ]
  },
  {
   "cell_type": "code",
   "execution_count": 4,
   "id": "61709282-7abf-402e-8156-397a67833cff",
   "metadata": {},
   "outputs": [],
   "source": [
    "datapath_out = datapath = \"/Users/sabye/Downloads/Codes/wgRFE-BIN/Result/\""
   ]
  },
  {
   "cell_type": "code",
   "execution_count": 5,
   "id": "9c181ba1-30d6-41dc-b46f-ff37fc496474",
   "metadata": {},
   "outputs": [
    {
     "name": "stdout",
     "output_type": "stream",
     "text": [
      "len: 24776\n",
      "  features  degree  degree_centrality\n",
      "0    ACAP3    21.0           0.000848\n",
      "1   ACTRT2    10.0           0.000404\n",
      "2     AGRN   278.0           0.011221\n",
      "--------------------\n",
      "mix: 0.0\n",
      "max: 6030.0\n",
      "Total degree of all genes: 2690961.0\n"
     ]
    }
   ],
   "source": [
    "max_possible_degree_cnv = len(ggi_cnv_features) - 1  # Maximum possible degree in an undirected graph\n",
    "ggi_cnv_features['degree_centrality'] = ggi_cnv_features['degree'] / max_possible_degree_cnv\n",
    "\n",
    "print(\"len:\", len(ggi_cnv_features))\n",
    "print(ggi_cnv_features.head(3))\n",
    "\n",
    "ggi_cnv_features.to_csv(datapath_out + \"KIRC_cnv_weights_ggi_degCen.csv\")\n",
    "\n",
    "print (\"--------------------\")\n",
    "\n",
    "# Find genes with min, max and total degree\n",
    "min_degree_cnv = ggi_cnv_features['degree'].min()\n",
    "print ('mix:', min_degree_cnv)\n",
    "\n",
    "max_degree_cnv = ggi_cnv_features['degree'].max()\n",
    "print ('max:', max_degree_cnv)\n",
    "\n",
    "total_degree_cnv = ggi_cnv_features['degree'].sum()\n",
    "print(f\"Total degree of all genes: {total_degree_cnv}\") "
   ]
  },
  {
   "cell_type": "code",
   "execution_count": 6,
   "id": "4d8d5a0a-e4a3-4038-94c1-2285acd91767",
   "metadata": {},
   "outputs": [
    {
     "name": "stdout",
     "output_type": "stream",
     "text": [
      "len: 20238\n",
      "    features  degree  degree_centrality\n",
      "0  ARHGEF10L    62.0           0.003064\n",
      "1      HIF3A    11.0           0.000544\n",
      "2      RNF17    12.0           0.000593\n",
      "--------------------\n",
      "mix: 0.0\n",
      "max: 6030.0\n",
      "Total degree of all genes: 2598133.0\n"
     ]
    }
   ],
   "source": [
    "max_possible_degree_mrna = len(ggi_mrna_features) - 1  # Maximum possible degree in an undirected graph\n",
    "ggi_mrna_features['degree_centrality'] = ggi_mrna_features['degree'] / max_possible_degree_mrna\n",
    "\n",
    "print(\"len:\", len(ggi_mrna_features))\n",
    "print(ggi_mrna_features.head(3))\n",
    "\n",
    "ggi_mrna_features.to_csv(datapath_out + \"KIRC_mrna_weights_ggi_degCen.csv\")\n",
    "\n",
    "print (\"--------------------\")\n",
    "\n",
    "# Find genes with min, max and total degree\n",
    "min_degree_mrna = ggi_mrna_features['degree'].min()\n",
    "print ('mix:', min_degree_mrna)\n",
    "\n",
    "max_degree_mrna = ggi_mrna_features['degree'].max()\n",
    "print ('max:', max_degree_mrna)\n",
    "\n",
    "total_degree_mrna = ggi_mrna_features['degree'].sum()\n",
    "print(f\"Total degree of all genes: {total_degree_mrna}\") "
   ]
  }
 ],
 "metadata": {
  "kernelspec": {
   "display_name": "Python [conda env:base] *",
   "language": "python",
   "name": "conda-base-py"
  },
  "language_info": {
   "codemirror_mode": {
    "name": "ipython",
    "version": 3
   },
   "file_extension": ".py",
   "mimetype": "text/x-python",
   "name": "python",
   "nbconvert_exporter": "python",
   "pygments_lexer": "ipython3",
   "version": "3.11.7"
  }
 },
 "nbformat": 4,
 "nbformat_minor": 5
}

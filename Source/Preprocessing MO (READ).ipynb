{
 "cells": [
  {
   "cell_type": "markdown",
   "metadata": {},
   "source": [
    "Import libraries"
   ]
  },
  {
   "cell_type": "code",
   "execution_count": 21,
   "metadata": {
    "executionInfo": {
     "elapsed": 1925,
     "status": "ok",
     "timestamp": 1670413232894,
     "user": {
      "displayName": "Sabrina Azmi",
      "userId": "03843576326678916867"
     },
     "user_tz": -480
    },
    "id": "xUCTLkPjbLpz"
   },
   "outputs": [],
   "source": [
    "import numpy as np\n",
    "import pandas as pd\n",
    "import os\n",
    "from sklearn.preprocessing import StandardScaler"
   ]
  },
  {
   "attachments": {},
   "cell_type": "markdown",
   "metadata": {},
   "source": [
    "Import the data into the Python environment from CSV files\n"
   ]
  },
  {
   "cell_type": "markdown",
   "metadata": {},
   "source": [
    "Rename data file after unzip downloaded files"
   ]
  },
  {
   "cell_type": "code",
   "execution_count": 22,
   "metadata": {},
   "outputs": [
    {
     "name": "stdout",
     "output_type": "stream",
     "text": [
      "cnv: (24776, 166)\n",
      "mrna: (20530, 106)\n",
      "clinical: (186, 131)\n"
     ]
    }
   ],
   "source": [
    "# Load dataset\n",
    "datapath = \"/Users/sabye/Downloads/wgRFECV-BIN/Data/\"\n",
    "\n",
    "cnv = pd.read_csv(datapath+\"READ_cnv\", sep='\\t', comment='#')\n",
    "print(\"cnv:\", cnv.shape)\n",
    "mrna = pd.read_csv(datapath+\"READ_mrna\", sep='\\t', comment='#')\n",
    "print(\"mrna:\", mrna.shape)\n",
    "clinical = pd.read_csv(datapath+\"READ_clinical\", sep='\\t', comment='#')\n",
    "print(\"clinical:\", clinical.shape)"
   ]
  },
  {
   "cell_type": "code",
   "execution_count": 23,
   "metadata": {},
   "outputs": [
    {
     "data": {
      "text/html": [
       "<div>\n",
       "<style scoped>\n",
       "    .dataframe tbody tr th:only-of-type {\n",
       "        vertical-align: middle;\n",
       "    }\n",
       "\n",
       "    .dataframe tbody tr th {\n",
       "        vertical-align: top;\n",
       "    }\n",
       "\n",
       "    .dataframe thead th {\n",
       "        text-align: right;\n",
       "    }\n",
       "</style>\n",
       "<table border=\"1\" class=\"dataframe\">\n",
       "  <thead>\n",
       "    <tr style=\"text-align: right;\">\n",
       "      <th></th>\n",
       "      <th>Gene Symbol</th>\n",
       "      <th>TCGA-AF-2687-01</th>\n",
       "      <th>TCGA-AF-2689-01</th>\n",
       "      <th>TCGA-AF-2690-01</th>\n",
       "      <th>TCGA-AF-2691-01</th>\n",
       "      <th>TCGA-AF-2692-01</th>\n",
       "      <th>TCGA-AF-2693-01</th>\n",
       "      <th>TCGA-AF-3400-01</th>\n",
       "      <th>TCGA-AF-3911-01</th>\n",
       "      <th>TCGA-AF-3913-01</th>\n",
       "      <th>...</th>\n",
       "      <th>TCGA-F5-6812-01</th>\n",
       "      <th>TCGA-F5-6813-01</th>\n",
       "      <th>TCGA-F5-6814-01</th>\n",
       "      <th>TCGA-F5-6861-01</th>\n",
       "      <th>TCGA-F5-6863-01</th>\n",
       "      <th>TCGA-F5-6864-01</th>\n",
       "      <th>TCGA-G5-6233-01</th>\n",
       "      <th>TCGA-G5-6235-01</th>\n",
       "      <th>TCGA-G5-6572-01</th>\n",
       "      <th>TCGA-G5-6641-01</th>\n",
       "    </tr>\n",
       "  </thead>\n",
       "  <tbody>\n",
       "    <tr>\n",
       "      <th>0</th>\n",
       "      <td>ACAP3</td>\n",
       "      <td>-0.258</td>\n",
       "      <td>-0.028</td>\n",
       "      <td>-0.376</td>\n",
       "      <td>-0.005</td>\n",
       "      <td>-0.606</td>\n",
       "      <td>-0.671</td>\n",
       "      <td>0.009</td>\n",
       "      <td>-0.009</td>\n",
       "      <td>0.091</td>\n",
       "      <td>...</td>\n",
       "      <td>0.077</td>\n",
       "      <td>-0.588</td>\n",
       "      <td>-0.003</td>\n",
       "      <td>-0.013</td>\n",
       "      <td>0.005</td>\n",
       "      <td>-0.606</td>\n",
       "      <td>0.027</td>\n",
       "      <td>-0.019</td>\n",
       "      <td>-0.638</td>\n",
       "      <td>-0.54</td>\n",
       "    </tr>\n",
       "    <tr>\n",
       "      <th>1</th>\n",
       "      <td>ACTRT2</td>\n",
       "      <td>-0.258</td>\n",
       "      <td>-0.028</td>\n",
       "      <td>-0.376</td>\n",
       "      <td>-0.005</td>\n",
       "      <td>-0.606</td>\n",
       "      <td>-0.671</td>\n",
       "      <td>0.009</td>\n",
       "      <td>-0.009</td>\n",
       "      <td>0.091</td>\n",
       "      <td>...</td>\n",
       "      <td>0.077</td>\n",
       "      <td>-0.588</td>\n",
       "      <td>-0.003</td>\n",
       "      <td>-0.013</td>\n",
       "      <td>0.005</td>\n",
       "      <td>-0.606</td>\n",
       "      <td>0.027</td>\n",
       "      <td>-0.019</td>\n",
       "      <td>-0.638</td>\n",
       "      <td>-0.54</td>\n",
       "    </tr>\n",
       "  </tbody>\n",
       "</table>\n",
       "<p>2 rows × 166 columns</p>\n",
       "</div>"
      ],
      "text/plain": [
       "  Gene Symbol  TCGA-AF-2687-01  TCGA-AF-2689-01  TCGA-AF-2690-01  \\\n",
       "0       ACAP3           -0.258           -0.028           -0.376   \n",
       "1      ACTRT2           -0.258           -0.028           -0.376   \n",
       "\n",
       "   TCGA-AF-2691-01  TCGA-AF-2692-01  TCGA-AF-2693-01  TCGA-AF-3400-01  \\\n",
       "0           -0.005           -0.606           -0.671            0.009   \n",
       "1           -0.005           -0.606           -0.671            0.009   \n",
       "\n",
       "   TCGA-AF-3911-01  TCGA-AF-3913-01  ...  TCGA-F5-6812-01  TCGA-F5-6813-01  \\\n",
       "0           -0.009            0.091  ...            0.077           -0.588   \n",
       "1           -0.009            0.091  ...            0.077           -0.588   \n",
       "\n",
       "   TCGA-F5-6814-01  TCGA-F5-6861-01  TCGA-F5-6863-01  TCGA-F5-6864-01  \\\n",
       "0           -0.003           -0.013            0.005           -0.606   \n",
       "1           -0.003           -0.013            0.005           -0.606   \n",
       "\n",
       "   TCGA-G5-6233-01  TCGA-G5-6235-01  TCGA-G5-6572-01  TCGA-G5-6641-01  \n",
       "0            0.027           -0.019           -0.638            -0.54  \n",
       "1            0.027           -0.019           -0.638            -0.54  \n",
       "\n",
       "[2 rows x 166 columns]"
      ]
     },
     "execution_count": 23,
     "metadata": {},
     "output_type": "execute_result"
    }
   ],
   "source": [
    "cnv.head(2)"
   ]
  },
  {
   "cell_type": "code",
   "execution_count": 24,
   "metadata": {},
   "outputs": [
    {
     "data": {
      "text/html": [
       "<div>\n",
       "<style scoped>\n",
       "    .dataframe tbody tr th:only-of-type {\n",
       "        vertical-align: middle;\n",
       "    }\n",
       "\n",
       "    .dataframe tbody tr th {\n",
       "        vertical-align: top;\n",
       "    }\n",
       "\n",
       "    .dataframe thead th {\n",
       "        text-align: right;\n",
       "    }\n",
       "</style>\n",
       "<table border=\"1\" class=\"dataframe\">\n",
       "  <thead>\n",
       "    <tr style=\"text-align: right;\">\n",
       "      <th></th>\n",
       "      <th>sample</th>\n",
       "      <th>TCGA-DC-6156-01</th>\n",
       "      <th>TCGA-DC-6160-01</th>\n",
       "      <th>TCGA-EI-6512-01</th>\n",
       "      <th>TCGA-DC-5869-01</th>\n",
       "      <th>TCGA-EI-6507-01</th>\n",
       "      <th>TCGA-AF-3911-01</th>\n",
       "      <th>TCGA-EI-7004-01</th>\n",
       "      <th>TCGA-G5-6572-01</th>\n",
       "      <th>TCGA-EF-5830-01</th>\n",
       "      <th>...</th>\n",
       "      <th>TCGA-CI-6620-01</th>\n",
       "      <th>TCGA-AG-3725-01</th>\n",
       "      <th>TCGA-AH-6643-01</th>\n",
       "      <th>TCGA-DY-A0XA-01</th>\n",
       "      <th>TCGA-AF-3400-11</th>\n",
       "      <th>TCGA-EI-6506-01</th>\n",
       "      <th>TCGA-AF-2692-11</th>\n",
       "      <th>TCGA-AF-A56K-01</th>\n",
       "      <th>TCGA-DC-6154-01</th>\n",
       "      <th>TCGA-AG-3592-01</th>\n",
       "    </tr>\n",
       "  </thead>\n",
       "  <tbody>\n",
       "    <tr>\n",
       "      <th>0</th>\n",
       "      <td>ARHGEF10L</td>\n",
       "      <td>10.1992</td>\n",
       "      <td>10.3169</td>\n",
       "      <td>11.043</td>\n",
       "      <td>10.0271</td>\n",
       "      <td>9.9905</td>\n",
       "      <td>10.9608</td>\n",
       "      <td>10.4161</td>\n",
       "      <td>10.7128</td>\n",
       "      <td>11.2239</td>\n",
       "      <td>...</td>\n",
       "      <td>10.9090</td>\n",
       "      <td>11.2637</td>\n",
       "      <td>10.3559</td>\n",
       "      <td>10.4947</td>\n",
       "      <td>11.4043</td>\n",
       "      <td>11.3188</td>\n",
       "      <td>10.7338</td>\n",
       "      <td>10.7196</td>\n",
       "      <td>11.3442</td>\n",
       "      <td>10.7753</td>\n",
       "    </tr>\n",
       "    <tr>\n",
       "      <th>1</th>\n",
       "      <td>HIF3A</td>\n",
       "      <td>4.3966</td>\n",
       "      <td>2.9721</td>\n",
       "      <td>4.662</td>\n",
       "      <td>5.6772</td>\n",
       "      <td>4.8457</td>\n",
       "      <td>3.6927</td>\n",
       "      <td>3.8500</td>\n",
       "      <td>6.8082</td>\n",
       "      <td>4.2232</td>\n",
       "      <td>...</td>\n",
       "      <td>3.3234</td>\n",
       "      <td>1.4272</td>\n",
       "      <td>2.3162</td>\n",
       "      <td>3.1015</td>\n",
       "      <td>5.7645</td>\n",
       "      <td>3.0008</td>\n",
       "      <td>7.7070</td>\n",
       "      <td>6.7224</td>\n",
       "      <td>6.1021</td>\n",
       "      <td>5.0876</td>\n",
       "    </tr>\n",
       "  </tbody>\n",
       "</table>\n",
       "<p>2 rows × 106 columns</p>\n",
       "</div>"
      ],
      "text/plain": [
       "      sample  TCGA-DC-6156-01  TCGA-DC-6160-01  TCGA-EI-6512-01  \\\n",
       "0  ARHGEF10L          10.1992          10.3169           11.043   \n",
       "1      HIF3A           4.3966           2.9721            4.662   \n",
       "\n",
       "   TCGA-DC-5869-01  TCGA-EI-6507-01  TCGA-AF-3911-01  TCGA-EI-7004-01  \\\n",
       "0          10.0271           9.9905          10.9608          10.4161   \n",
       "1           5.6772           4.8457           3.6927           3.8500   \n",
       "\n",
       "   TCGA-G5-6572-01  TCGA-EF-5830-01  ...  TCGA-CI-6620-01  TCGA-AG-3725-01  \\\n",
       "0          10.7128          11.2239  ...          10.9090          11.2637   \n",
       "1           6.8082           4.2232  ...           3.3234           1.4272   \n",
       "\n",
       "   TCGA-AH-6643-01  TCGA-DY-A0XA-01  TCGA-AF-3400-11  TCGA-EI-6506-01  \\\n",
       "0          10.3559          10.4947          11.4043          11.3188   \n",
       "1           2.3162           3.1015           5.7645           3.0008   \n",
       "\n",
       "   TCGA-AF-2692-11  TCGA-AF-A56K-01  TCGA-DC-6154-01  TCGA-AG-3592-01  \n",
       "0          10.7338          10.7196          11.3442          10.7753  \n",
       "1           7.7070           6.7224           6.1021           5.0876  \n",
       "\n",
       "[2 rows x 106 columns]"
      ]
     },
     "execution_count": 24,
     "metadata": {},
     "output_type": "execute_result"
    }
   ],
   "source": [
    "mrna.head(2)"
   ]
  },
  {
   "cell_type": "code",
   "execution_count": 25,
   "metadata": {},
   "outputs": [],
   "source": [
    "cnv = cnv.set_index('Gene Symbol') \n",
    "mrna = mrna.set_index('sample')  "
   ]
  },
  {
   "cell_type": "code",
   "execution_count": 26,
   "metadata": {},
   "outputs": [
    {
     "data": {
      "text/html": [
       "<div>\n",
       "<style scoped>\n",
       "    .dataframe tbody tr th:only-of-type {\n",
       "        vertical-align: middle;\n",
       "    }\n",
       "\n",
       "    .dataframe tbody tr th {\n",
       "        vertical-align: top;\n",
       "    }\n",
       "\n",
       "    .dataframe thead th {\n",
       "        text-align: right;\n",
       "    }\n",
       "</style>\n",
       "<table border=\"1\" class=\"dataframe\">\n",
       "  <thead>\n",
       "    <tr style=\"text-align: right;\">\n",
       "      <th></th>\n",
       "      <th>TCGA-AF-2687-01</th>\n",
       "      <th>TCGA-AF-2689-01</th>\n",
       "      <th>TCGA-AF-2690-01</th>\n",
       "      <th>TCGA-AF-2691-01</th>\n",
       "      <th>TCGA-AF-2692-01</th>\n",
       "      <th>TCGA-AF-2693-01</th>\n",
       "      <th>TCGA-AF-3400-01</th>\n",
       "      <th>TCGA-AF-3911-01</th>\n",
       "      <th>TCGA-AF-3913-01</th>\n",
       "      <th>TCGA-AF-4110-01</th>\n",
       "      <th>...</th>\n",
       "      <th>TCGA-F5-6812-01</th>\n",
       "      <th>TCGA-F5-6813-01</th>\n",
       "      <th>TCGA-F5-6814-01</th>\n",
       "      <th>TCGA-F5-6861-01</th>\n",
       "      <th>TCGA-F5-6863-01</th>\n",
       "      <th>TCGA-F5-6864-01</th>\n",
       "      <th>TCGA-G5-6233-01</th>\n",
       "      <th>TCGA-G5-6235-01</th>\n",
       "      <th>TCGA-G5-6572-01</th>\n",
       "      <th>TCGA-G5-6641-01</th>\n",
       "    </tr>\n",
       "    <tr>\n",
       "      <th>Gene Symbol</th>\n",
       "      <th></th>\n",
       "      <th></th>\n",
       "      <th></th>\n",
       "      <th></th>\n",
       "      <th></th>\n",
       "      <th></th>\n",
       "      <th></th>\n",
       "      <th></th>\n",
       "      <th></th>\n",
       "      <th></th>\n",
       "      <th></th>\n",
       "      <th></th>\n",
       "      <th></th>\n",
       "      <th></th>\n",
       "      <th></th>\n",
       "      <th></th>\n",
       "      <th></th>\n",
       "      <th></th>\n",
       "      <th></th>\n",
       "      <th></th>\n",
       "      <th></th>\n",
       "    </tr>\n",
       "  </thead>\n",
       "  <tbody>\n",
       "    <tr>\n",
       "      <th>ACAP3</th>\n",
       "      <td>-0.258</td>\n",
       "      <td>-0.028</td>\n",
       "      <td>-0.376</td>\n",
       "      <td>-0.005</td>\n",
       "      <td>-0.606</td>\n",
       "      <td>-0.671</td>\n",
       "      <td>0.009</td>\n",
       "      <td>-0.009</td>\n",
       "      <td>0.091</td>\n",
       "      <td>-0.6</td>\n",
       "      <td>...</td>\n",
       "      <td>0.077</td>\n",
       "      <td>-0.588</td>\n",
       "      <td>-0.003</td>\n",
       "      <td>-0.013</td>\n",
       "      <td>0.005</td>\n",
       "      <td>-0.606</td>\n",
       "      <td>0.027</td>\n",
       "      <td>-0.019</td>\n",
       "      <td>-0.638</td>\n",
       "      <td>-0.54</td>\n",
       "    </tr>\n",
       "    <tr>\n",
       "      <th>ACTRT2</th>\n",
       "      <td>-0.258</td>\n",
       "      <td>-0.028</td>\n",
       "      <td>-0.376</td>\n",
       "      <td>-0.005</td>\n",
       "      <td>-0.606</td>\n",
       "      <td>-0.671</td>\n",
       "      <td>0.009</td>\n",
       "      <td>-0.009</td>\n",
       "      <td>0.091</td>\n",
       "      <td>-0.6</td>\n",
       "      <td>...</td>\n",
       "      <td>0.077</td>\n",
       "      <td>-0.588</td>\n",
       "      <td>-0.003</td>\n",
       "      <td>-0.013</td>\n",
       "      <td>0.005</td>\n",
       "      <td>-0.606</td>\n",
       "      <td>0.027</td>\n",
       "      <td>-0.019</td>\n",
       "      <td>-0.638</td>\n",
       "      <td>-0.54</td>\n",
       "    </tr>\n",
       "  </tbody>\n",
       "</table>\n",
       "<p>2 rows × 165 columns</p>\n",
       "</div>"
      ],
      "text/plain": [
       "             TCGA-AF-2687-01  TCGA-AF-2689-01  TCGA-AF-2690-01  \\\n",
       "Gene Symbol                                                      \n",
       "ACAP3                 -0.258           -0.028           -0.376   \n",
       "ACTRT2                -0.258           -0.028           -0.376   \n",
       "\n",
       "             TCGA-AF-2691-01  TCGA-AF-2692-01  TCGA-AF-2693-01  \\\n",
       "Gene Symbol                                                      \n",
       "ACAP3                 -0.005           -0.606           -0.671   \n",
       "ACTRT2                -0.005           -0.606           -0.671   \n",
       "\n",
       "             TCGA-AF-3400-01  TCGA-AF-3911-01  TCGA-AF-3913-01  \\\n",
       "Gene Symbol                                                      \n",
       "ACAP3                  0.009           -0.009            0.091   \n",
       "ACTRT2                 0.009           -0.009            0.091   \n",
       "\n",
       "             TCGA-AF-4110-01  ...  TCGA-F5-6812-01  TCGA-F5-6813-01  \\\n",
       "Gene Symbol                   ...                                     \n",
       "ACAP3                   -0.6  ...            0.077           -0.588   \n",
       "ACTRT2                  -0.6  ...            0.077           -0.588   \n",
       "\n",
       "             TCGA-F5-6814-01  TCGA-F5-6861-01  TCGA-F5-6863-01  \\\n",
       "Gene Symbol                                                      \n",
       "ACAP3                 -0.003           -0.013            0.005   \n",
       "ACTRT2                -0.003           -0.013            0.005   \n",
       "\n",
       "             TCGA-F5-6864-01  TCGA-G5-6233-01  TCGA-G5-6235-01  \\\n",
       "Gene Symbol                                                      \n",
       "ACAP3                 -0.606            0.027           -0.019   \n",
       "ACTRT2                -0.606            0.027           -0.019   \n",
       "\n",
       "             TCGA-G5-6572-01  TCGA-G5-6641-01  \n",
       "Gene Symbol                                    \n",
       "ACAP3                 -0.638            -0.54  \n",
       "ACTRT2                -0.638            -0.54  \n",
       "\n",
       "[2 rows x 165 columns]"
      ]
     },
     "execution_count": 26,
     "metadata": {},
     "output_type": "execute_result"
    }
   ],
   "source": [
    "cnv.head(2)"
   ]
  },
  {
   "cell_type": "code",
   "execution_count": 27,
   "metadata": {},
   "outputs": [
    {
     "data": {
      "text/html": [
       "<div>\n",
       "<style scoped>\n",
       "    .dataframe tbody tr th:only-of-type {\n",
       "        vertical-align: middle;\n",
       "    }\n",
       "\n",
       "    .dataframe tbody tr th {\n",
       "        vertical-align: top;\n",
       "    }\n",
       "\n",
       "    .dataframe thead th {\n",
       "        text-align: right;\n",
       "    }\n",
       "</style>\n",
       "<table border=\"1\" class=\"dataframe\">\n",
       "  <thead>\n",
       "    <tr style=\"text-align: right;\">\n",
       "      <th></th>\n",
       "      <th>TCGA-DC-6156-01</th>\n",
       "      <th>TCGA-DC-6160-01</th>\n",
       "      <th>TCGA-EI-6512-01</th>\n",
       "      <th>TCGA-DC-5869-01</th>\n",
       "      <th>TCGA-EI-6507-01</th>\n",
       "      <th>TCGA-AF-3911-01</th>\n",
       "      <th>TCGA-EI-7004-01</th>\n",
       "      <th>TCGA-G5-6572-01</th>\n",
       "      <th>TCGA-EF-5830-01</th>\n",
       "      <th>TCGA-F5-6812-01</th>\n",
       "      <th>...</th>\n",
       "      <th>TCGA-CI-6620-01</th>\n",
       "      <th>TCGA-AG-3725-01</th>\n",
       "      <th>TCGA-AH-6643-01</th>\n",
       "      <th>TCGA-DY-A0XA-01</th>\n",
       "      <th>TCGA-AF-3400-11</th>\n",
       "      <th>TCGA-EI-6506-01</th>\n",
       "      <th>TCGA-AF-2692-11</th>\n",
       "      <th>TCGA-AF-A56K-01</th>\n",
       "      <th>TCGA-DC-6154-01</th>\n",
       "      <th>TCGA-AG-3592-01</th>\n",
       "    </tr>\n",
       "    <tr>\n",
       "      <th>sample</th>\n",
       "      <th></th>\n",
       "      <th></th>\n",
       "      <th></th>\n",
       "      <th></th>\n",
       "      <th></th>\n",
       "      <th></th>\n",
       "      <th></th>\n",
       "      <th></th>\n",
       "      <th></th>\n",
       "      <th></th>\n",
       "      <th></th>\n",
       "      <th></th>\n",
       "      <th></th>\n",
       "      <th></th>\n",
       "      <th></th>\n",
       "      <th></th>\n",
       "      <th></th>\n",
       "      <th></th>\n",
       "      <th></th>\n",
       "      <th></th>\n",
       "      <th></th>\n",
       "    </tr>\n",
       "  </thead>\n",
       "  <tbody>\n",
       "    <tr>\n",
       "      <th>ARHGEF10L</th>\n",
       "      <td>10.1992</td>\n",
       "      <td>10.3169</td>\n",
       "      <td>11.043</td>\n",
       "      <td>10.0271</td>\n",
       "      <td>9.9905</td>\n",
       "      <td>10.9608</td>\n",
       "      <td>10.4161</td>\n",
       "      <td>10.7128</td>\n",
       "      <td>11.2239</td>\n",
       "      <td>11.2076</td>\n",
       "      <td>...</td>\n",
       "      <td>10.9090</td>\n",
       "      <td>11.2637</td>\n",
       "      <td>10.3559</td>\n",
       "      <td>10.4947</td>\n",
       "      <td>11.4043</td>\n",
       "      <td>11.3188</td>\n",
       "      <td>10.7338</td>\n",
       "      <td>10.7196</td>\n",
       "      <td>11.3442</td>\n",
       "      <td>10.7753</td>\n",
       "    </tr>\n",
       "    <tr>\n",
       "      <th>HIF3A</th>\n",
       "      <td>4.3966</td>\n",
       "      <td>2.9721</td>\n",
       "      <td>4.662</td>\n",
       "      <td>5.6772</td>\n",
       "      <td>4.8457</td>\n",
       "      <td>3.6927</td>\n",
       "      <td>3.8500</td>\n",
       "      <td>6.8082</td>\n",
       "      <td>4.2232</td>\n",
       "      <td>5.5419</td>\n",
       "      <td>...</td>\n",
       "      <td>3.3234</td>\n",
       "      <td>1.4272</td>\n",
       "      <td>2.3162</td>\n",
       "      <td>3.1015</td>\n",
       "      <td>5.7645</td>\n",
       "      <td>3.0008</td>\n",
       "      <td>7.7070</td>\n",
       "      <td>6.7224</td>\n",
       "      <td>6.1021</td>\n",
       "      <td>5.0876</td>\n",
       "    </tr>\n",
       "  </tbody>\n",
       "</table>\n",
       "<p>2 rows × 105 columns</p>\n",
       "</div>"
      ],
      "text/plain": [
       "           TCGA-DC-6156-01  TCGA-DC-6160-01  TCGA-EI-6512-01  TCGA-DC-5869-01  \\\n",
       "sample                                                                          \n",
       "ARHGEF10L          10.1992          10.3169           11.043          10.0271   \n",
       "HIF3A               4.3966           2.9721            4.662           5.6772   \n",
       "\n",
       "           TCGA-EI-6507-01  TCGA-AF-3911-01  TCGA-EI-7004-01  TCGA-G5-6572-01  \\\n",
       "sample                                                                          \n",
       "ARHGEF10L           9.9905          10.9608          10.4161          10.7128   \n",
       "HIF3A               4.8457           3.6927           3.8500           6.8082   \n",
       "\n",
       "           TCGA-EF-5830-01  TCGA-F5-6812-01  ...  TCGA-CI-6620-01  \\\n",
       "sample                                       ...                    \n",
       "ARHGEF10L          11.2239          11.2076  ...          10.9090   \n",
       "HIF3A               4.2232           5.5419  ...           3.3234   \n",
       "\n",
       "           TCGA-AG-3725-01  TCGA-AH-6643-01  TCGA-DY-A0XA-01  TCGA-AF-3400-11  \\\n",
       "sample                                                                          \n",
       "ARHGEF10L          11.2637          10.3559          10.4947          11.4043   \n",
       "HIF3A               1.4272           2.3162           3.1015           5.7645   \n",
       "\n",
       "           TCGA-EI-6506-01  TCGA-AF-2692-11  TCGA-AF-A56K-01  TCGA-DC-6154-01  \\\n",
       "sample                                                                          \n",
       "ARHGEF10L          11.3188          10.7338          10.7196          11.3442   \n",
       "HIF3A               3.0008           7.7070           6.7224           6.1021   \n",
       "\n",
       "           TCGA-AG-3592-01  \n",
       "sample                      \n",
       "ARHGEF10L          10.7753  \n",
       "HIF3A               5.0876  \n",
       "\n",
       "[2 rows x 105 columns]"
      ]
     },
     "execution_count": 27,
     "metadata": {},
     "output_type": "execute_result"
    }
   ],
   "source": [
    "mrna.head(2)"
   ]
  },
  {
   "cell_type": "markdown",
   "metadata": {},
   "source": [
    "Transpose the data"
   ]
  },
  {
   "cell_type": "code",
   "execution_count": 28,
   "metadata": {},
   "outputs": [
    {
     "name": "stdout",
     "output_type": "stream",
     "text": [
      "cnv: (165, 24776)\n",
      "mrna: (105, 20530)\n"
     ]
    }
   ],
   "source": [
    "cnv = np.transpose(cnv)\n",
    "print(\"cnv:\", cnv.shape)\n",
    "mrna = np.transpose(mrna)\n",
    "print(\"mrna:\", mrna.shape)\n",
    "#print(\"clinical:\", clinical.shape) # clinical do not need to transpose"
   ]
  },
  {
   "cell_type": "code",
   "execution_count": 29,
   "metadata": {},
   "outputs": [
    {
     "data": {
      "text/html": [
       "<div>\n",
       "<style scoped>\n",
       "    .dataframe tbody tr th:only-of-type {\n",
       "        vertical-align: middle;\n",
       "    }\n",
       "\n",
       "    .dataframe tbody tr th {\n",
       "        vertical-align: top;\n",
       "    }\n",
       "\n",
       "    .dataframe thead th {\n",
       "        text-align: right;\n",
       "    }\n",
       "</style>\n",
       "<table border=\"1\" class=\"dataframe\">\n",
       "  <thead>\n",
       "    <tr style=\"text-align: right;\">\n",
       "      <th>Gene Symbol</th>\n",
       "      <th>ACAP3</th>\n",
       "      <th>ACTRT2</th>\n",
       "      <th>AGRN</th>\n",
       "      <th>ANKRD65</th>\n",
       "      <th>ATAD3A</th>\n",
       "      <th>ATAD3B</th>\n",
       "      <th>ATAD3C</th>\n",
       "      <th>AURKAIP1</th>\n",
       "      <th>B3GALT6</th>\n",
       "      <th>C1orf159</th>\n",
       "      <th>...</th>\n",
       "      <th>SMIM9</th>\n",
       "      <th>SNORA36A</th>\n",
       "      <th>SNORA56</th>\n",
       "      <th>TMLHE</th>\n",
       "      <th>VBP1</th>\n",
       "      <th>IL9R|ENSG00000124334.12</th>\n",
       "      <th>SPRY3|ENSG00000168939.6</th>\n",
       "      <th>VAMP7|ENSG00000124333.10</th>\n",
       "      <th>WASH6P|ENSG00000182484.10</th>\n",
       "      <th>WASIR1|ENSG00000185203.7</th>\n",
       "    </tr>\n",
       "  </thead>\n",
       "  <tbody>\n",
       "    <tr>\n",
       "      <th>TCGA-AF-2687-01</th>\n",
       "      <td>-0.258</td>\n",
       "      <td>-0.258</td>\n",
       "      <td>-0.258</td>\n",
       "      <td>-0.258</td>\n",
       "      <td>-0.258</td>\n",
       "      <td>-0.258</td>\n",
       "      <td>-0.258</td>\n",
       "      <td>-0.258</td>\n",
       "      <td>-0.258</td>\n",
       "      <td>-0.258</td>\n",
       "      <td>...</td>\n",
       "      <td>-0.062</td>\n",
       "      <td>-0.062</td>\n",
       "      <td>-0.062</td>\n",
       "      <td>-0.062</td>\n",
       "      <td>-0.062</td>\n",
       "      <td>-0.062</td>\n",
       "      <td>-0.062</td>\n",
       "      <td>-0.062</td>\n",
       "      <td>-0.062</td>\n",
       "      <td>-0.062</td>\n",
       "    </tr>\n",
       "    <tr>\n",
       "      <th>TCGA-AF-2689-01</th>\n",
       "      <td>-0.028</td>\n",
       "      <td>-0.028</td>\n",
       "      <td>-0.028</td>\n",
       "      <td>-0.028</td>\n",
       "      <td>-0.028</td>\n",
       "      <td>-0.028</td>\n",
       "      <td>-0.028</td>\n",
       "      <td>-0.028</td>\n",
       "      <td>-0.028</td>\n",
       "      <td>-0.028</td>\n",
       "      <td>...</td>\n",
       "      <td>0.046</td>\n",
       "      <td>0.046</td>\n",
       "      <td>0.046</td>\n",
       "      <td>0.046</td>\n",
       "      <td>0.046</td>\n",
       "      <td>0.046</td>\n",
       "      <td>0.046</td>\n",
       "      <td>0.046</td>\n",
       "      <td>0.046</td>\n",
       "      <td>0.046</td>\n",
       "    </tr>\n",
       "  </tbody>\n",
       "</table>\n",
       "<p>2 rows × 24776 columns</p>\n",
       "</div>"
      ],
      "text/plain": [
       "Gene Symbol      ACAP3  ACTRT2   AGRN  ANKRD65  ATAD3A  ATAD3B  ATAD3C  \\\n",
       "TCGA-AF-2687-01 -0.258  -0.258 -0.258   -0.258  -0.258  -0.258  -0.258   \n",
       "TCGA-AF-2689-01 -0.028  -0.028 -0.028   -0.028  -0.028  -0.028  -0.028   \n",
       "\n",
       "Gene Symbol      AURKAIP1  B3GALT6  C1orf159  ...  SMIM9  SNORA36A  SNORA56  \\\n",
       "TCGA-AF-2687-01    -0.258   -0.258    -0.258  ... -0.062    -0.062   -0.062   \n",
       "TCGA-AF-2689-01    -0.028   -0.028    -0.028  ...  0.046     0.046    0.046   \n",
       "\n",
       "Gene Symbol      TMLHE   VBP1  IL9R|ENSG00000124334.12  \\\n",
       "TCGA-AF-2687-01 -0.062 -0.062                   -0.062   \n",
       "TCGA-AF-2689-01  0.046  0.046                    0.046   \n",
       "\n",
       "Gene Symbol      SPRY3|ENSG00000168939.6  VAMP7|ENSG00000124333.10  \\\n",
       "TCGA-AF-2687-01                   -0.062                    -0.062   \n",
       "TCGA-AF-2689-01                    0.046                     0.046   \n",
       "\n",
       "Gene Symbol      WASH6P|ENSG00000182484.10  WASIR1|ENSG00000185203.7  \n",
       "TCGA-AF-2687-01                     -0.062                    -0.062  \n",
       "TCGA-AF-2689-01                      0.046                     0.046  \n",
       "\n",
       "[2 rows x 24776 columns]"
      ]
     },
     "execution_count": 29,
     "metadata": {},
     "output_type": "execute_result"
    }
   ],
   "source": [
    "cnv.head(2)"
   ]
  },
  {
   "cell_type": "code",
   "execution_count": 30,
   "metadata": {},
   "outputs": [
    {
     "data": {
      "text/html": [
       "<div>\n",
       "<style scoped>\n",
       "    .dataframe tbody tr th:only-of-type {\n",
       "        vertical-align: middle;\n",
       "    }\n",
       "\n",
       "    .dataframe tbody tr th {\n",
       "        vertical-align: top;\n",
       "    }\n",
       "\n",
       "    .dataframe thead th {\n",
       "        text-align: right;\n",
       "    }\n",
       "</style>\n",
       "<table border=\"1\" class=\"dataframe\">\n",
       "  <thead>\n",
       "    <tr style=\"text-align: right;\">\n",
       "      <th>sample</th>\n",
       "      <th>ARHGEF10L</th>\n",
       "      <th>HIF3A</th>\n",
       "      <th>RNF17</th>\n",
       "      <th>RNF10</th>\n",
       "      <th>RNF11</th>\n",
       "      <th>RNF13</th>\n",
       "      <th>GTF2IP1</th>\n",
       "      <th>REM1</th>\n",
       "      <th>MTVR2</th>\n",
       "      <th>RTN4RL2</th>\n",
       "      <th>...</th>\n",
       "      <th>TULP2</th>\n",
       "      <th>NPY5R</th>\n",
       "      <th>GNGT2</th>\n",
       "      <th>GNGT1</th>\n",
       "      <th>TULP3</th>\n",
       "      <th>PTRF</th>\n",
       "      <th>BCL6B</th>\n",
       "      <th>GSTK1</th>\n",
       "      <th>SELP</th>\n",
       "      <th>SELS</th>\n",
       "    </tr>\n",
       "  </thead>\n",
       "  <tbody>\n",
       "    <tr>\n",
       "      <th>TCGA-DC-6156-01</th>\n",
       "      <td>10.1992</td>\n",
       "      <td>4.3966</td>\n",
       "      <td>0.0</td>\n",
       "      <td>11.5186</td>\n",
       "      <td>11.0056</td>\n",
       "      <td>10.9450</td>\n",
       "      <td>12.7061</td>\n",
       "      <td>3.9826</td>\n",
       "      <td>0.0000</td>\n",
       "      <td>4.0255</td>\n",
       "      <td>...</td>\n",
       "      <td>0.5634</td>\n",
       "      <td>2.751</td>\n",
       "      <td>4.7179</td>\n",
       "      <td>0.5634</td>\n",
       "      <td>8.5022</td>\n",
       "      <td>12.2766</td>\n",
       "      <td>8.7287</td>\n",
       "      <td>11.3129</td>\n",
       "      <td>5.4747</td>\n",
       "      <td>10.1059</td>\n",
       "    </tr>\n",
       "    <tr>\n",
       "      <th>TCGA-DC-6160-01</th>\n",
       "      <td>10.3169</td>\n",
       "      <td>2.9721</td>\n",
       "      <td>0.0</td>\n",
       "      <td>11.2514</td>\n",
       "      <td>9.6868</td>\n",
       "      <td>10.3097</td>\n",
       "      <td>11.1007</td>\n",
       "      <td>2.5211</td>\n",
       "      <td>1.0379</td>\n",
       "      <td>2.6477</td>\n",
       "      <td>...</td>\n",
       "      <td>0.6104</td>\n",
       "      <td>0.000</td>\n",
       "      <td>3.1538</td>\n",
       "      <td>0.6104</td>\n",
       "      <td>8.8313</td>\n",
       "      <td>10.2813</td>\n",
       "      <td>6.2338</td>\n",
       "      <td>10.7548</td>\n",
       "      <td>5.3398</td>\n",
       "      <td>10.3475</td>\n",
       "    </tr>\n",
       "  </tbody>\n",
       "</table>\n",
       "<p>2 rows × 20530 columns</p>\n",
       "</div>"
      ],
      "text/plain": [
       "sample           ARHGEF10L   HIF3A  RNF17    RNF10    RNF11    RNF13  GTF2IP1  \\\n",
       "TCGA-DC-6156-01    10.1992  4.3966    0.0  11.5186  11.0056  10.9450  12.7061   \n",
       "TCGA-DC-6160-01    10.3169  2.9721    0.0  11.2514   9.6868  10.3097  11.1007   \n",
       "\n",
       "sample             REM1   MTVR2  RTN4RL2  ...   TULP2  NPY5R   GNGT2   GNGT1  \\\n",
       "TCGA-DC-6156-01  3.9826  0.0000   4.0255  ...  0.5634  2.751  4.7179  0.5634   \n",
       "TCGA-DC-6160-01  2.5211  1.0379   2.6477  ...  0.6104  0.000  3.1538  0.6104   \n",
       "\n",
       "sample            TULP3     PTRF   BCL6B    GSTK1    SELP     SELS  \n",
       "TCGA-DC-6156-01  8.5022  12.2766  8.7287  11.3129  5.4747  10.1059  \n",
       "TCGA-DC-6160-01  8.8313  10.2813  6.2338  10.7548  5.3398  10.3475  \n",
       "\n",
       "[2 rows x 20530 columns]"
      ]
     },
     "execution_count": 30,
     "metadata": {},
     "output_type": "execute_result"
    }
   ],
   "source": [
    "mrna.head(2)"
   ]
  },
  {
   "cell_type": "markdown",
   "metadata": {},
   "source": [
    "Remove duplication"
   ]
  },
  {
   "cell_type": "code",
   "execution_count": 31,
   "metadata": {},
   "outputs": [
    {
     "name": "stdout",
     "output_type": "stream",
     "text": [
      "cnv: (165, 24776)\n",
      "mrna (105, 20530)\n"
     ]
    }
   ],
   "source": [
    "cnv = cnv[~cnv.duplicated(keep='first')]\n",
    "mrna = mrna[~mrna.duplicated(keep='first')]\n",
    "\n",
    "print(\"cnv:\", cnv.shape)\n",
    "print(\"mrna\", mrna.shape)"
   ]
  },
  {
   "attachments": {},
   "cell_type": "markdown",
   "metadata": {},
   "source": [
    "Identify shared patients across all datasets and exclude those not shared\n"
   ]
  },
  {
   "cell_type": "code",
   "execution_count": 32,
   "metadata": {},
   "outputs": [
    {
     "name": "stdout",
     "output_type": "stream",
     "text": [
      "Shape of common samples: 93\n"
     ]
    },
    {
     "data": {
      "text/html": [
       "<div>\n",
       "<style scoped>\n",
       "    .dataframe tbody tr th:only-of-type {\n",
       "        vertical-align: middle;\n",
       "    }\n",
       "\n",
       "    .dataframe tbody tr th {\n",
       "        vertical-align: top;\n",
       "    }\n",
       "\n",
       "    .dataframe thead th {\n",
       "        text-align: right;\n",
       "    }\n",
       "</style>\n",
       "<table border=\"1\" class=\"dataframe\">\n",
       "  <thead>\n",
       "    <tr style=\"text-align: right;\">\n",
       "      <th></th>\n",
       "      <th>sample</th>\n",
       "    </tr>\n",
       "  </thead>\n",
       "  <tbody>\n",
       "    <tr>\n",
       "      <th>0</th>\n",
       "      <td>TCGA-AH-6903-01</td>\n",
       "    </tr>\n",
       "    <tr>\n",
       "      <th>1</th>\n",
       "      <td>TCGA-G5-6572-01</td>\n",
       "    </tr>\n",
       "    <tr>\n",
       "      <th>2</th>\n",
       "      <td>TCGA-F5-6864-01</td>\n",
       "    </tr>\n",
       "  </tbody>\n",
       "</table>\n",
       "</div>"
      ],
      "text/plain": [
       "            sample\n",
       "0  TCGA-AH-6903-01\n",
       "1  TCGA-G5-6572-01\n",
       "2  TCGA-F5-6864-01"
      ]
     },
     "execution_count": 32,
     "metadata": {},
     "output_type": "execute_result"
    }
   ],
   "source": [
    "cnv.index.names = ['sample']\n",
    "mrna.index.names = ['sample']\n",
    "\n",
    "cnv = cnv.sort_values(by='sample')\n",
    "mrna = mrna.sort_values(by='sample')\n",
    "\n",
    "cnv = cnv.reset_index()\n",
    "mrna = mrna.reset_index()\n",
    "\n",
    "list_1 = cnv['sample'].values.tolist()\n",
    "list_2 = mrna['sample'].values.tolist()\n",
    "\n",
    "common_list0 = set(list_1).intersection(list_2)\n",
    "print (\"Shape of common samples:\", len(common_list0))\n",
    "\n",
    "common_df = pd.DataFrame(common_list0)\n",
    "common_df.rename(columns = {0:'sample'}, inplace = True)\n",
    "common_df.head(3)"
   ]
  },
  {
   "cell_type": "code",
   "execution_count": 33,
   "metadata": {},
   "outputs": [
    {
     "data": {
      "text/html": [
       "<div>\n",
       "<style scoped>\n",
       "    .dataframe tbody tr th:only-of-type {\n",
       "        vertical-align: middle;\n",
       "    }\n",
       "\n",
       "    .dataframe tbody tr th {\n",
       "        vertical-align: top;\n",
       "    }\n",
       "\n",
       "    .dataframe thead th {\n",
       "        text-align: right;\n",
       "    }\n",
       "</style>\n",
       "<table border=\"1\" class=\"dataframe\">\n",
       "  <thead>\n",
       "    <tr style=\"text-align: right;\">\n",
       "      <th>Gene Symbol</th>\n",
       "      <th>sample</th>\n",
       "      <th>ACAP3</th>\n",
       "      <th>ACTRT2</th>\n",
       "      <th>AGRN</th>\n",
       "      <th>ANKRD65</th>\n",
       "      <th>ATAD3A</th>\n",
       "      <th>ATAD3B</th>\n",
       "      <th>ATAD3C</th>\n",
       "      <th>AURKAIP1</th>\n",
       "      <th>B3GALT6</th>\n",
       "      <th>...</th>\n",
       "      <th>SMIM9</th>\n",
       "      <th>SNORA36A</th>\n",
       "      <th>SNORA56</th>\n",
       "      <th>TMLHE</th>\n",
       "      <th>VBP1</th>\n",
       "      <th>IL9R|ENSG00000124334.12</th>\n",
       "      <th>SPRY3|ENSG00000168939.6</th>\n",
       "      <th>VAMP7|ENSG00000124333.10</th>\n",
       "      <th>WASH6P|ENSG00000182484.10</th>\n",
       "      <th>WASIR1|ENSG00000185203.7</th>\n",
       "    </tr>\n",
       "  </thead>\n",
       "  <tbody>\n",
       "    <tr>\n",
       "      <th>0</th>\n",
       "      <td>TCGA-AF-2687-01</td>\n",
       "      <td>-0.258</td>\n",
       "      <td>-0.258</td>\n",
       "      <td>-0.258</td>\n",
       "      <td>-0.258</td>\n",
       "      <td>-0.258</td>\n",
       "      <td>-0.258</td>\n",
       "      <td>-0.258</td>\n",
       "      <td>-0.258</td>\n",
       "      <td>-0.258</td>\n",
       "      <td>...</td>\n",
       "      <td>-0.062</td>\n",
       "      <td>-0.062</td>\n",
       "      <td>-0.062</td>\n",
       "      <td>-0.062</td>\n",
       "      <td>-0.062</td>\n",
       "      <td>-0.062</td>\n",
       "      <td>-0.062</td>\n",
       "      <td>-0.062</td>\n",
       "      <td>-0.062</td>\n",
       "      <td>-0.062</td>\n",
       "    </tr>\n",
       "    <tr>\n",
       "      <th>1</th>\n",
       "      <td>TCGA-AF-2689-01</td>\n",
       "      <td>-0.028</td>\n",
       "      <td>-0.028</td>\n",
       "      <td>-0.028</td>\n",
       "      <td>-0.028</td>\n",
       "      <td>-0.028</td>\n",
       "      <td>-0.028</td>\n",
       "      <td>-0.028</td>\n",
       "      <td>-0.028</td>\n",
       "      <td>-0.028</td>\n",
       "      <td>...</td>\n",
       "      <td>0.046</td>\n",
       "      <td>0.046</td>\n",
       "      <td>0.046</td>\n",
       "      <td>0.046</td>\n",
       "      <td>0.046</td>\n",
       "      <td>0.046</td>\n",
       "      <td>0.046</td>\n",
       "      <td>0.046</td>\n",
       "      <td>0.046</td>\n",
       "      <td>0.046</td>\n",
       "    </tr>\n",
       "  </tbody>\n",
       "</table>\n",
       "<p>2 rows × 24777 columns</p>\n",
       "</div>"
      ],
      "text/plain": [
       "Gene Symbol           sample  ACAP3  ACTRT2   AGRN  ANKRD65  ATAD3A  ATAD3B  \\\n",
       "0            TCGA-AF-2687-01 -0.258  -0.258 -0.258   -0.258  -0.258  -0.258   \n",
       "1            TCGA-AF-2689-01 -0.028  -0.028 -0.028   -0.028  -0.028  -0.028   \n",
       "\n",
       "Gene Symbol  ATAD3C  AURKAIP1  B3GALT6  ...  SMIM9  SNORA36A  SNORA56  TMLHE  \\\n",
       "0            -0.258    -0.258   -0.258  ... -0.062    -0.062   -0.062 -0.062   \n",
       "1            -0.028    -0.028   -0.028  ...  0.046     0.046    0.046  0.046   \n",
       "\n",
       "Gene Symbol   VBP1  IL9R|ENSG00000124334.12  SPRY3|ENSG00000168939.6  \\\n",
       "0           -0.062                   -0.062                   -0.062   \n",
       "1            0.046                    0.046                    0.046   \n",
       "\n",
       "Gene Symbol  VAMP7|ENSG00000124333.10  WASH6P|ENSG00000182484.10  \\\n",
       "0                              -0.062                     -0.062   \n",
       "1                               0.046                      0.046   \n",
       "\n",
       "Gene Symbol  WASIR1|ENSG00000185203.7  \n",
       "0                              -0.062  \n",
       "1                               0.046  \n",
       "\n",
       "[2 rows x 24777 columns]"
      ]
     },
     "execution_count": 33,
     "metadata": {},
     "output_type": "execute_result"
    }
   ],
   "source": [
    "cnv.head(2)"
   ]
  },
  {
   "cell_type": "code",
   "execution_count": 34,
   "metadata": {},
   "outputs": [
    {
     "data": {
      "text/html": [
       "<div>\n",
       "<style scoped>\n",
       "    .dataframe tbody tr th:only-of-type {\n",
       "        vertical-align: middle;\n",
       "    }\n",
       "\n",
       "    .dataframe tbody tr th {\n",
       "        vertical-align: top;\n",
       "    }\n",
       "\n",
       "    .dataframe thead th {\n",
       "        text-align: right;\n",
       "    }\n",
       "</style>\n",
       "<table border=\"1\" class=\"dataframe\">\n",
       "  <thead>\n",
       "    <tr style=\"text-align: right;\">\n",
       "      <th>sample</th>\n",
       "      <th>sample</th>\n",
       "      <th>ARHGEF10L</th>\n",
       "      <th>HIF3A</th>\n",
       "      <th>RNF17</th>\n",
       "      <th>RNF10</th>\n",
       "      <th>RNF11</th>\n",
       "      <th>RNF13</th>\n",
       "      <th>GTF2IP1</th>\n",
       "      <th>REM1</th>\n",
       "      <th>MTVR2</th>\n",
       "      <th>...</th>\n",
       "      <th>TULP2</th>\n",
       "      <th>NPY5R</th>\n",
       "      <th>GNGT2</th>\n",
       "      <th>GNGT1</th>\n",
       "      <th>TULP3</th>\n",
       "      <th>PTRF</th>\n",
       "      <th>BCL6B</th>\n",
       "      <th>GSTK1</th>\n",
       "      <th>SELP</th>\n",
       "      <th>SELS</th>\n",
       "    </tr>\n",
       "  </thead>\n",
       "  <tbody>\n",
       "    <tr>\n",
       "      <th>0</th>\n",
       "      <td>TCGA-AF-2687-01</td>\n",
       "      <td>10.2749</td>\n",
       "      <td>7.9512</td>\n",
       "      <td>0.0</td>\n",
       "      <td>11.6592</td>\n",
       "      <td>10.5875</td>\n",
       "      <td>10.5499</td>\n",
       "      <td>11.7388</td>\n",
       "      <td>5.0413</td>\n",
       "      <td>0.5117</td>\n",
       "      <td>...</td>\n",
       "      <td>0.8886</td>\n",
       "      <td>0.0000</td>\n",
       "      <td>4.9842</td>\n",
       "      <td>2.1394</td>\n",
       "      <td>9.3747</td>\n",
       "      <td>12.7455</td>\n",
       "      <td>8.5597</td>\n",
       "      <td>10.9766</td>\n",
       "      <td>7.0733</td>\n",
       "      <td>10.1432</td>\n",
       "    </tr>\n",
       "    <tr>\n",
       "      <th>1</th>\n",
       "      <td>TCGA-AF-2689-11</td>\n",
       "      <td>10.8396</td>\n",
       "      <td>7.9466</td>\n",
       "      <td>0.0</td>\n",
       "      <td>11.9414</td>\n",
       "      <td>10.8846</td>\n",
       "      <td>10.2300</td>\n",
       "      <td>11.9348</td>\n",
       "      <td>5.0974</td>\n",
       "      <td>1.1289</td>\n",
       "      <td>...</td>\n",
       "      <td>1.1289</td>\n",
       "      <td>1.7544</td>\n",
       "      <td>5.1465</td>\n",
       "      <td>0.0000</td>\n",
       "      <td>8.4608</td>\n",
       "      <td>13.5262</td>\n",
       "      <td>7.0697</td>\n",
       "      <td>11.5299</td>\n",
       "      <td>6.9362</td>\n",
       "      <td>11.0686</td>\n",
       "    </tr>\n",
       "  </tbody>\n",
       "</table>\n",
       "<p>2 rows × 20531 columns</p>\n",
       "</div>"
      ],
      "text/plain": [
       "sample           sample  ARHGEF10L   HIF3A  RNF17    RNF10    RNF11    RNF13  \\\n",
       "0       TCGA-AF-2687-01    10.2749  7.9512    0.0  11.6592  10.5875  10.5499   \n",
       "1       TCGA-AF-2689-11    10.8396  7.9466    0.0  11.9414  10.8846  10.2300   \n",
       "\n",
       "sample  GTF2IP1    REM1   MTVR2  ...   TULP2   NPY5R   GNGT2   GNGT1   TULP3  \\\n",
       "0       11.7388  5.0413  0.5117  ...  0.8886  0.0000  4.9842  2.1394  9.3747   \n",
       "1       11.9348  5.0974  1.1289  ...  1.1289  1.7544  5.1465  0.0000  8.4608   \n",
       "\n",
       "sample     PTRF   BCL6B    GSTK1    SELP     SELS  \n",
       "0       12.7455  8.5597  10.9766  7.0733  10.1432  \n",
       "1       13.5262  7.0697  11.5299  6.9362  11.0686  \n",
       "\n",
       "[2 rows x 20531 columns]"
      ]
     },
     "execution_count": 34,
     "metadata": {},
     "output_type": "execute_result"
    }
   ],
   "source": [
    "mrna.head(2)"
   ]
  },
  {
   "attachments": {},
   "cell_type": "markdown",
   "metadata": {
    "id": "V87FJ20YR8pJ"
   },
   "source": [
    "Identify shared patients across all datasets and exclude those not shared\n"
   ]
  },
  {
   "cell_type": "code",
   "execution_count": 35,
   "metadata": {},
   "outputs": [
    {
     "name": "stdout",
     "output_type": "stream",
     "text": [
      "Shape of samples CNV: (93, 24777)\n",
      "Shape of samples RNA Sequence (RNASeq): (93, 20531)\n"
     ]
    }
   ],
   "source": [
    "cnv_common = cnv[cnv['sample'].isin(common_df['sample'])]\n",
    "print (\"Shape of samples CNV:\", cnv_common.shape)\n",
    "\n",
    "mrna_common = mrna[mrna['sample'].isin(common_df['sample'])]\n",
    "print (\"Shape of samples RNA Sequence (RNASeq):\", mrna_common.shape)"
   ]
  },
  {
   "attachments": {},
   "cell_type": "markdown",
   "metadata": {},
   "source": [
    "Concatenate datasets with class labels\n",
    "\n"
   ]
  },
  {
   "cell_type": "code",
   "execution_count": 36,
   "metadata": {
    "executionInfo": {
     "elapsed": 11,
     "status": "aborted",
     "timestamp": 1670413253501,
     "user": {
      "displayName": "Sabrina Azmi",
      "userId": "03843576326678916867"
     },
     "user_tz": -480
    },
    "id": "MELfdKWoSCEy"
   },
   "outputs": [
    {
     "name": "stdout",
     "output_type": "stream",
     "text": [
      "CDE_ID_3226963: ['MSS' 'MSI-L' nan 'Indeterminate' 'MSI-H']\n",
      "CDE_ID_3226963\n",
      "MSS              157\n",
      "MSI-L             20\n",
      "MSI-H              6\n",
      "Indeterminate      1\n",
      "Name: count, dtype: int64\n"
     ]
    }
   ],
   "source": [
    "dataClass = clinical.CDE_ID_3226963.unique()\n",
    "print(\"CDE_ID_3226963:\", dataClass)\n",
    "print(clinical.CDE_ID_3226963.value_counts())"
   ]
  },
  {
   "cell_type": "code",
   "execution_count": 37,
   "metadata": {},
   "outputs": [],
   "source": [
    "cnv_common.set_index('sample', inplace=True)\n",
    "mrna_common.set_index('sample', inplace=True)"
   ]
  },
  {
   "cell_type": "code",
   "execution_count": 38,
   "metadata": {
    "executionInfo": {
     "elapsed": 12,
     "status": "aborted",
     "timestamp": 1670413253502,
     "user": {
      "displayName": "Sabrina Azmi",
      "userId": "03843576326678916867"
     },
     "user_tz": -480
    },
    "id": "H0zi_0MDS5Su"
   },
   "outputs": [
    {
     "name": "stdout",
     "output_type": "stream",
     "text": [
      "cnv: (93, 24777)\n",
      "RNA Sequence (RNASeq): (93, 20531)\n"
     ]
    }
   ],
   "source": [
    "cnv_common_class = pd.merge(cnv_common, clinical.set_index('sampleID')['CDE_ID_3226963'].to_frame(), how='inner', left_on='sample', right_index=True)\n",
    "print (\"cnv:\", cnv_common_class.shape)\n",
    "\n",
    "mrna_common_class = pd.merge(mrna_common, clinical.set_index('sampleID')['CDE_ID_3226963'].to_frame(), how='inner', left_on='sample', right_index=True)\n",
    "print (\"RNA Sequence (RNASeq):\", mrna_common_class.shape)"
   ]
  },
  {
   "cell_type": "markdown",
   "metadata": {},
   "source": [
    "Examine cancer subtypes and class distributions, then retain only patients with sufficient representation in the class labels"
   ]
  },
  {
   "cell_type": "code",
   "execution_count": 39,
   "metadata": {},
   "outputs": [
    {
     "name": "stdout",
     "output_type": "stream",
     "text": [
      "CDE_ID_3226963\n",
      "MSS      75\n",
      "MSI-L    14\n",
      "MSI-H     3\n",
      "Name: count, dtype: int64\n",
      "CDE_ID_3226963\n",
      "MSS      75\n",
      "MSI-L    14\n",
      "MSI-H     3\n",
      "Name: count, dtype: int64\n"
     ]
    }
   ],
   "source": [
    "print(cnv_common_class.CDE_ID_3226963.value_counts())\n",
    "print(mrna_common_class.CDE_ID_3226963.value_counts())"
   ]
  },
  {
   "cell_type": "code",
   "execution_count": 40,
   "metadata": {
    "executionInfo": {
     "elapsed": 13,
     "status": "aborted",
     "timestamp": 1670413253504,
     "user": {
      "displayName": "Sabrina Azmi",
      "userId": "03843576326678916867"
     },
     "user_tz": -480
    },
    "id": "Yhv9WsPB7vPb"
   },
   "outputs": [
    {
     "name": "stdout",
     "output_type": "stream",
     "text": [
      "cnv: (92, 24777)\n",
      "mrna (92, 20531)\n"
     ]
    }
   ],
   "source": [
    "cnv_common_class.dropna(subset=['CDE_ID_3226963'], inplace = True)\n",
    "print(\"cnv:\", cnv_common_class.shape)\n",
    "\n",
    "mrna_common_class.dropna(subset=['CDE_ID_3226963'], inplace = True)\n",
    "print(\"mrna\", mrna_common_class.shape)"
   ]
  },
  {
   "cell_type": "code",
   "execution_count": 41,
   "metadata": {},
   "outputs": [
    {
     "name": "stdout",
     "output_type": "stream",
     "text": [
      "Copy Number Variation (CNV): (89, 24777)\n",
      "RNA Sequence (RNASeq): (89, 20531)\n"
     ]
    }
   ],
   "source": [
    "# List of subtypes to remove\n",
    "subtypes_to_remove = [\n",
    "    \"MSI-H\"\n",
    "]\n",
    "\n",
    "# Filter them out\n",
    "cnv_common_class = cnv_common_class[~cnv_common_class['CDE_ID_3226963'].isin(subtypes_to_remove)]\n",
    "print(\"Copy Number Variation (CNV):\", cnv_common_class.shape)\n",
    "\n",
    "mrna_common_class = mrna_common_class[~mrna_common_class['CDE_ID_3226963'].isin(subtypes_to_remove)]\n",
    "print(\"RNA Sequence (RNASeq):\", mrna_common_class.shape)"
   ]
  },
  {
   "attachments": {},
   "cell_type": "markdown",
   "metadata": {},
   "source": [
    "Remove features with missing values\n"
   ]
  },
  {
   "cell_type": "code",
   "execution_count": 42,
   "metadata": {},
   "outputs": [
    {
     "name": "stdout",
     "output_type": "stream",
     "text": [
      "Any missing values in cnv?:  False\n",
      "Any missing values in mrna?: False\n"
     ]
    }
   ],
   "source": [
    "print (\"Any missing values in cnv?: \", cnv_common_class.isnull().values.any())\n",
    "print (\"Any missing values in mrna?:\", mrna_common_class.isnull().values.any())"
   ]
  },
  {
   "cell_type": "code",
   "execution_count": 43,
   "metadata": {
    "executionInfo": {
     "elapsed": 13,
     "status": "aborted",
     "timestamp": 1670413253504,
     "user": {
      "displayName": "Sabrina Azmi",
      "userId": "03843576326678916867"
     },
     "user_tz": -480
    },
    "id": "zUrKhGhaUg-q"
   },
   "outputs": [
    {
     "name": "stdout",
     "output_type": "stream",
     "text": [
      "cnv: (89, 24777)\n",
      "mrna (89, 20531)\n"
     ]
    }
   ],
   "source": [
    "cnv_common_class.dropna(axis=1, how='any', inplace = True) \n",
    "mrna_common_class.dropna(axis=1, how='any', inplace = True)\n",
    "\n",
    "print(\"cnv:\", cnv_common_class.shape)\n",
    "print(\"mrna\", mrna_common_class.shape)"
   ]
  },
  {
   "cell_type": "code",
   "execution_count": 44,
   "metadata": {
    "executionInfo": {
     "elapsed": 13,
     "status": "aborted",
     "timestamp": 1670413253504,
     "user": {
      "displayName": "Sabrina Azmi",
      "userId": "03843576326678916867"
     },
     "user_tz": -480
    },
    "id": "Wmn_wos-MAF-"
   },
   "outputs": [
    {
     "name": "stdout",
     "output_type": "stream",
     "text": [
      "Any missing values in cnv?:  False\n",
      "Any missing values in mrna?: False\n"
     ]
    }
   ],
   "source": [
    "print (\"Any missing values in cnv?: \", cnv_common_class.isnull().values.any())\n",
    "print (\"Any missing values in mrna?:\", mrna_common_class.isnull().values.any())"
   ]
  },
  {
   "cell_type": "markdown",
   "metadata": {},
   "source": [
    "Remove zero-variance features"
   ]
  },
  {
   "cell_type": "code",
   "execution_count": 45,
   "metadata": {},
   "outputs": [
    {
     "name": "stdout",
     "output_type": "stream",
     "text": [
      "\n",
      "Processing DataFrame 1...\n",
      "DataFrame 1 has no zero-variance columns.\n",
      "\n",
      "Processing DataFrame 2...\n",
      "DataFrame 2 has 687 zero-variance columns: ['RBMY1A3P', 'OR8J1', 'SNORD115-17', 'OR6P1', 'SNORD114-31', 'SNORD114-30', 'OR5P2', 'SNORD115-6', 'SNORD115-7', 'PISRT1', 'SIX6', 'SNORD115-4', 'C3orf79', 'SNORD104', 'TECRL', 'SNORD115-9', 'ZCCHC13', 'PRAMEF5', 'PRAMEF6', 'OR7G1', 'C16orf78', 'SNORD38A', 'OR8U1', 'OR52N1', 'KRTAP19-2', 'KRTAP19-3', 'KRTAP19-6', 'KRTAP19-7', 'KRTAP19-4', 'KRTAP19-8', 'SNORD114-3', '?|441362', 'C20orf185', 'OR10A7', 'RAB9BP1', 'OR5R1', 'HBII-52-27', 'SNORD11', 'SNORD12', 'C10orf96', 'C20orf79', 'C20orf71', 'SNORD21', 'SNORD20', 'SNORD23', 'SNORD25', 'SNORD127', 'TAS2R16', 'SNORD124', 'TTTY17A', 'CETN1', 'SNORD115-5', 'SNORA14A', 'SNORD80', 'SNORA66', 'TRIM43', 'SLC17A6', 'SNORD56B', 'SNORD78', 'PRR21', 'TMCO5A', 'PRAMEF17', 'SNORD113-7', 'HSFX1', 'SNORD96A', 'PER4', 'SNORD119', 'HBII-52-46', 'HBII-52-45', 'SNORD47', 'OR2G3', 'SNORD4B', 'SNORD4A', 'CSHL1', 'SNORD116-24', 'SNORD116-25', 'SNORD116-23', 'SNORD116-29', 'RBMY1B', 'RBMY1F', 'OR52J3', 'GRXCR1', 'CSN1S2A', 'BPY2', 'DEFB121', 'TFAP2D', 'OR6V1', 'SNORD115-8', 'OR5V1', 'ACTRT2', 'WNT8A', 'MGC26647', 'SNORD67', 'SNORD66', 'HBII-52-28', 'SNORD69', 'SNORD68', 'SNORD38B', 'BIRC8', 'LOC146481', 'SNORD113-4', 'SNORD116-26', 'OR5H15', 'OR5H14', 'GAGE2E', 'NEUROG1', 'SNORD115-1', 'SNORD58A', 'SNORD58C', 'OR5B17', 'PRR20A', 'PRR20C', 'PRR20D', 'OR1D4', 'TRIML1', 'LOC285627', 'OR5H1', 'SNORD96B', 'SNORD63', 'SNORD116-22', 'PROL1', 'HNRNPCL1', 'LOC100287718', 'SNORD81', 'KRTAP21-1', 'OR8J3', 'OR2T12', 'MRGPRG', 'HES3', 'LOC360030', 'OR7G2', 'OR7G3', 'CDX4', 'TRIM53', 'GAGE12F', 'PRAMEF3', 'LOC100128977', '?|404770', 'OR5J2', 'SNORD114-20', 'LOC728410', 'SNAR-A3', 'SNORD115-20', 'SNORD115-22', 'SNORD115-25', 'OR2G2', 'OR4L1', 'SNORD114-29', 'OR1A1', 'OR3A4', 'TEX28', 'OR8H2', 'USP29', 'TAAR8', 'OR8H3', 'TRIM60', 'TRIM64', 'PYDC2', 'LOC285370', 'OR6C75', 'OR5L1', 'PTH2', 'PAGE3', 'KRTAP24-1', 'OR7A17', 'NCRNA00157', 'DCD', 'DEFB134', 'DEFB135', 'DEFB136', 'DEFB130', 'SNORD29', 'KRTAP10-1', 'S100A7L2', 'OR7C2', 'LOC653545', 'PPIAL4B', 'SPINK8', 'KRTAP15-1', 'GSC2', 'SNORD16', 'KRTAP19-5', 'SNORD36A', 'SNORD91B', 'LOC255025', 'RBMY1J', 'OR10S1', 'SNORD87', 'SNORD86', 'HYALP1', 'GPHB5', 'MYL1', 'OR4C11', 'OR4C13', 'OR4C12', 'DEFB116', 'DEFB114', 'DEFB115', 'DEFB112', 'DEFB113', 'C10orf53', 'OR4B1', 'RBMY1E', 'SNORD91A', 'SNORD88B', 'OR51B6', 'OR4D10', 'MOS', 'OR1L6', 'SNORD50B', 'SNORD65', 'KRTAP22-1', 'SNORD61', 'SNORD115-35', 'SNORD114-10', 'KRTAP13-1', 'C9orf27', 'PSG7', 'SNORD114-6', 'SNORD114-5', 'OR8B3', 'OR8B4', 'FOXB2', 'TMPRSS11BNL', 'OR13C4', 'OR13C2', 'OR13C8', 'FAM41AY1', 'TBC1D21', 'OR6C6', 'BSX', 'SNORD12C', 'PRAMEF22', 'SNORD123', 'SNORD126', 'SNORD125', 'OR1S1', 'OR1S2', 'DEFB108B', 'OR5B3', 'OR4D9', 'OR4D1', 'OR4D2', 'ZNF645', 'KRTAP23-1', 'SNORD48', 'OR5L2', 'SNORD114-9', 'SNORD46', 'SNORD115-2', 'SNORD115-3', 'OR14J1', 'KRTAP26-1', 'SNORD27', 'SNORD105', 'SPANXN4', 'DEFB106A', 'OR12D3', 'SPANXN1', 'NEUROD6', 'SNORD35A', 'SNORD35B', 'OR2W5', 'RBMY3AP', 'TMEM225', 'OR6K2', 'OR6K6', 'OR4A15', 'FLJ40434', 'LOC100169752', 'TTTY22', 'OR51D1', 'SNORD24', 'POTEA', 'C21orf94', 'GSTA5', 'GSTA3', 'SNORD28', 'OR52E4', 'TRIM77', 'KRTAP25-1', 'OR5F1', 'BEYLA', 'OR5AP2', 'OR5D18', 'LCE2B', 'LCE2A', 'TNP1', 'OR6C76', 'OR4S1', 'OR4S2', 'GLT6D1', 'OR2M1P', 'SNORD49A', 'OR2L8', 'SNTG1', 'C11orf40', 'SNORD102', 'SNORD115-14', 'PRNT', 'LCE4A', 'KRTAP12-3', 'C21orf131', 'OR5M9', 'OR5M3', 'OR5M1', 'SNORD115-16', 'SNORA70B', 'POM121L12', 'TAAR5', 'TAAR9', 'SNORD30', 'SNORD31', 'SNORD115-10', 'OR6C1', 'SNORD18B', '?|728045', 'CLDN25', 'BASE', 'OR4K15', 'OR4K14', 'TMEM202', 'SNORD26', 'SNORD114-7', 'FTMT', 'SNORD45C', 'SNORD111B', 'SNORD18A', 'TTTY5', 'TTTY8', 'SNORA36C', 'TTTY20', 'OR2Z1', 'CT47A7', 'CT47A9', 'SNORD109B', 'OR10G3', 'SNORD45B', 'TTTY23', 'SNORD45A', 'LRRC30', 'OR5D13', 'KRTAP6-3', 'KRTAP6-2', 'KRTAP6-1', 'OR5D14', 'OR5D16', 'SNORD114-22', 'SNORD114-23', 'SNORD114-26', 'SNORD114-27', 'SNORD114-24', 'SNORD114-25', 'SNORD114-28', 'SNORD115-41', 'SNORD115-40', 'CDY1B', 'MBD3L1', 'MBD3L2', 'MBD3L5', 'SNORD1A', 'SNORD1B', 'SLC7A13', 'SNORD19', 'OR2J2', 'LACRT', 'OR9G4', 'SNORD115-37', 'OR4C16', 'OR52M1', 'PSG10', 'OR4K5', 'OR4K1', 'OR4K2', 'SNORD44', 'SLC22A24', 'LOC286135', 'SNORD34', 'SNORA58', 'SNORD121B', 'SNORD121A', 'GPR139', 'SNAR-F', 'SNAR-E', 'SNAR-H', 'FLJ44082', 'SUN5', 'MS4A5', 'SNORD51', 'SNORD115-44', 'SNORD36C', 'SNORD115-48', 'SNORD11B', 'SNORD49B', 'OR4C15', 'SNORD116-19', 'SNORA35', 'SNORD116-11', '?|136542', 'DEFB110', 'C8orf71', 'PRR23A', 'PRR23C', 'PRR23B', 'GLYCAM1', 'KCNK18', 'SNORD59B', 'SNORD59A', 'SMCP', 'IFNA17', 'SNORD116-27', 'C1orf68', 'OR5W2', 'OR6C65', 'SNORD114-21', 'SNORD114-11', 'SNORD72', 'SNORD74', 'SNORD75', 'SNORD79', 'SNORD114-4', 'OR2Y1', 'OR8K1', 'OR8K5', 'OR2T29', 'OR2T27', 'SPAG11A', 'CDY1', 'OR10C1', 'SNORA19', 'RNU5E', 'SNORD88C', 'RNY5', 'RNY4', 'OR6N2', 'SNORA36B', 'OR1E2', 'SNORD114-16', 'OR5I1', 'SNORD52', 'SNORD53', 'SNORD115-11', 'SNORD113-9', 'SNORD113-5', 'SNORD113-6', 'SNORD113-1', 'SNORD113-2', 'SNORD114-14', 'SDC4P', 'BPIL3', 'OR4M2', 'OR4M1', 'OR10X1', 'SNORD116-18', 'KRTAP20-3', 'SNORD98', 'SNORD99', 'SNORD93', 'KRTAP20-1', 'OR8I2', 'CSPG4PY2', 'OR7D4', 'SNORD116-12', 'SMR3A', 'C13orf28', 'C7orf66', 'NMS', 'SNORD73A', 'OR5K3', 'SNORD115-32', 'SNORD115-39', 'SNAR-D', 'SNORA30', 'OR10Z1', 'UBTFL1', 'DEFB129', 'DEFB128', 'DEFB127', 'DEFB125', 'DEFB123', 'DEFB122', 'OR4D11', 'OR8G2', 'OR10A3', '?|442388', 'NEUROD4', 'OR4K17', 'OR4K13', 'OR4A16', 'OR52E6', 'OR52E2', 'HTR1A', 'FTLP10', 'SNORD116-10', 'SNORD116-13', 'SNORD116-15', 'SNORD116-14', 'SNORD116-16', 'OR5M8', 'XKRY', 'SNORD95', 'SNORD90', 'GAGE10', 'SNORD114-18', 'GAGE13', 'SNORD92', 'LOC200726', 'HIST1H4G', 'OR10T2', 'TSSK2', 'SNORA70C', 'SCARNA11', 'SNORD114-15', 'SNORD19B', 'LOC729121', 'CYLC2', 'SNORD70', 'SNORD76', '?|317712', 'SNORA11D', 'SNORD77', 'HBII-52-24', 'SNAR-A13', 'TREML2P1', 'SNORD60', 'TXNDC8', 'TTTY3B', 'SCARNA14', 'OR2AK2', 'LOC727924', 'SNORA11C', 'SNORA11B', 'OR4Q3', 'OR51A7', 'OR51A2', 'OR51A4', 'OR52A1', 'OR52A4', 'SNORD105B', 'PRM3', 'OR6B1', 'TTTY17B', 'HIST1H2AA', 'HIGD1C', 'SNORD6', 'SNORD7', 'SNORD5', 'SNORD2', 'SNORD9', 'OR4F4', 'SNORD33', 'VTRNA1-2', 'OR5A2', 'SNAR-G2', 'FAM74A4', 'FAM74A1', 'OR4F17', 'OR10P1', 'SNORD54', 'TTTY16', 'FAM197Y2', 'SNORD114-8', 'SNORD55', 'SNORD56', 'SNORD57', 'LCN9', 'OR1M1', 'OR8B2', 'OR4X1', 'TTTY21', 'OR8B8', 'OR10A6', 'KRTAP27-1', 'PRAMEF16', 'PRAMEF13', 'PRAMEF10', 'PRAMEF11', 'DUX4', 'SNORD50A', 'SNORD117', 'SNORD110', 'SNORD111', 'KRTAP4-5', 'NF1P1', 'SNAR-A4', 'OR10R2', 'RNASE9', 'OR2T6', 'TTTY12', 'SNORD8', 'SPRYD5', 'OR5AS1', 'SNORD32A', 'SNORD43', 'SNORD114-12', 'OR2L2', 'OR2L3', 'NPS', 'OR1I1', 'TSPY4', 'SNORD71', 'PRR20B', 'SNAR-C3', 'SNAR-C2', 'DEFB107A', 'OR1D2', 'OR13C9', 'LCE1F', 'RBMY2FP', 'SNORD88A', 'SNORD36B', 'SNAR-I', 'LOC286238', 'VTRNA1-3', 'VTRNA1-1', 'SNORD41', 'OR2M5', 'OR2M7', 'OR2M3', 'OR2M2', 'SNORD62A', 'DEFB105A', 'TAS2R7', 'LCE6A', 'LCE3A', 'LCE3B', 'LCE3C', 'SNORD116-5', 'SNORD103A', 'OR11H1', 'OR56A1', 'OR4F15', 'UBQLN3', 'OR4C45', 'OR8B12', 'SNORD42B', 'OR6C74', 'IFNA16', 'SNORD42A', 'SNORD37', 'SNORD114-1', 'OR14C36', 'ZNRF4', 'TTTY11', 'TTTY13', 'TTTY19', 'LOC283914', 'OR4N5', 'SNORD115-33', 'OR10H3', 'OR10H4', 'SNORD115-30', 'SNORD115-31', 'OR2W1', 'OR6Y1', 'SNORD114-2', 'KRTAP20-2', 'SNORD115-38', 'KRTAP20-4', 'IFNA6', 'OR5M10', 'C14orf177', 'SNORD18C', 'SNORD12B', 'LOC100287704', 'HSFYL1', 'OR4C46', 'SNORD114-19', 'SNORD114-13', 'SNORD114-17', 'CT47A10', 'OR4P4', 'FSHB', 'SNORA11E', 'PLCZ1', 'SNORD116-8', 'SNORD116-1', 'SNORD116-3', 'SNORD116-2', 'OPN1MW', 'SNORD85', 'SNORD84', 'SNORD82', 'OR51V1', 'SNORD32B', 'IFNA8', 'OR10J5']\n",
      "DataFrame 2 updated shape: (89, 19844)\n",
      "\n",
      "----Updated Shapes of DataFrames----\n",
      "DataFrame 1: (89, 24777)\n",
      "DataFrame 2: (89, 19844)\n"
     ]
    }
   ],
   "source": [
    "dataframes = [cnv_common_class, mrna_common_class]\n",
    "\n",
    "# Iterate over each dataframe and check for zero-variance columns\n",
    "for i, df in enumerate(dataframes):\n",
    "    print(f\"\\nProcessing DataFrame {i+1}...\")  # Debugging output\n",
    "    \n",
    "    # Exclude the last column (assuming it's the class column)\n",
    "    feature_columns = df.iloc[:, :-1]\n",
    "    \n",
    "    # Find columns with zero variance\n",
    "    zero_var_cols = feature_columns.columns[feature_columns.nunique() <= 1]\n",
    "    \n",
    "    if len(zero_var_cols) > 0:\n",
    "        print(f\"DataFrame {i+1} has {len(zero_var_cols)} zero-variance columns: {list(zero_var_cols)}\")\n",
    "        \n",
    "        # Drop zero-variance columns and reassign to the dataframes list\n",
    "        dataframes[i] = df.drop(columns=zero_var_cols)\n",
    "        \n",
    "        # Debugging output: Check new shape of the dataframe\n",
    "        print(f\"DataFrame {i+1} updated shape: {dataframes[i].shape}\")\n",
    "    else:\n",
    "        print(f\"DataFrame {i+1} has no zero-variance columns.\")\n",
    "\n",
    "# Verify updated shapes\n",
    "print(\"\\n----Updated Shapes of DataFrames----\")\n",
    "for i, df in enumerate(dataframes):\n",
    "    print(f\"DataFrame {i+1}: {df.shape}\")"
   ]
  },
  {
   "attachments": {},
   "cell_type": "markdown",
   "metadata": {},
   "source": [
    "Eliminate redundant information\n"
   ]
  },
  {
   "cell_type": "code",
   "execution_count": 46,
   "metadata": {},
   "outputs": [
    {
     "name": "stdout",
     "output_type": "stream",
     "text": [
      "----Omics dataset----\n",
      "cnv: (89, 24777)\n",
      "mrna (89, 19844)\n",
      "----Class distribution----\n",
      "CDE_ID_3226963\n",
      "MSS      75\n",
      "MSI-L    14\n",
      "Name: count, dtype: int64\n"
     ]
    }
   ],
   "source": [
    "# Remove duplicates from each dataset\n",
    "omics_datasets = [df.drop_duplicates() for df in dataframes]\n",
    "\n",
    "# Unpack the updated datasets back into variables\n",
    "cnv_common_class, mrna_common_class = omics_datasets\n",
    "\n",
    "print (\"----Omics dataset----\")\n",
    "print(\"cnv:\", cnv_common_class.shape)\n",
    "print(\"mrna\", mrna_common_class.shape)\n",
    "\n",
    "print (\"----Class distribution----\")\n",
    "print(cnv_common_class.CDE_ID_3226963.value_counts())"
   ]
  },
  {
   "cell_type": "markdown",
   "metadata": {},
   "source": [
    "Data standardization "
   ]
  },
  {
   "cell_type": "code",
   "execution_count": 47,
   "metadata": {},
   "outputs": [],
   "source": [
    "datapath_out = \"/Users/sabye/Downloads/wgRFECV-BIN/Result/\""
   ]
  },
  {
   "cell_type": "code",
   "execution_count": 48,
   "metadata": {},
   "outputs": [
    {
     "name": "stdout",
     "output_type": "stream",
     "text": [
      "Processing dataset: cnv\n",
      "Standardized data for cnv saved successfully at /Users/sabye/Downloads/wgRFECV-BIN/Result/Preprocessed_READ_cnv.csv\n",
      "Processing dataset: mrna\n",
      "Standardized data for mrna saved successfully at /Users/sabye/Downloads/wgRFECV-BIN/Result/Preprocessed_READ_mrna.csv\n"
     ]
    }
   ],
   "source": [
    "os.makedirs(datapath, exist_ok=True)\n",
    "\n",
    "# Dictionary of datasets with descriptive keys\n",
    "dataframes = {\n",
    "    \"cnv\": cnv_common_class,\n",
    "    \"mrna\": mrna_common_class\n",
    "}\n",
    "\n",
    "# Initialize the StandardScaler\n",
    "scaler = StandardScaler()\n",
    "\n",
    "# Process each dataset and save the preprocessed file\n",
    "for key, df in dataframes.items():\n",
    "    print(f\"Processing dataset: {key}\")\n",
    "    \n",
    "    # Separate features and class\n",
    "    features = df.iloc[:, :-1]\n",
    "    classes = df.iloc[:, -1]\n",
    "    \n",
    "    # Standardize the features\n",
    "    standardized_features = scaler.fit_transform(features)\n",
    "    \n",
    "    # Recreate the DataFrame\n",
    "    standardized_df = pd.DataFrame(standardized_features, columns=features.columns, index=df.index)\n",
    "    standardized_df['hys'] = classes\n",
    "    \n",
    "    # Save the standardized DataFrame to CSV\n",
    "    output_path = os.path.join(datapath_out, f\"Preprocessed_READ_{key}.csv\")\n",
    "    standardized_df.to_csv(output_path, index=True)\n",
    "    print(f\"Standardized data for {key} saved successfully at {output_path}\")\n",
    "    \n",
    "    # Clean up variables to free up memory\n",
    "    del features, classes, standardized_features, standardized_df\n"
   ]
  }
 ],
 "metadata": {
  "colab": {
   "collapsed_sections": [
    "tzdgLOvvTHO_"
   ],
   "provenance": []
  },
  "kernelspec": {
   "display_name": "Python [conda env:base] *",
   "language": "python",
   "name": "conda-base-py"
  },
  "language_info": {
   "codemirror_mode": {
    "name": "ipython",
    "version": 3
   },
   "file_extension": ".py",
   "mimetype": "text/x-python",
   "name": "python",
   "nbconvert_exporter": "python",
   "pygments_lexer": "ipython3",
   "version": "3.11.7"
  }
 },
 "nbformat": 4,
 "nbformat_minor": 4
}
